{
 "cells": [
  {
   "cell_type": "markdown",
   "metadata": {
    "colab_type": "text",
    "id": "74dkCyjsNE7_"
   },
   "source": [
    "#**SIT 720 - Machine Learning**\n",
    "\n",
    "Lecturer: Chandan Karmakar | karmakar@deakin.edu.au\n",
    "\n",
    "School of Information Technology,\n",
    "<br/>Deakin University, VIC 3125, Australia."
   ]
  },
  {
   "cell_type": "markdown",
   "metadata": {
    "colab_type": "text",
    "id": "gQhIyRIHNIhu"
   },
   "source": [
    "#**Assessment Task 3 (40 marks)**\n",
    "\n",
    "##Submission Instruction\n",
    "1.  Student should insert Python code or text responses into the cell followed by the question.\n",
    "\n",
    "2.  For answers regarding discussion or explanation, **maximum five sentences are suggested**.\n",
    "\n",
    "3.  Rename this notebook file appending your student ID. For example, for student ID 1234, the submitted file name should be A3_1234.ipynb.\n",
    "\n",
    "4.  Insert your student ID and name in the following cell."
   ]
  },
  {
   "cell_type": "code",
   "execution_count": null,
   "metadata": {
    "colab": {},
    "colab_type": "code",
    "id": "gdZPzuPLNM5f"
   },
   "outputs": [],
   "source": [
    "# Student ID: \n",
    "\n",
    "# Student name:"
   ]
  },
  {
   "cell_type": "markdown",
   "metadata": {
    "colab_type": "text",
    "id": "8Bb-CS27NWdS"
   },
   "source": [
    "## Background\n",
    "\n",
    "Environment and its changes are the most complex system. It is unarguably accepted that the temperature changes are greately affected by various environmental factors. Many of them are positively related to the  change, whereas, some have negative correlation. In this assesment task, you will analyse relationship among various environmental factors, which affect temperature.\n",
    "\n",
    "##The dataset\n",
    "\n",
    "**Dataset file name:** weather_dataset.csv\n",
    "\n",
    "**Dataset description:** The dataset contains total 10 features. Each row contains an hourly record of weather status and the data was recorded for the time period between 2006 and 2016.\n",
    "\n",
    "**Features and labels:** \n",
    "\n",
    "1.   recording_date_time (date_time): Date and time the data was recorded\n",
    "2.   precip_type (string): Precipitation status, blank (no value) indicates unknown status\n",
    "3.   temperature (float): Temperature in degree Celsius\n",
    "4.   apparent_temperature (float): Feel like temperature in degree Celsius\n",
    "5.   humidity (float): Percentage amount of water vapour in the air \n",
    "6.   wind_speed (float): Speed of the wind in km per hour\n",
    "7.   wind_bearing (int): The direction of wind in degree in geo-polar co-ordinate. Value 0 means perfect east, 90 means perfect north, 180 and 270 means west and south respectively.\n",
    "8.   visibility (float): Distance in km that is visible in naked eyes.\n",
    "9.   cloud_cover (float): The fraction of the sky obscured by clouds. The value is 1 if the observed area is fully cloudy, 0 if no clouds and other fractional value indicates the portion of the area covered by clouds.\n",
    "10.   pressure (float): Air pressure or atmospheric in milibars\n"
   ]
  },
  {
   "cell_type": "markdown",
   "metadata": {
    "colab_type": "text",
    "id": "TkUeSXbIODoE"
   },
   "source": [
    "##**Part 1: Linear Regression:**  **(25 marks)**\n",
    "\n",
    "\n",
    "1.   Load the dataset and split the data for training and testing - consider the data of last 2 years (2015 and 2016) for testing. Now exclude recording_date_time column from both training and test sets. Display the shape of training and test sets. **(3 marks)**"
   ]
  },
  {
   "cell_type": "code",
   "execution_count": 400,
   "metadata": {
    "colab": {},
    "colab_type": "code",
    "id": "KugpF4o5OKHD"
   },
   "outputs": [
    {
     "name": "stdout",
     "output_type": "stream",
     "text": [
      "shape of train set\n",
      "(78910, 10)\n",
      "shape of test set\n"
     ]
    },
    {
     "data": {
      "text/plain": [
       "(17543, 10)"
      ]
     },
     "execution_count": 400,
     "metadata": {},
     "output_type": "execute_result"
    }
   ],
   "source": [
    "# INSERT your code (or comment) here\n",
    "import pandas as pd\n",
    "data= pd.read_csv(\"E://PC Backup/Others/fiverr/20200914 regression/weather_dataset.csv\")\n",
    "data.recording_date_time= pd.to_datetime(data.recording_date_time, utc= True)\n",
    "data.recording_date_time.dt.year\n",
    "\n",
    "data.dtypes\n",
    "#precipitation type is a categorical data type. converting it to dummies\n",
    "data= pd.get_dummies(data)\n",
    "\n",
    "#splitting into train and test dataset\n",
    "train_data= data.loc[data.recording_date_time.dt.year<2015]\n",
    "test_data= data.loc[data.recording_date_time.dt.year>=2015]\n",
    "\n",
    "#drop the column\n",
    "train_data= train_data.drop(columns= ['recording_date_time'])\n",
    "test_data= test_data.drop(columns= ['recording_date_time'])\n",
    "print(\"shape of train set\")\n",
    "print(train_data.shape)\n",
    "\n",
    "print(\"shape of test set\")\n",
    "test_data.shape"
   ]
  },
  {
   "cell_type": "markdown",
   "metadata": {
    "colab_type": "text",
    "id": "tir1JyxlOVQf"
   },
   "source": [
    "2.  Consider the 'temperature' as the target. List the insignificant features for predicting temperature, if any. Explain your findings. **(5 marks)**\n",
    "<br/><font color='green'>**[Hint for students: See the \"7.3 Relevance and Covariance among features or variables\" for more information.]** <font/>"
   ]
  },
  {
   "cell_type": "code",
   "execution_count": 401,
   "metadata": {
    "colab": {},
    "colab_type": "code",
    "id": "hMLc-93uOMhY"
   },
   "outputs": [
    {
     "data": {
      "text/html": [
       "<div>\n",
       "<style scoped>\n",
       "    .dataframe tbody tr th:only-of-type {\n",
       "        vertical-align: middle;\n",
       "    }\n",
       "\n",
       "    .dataframe tbody tr th {\n",
       "        vertical-align: top;\n",
       "    }\n",
       "\n",
       "    .dataframe thead th {\n",
       "        text-align: right;\n",
       "    }\n",
       "</style>\n",
       "<table border=\"1\" class=\"dataframe\">\n",
       "  <thead>\n",
       "    <tr style=\"text-align: right;\">\n",
       "      <th></th>\n",
       "      <th>temperature</th>\n",
       "    </tr>\n",
       "  </thead>\n",
       "  <tbody>\n",
       "    <tr>\n",
       "      <th>temperature</th>\n",
       "      <td>1.000000</td>\n",
       "    </tr>\n",
       "    <tr>\n",
       "      <th>apparent_temperature</th>\n",
       "      <td>0.992413</td>\n",
       "    </tr>\n",
       "    <tr>\n",
       "      <th>humidity</th>\n",
       "      <td>-0.631624</td>\n",
       "    </tr>\n",
       "    <tr>\n",
       "      <th>wind_speed</th>\n",
       "      <td>0.010981</td>\n",
       "    </tr>\n",
       "    <tr>\n",
       "      <th>wind_bearing</th>\n",
       "      <td>0.029754</td>\n",
       "    </tr>\n",
       "    <tr>\n",
       "      <th>visibility</th>\n",
       "      <td>0.371181</td>\n",
       "    </tr>\n",
       "    <tr>\n",
       "      <th>cloud_cover</th>\n",
       "      <td>NaN</td>\n",
       "    </tr>\n",
       "    <tr>\n",
       "      <th>pressure</th>\n",
       "      <td>-0.010212</td>\n",
       "    </tr>\n",
       "    <tr>\n",
       "      <th>precip_type_rain</th>\n",
       "      <td>0.578431</td>\n",
       "    </tr>\n",
       "    <tr>\n",
       "      <th>precip_type_snow</th>\n",
       "      <td>-0.578431</td>\n",
       "    </tr>\n",
       "  </tbody>\n",
       "</table>\n",
       "</div>"
      ],
      "text/plain": [
       "                      temperature\n",
       "temperature              1.000000\n",
       "apparent_temperature     0.992413\n",
       "humidity                -0.631624\n",
       "wind_speed               0.010981\n",
       "wind_bearing             0.029754\n",
       "visibility               0.371181\n",
       "cloud_cover                   NaN\n",
       "pressure                -0.010212\n",
       "precip_type_rain         0.578431\n",
       "precip_type_snow        -0.578431"
      ]
     },
     "execution_count": 401,
     "metadata": {},
     "output_type": "execute_result"
    },
    {
     "data": {
      "image/png": "[encoded data removed]",
      "text/plain": [
       "<Figure size 432x288 with 2 Axes>"
      ]
     },
     "metadata": {
      "needs_background": "light"
     },
     "output_type": "display_data"
    }
   ],
   "source": [
    "# INSERT your code (or comment) here\n",
    "import numpy as np \n",
    "import matplotlib.pyplot as plt \n",
    "import seaborn as sns\n",
    "\n",
    "\n",
    "\n",
    "selected_train_data.shape\n",
    "sns.heatmap(train_data.corr())\n",
    "train_data.corr()[['temperature']]\n"
   ]
  },
  {
   "cell_type": "markdown",
   "metadata": {},
   "source": [
    "#### Insignificant features: \n",
    "- These features have correlation coefficient less than .25\n",
    "- cloud_cover has all values same, hence insignificant\n",
    "Insignificant features: **pressure, cloud_cover, wind_speed**"
   ]
  },
  {
   "cell_type": "markdown",
   "metadata": {
    "colab_type": "text",
    "id": "_mC_pm60V4VB"
   },
   "source": [
    "3.  Now create a linear model considering the 'temperature' as the target variable and other columns as features (you can optionally remove non-contributing features). Show the test performance (as Mean Absolute Error, MAE) of the model. **(5 marks)**"
   ]
  },
  {
   "cell_type": "code",
   "execution_count": 402,
   "metadata": {
    "colab": {},
    "colab_type": "code",
    "id": "wUIhRhssWq8h"
   },
   "outputs": [
    {
     "ename": "KeyError",
     "evalue": "\"['precip_type'] not found in axis\"",
     "output_type": "error",
     "traceback": [
      "\u001b[1;31m---------------------------------------------------------------------------\u001b[0m",
      "\u001b[1;31mKeyError\u001b[0m                                  Traceback (most recent call last)",
      "\u001b[1;32m<ipython-input-402-e22bd1b45b3d>\u001b[0m in \u001b[0;36m<module>\u001b[1;34m\u001b[0m\n\u001b[0;32m      4\u001b[0m \u001b[1;33m\u001b[0m\u001b[0m\n\u001b[0;32m      5\u001b[0m \u001b[1;31m#split into X, Y\u001b[0m\u001b[1;33m\u001b[0m\u001b[1;33m\u001b[0m\u001b[1;33m\u001b[0m\u001b[0m\n\u001b[1;32m----> 6\u001b[1;33m \u001b[0mX\u001b[0m\u001b[1;33m=\u001b[0m \u001b[0mtrain_data\u001b[0m\u001b[1;33m.\u001b[0m\u001b[0mdrop\u001b[0m\u001b[1;33m(\u001b[0m\u001b[0mtarget\u001b[0m\u001b[1;33m,\u001b[0m \u001b[0maxis\u001b[0m\u001b[1;33m=\u001b[0m\u001b[1;36m1\u001b[0m\u001b[1;33m)\u001b[0m\u001b[1;33m\u001b[0m\u001b[1;33m\u001b[0m\u001b[0m\n\u001b[0m\u001b[0;32m      7\u001b[0m \u001b[0mY\u001b[0m\u001b[1;33m=\u001b[0m \u001b[0mtrain_data\u001b[0m\u001b[1;33m[\u001b[0m\u001b[0mtarget\u001b[0m\u001b[1;33m]\u001b[0m\u001b[1;33m\u001b[0m\u001b[1;33m\u001b[0m\u001b[0m\n\u001b[0;32m      8\u001b[0m \u001b[1;33m\u001b[0m\u001b[0m\n",
      "\u001b[1;32mD:\\ProgramData\\Anaconda3\\envs\\Python_for_Pycharm\\lib\\site-packages\\pandas\\core\\frame.py\u001b[0m in \u001b[0;36mdrop\u001b[1;34m(self, labels, axis, index, columns, level, inplace, errors)\u001b[0m\n\u001b[0;32m   3995\u001b[0m             \u001b[0mlevel\u001b[0m\u001b[1;33m=\u001b[0m\u001b[0mlevel\u001b[0m\u001b[1;33m,\u001b[0m\u001b[1;33m\u001b[0m\u001b[1;33m\u001b[0m\u001b[0m\n\u001b[0;32m   3996\u001b[0m             \u001b[0minplace\u001b[0m\u001b[1;33m=\u001b[0m\u001b[0minplace\u001b[0m\u001b[1;33m,\u001b[0m\u001b[1;33m\u001b[0m\u001b[1;33m\u001b[0m\u001b[0m\n\u001b[1;32m-> 3997\u001b[1;33m             \u001b[0merrors\u001b[0m\u001b[1;33m=\u001b[0m\u001b[0merrors\u001b[0m\u001b[1;33m,\u001b[0m\u001b[1;33m\u001b[0m\u001b[1;33m\u001b[0m\u001b[0m\n\u001b[0m\u001b[0;32m   3998\u001b[0m         )\n\u001b[0;32m   3999\u001b[0m \u001b[1;33m\u001b[0m\u001b[0m\n",
      "\u001b[1;32mD:\\ProgramData\\Anaconda3\\envs\\Python_for_Pycharm\\lib\\site-packages\\pandas\\core\\generic.py\u001b[0m in \u001b[0;36mdrop\u001b[1;34m(self, labels, axis, index, columns, level, inplace, errors)\u001b[0m\n\u001b[0;32m   3934\u001b[0m         \u001b[1;32mfor\u001b[0m \u001b[0maxis\u001b[0m\u001b[1;33m,\u001b[0m \u001b[0mlabels\u001b[0m \u001b[1;32min\u001b[0m \u001b[0maxes\u001b[0m\u001b[1;33m.\u001b[0m\u001b[0mitems\u001b[0m\u001b[1;33m(\u001b[0m\u001b[1;33m)\u001b[0m\u001b[1;33m:\u001b[0m\u001b[1;33m\u001b[0m\u001b[1;33m\u001b[0m\u001b[0m\n\u001b[0;32m   3935\u001b[0m             \u001b[1;32mif\u001b[0m \u001b[0mlabels\u001b[0m \u001b[1;32mis\u001b[0m \u001b[1;32mnot\u001b[0m \u001b[1;32mNone\u001b[0m\u001b[1;33m:\u001b[0m\u001b[1;33m\u001b[0m\u001b[1;33m\u001b[0m\u001b[0m\n\u001b[1;32m-> 3936\u001b[1;33m                 \u001b[0mobj\u001b[0m \u001b[1;33m=\u001b[0m \u001b[0mobj\u001b[0m\u001b[1;33m.\u001b[0m\u001b[0m_drop_axis\u001b[0m\u001b[1;33m(\u001b[0m\u001b[0mlabels\u001b[0m\u001b[1;33m,\u001b[0m \u001b[0maxis\u001b[0m\u001b[1;33m,\u001b[0m \u001b[0mlevel\u001b[0m\u001b[1;33m=\u001b[0m\u001b[0mlevel\u001b[0m\u001b[1;33m,\u001b[0m \u001b[0merrors\u001b[0m\u001b[1;33m=\u001b[0m\u001b[0merrors\u001b[0m\u001b[1;33m)\u001b[0m\u001b[1;33m\u001b[0m\u001b[1;33m\u001b[0m\u001b[0m\n\u001b[0m\u001b[0;32m   3937\u001b[0m \u001b[1;33m\u001b[0m\u001b[0m\n\u001b[0;32m   3938\u001b[0m         \u001b[1;32mif\u001b[0m \u001b[0minplace\u001b[0m\u001b[1;33m:\u001b[0m\u001b[1;33m\u001b[0m\u001b[1;33m\u001b[0m\u001b[0m\n",
      "\u001b[1;32mD:\\ProgramData\\Anaconda3\\envs\\Python_for_Pycharm\\lib\\site-packages\\pandas\\core\\generic.py\u001b[0m in \u001b[0;36m_drop_axis\u001b[1;34m(self, labels, axis, level, errors)\u001b[0m\n\u001b[0;32m   3968\u001b[0m                 \u001b[0mnew_axis\u001b[0m \u001b[1;33m=\u001b[0m \u001b[0maxis\u001b[0m\u001b[1;33m.\u001b[0m\u001b[0mdrop\u001b[0m\u001b[1;33m(\u001b[0m\u001b[0mlabels\u001b[0m\u001b[1;33m,\u001b[0m \u001b[0mlevel\u001b[0m\u001b[1;33m=\u001b[0m\u001b[0mlevel\u001b[0m\u001b[1;33m,\u001b[0m \u001b[0merrors\u001b[0m\u001b[1;33m=\u001b[0m\u001b[0merrors\u001b[0m\u001b[1;33m)\u001b[0m\u001b[1;33m\u001b[0m\u001b[1;33m\u001b[0m\u001b[0m\n\u001b[0;32m   3969\u001b[0m             \u001b[1;32melse\u001b[0m\u001b[1;33m:\u001b[0m\u001b[1;33m\u001b[0m\u001b[1;33m\u001b[0m\u001b[0m\n\u001b[1;32m-> 3970\u001b[1;33m                 \u001b[0mnew_axis\u001b[0m \u001b[1;33m=\u001b[0m \u001b[0maxis\u001b[0m\u001b[1;33m.\u001b[0m\u001b[0mdrop\u001b[0m\u001b[1;33m(\u001b[0m\u001b[0mlabels\u001b[0m\u001b[1;33m,\u001b[0m \u001b[0merrors\u001b[0m\u001b[1;33m=\u001b[0m\u001b[0merrors\u001b[0m\u001b[1;33m)\u001b[0m\u001b[1;33m\u001b[0m\u001b[1;33m\u001b[0m\u001b[0m\n\u001b[0m\u001b[0;32m   3971\u001b[0m             \u001b[0mresult\u001b[0m \u001b[1;33m=\u001b[0m \u001b[0mself\u001b[0m\u001b[1;33m.\u001b[0m\u001b[0mreindex\u001b[0m\u001b[1;33m(\u001b[0m\u001b[1;33m**\u001b[0m\u001b[1;33m{\u001b[0m\u001b[0maxis_name\u001b[0m\u001b[1;33m:\u001b[0m \u001b[0mnew_axis\u001b[0m\u001b[1;33m}\u001b[0m\u001b[1;33m)\u001b[0m\u001b[1;33m\u001b[0m\u001b[1;33m\u001b[0m\u001b[0m\n\u001b[0;32m   3972\u001b[0m \u001b[1;33m\u001b[0m\u001b[0m\n",
      "\u001b[1;32mD:\\ProgramData\\Anaconda3\\envs\\Python_for_Pycharm\\lib\\site-packages\\pandas\\core\\indexes\\base.py\u001b[0m in \u001b[0;36mdrop\u001b[1;34m(self, labels, errors)\u001b[0m\n\u001b[0;32m   5015\u001b[0m         \u001b[1;32mif\u001b[0m \u001b[0mmask\u001b[0m\u001b[1;33m.\u001b[0m\u001b[0many\u001b[0m\u001b[1;33m(\u001b[0m\u001b[1;33m)\u001b[0m\u001b[1;33m:\u001b[0m\u001b[1;33m\u001b[0m\u001b[1;33m\u001b[0m\u001b[0m\n\u001b[0;32m   5016\u001b[0m             \u001b[1;32mif\u001b[0m \u001b[0merrors\u001b[0m \u001b[1;33m!=\u001b[0m \u001b[1;34m\"ignore\"\u001b[0m\u001b[1;33m:\u001b[0m\u001b[1;33m\u001b[0m\u001b[1;33m\u001b[0m\u001b[0m\n\u001b[1;32m-> 5017\u001b[1;33m                 \u001b[1;32mraise\u001b[0m \u001b[0mKeyError\u001b[0m\u001b[1;33m(\u001b[0m\u001b[1;34mf\"{labels[mask]} not found in axis\"\u001b[0m\u001b[1;33m)\u001b[0m\u001b[1;33m\u001b[0m\u001b[1;33m\u001b[0m\u001b[0m\n\u001b[0m\u001b[0;32m   5018\u001b[0m             \u001b[0mindexer\u001b[0m \u001b[1;33m=\u001b[0m \u001b[0mindexer\u001b[0m\u001b[1;33m[\u001b[0m\u001b[1;33m~\u001b[0m\u001b[0mmask\u001b[0m\u001b[1;33m]\u001b[0m\u001b[1;33m\u001b[0m\u001b[1;33m\u001b[0m\u001b[0m\n\u001b[0;32m   5019\u001b[0m         \u001b[1;32mreturn\u001b[0m \u001b[0mself\u001b[0m\u001b[1;33m.\u001b[0m\u001b[0mdelete\u001b[0m\u001b[1;33m(\u001b[0m\u001b[0mindexer\u001b[0m\u001b[1;33m)\u001b[0m\u001b[1;33m\u001b[0m\u001b[1;33m\u001b[0m\u001b[0m\n",
      "\u001b[1;31mKeyError\u001b[0m: \"['precip_type'] not found in axis\""
     ]
    }
   ],
   "source": [
    "# INSERT your code (or comment) here\n",
    "from statsmodels import regression\n",
    "import statsmodels.api as sm\n",
    "\n",
    "#split into X, Y\n",
    "X= train_data.drop(target, axis=1)\n",
    "Y= train_data[target]\n",
    "\n",
    "X = sm.add_constant(X) # adding a constant\n",
    "\n",
    "model = sm.OLS(Y, X).fit()\n",
    "predictions = model.predict(X) \n",
    "\n",
    "print_model = model.summary()\n",
    "print(print_model)\n",
    "\n",
    "from sklearn.metrics import mean_absolute_error\n",
    "print('train performance')\n",
    "print(mean_absolute_error(Y, predictions))\n",
    "target= 'temperature'\n",
    "print('test set performance')\n",
    "test_X= test_data.drop(target, axis=1)\n",
    "test_X = sm.add_constant(test_X) # adding a constant\n",
    "print(mean_absolute_error(test_data[target], model.predict(test_X)))\n",
    "\n"
   ]
  },
  {
   "cell_type": "markdown",
   "metadata": {
    "colab_type": "text",
    "id": "v428CdiaOaad"
   },
   "source": [
    "4.   Find the feature which shows maximum correlation with \"pressure\". Create a linear regression model to predict temperature using these two features ('pressure' and the one which shows maximum correlation). Compare the performance of this simplified model with the model developed in the previous question (Q-3). Explain the performance variation, if any. **(6 marks)**"
   ]
  },
  {
   "cell_type": "code",
   "execution_count": null,
   "metadata": {
    "colab": {},
    "colab_type": "code",
    "id": "aKsPiuGCOM5F"
   },
   "outputs": [],
   "source": [
    "# INSERT your code (or comment) here\n",
    "#maximum correlation with pressure\n",
    "train_data.corr()[['pressure']]\n",
    "print('wind speed shows max corr with pressure, fitting a model with these two:')\n",
    "\n",
    "X= train_data[['pressure', 'wind_speed']]\n",
    "Y= train_data[target]\n",
    "\n",
    "X = sm.add_constant(X) # adding a constant\n",
    "\n",
    "model = sm.OLS(Y, X).fit()\n",
    "predictions = model.predict(X) \n",
    "\n",
    "print_model = model.summary()\n",
    "print(print_model)\n",
    "\n",
    "from sklearn.metrics import mean_absolute_error\n",
    "\n",
    "print('test set performance')\n",
    "test_X= test_data[['pressure', 'wind_speed']]\n",
    "test_X = sm.add_constant(test_X) # adding a constant\n",
    "print(mean_absolute_error(test_data[target], model.predict(test_X)))\n",
    "print('the performance of this model has slightly improved')\n",
    "\n",
    "\n"
   ]
  },
  {
   "cell_type": "markdown",
   "metadata": {
    "colab_type": "text",
    "id": "0-jv9d7oOtHe"
   },
   "source": [
    "5. Apportion the complete dataset into training and test sets, with an 40-60 split. **(6 marks)**\n",
    "\n",
    "  (a)  Train a linear regression model without considering overfitting scenario and report the test performance. \n",
    "  \n",
    "  (b) Create an optimal regularised linear regression model and report the test performance.\n",
    "  \n",
    "  (c) Explain the reason behind the performance variation, if any.\n"
   ]
  },
  {
   "cell_type": "code",
   "execution_count": 431,
   "metadata": {
    "colab": {},
    "colab_type": "code",
    "id": "jNk_egyXONc2"
   },
   "outputs": [
    {
     "name": "stdout",
     "output_type": "stream",
     "text": [
      "train data shape:(57871, 10)\n",
      "test data shape:(38582, 10)\n",
      "test set performance\n",
      "0.7418766443200456\n"
     ]
    }
   ],
   "source": [
    "# INSERT your answer in maximum five sentences.\n",
    "\n",
    "from sklearn.model_selection import train_test_split\n",
    "# train test split in 60-40\n",
    "train_data, test_data= train_test_split(data.drop('recording_date_time', axis=1), test_size=.4,random_state= 1234)\n",
    "print('train data shape:'+str(train_data.shape))\n",
    "print('test data shape:'+str(test_data.shape))\n",
    "\n",
    "\n",
    "#fit linear regression model without considering overfitting scenario and report the test performance\n",
    "X= train_data.drop(target, axis=1)\n",
    "Y= train_data[target]\n",
    "\n",
    "from sklearn import linear_model\n",
    "model = linear_model.LinearRegression()\n",
    "\n",
    "model.fit(X, Y)\n",
    "model.predict(test_X)\n",
    "\n",
    "\n",
    "from sklearn.metrics import mean_absolute_error\n",
    "\n",
    "print('test set performance')\n",
    "target= 'temperature'\n",
    "test_X= test_data.drop(target, axis=1)\n",
    "print(mean_absolute_error(test_data[target], model.predict(test_X)))\n"
   ]
  },
  {
   "cell_type": "code",
   "execution_count": 432,
   "metadata": {},
   "outputs": [
    {
     "name": "stdout",
     "output_type": "stream",
     "text": [
      "test set performance\n",
      "0.7418752792978199\n"
     ]
    }
   ],
   "source": [
    "#### optimal regularised linear regression model and report the test performance\n",
    "\n",
    "from sklearn import linear_model\n",
    "model = linear_model.Ridge(alpha=0.5)\n",
    "\n",
    "model.fit(X, Y)\n",
    "model.predict(test_X)\n",
    "\n",
    "\n",
    "from sklearn.metrics import mean_absolute_error\n",
    "\n",
    "print('test set performance')\n",
    "test_X= test_data.drop(target, axis=1)\n",
    "\n",
    "print(mean_absolute_error(test_data[target], model.predict(test_X)))\n",
    "\n"
   ]
  },
  {
   "cell_type": "markdown",
   "metadata": {},
   "source": [
    "**Reason for performance variation** Preformance improves as regularization implemented in part 2 helps ensure that model does not overfit the data. What it means is that model is able to generalize well on unseen test data."
   ]
  },
  {
   "cell_type": "markdown",
   "metadata": {
    "colab_type": "text",
    "id": "CtcCZwIMOxwi"
   },
   "source": [
    "##**Part 2: Logistic Regression:**  **(9 marks)**\n",
    "\n",
    "\n",
    "1.  Can the same target (temperature, mentioned in Part-1) be used for logistic regression? Why? **(2 marks)**"
   ]
  },
  {
   "cell_type": "markdown",
   "metadata": {
    "colab": {},
    "colab_type": "code",
    "id": "knM4rfghOORu"
   },
   "source": [
    "No temperature can not be used for logistic regression model. It is a continuous variable and can not be used as target of a classification algorithm such as logistic regression"
   ]
  },
  {
   "cell_type": "markdown",
   "metadata": {
    "colab_type": "text",
    "id": "a5w0t5-To1nB"
   },
   "source": [
    "2.  Split the dataset as 70-30% for training and testing. Create a logistic regression model to predict the 'precip_type'. Report the prediction accuracy of your model whether the \"precip_type\" is \"rain\" or not (use decision threshold of 0.45). **(5 marks)**\n",
    "\n"
   ]
  },
  {
   "cell_type": "code",
   "execution_count": 433,
   "metadata": {
    "colab": {},
    "colab_type": "code",
    "id": "vzRgiUq9wEHY"
   },
   "outputs": [
    {
     "name": "stdout",
     "output_type": "stream",
     "text": [
      "train data shape:(57871, 9)\n",
      "test data shape:(38582, 9)\n"
     ]
    }
   ],
   "source": [
    "# INSERT your code (or comment) here\n",
    "#defining the target\n",
    "data= pd.read_csv(\"E://PC Backup/Others/fiverr/20200914 regression/weather_dataset.csv\")\n",
    "data.precip_type.value_counts()\n",
    "data.loc[data.precip_type=='rain', 'precip_type']=1\n",
    "data.loc[data.precip_type=='snow', 'precip_type']=0\n",
    "\n",
    "\n",
    "# train test split\n",
    "train_data, test_data= train_test_split(data.drop('recording_date_time', axis=1), test_size=.4,random_state= 1234)\n",
    "print('train data shape:'+str(train_data.shape))\n",
    "print('test data shape:'+str(test_data.shape))\n",
    "\n",
    "target= 'precip_type'\n",
    "\n",
    "\n"
   ]
  },
  {
   "cell_type": "code",
   "execution_count": 434,
   "metadata": {},
   "outputs": [],
   "source": [
    "from sklearn.linear_model import LogisticRegression\n",
    "from sklearn.metrics import classification_report, confusion_matrix\n",
    "\n",
    "X= train_data.drop(target, axis=1)\n",
    "Y= train_data[target].astype('int64')\n",
    "\n",
    "test_X= test_data.drop(target, axis=1)\n",
    "test_Y= test_data[target].astype('int64')\n",
    "\n",
    "\n",
    "\n",
    "model = LogisticRegression(solver='liblinear', random_state=0)\n",
    "\n",
    "model.fit(test_X, test_Y)\n",
    "\n",
    "model.predict_proba(X)\n",
    "\n",
    "pred= np.where((model.predict_proba(test_X)[:,1]>.45),1,0 )\n"
   ]
  },
  {
   "cell_type": "markdown",
   "metadata": {
    "colab_type": "text",
    "id": "Yn7--XRkrIK9"
   },
   "source": [
    " 3.  Discuss the test performance using precision, recall and confusion matrix. **(2 marks)**"
   ]
  },
  {
   "cell_type": "code",
   "execution_count": 435,
   "metadata": {
    "colab": {},
    "colab_type": "code",
    "id": "7GpmkeRLOOkM"
   },
   "outputs": [
    {
     "name": "stdout",
     "output_type": "stream",
     "text": [
      "[[ 3839   656]\n",
      " [   68 34019]]\n",
      "prediction accuracy:99.64204874453861\n",
      "precision:0.9810814708002884\n",
      "recall:0.9980051045853258\n"
     ]
    }
   ],
   "source": [
    "# INSERT your code (or comment) here\n",
    "print(confusion_matrix(test_Y.values, pred[:], labels=[0,1]))\n",
    "cm= confusion_matrix(test_Y.values, pred[:], labels=[0,1])\n",
    "prediction_accuracy= (cm[0,0]+cm[1,1])/(cm[0,0]+cm[1,1]+cm[1,0]+cm[1,0])*100\n",
    "print('prediction accuracy:'+str(prediction_accuracy))\n",
    "\n",
    "from sklearn.metrics import precision_recall_fscore_support\n",
    "precision, recall, fscore, support= precision_recall_fscore_support(test_Y.values, pred[:])\n",
    "\n",
    "print('precision:'+str(precision[1]))\n",
    "print('recall:'+str(recall[1]))"
   ]
  },
  {
   "cell_type": "markdown",
   "metadata": {
    "colab_type": "text",
    "id": "uJZCDkQcH_k6"
   },
   "source": [
    "##**Part 3: Objective function optimisation:**  **(6 marks)**"
   ]
  },
  {
   "cell_type": "markdown",
   "metadata": {
    "colab_type": "text",
    "id": "7DrSojxhXpwL"
   },
   "source": [
    "Let’s consider the line graphs shown below and answer the following questions [Hint: See weekly content 7.4-7.10],"
   ]
  },
  {
   "cell_type": "markdown",
   "metadata": {
    "colab_type": "text",
    "id": "_eGL6Jz_KJdH"
   },
   "source": [
    "<html>&nbsp;&nbsp;&nbsp;&nbsp;&nbsp;&nbsp;&nbsp;&nbsp;&nbsp;&nbsp;&nbsp;&nbsp;&nbsp;&nbsp;&nbsp;&nbsp;&nbsp;&nbsp;&nbsp;&nbsp;&nbsp;&nbsp;&nbsp;&nbsp;&nbsp;(a)&nbsp;&nbsp;&nbsp;&nbsp;&nbsp;&nbsp;&nbsp;&nbsp;&nbsp;&nbsp;&nbsp;&nbsp;&nbsp;&nbsp;&nbsp;&nbsp;&nbsp;&nbsp;&nbsp;&nbsp;&nbsp;&nbsp;&nbsp;&nbsp;&nbsp;&nbsp;&nbsp;&nbsp;&nbsp;&nbsp;&nbsp;&nbsp;&nbsp;&nbsp;&nbsp;&nbsp;&nbsp;&nbsp;&nbsp;&nbsp;&nbsp;&nbsp;&nbsp;&nbsp;&nbsp;&nbsp;&nbsp;&nbsp;&nbsp;&nbsp;&nbsp;&nbsp;&nbsp;&nbsp;&nbsp;&nbsp;&nbsp;&nbsp;&nbsp;&nbsp;(b)</html>\n",
    "\n",
    "![image.png](data:image/png;base64,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)\n",
    "\n",
    "\n"
   ]
  },
  {
   "cell_type": "markdown",
   "metadata": {
    "colab_type": "text",
    "id": "iBRBSZiqKzLh"
   },
   "source": [
    "\n",
    "a.  Which of the above figures represents the convex objective function and why? (**1 marks**)\n",
    "\n",
    "b.  Which hyper-parameter can help to reach the convergence point and the impact of value selection? (**2 marks**)\n",
    "\n",
    "c.  How can we find the global minima for the objective function shown in Figure-b? _[N.B. Conceptual description will be accepted.]_ (**3 marks**)"
   ]
  },
  {
   "cell_type": "markdown",
   "metadata": {},
   "source": [
    "a) The first graph represents a convex objective function because line joining any two points is above the curve. It has only one optimal point that is the global optimim\n",
    "\n",
    "b) Learning rate can help to reach the convergence point. It can be varied by advanced optimization algorithms like SDG and adam\n",
    "\n",
    "c) Using advanced optimizer such as SGD, ADAM we can reach the global minima. Appropriate activation function like relu helps and random initialization of say neural network also helps reach the global minima. \n",
    "\n",
    "A possible approach to reach is to:\n",
    "- Divide the space into several samall convex sub spaces\n",
    "- For each convex subspace, find the local minima\n",
    "- Final Minima of all the local minimas"
   ]
  }
 ],
 "metadata": {
  "colab": {
   "collapsed_sections": [],
   "name": "A3.ipynb",
   "provenance": []
  },
  "kernelspec": {
   "display_name": "Python 3",
   "language": "python",
   "name": "python3"
  },
  "language_info": {
   "codemirror_mode": {
    "name": "ipython",
    "version": 3
   },
   "file_extension": ".py",
   "mimetype": "text/x-python",
   "name": "python",
   "nbconvert_exporter": "python",
   "pygments_lexer": "ipython3",
   "version": "3.7.7"
  }
 },
 "nbformat": 4,
 "nbformat_minor": 4
}
