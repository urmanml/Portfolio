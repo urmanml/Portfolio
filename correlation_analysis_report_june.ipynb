{
 "cells": [
  {
   "cell_type": "markdown",
   "metadata": {},
   "source": [
    "# Correlation analysis report"
   ]
  },
  {
   "cell_type": "code",
   "execution_count": 140,
   "metadata": {},
   "outputs": [],
   "source": [
    "import pandas as pd, numpy as np\n",
    "import matplotlib.pyplot as plt, seaborn as sns\n"
   ]
  },
  {
   "cell_type": "code",
   "execution_count": 141,
   "metadata": {},
   "outputs": [],
   "source": [
    "#df= pd.read_excel(\"E:/PC Backup/Others/fiverr/20200430_Correlation/Anonymous_COS Analysis Report_ April 29_2020.xls\",skiprows=1)\n",
    "df= pd.read_excel(\"E:/PC Backup/Others/fiverr/20200430_Correlation/Anonymous_COS Analysis Report_June 22_2020.xlsx\",sheet_name='Full Potential List with TATS' ,skiprows=4)"
   ]
  },
  {
   "cell_type": "code",
   "execution_count": 142,
   "metadata": {},
   "outputs": [
    {
     "name": "stdout",
     "output_type": "stream",
     "text": [
      "sample data\n"
     ]
    },
    {
     "data": {
      "text/html": [
       "<div>\n",
       "<style scoped>\n",
       "    .dataframe tbody tr th:only-of-type {\n",
       "        vertical-align: middle;\n",
       "    }\n",
       "\n",
       "    .dataframe tbody tr th {\n",
       "        vertical-align: top;\n",
       "    }\n",
       "\n",
       "    .dataframe thead th {\n",
       "        text-align: right;\n",
       "    }\n",
       "</style>\n",
       "<table border=\"1\" class=\"dataframe\">\n",
       "  <thead>\n",
       "    <tr style=\"text-align: right;\">\n",
       "      <th></th>\n",
       "      <th>ACCOUNTID</th>\n",
       "      <th>Potential Owner</th>\n",
       "      <th>TATS</th>\n",
       "      <th>Lead Source</th>\n",
       "      <th>Score</th>\n",
       "      <th>Stage</th>\n",
       "      <th>Crop Value</th>\n",
       "      <th>Applying for Credit</th>\n",
       "      <th>Country Of Opps</th>\n",
       "      <th>Amount</th>\n",
       "    </tr>\n",
       "  </thead>\n",
       "  <tbody>\n",
       "    <tr>\n",
       "      <th>0</th>\n",
       "      <td>zcrm_906798000014914022</td>\n",
       "      <td>RM</td>\n",
       "      <td>100</td>\n",
       "      <td>Partner Referral</td>\n",
       "      <td>6</td>\n",
       "      <td>10. Sale Won</td>\n",
       "      <td>Med Val</td>\n",
       "      <td>Yes</td>\n",
       "      <td>Flagship</td>\n",
       "      <td>114628.00</td>\n",
       "    </tr>\n",
       "    <tr>\n",
       "      <th>1</th>\n",
       "      <td>zcrm_906798000014914022</td>\n",
       "      <td>RM</td>\n",
       "      <td>60</td>\n",
       "      <td>Partner Referral</td>\n",
       "      <td>6</td>\n",
       "      <td>10. Sale Won</td>\n",
       "      <td>Med Val</td>\n",
       "      <td>Yes</td>\n",
       "      <td>Flagship</td>\n",
       "      <td>583814.68</td>\n",
       "    </tr>\n",
       "    <tr>\n",
       "      <th>2</th>\n",
       "      <td>zcrm_906798000017227007</td>\n",
       "      <td>MB</td>\n",
       "      <td>60</td>\n",
       "      <td>Repeat Business</td>\n",
       "      <td>5</td>\n",
       "      <td>10. Sale Won</td>\n",
       "      <td>High Val</td>\n",
       "      <td>No</td>\n",
       "      <td>Flagship</td>\n",
       "      <td>44587.25</td>\n",
       "    </tr>\n",
       "    <tr>\n",
       "      <th>3</th>\n",
       "      <td>zcrm_906798000021612349</td>\n",
       "      <td>SW</td>\n",
       "      <td>55</td>\n",
       "      <td>Referral</td>\n",
       "      <td>40</td>\n",
       "      <td>10. Sale Won</td>\n",
       "      <td>High Val</td>\n",
       "      <td>Not Eligible</td>\n",
       "      <td>Flagship</td>\n",
       "      <td>107813.02</td>\n",
       "    </tr>\n",
       "    <tr>\n",
       "      <th>4</th>\n",
       "      <td>zcrm_906798000025876052</td>\n",
       "      <td>SW</td>\n",
       "      <td>55</td>\n",
       "      <td>Employee Referral</td>\n",
       "      <td>11</td>\n",
       "      <td>3. Quote Delivered</td>\n",
       "      <td>Med Val</td>\n",
       "      <td>Yes</td>\n",
       "      <td>Flagship</td>\n",
       "      <td>50000.00</td>\n",
       "    </tr>\n",
       "  </tbody>\n",
       "</table>\n",
       "</div>"
      ],
      "text/plain": [
       "                 ACCOUNTID Potential Owner  TATS        Lead Source  Score  \\\n",
       "0  zcrm_906798000014914022              RM   100   Partner Referral      6   \n",
       "1  zcrm_906798000014914022              RM    60   Partner Referral      6   \n",
       "2  zcrm_906798000017227007              MB    60    Repeat Business      5   \n",
       "3  zcrm_906798000021612349              SW    55           Referral     40   \n",
       "4  zcrm_906798000025876052              SW    55  Employee Referral     11   \n",
       "\n",
       "                Stage Crop Value Applying for Credit Country Of Opps  \\\n",
       "0        10. Sale Won    Med Val                 Yes        Flagship   \n",
       "1        10. Sale Won    Med Val                 Yes        Flagship   \n",
       "2        10. Sale Won   High Val                  No        Flagship   \n",
       "3        10. Sale Won   High Val        Not Eligible        Flagship   \n",
       "4  3. Quote Delivered    Med Val                 Yes        Flagship   \n",
       "\n",
       "      Amount  \n",
       "0  114628.00  \n",
       "1  583814.68  \n",
       "2   44587.25  \n",
       "3  107813.02  \n",
       "4   50000.00  "
      ]
     },
     "execution_count": 142,
     "metadata": {},
     "output_type": "execute_result"
    }
   ],
   "source": [
    "print('sample data')\n",
    "df.head(5)"
   ]
  },
  {
   "cell_type": "code",
   "execution_count": 143,
   "metadata": {},
   "outputs": [
    {
     "name": "stdout",
     "output_type": "stream",
     "text": [
      "list of columns\n"
     ]
    },
    {
     "data": {
      "text/plain": [
       "Index(['ACCOUNTID', 'Potential Owner', 'TATS', 'Lead Source', 'Score', 'Stage',\n",
       "       'Crop Value', 'Applying for Credit', 'Country Of Opps', 'Amount'],\n",
       "      dtype='object')"
      ]
     },
     "execution_count": 143,
     "metadata": {},
     "output_type": "execute_result"
    }
   ],
   "source": [
    "print('list of columns')\n",
    "df.columns"
   ]
  },
  {
   "cell_type": "code",
   "execution_count": 144,
   "metadata": {},
   "outputs": [],
   "source": [
    "#outlier adjusting the data\n",
    "df_outlier_adj= df\n",
    "numeric= 'TATS'\n",
    "df_outlier_adj.loc[df[numeric]> df[numeric].quantile(0.95),numeric]=df[numeric].quantile(0.95)"
   ]
  },
  {
   "cell_type": "code",
   "execution_count": 181,
   "metadata": {},
   "outputs": [],
   "source": [
    "def data_transform(df, numeric, categorical):\n",
    "    df[categorical]= df[categorical].astype('category')\n",
    "    category_list= df[categorical].cat.categories.tolist()\n",
    "    data_list=[]\n",
    "    \n",
    "    for c in category_list:\n",
    "        data_list.append(df[df[categorical]==c][numeric])\n",
    "    \n",
    "    return data_list"
   ]
  },
  {
   "cell_type": "markdown",
   "metadata": {},
   "source": [
    "## 1) Analysis of 'TATS' with 'Potential Owner'"
   ]
  },
  {
   "cell_type": "code",
   "execution_count": 182,
   "metadata": {},
   "outputs": [],
   "source": [
    "\n",
    "numeric= 'TATS'\n",
    "categoric= 'Potential Owner'\n",
    "\n",
    "data_list= data_transform(df, numeric= numeric,\n",
    "categorical= categoric)\n",
    "    \n",
    "    "
   ]
  },
  {
   "cell_type": "markdown",
   "metadata": {},
   "source": [
    "#### Applying statistical test "
   ]
  },
  {
   "cell_type": "code",
   "execution_count": 183,
   "metadata": {},
   "outputs": [
    {
     "name": "stdout",
     "output_type": "stream",
     "text": [
      "number of categories= 6\n"
     ]
    },
    {
     "data": {
      "text/plain": [
       "KruskalResult(statistic=1.7049391633105635, pvalue=0.8882769223525839)"
      ]
     },
     "execution_count": 183,
     "metadata": {},
     "output_type": "execute_result"
    }
   ],
   "source": [
    "from scipy import stats\n",
    "print(\"number of categories= \"+str(len(data_list)))\n",
    "stats.kruskal(data_list[0],data_list[1],data_list[2],data_list[3],data_list[4],data_list[5])"
   ]
  },
  {
   "cell_type": "raw",
   "metadata": {},
   "source": [
    "numeric= 'TATS'  <br>\n",
    "\n",
    "category_variable= 'Potential Owner'  <br>\n",
    "  <br>\n",
    "Since, p is not less than .05, we can not reject the null hpothesis  \n",
    "We can say that \"TATS\" does not depend upon the category variable <br> \n",
    "Let us study the relationship of median value of \"TATS\" for each category  "
   ]
  },
  {
   "cell_type": "markdown",
   "metadata": {},
   "source": [
    "#### Median value of TATS per category"
   ]
  },
  {
   "cell_type": "code",
   "execution_count": 184,
   "metadata": {},
   "outputs": [
    {
     "data": {
      "text/html": [
       "<div>\n",
       "<style scoped>\n",
       "    .dataframe tbody tr th:only-of-type {\n",
       "        vertical-align: middle;\n",
       "    }\n",
       "\n",
       "    .dataframe tbody tr th {\n",
       "        vertical-align: top;\n",
       "    }\n",
       "\n",
       "    .dataframe thead th {\n",
       "        text-align: right;\n",
       "    }\n",
       "</style>\n",
       "<table border=\"1\" class=\"dataframe\">\n",
       "  <thead>\n",
       "    <tr style=\"text-align: right;\">\n",
       "      <th></th>\n",
       "      <th>Potential Owner</th>\n",
       "      <th>TATS</th>\n",
       "    </tr>\n",
       "  </thead>\n",
       "  <tbody>\n",
       "    <tr>\n",
       "      <th>0</th>\n",
       "      <td>Fern</td>\n",
       "      <td>20.0</td>\n",
       "    </tr>\n",
       "    <tr>\n",
       "      <th>1</th>\n",
       "      <td>MB</td>\n",
       "      <td>10.5</td>\n",
       "    </tr>\n",
       "    <tr>\n",
       "      <th>2</th>\n",
       "      <td>PR</td>\n",
       "      <td>9.5</td>\n",
       "    </tr>\n",
       "    <tr>\n",
       "      <th>3</th>\n",
       "      <td>RM</td>\n",
       "      <td>10.0</td>\n",
       "    </tr>\n",
       "    <tr>\n",
       "      <th>4</th>\n",
       "      <td>SW</td>\n",
       "      <td>8.0</td>\n",
       "    </tr>\n",
       "    <tr>\n",
       "      <th>5</th>\n",
       "      <td>TC</td>\n",
       "      <td>15.0</td>\n",
       "    </tr>\n",
       "  </tbody>\n",
       "</table>\n",
       "</div>"
      ],
      "text/plain": [
       "  Potential Owner  TATS\n",
       "0            Fern  20.0\n",
       "1              MB  10.5\n",
       "2              PR   9.5\n",
       "3              RM  10.0\n",
       "4              SW   8.0\n",
       "5              TC  15.0"
      ]
     },
     "execution_count": 184,
     "metadata": {},
     "output_type": "execute_result"
    }
   ],
   "source": [
    "median_time=df.groupby(categoric).agg({numeric:'median'}).reset_index()\n",
    "median_time"
   ]
  },
  {
   "cell_type": "code",
   "execution_count": 185,
   "metadata": {},
   "outputs": [
    {
     "data": {
      "text/plain": [
       "Text(0.5, 1.0, 'Distribution of TATS with Potential Owner')"
      ]
     },
     "execution_count": 185,
     "metadata": {},
     "output_type": "execute_result"
    },
    {
     "data": {
      "image/png": "[encoded data removed]",
      "text/plain": [
       "<Figure size 432x288 with 1 Axes>"
      ]
     },
     "metadata": {
      "needs_background": "light"
     },
     "output_type": "display_data"
    }
   ],
   "source": [
    "sns.boxplot(y=categoric, x=numeric, data= df_outlier_adj)\n",
    "text= \"Distribution of \"+numeric+\" with \"+categoric\n",
    "plt.title(text)\n"
   ]
  },
  {
   "cell_type": "code",
   "execution_count": 186,
   "metadata": {},
   "outputs": [
    {
     "data": {
      "text/plain": [
       "Text(0.5, 1.0, 'Median value of TATS for each category of Potential Owner')"
      ]
     },
     "execution_count": 186,
     "metadata": {},
     "output_type": "execute_result"
    },
    {
     "data": {
      "image/png": "[encoded data removed]",
      "text/plain": [
       "<Figure size 432x288 with 1 Axes>"
      ]
     },
     "metadata": {
      "needs_background": "light"
     },
     "output_type": "display_data"
    }
   ],
   "source": [
    "sns.barplot(x= categoric,y= numeric,data= median_time)\n",
    "plt.title('Median value of '+numeric+' for each category of '+categoric)"
   ]
  },
  {
   "cell_type": "markdown",
   "metadata": {},
   "source": [
    "#### Inference\n",
    "Median time spent is not significantly different for different Potential owner category"
   ]
  },
  {
   "cell_type": "markdown",
   "metadata": {},
   "source": [
    "## 2) Analysis of 'TATS' with 'Lead Source'"
   ]
  },
  {
   "cell_type": "code",
   "execution_count": 187,
   "metadata": {},
   "outputs": [],
   "source": [
    "numeric= 'TATS'\n",
    "categoric= 'Lead Source'\n",
    "\n",
    "data_list= data_transform(df, numeric= numeric,\n",
    "categorical= categoric)\n",
    "    "
   ]
  },
  {
   "cell_type": "markdown",
   "metadata": {},
   "source": [
    "#### Applying statistical test "
   ]
  },
  {
   "cell_type": "code",
   "execution_count": 188,
   "metadata": {},
   "outputs": [
    {
     "name": "stdout",
     "output_type": "stream",
     "text": [
      "number of categories= 11\n"
     ]
    },
    {
     "data": {
      "text/plain": [
       "KruskalResult(statistic=25.07054729568026, pvalue=0.0052133766014078224)"
      ]
     },
     "execution_count": 188,
     "metadata": {},
     "output_type": "execute_result"
    }
   ],
   "source": [
    "from scipy import stats\n",
    "print(\"number of categories= \"+str(len(data_list)))\n",
    "stats.kruskal(data_list[0],data_list[1],data_list[2],data_list[3],data_list[4],data_list[5],data_list[6],data_list[7],data_list[8],data_list[9],data_list[10])"
   ]
  },
  {
   "cell_type": "raw",
   "metadata": {},
   "source": [
    "Since, p is less than .05, we can reject the null hpothesis   \n",
    "  <br>\n",
    "We can say that \"TATS\" does depends upon the category variable    <br>\n",
    "\n",
    "Let us study the relationship of median value of \"TATS\" for each category "
   ]
  },
  {
   "cell_type": "markdown",
   "metadata": {},
   "source": [
    "#### Median value of TATS per category"
   ]
  },
  {
   "cell_type": "code",
   "execution_count": 189,
   "metadata": {},
   "outputs": [
    {
     "data": {
      "text/html": [
       "<div>\n",
       "<style scoped>\n",
       "    .dataframe tbody tr th:only-of-type {\n",
       "        vertical-align: middle;\n",
       "    }\n",
       "\n",
       "    .dataframe tbody tr th {\n",
       "        vertical-align: top;\n",
       "    }\n",
       "\n",
       "    .dataframe thead th {\n",
       "        text-align: right;\n",
       "    }\n",
       "</style>\n",
       "<table border=\"1\" class=\"dataframe\">\n",
       "  <thead>\n",
       "    <tr style=\"text-align: right;\">\n",
       "      <th></th>\n",
       "      <th>Lead Source</th>\n",
       "      <th>TATS</th>\n",
       "    </tr>\n",
       "  </thead>\n",
       "  <tbody>\n",
       "    <tr>\n",
       "      <th>0</th>\n",
       "      <td>Cold Call</td>\n",
       "      <td>1.0</td>\n",
       "    </tr>\n",
       "    <tr>\n",
       "      <th>1</th>\n",
       "      <td>Direct Phone Enquiry</td>\n",
       "      <td>2.0</td>\n",
       "    </tr>\n",
       "    <tr>\n",
       "      <th>2</th>\n",
       "      <td>Employee Referral</td>\n",
       "      <td>10.0</td>\n",
       "    </tr>\n",
       "    <tr>\n",
       "      <th>3</th>\n",
       "      <td>Fairs/Event/Seminar</td>\n",
       "      <td>15.0</td>\n",
       "    </tr>\n",
       "    <tr>\n",
       "      <th>4</th>\n",
       "      <td>LinkedIn</td>\n",
       "      <td>4.0</td>\n",
       "    </tr>\n",
       "    <tr>\n",
       "      <th>5</th>\n",
       "      <td>Partner Referral</td>\n",
       "      <td>15.0</td>\n",
       "    </tr>\n",
       "    <tr>\n",
       "      <th>6</th>\n",
       "      <td>Referral</td>\n",
       "      <td>17.0</td>\n",
       "    </tr>\n",
       "    <tr>\n",
       "      <th>7</th>\n",
       "      <td>Repeat Business</td>\n",
       "      <td>27.5</td>\n",
       "    </tr>\n",
       "    <tr>\n",
       "      <th>8</th>\n",
       "      <td>Unknown/External Referral</td>\n",
       "      <td>20.0</td>\n",
       "    </tr>\n",
       "    <tr>\n",
       "      <th>9</th>\n",
       "      <td>Web Research</td>\n",
       "      <td>3.0</td>\n",
       "    </tr>\n",
       "    <tr>\n",
       "      <th>10</th>\n",
       "      <td>Website 'Contact Us' Form</td>\n",
       "      <td>6.0</td>\n",
       "    </tr>\n",
       "  </tbody>\n",
       "</table>\n",
       "</div>"
      ],
      "text/plain": [
       "                  Lead Source  TATS\n",
       "0                   Cold Call   1.0\n",
       "1        Direct Phone Enquiry   2.0\n",
       "2           Employee Referral  10.0\n",
       "3         Fairs/Event/Seminar  15.0\n",
       "4                    LinkedIn   4.0\n",
       "5            Partner Referral  15.0\n",
       "6                    Referral  17.0\n",
       "7             Repeat Business  27.5\n",
       "8   Unknown/External Referral  20.0\n",
       "9                Web Research   3.0\n",
       "10  Website 'Contact Us' Form   6.0"
      ]
     },
     "execution_count": 189,
     "metadata": {},
     "output_type": "execute_result"
    }
   ],
   "source": [
    "median_time=df.groupby(categoric).agg({numeric:'median'}).reset_index()\n",
    "median_time"
   ]
  },
  {
   "cell_type": "code",
   "execution_count": 190,
   "metadata": {},
   "outputs": [
    {
     "data": {
      "text/plain": [
       "Text(0.5, 1.0, 'Distribution of TATS with Lead Source')"
      ]
     },
     "execution_count": 190,
     "metadata": {},
     "output_type": "execute_result"
    },
    {
     "data": {
      "image/png": "[encoded data removed]",
      "text/plain": [
       "<Figure size 432x288 with 1 Axes>"
      ]
     },
     "metadata": {
      "needs_background": "light"
     },
     "output_type": "display_data"
    }
   ],
   "source": [
    "sns.boxplot(y=categoric, x=numeric, data= df_outlier_adj)\n",
    "text= \"Distribution of \"+numeric+\" with \"+categoric\n",
    "plt.title(text)"
   ]
  },
  {
   "cell_type": "code",
   "execution_count": 191,
   "metadata": {},
   "outputs": [
    {
     "data": {
      "text/plain": [
       "Text(0.5, 1.0, 'Median value of TATS for each category of Lead Source')"
      ]
     },
     "execution_count": 191,
     "metadata": {},
     "output_type": "execute_result"
    },
    {
     "data": {
      "image/png": "[encoded data removed]",
      "text/plain": [
       "<Figure size 432x288 with 1 Axes>"
      ]
     },
     "metadata": {
      "needs_background": "light"
     },
     "output_type": "display_data"
    }
   ],
   "source": [
    "sns.barplot(y= categoric,x= numeric,data= median_time)\n",
    "plt.title('Median value of '+numeric+' for each category of '+categoric)"
   ]
  },
  {
   "cell_type": "markdown",
   "metadata": {},
   "source": [
    "#### Inference\n",
    "Median time spent is significantly different for different categories"
   ]
  },
  {
   "cell_type": "markdown",
   "metadata": {},
   "source": [
    "## 3) Analysis of 'TATS' with 'Stage'"
   ]
  },
  {
   "cell_type": "code",
   "execution_count": 192,
   "metadata": {},
   "outputs": [],
   "source": [
    "numeric= 'TATS'\n",
    "categoric= 'Stage'\n",
    "\n",
    "data_list= data_transform(df, numeric= numeric,\n",
    "categorical= categoric)\n",
    "    "
   ]
  },
  {
   "cell_type": "markdown",
   "metadata": {},
   "source": [
    "#### Applying statistical test "
   ]
  },
  {
   "cell_type": "code",
   "execution_count": 193,
   "metadata": {},
   "outputs": [
    {
     "name": "stdout",
     "output_type": "stream",
     "text": [
      "number of categories= 11\n"
     ]
    },
    {
     "data": {
      "text/plain": [
       "KruskalResult(statistic=27.97073017056687, pvalue=0.0018248300788438854)"
      ]
     },
     "execution_count": 193,
     "metadata": {},
     "output_type": "execute_result"
    }
   ],
   "source": [
    "from scipy import stats\n",
    "print(\"number of categories= \"+str(len(data_list)))\n",
    "stats.kruskal(data_list[0],data_list[1],data_list[2],data_list[3],data_list[4],data_list[5], data_list[6],data_list[7],data_list[8],data_list[9],data_list[10])"
   ]
  },
  {
   "cell_type": "raw",
   "metadata": {},
   "source": [
    "Since, p is less than .05, we can reject the null hpothesis  \n",
    "<br>\n",
    "We can say that \"TATS\" depends upon the category variable <br>   \n",
    "Let us study the relationship of median value of \"TATS\" for each category "
   ]
  },
  {
   "cell_type": "markdown",
   "metadata": {},
   "source": [
    "#### Median value of TATS per category"
   ]
  },
  {
   "cell_type": "code",
   "execution_count": 194,
   "metadata": {},
   "outputs": [
    {
     "data": {
      "text/html": [
       "<div>\n",
       "<style scoped>\n",
       "    .dataframe tbody tr th:only-of-type {\n",
       "        vertical-align: middle;\n",
       "    }\n",
       "\n",
       "    .dataframe tbody tr th {\n",
       "        vertical-align: top;\n",
       "    }\n",
       "\n",
       "    .dataframe thead th {\n",
       "        text-align: right;\n",
       "    }\n",
       "</style>\n",
       "<table border=\"1\" class=\"dataframe\">\n",
       "  <thead>\n",
       "    <tr style=\"text-align: right;\">\n",
       "      <th></th>\n",
       "      <th>Stage</th>\n",
       "      <th>TATS</th>\n",
       "    </tr>\n",
       "  </thead>\n",
       "  <tbody>\n",
       "    <tr>\n",
       "      <th>0</th>\n",
       "      <td>1. Value Proposition</td>\n",
       "      <td>3.0</td>\n",
       "    </tr>\n",
       "    <tr>\n",
       "      <th>1</th>\n",
       "      <td>10. Sale Won</td>\n",
       "      <td>25.0</td>\n",
       "    </tr>\n",
       "    <tr>\n",
       "      <th>2</th>\n",
       "      <td>11. On Hold</td>\n",
       "      <td>30.0</td>\n",
       "    </tr>\n",
       "    <tr>\n",
       "      <th>3</th>\n",
       "      <td>12. Closed Lost</td>\n",
       "      <td>6.0</td>\n",
       "    </tr>\n",
       "    <tr>\n",
       "      <th>4</th>\n",
       "      <td>2. Proposal Development</td>\n",
       "      <td>7.0</td>\n",
       "    </tr>\n",
       "    <tr>\n",
       "      <th>5</th>\n",
       "      <td>3. Quote Delivered</td>\n",
       "      <td>4.0</td>\n",
       "    </tr>\n",
       "    <tr>\n",
       "      <th>6</th>\n",
       "      <td>4. Negotiation</td>\n",
       "      <td>5.0</td>\n",
       "    </tr>\n",
       "    <tr>\n",
       "      <th>7</th>\n",
       "      <td>5. Grant Application</td>\n",
       "      <td>22.0</td>\n",
       "    </tr>\n",
       "    <tr>\n",
       "      <th>8</th>\n",
       "      <td>7. Due Diligence</td>\n",
       "      <td>4.0</td>\n",
       "    </tr>\n",
       "    <tr>\n",
       "      <th>9</th>\n",
       "      <td>8. Contract Issued</td>\n",
       "      <td>14.0</td>\n",
       "    </tr>\n",
       "    <tr>\n",
       "      <th>10</th>\n",
       "      <td>9. Contract Signed</td>\n",
       "      <td>30.0</td>\n",
       "    </tr>\n",
       "  </tbody>\n",
       "</table>\n",
       "</div>"
      ],
      "text/plain": [
       "                      Stage  TATS\n",
       "0      1. Value Proposition   3.0\n",
       "1              10. Sale Won  25.0\n",
       "2               11. On Hold  30.0\n",
       "3           12. Closed Lost   6.0\n",
       "4   2. Proposal Development   7.0\n",
       "5        3. Quote Delivered   4.0\n",
       "6            4. Negotiation   5.0\n",
       "7      5. Grant Application  22.0\n",
       "8          7. Due Diligence   4.0\n",
       "9        8. Contract Issued  14.0\n",
       "10       9. Contract Signed  30.0"
      ]
     },
     "execution_count": 194,
     "metadata": {},
     "output_type": "execute_result"
    }
   ],
   "source": [
    "order= ['1. Value Proposition','2. Proposal Development','3. Quote Delivered',\n",
    "        '4. Negotiation','5. Grant Application','7. Due Diligence',\n",
    "    '8. Contract Issued','9. Contract Signed','10. Sale Won',\n",
    "'11. On Hold','12. Closed Lost']\n",
    "\n",
    "median_time=df.groupby(categoric).agg({numeric:'median'}).reset_index()\n",
    "median_time\n",
    "\n"
   ]
  },
  {
   "cell_type": "code",
   "execution_count": 195,
   "metadata": {},
   "outputs": [
    {
     "data": {
      "text/plain": [
       "Text(0.5, 1.0, 'Distribution of TATS with Stage')"
      ]
     },
     "execution_count": 195,
     "metadata": {},
     "output_type": "execute_result"
    },
    {
     "data": {
      "image/png": "[encoded data removed]",
      "text/plain": [
       "<Figure size 432x288 with 1 Axes>"
      ]
     },
     "metadata": {
      "needs_background": "light"
     },
     "output_type": "display_data"
    }
   ],
   "source": [
    "\n",
    "sns.boxplot(y=categoric, x=numeric, data= df_outlier_adj, order= order)\n",
    "text= \"Distribution of \"+numeric+\" with \"+categoric\n",
    "plt.title(text)\n"
   ]
  },
  {
   "cell_type": "code",
   "execution_count": 196,
   "metadata": {},
   "outputs": [
    {
     "data": {
      "text/plain": [
       "Text(0.5, 1.0, 'Median value of TATS for each category of Stage')"
      ]
     },
     "execution_count": 196,
     "metadata": {},
     "output_type": "execute_result"
    },
    {
     "data": {
      "image/png": "[encoded data removed]",
      "text/plain": [
       "<Figure size 432x288 with 1 Axes>"
      ]
     },
     "metadata": {
      "needs_background": "light"
     },
     "output_type": "display_data"
    }
   ],
   "source": [
    "sns.barplot(y= categoric,x= numeric,data= median_time, order= order)\n",
    "plt.title('Median value of '+numeric+' for each category of '+categoric)"
   ]
  },
  {
   "cell_type": "markdown",
   "metadata": {},
   "source": [
    "#### Inference\n",
    "Median time spent is different for different categories"
   ]
  },
  {
   "cell_type": "markdown",
   "metadata": {},
   "source": [
    "## 4) Analysis of 'TATS' with 'Crop Value'"
   ]
  },
  {
   "cell_type": "code",
   "execution_count": 197,
   "metadata": {},
   "outputs": [],
   "source": [
    "numeric= 'TATS'  \n",
    "categoric= 'Crop Value'  \n",
    "\n",
    "data_list= data_transform(df, numeric= numeric,\n",
    "categorical= categoric)\n",
    "    "
   ]
  },
  {
   "cell_type": "markdown",
   "metadata": {},
   "source": [
    "#### Applying statistical test "
   ]
  },
  {
   "cell_type": "code",
   "execution_count": 198,
   "metadata": {},
   "outputs": [
    {
     "name": "stdout",
     "output_type": "stream",
     "text": [
      "number of categories= 3\n"
     ]
    },
    {
     "data": {
      "text/plain": [
       "KruskalResult(statistic=6.41329467133404, pvalue=0.04049214251502794)"
      ]
     },
     "execution_count": 198,
     "metadata": {},
     "output_type": "execute_result"
    }
   ],
   "source": [
    "from scipy import stats\n",
    "print(\"number of categories= \"+str(len(data_list)))\n",
    "stats.kruskal(data_list[0],data_list[1],data_list[2])"
   ]
  },
  {
   "cell_type": "raw",
   "metadata": {},
   "source": [
    "Since, p is less than .05, we can reject the null hpothesis <br> \n",
    "We can say that \"TATS\" depends upon the category variable  <br><br>\n",
    "Let us study the relationship of median value of \"TATS\" for each category "
   ]
  },
  {
   "cell_type": "markdown",
   "metadata": {},
   "source": [
    "#### Median value of TATS per category"
   ]
  },
  {
   "cell_type": "code",
   "execution_count": 199,
   "metadata": {},
   "outputs": [
    {
     "data": {
      "text/plain": [
       "Crop Value\n",
       "High Val    26\n",
       "Low Val      6\n",
       "Med Val     45\n",
       "dtype: int64"
      ]
     },
     "execution_count": 199,
     "metadata": {},
     "output_type": "execute_result"
    }
   ],
   "source": [
    "median_time=df.groupby(categoric).agg({numeric:'median'}).sort_values(numeric,ascending=False).reset_index()\n",
    "median_time\n",
    "df.groupby(categoric).size()"
   ]
  },
  {
   "cell_type": "code",
   "execution_count": 200,
   "metadata": {},
   "outputs": [
    {
     "data": {
      "text/plain": [
       "Text(0.5, 1.0, 'Distribution of TATS with Crop Value')"
      ]
     },
     "execution_count": 200,
     "metadata": {},
     "output_type": "execute_result"
    },
    {
     "data": {
      "image/png": "[encoded data removed]",
      "text/plain": [
       "<Figure size 432x288 with 1 Axes>"
      ]
     },
     "metadata": {
      "needs_background": "light"
     },
     "output_type": "display_data"
    }
   ],
   "source": [
    "order=['Low Val','Med Val','High Val','']\n",
    "sns.boxplot(y=categoric, x=numeric, data= df)\n",
    "text= \"Distribution of \"+numeric+\" with \"+categoric\n",
    "plt.title(text)"
   ]
  },
  {
   "cell_type": "code",
   "execution_count": 201,
   "metadata": {},
   "outputs": [
    {
     "data": {
      "text/plain": [
       "Text(0.5, 1.0, 'Median value of TATS for each category of Crop Value')"
      ]
     },
     "execution_count": 201,
     "metadata": {},
     "output_type": "execute_result"
    },
    {
     "data": {
      "image/png": "[encoded data removed]",
      "text/plain": [
       "<Figure size 432x288 with 1 Axes>"
      ]
     },
     "metadata": {
      "needs_background": "light"
     },
     "output_type": "display_data"
    }
   ],
   "source": [
    "sns.barplot(x= categoric,y= numeric,data= median_time)\n",
    "plt.title('Median value of '+numeric+' for each category of '+categoric)"
   ]
  },
  {
   "cell_type": "markdown",
   "metadata": {},
   "source": [
    "#### Inference\n",
    "Median time spent is significantly different for different categories"
   ]
  },
  {
   "cell_type": "markdown",
   "metadata": {},
   "source": [
    "## 5) Analysis of 'TATS' with 'Applying for Credit'"
   ]
  },
  {
   "cell_type": "code",
   "execution_count": 202,
   "metadata": {},
   "outputs": [],
   "source": [
    "numeric= 'TATS'\n",
    "categoric= 'Applying for Credit'\n",
    "\n",
    "data_list= data_transform(df, numeric= numeric,\n",
    "categorical= categoric)\n",
    "    "
   ]
  },
  {
   "cell_type": "markdown",
   "metadata": {},
   "source": [
    "#### Applying statistical test "
   ]
  },
  {
   "cell_type": "code",
   "execution_count": 203,
   "metadata": {},
   "outputs": [
    {
     "name": "stdout",
     "output_type": "stream",
     "text": [
      "number of categories= 3\n"
     ]
    },
    {
     "data": {
      "text/plain": [
       "KruskalResult(statistic=0.024224093970376552, pvalue=0.8763160735548344)"
      ]
     },
     "execution_count": 203,
     "metadata": {},
     "output_type": "execute_result"
    }
   ],
   "source": [
    "from scipy import stats\n",
    "#del str\n",
    "print(\"number of categories= \"+str(len(data_list)))\n",
    "stats.kruskal(data_list[1],data_list[2])"
   ]
  },
  {
   "cell_type": "raw",
   "metadata": {},
   "source": [
    "Since, p is not less than .05, we can not reject the null hpothesis  <br>\n",
    "We can say that \"TATS\" does not depend upon Applying for Credit  <br><br>\n",
    "Let us visualize the median value of \"TATS\" for each category "
   ]
  },
  {
   "cell_type": "markdown",
   "metadata": {},
   "source": [
    "#### Median value of TATS per category"
   ]
  },
  {
   "cell_type": "code",
   "execution_count": 204,
   "metadata": {},
   "outputs": [
    {
     "data": {
      "text/html": [
       "<div>\n",
       "<style scoped>\n",
       "    .dataframe tbody tr th:only-of-type {\n",
       "        vertical-align: middle;\n",
       "    }\n",
       "\n",
       "    .dataframe tbody tr th {\n",
       "        vertical-align: top;\n",
       "    }\n",
       "\n",
       "    .dataframe thead th {\n",
       "        text-align: right;\n",
       "    }\n",
       "</style>\n",
       "<table border=\"1\" class=\"dataframe\">\n",
       "  <thead>\n",
       "    <tr style=\"text-align: right;\">\n",
       "      <th></th>\n",
       "      <th>Applying for Credit</th>\n",
       "      <th>TATS</th>\n",
       "    </tr>\n",
       "  </thead>\n",
       "  <tbody>\n",
       "    <tr>\n",
       "      <th>0</th>\n",
       "      <td>Not Eligible</td>\n",
       "      <td>10.0</td>\n",
       "    </tr>\n",
       "    <tr>\n",
       "      <th>1</th>\n",
       "      <td>Yes</td>\n",
       "      <td>14.0</td>\n",
       "    </tr>\n",
       "    <tr>\n",
       "      <th>2</th>\n",
       "      <td>No</td>\n",
       "      <td>15.0</td>\n",
       "    </tr>\n",
       "  </tbody>\n",
       "</table>\n",
       "</div>"
      ],
      "text/plain": [
       "  Applying for Credit  TATS\n",
       "0        Not Eligible  10.0\n",
       "1                 Yes  14.0\n",
       "2                  No  15.0"
      ]
     },
     "execution_count": 204,
     "metadata": {},
     "output_type": "execute_result"
    }
   ],
   "source": [
    "median_time=df.groupby(categoric).agg({numeric:'median'}).sort_values(numeric).reset_index()\n",
    "median_time\n"
   ]
  },
  {
   "cell_type": "code",
   "execution_count": 206,
   "metadata": {},
   "outputs": [
    {
     "data": {
      "text/plain": [
       "Text(0.5, 1.0, 'Distribution of TATS with Applying for Credit')"
      ]
     },
     "execution_count": 206,
     "metadata": {},
     "output_type": "execute_result"
    },
    {
     "data": {
      "image/png": "[encoded data removed]",
      "text/plain": [
       "<Figure size 432x288 with 1 Axes>"
      ]
     },
     "metadata": {
      "needs_background": "light"
     },
     "output_type": "display_data"
    }
   ],
   "source": [
    "order=['Yes','No','Not Eligible']\n",
    "sns.boxplot(y=categoric, x=numeric, data= df_outlier_adj, order= order)\n",
    "text= \"Distribution of \"+numeric+\" with \"+categoric\n",
    "plt.title(text)"
   ]
  },
  {
   "cell_type": "code",
   "execution_count": 207,
   "metadata": {},
   "outputs": [
    {
     "data": {
      "text/plain": [
       "Text(0.5, 1.0, 'Median value of TATS for each category of Applying for Credit')"
      ]
     },
     "execution_count": 207,
     "metadata": {},
     "output_type": "execute_result"
    },
    {
     "data": {
      "image/png": "[encoded data removed]",
      "text/plain": [
       "<Figure size 432x288 with 1 Axes>"
      ]
     },
     "metadata": {
      "needs_background": "light"
     },
     "output_type": "display_data"
    }
   ],
   "source": [
    "sns.barplot(x= categoric,y= numeric,data= median_time)\n",
    "plt.title('Median value of '+numeric+' for each category of '+categoric)"
   ]
  },
  {
   "cell_type": "markdown",
   "metadata": {},
   "source": [
    "#### Inference\n",
    "Median time spent is independent of whether the customer is applying for credit"
   ]
  },
  {
   "cell_type": "markdown",
   "metadata": {},
   "source": [
    "## 6) Analysis of 'TATS' with 'Country Of Operations'"
   ]
  },
  {
   "cell_type": "code",
   "execution_count": 208,
   "metadata": {},
   "outputs": [],
   "source": [
    "numeric= 'TATS'\n",
    "categoric= 'Country Of Opps'\n",
    "\n",
    "data_list= data_transform(df, numeric= numeric,\n",
    "categorical= categoric)\n",
    "    "
   ]
  },
  {
   "cell_type": "markdown",
   "metadata": {},
   "source": [
    "#### Applying statistical test "
   ]
  },
  {
   "cell_type": "code",
   "execution_count": 209,
   "metadata": {},
   "outputs": [
    {
     "name": "stdout",
     "output_type": "stream",
     "text": [
      "number of categories= 3\n"
     ]
    },
    {
     "data": {
      "text/plain": [
       "KruskalResult(statistic=0.2734211415062469, pvalue=0.6010460196521787)"
      ]
     },
     "execution_count": 209,
     "metadata": {},
     "output_type": "execute_result"
    }
   ],
   "source": [
    "from scipy import stats\n",
    "#del str\n",
    "print(\"number of categories= \"+str(len(data_list)))\n",
    "stats.kruskal(data_list[1],  data_list[2])"
   ]
  },
  {
   "cell_type": "raw",
   "metadata": {},
   "source": [
    "Since, p is not less than .05, we can not reject the null hpothesis  <br>\n",
    "We can say that \"TATS\" does not depend upon the Country of Operations.  <br><br>\n",
    "Let us visualize the median value of \"TATS\" for each category "
   ]
  },
  {
   "cell_type": "markdown",
   "metadata": {},
   "source": [
    "#### Median value of TATS per category"
   ]
  },
  {
   "cell_type": "code",
   "execution_count": 210,
   "metadata": {},
   "outputs": [
    {
     "data": {
      "text/html": [
       "<div>\n",
       "<style scoped>\n",
       "    .dataframe tbody tr th:only-of-type {\n",
       "        vertical-align: middle;\n",
       "    }\n",
       "\n",
       "    .dataframe tbody tr th {\n",
       "        vertical-align: top;\n",
       "    }\n",
       "\n",
       "    .dataframe thead th {\n",
       "        text-align: right;\n",
       "    }\n",
       "</style>\n",
       "<table border=\"1\" class=\"dataframe\">\n",
       "  <thead>\n",
       "    <tr style=\"text-align: right;\">\n",
       "      <th></th>\n",
       "      <th>Country Of Opps</th>\n",
       "      <th>TATS</th>\n",
       "    </tr>\n",
       "  </thead>\n",
       "  <tbody>\n",
       "    <tr>\n",
       "      <th>0</th>\n",
       "      <td>Not IF Focused</td>\n",
       "      <td>4.0</td>\n",
       "    </tr>\n",
       "    <tr>\n",
       "      <th>1</th>\n",
       "      <td>IF Focused</td>\n",
       "      <td>10.0</td>\n",
       "    </tr>\n",
       "    <tr>\n",
       "      <th>2</th>\n",
       "      <td>Flagship</td>\n",
       "      <td>10.5</td>\n",
       "    </tr>\n",
       "  </tbody>\n",
       "</table>\n",
       "</div>"
      ],
      "text/plain": [
       "  Country Of Opps  TATS\n",
       "0  Not IF Focused   4.0\n",
       "1      IF Focused  10.0\n",
       "2        Flagship  10.5"
      ]
     },
     "execution_count": 210,
     "metadata": {},
     "output_type": "execute_result"
    }
   ],
   "source": [
    "median_time=df.groupby(categoric).agg({numeric:'median'}).sort_values(numeric).reset_index()\n",
    "median_time\n"
   ]
  },
  {
   "cell_type": "code",
   "execution_count": 211,
   "metadata": {},
   "outputs": [
    {
     "data": {
      "text/plain": [
       "Text(0.5, 1.0, 'Distribution of TATS with Country Of Opps')"
      ]
     },
     "execution_count": 211,
     "metadata": {},
     "output_type": "execute_result"
    },
    {
     "data": {
      "image/png": "[encoded data removed]",
      "text/plain": [
       "<Figure size 432x288 with 1 Axes>"
      ]
     },
     "metadata": {
      "needs_background": "light"
     },
     "output_type": "display_data"
    }
   ],
   "source": [
    "\n",
    "sns.boxplot(y=categoric, x=numeric, data= df_outlier_adj)\n",
    "text= \"Distribution of \"+numeric+\" with \"+categoric\n",
    "plt.title(text)"
   ]
  },
  {
   "cell_type": "code",
   "execution_count": 212,
   "metadata": {},
   "outputs": [
    {
     "data": {
      "text/plain": [
       "Text(0.5, 1.0, 'Median value of TATS for each category of Country Of Opps')"
      ]
     },
     "execution_count": 212,
     "metadata": {},
     "output_type": "execute_result"
    },
    {
     "data": {
      "image/png": "[encoded data removed]",
      "text/plain": [
       "<Figure size 432x288 with 1 Axes>"
      ]
     },
     "metadata": {
      "needs_background": "light"
     },
     "output_type": "display_data"
    }
   ],
   "source": [
    "sns.barplot(x= categoric,y= numeric,data= median_time)\n",
    "plt.title('Median value of '+numeric+' for each category of '+categoric)"
   ]
  },
  {
   "cell_type": "markdown",
   "metadata": {},
   "source": [
    "#### Inference\n",
    "Median time spent is for a 'not IF Focused' is less than others"
   ]
  },
  {
   "cell_type": "markdown",
   "metadata": {},
   "source": [
    "## 7) Analysis of 'TATS' with 'Score'"
   ]
  },
  {
   "cell_type": "code",
   "execution_count": 213,
   "metadata": {},
   "outputs": [],
   "source": [
    "numeric1= 'TATS'\n",
    "numeric2= 'Score'"
   ]
  },
  {
   "cell_type": "markdown",
   "metadata": {},
   "source": [
    "#### Visually exploring the relationship between both variables\n"
   ]
  },
  {
   "cell_type": "code",
   "execution_count": 214,
   "metadata": {},
   "outputs": [
    {
     "data": {
      "text/plain": [
       "<seaborn.axisgrid.FacetGrid at 0x297debb89c8>"
      ]
     },
     "execution_count": 214,
     "metadata": {},
     "output_type": "execute_result"
    },
    {
     "data": {
      "image/png": "[encoded data removed]",
      "text/plain": [
       "<Figure size 360x360 with 1 Axes>"
      ]
     },
     "metadata": {
      "needs_background": "light"
     },
     "output_type": "display_data"
    }
   ],
   "source": [
    "sns.lmplot(x= numeric2, y=numeric1, data= df)\n"
   ]
  },
  {
   "cell_type": "markdown",
   "metadata": {},
   "source": [
    "Quantifying the relationship through correlation coefficient"
   ]
  },
  {
   "cell_type": "code",
   "execution_count": 215,
   "metadata": {},
   "outputs": [
    {
     "data": {
      "text/plain": [
       "(0.17848575162250502, 0.10428830271833621)"
      ]
     },
     "execution_count": 215,
     "metadata": {},
     "output_type": "execute_result"
    }
   ],
   "source": [
    "stats.pearsonr(df[numeric1],df[numeric2])"
   ]
  },
  {
   "cell_type": "markdown",
   "metadata": {},
   "source": [
    "Since, p is not less than .05, we can not reject the null hpothesis  \n",
    "\n",
    "Both the variables are not significantly correlated"
   ]
  },
  {
   "cell_type": "markdown",
   "metadata": {},
   "source": [
    "#### Inference\n",
    "Increasing Score mildly correlates with increasing TATS"
   ]
  },
  {
   "cell_type": "markdown",
   "metadata": {},
   "source": [
    "## 8) Analysis of 'TATS' with 'Amount'"
   ]
  },
  {
   "cell_type": "code",
   "execution_count": 216,
   "metadata": {},
   "outputs": [],
   "source": [
    "numeric1= 'TATS'\n",
    "numeric2= 'Amount'"
   ]
  },
  {
   "cell_type": "markdown",
   "metadata": {},
   "source": [
    "#### Visually exploring the relationship between both variables\n"
   ]
  },
  {
   "cell_type": "code",
   "execution_count": 217,
   "metadata": {},
   "outputs": [
    {
     "data": {
      "text/plain": [
       "<seaborn.axisgrid.FacetGrid at 0x297dec2b908>"
      ]
     },
     "execution_count": 217,
     "metadata": {},
     "output_type": "execute_result"
    },
    {
     "data": {
      "image/png": "[encoded data removed]",
      "text/plain": [
       "<Figure size 360x360 with 1 Axes>"
      ]
     },
     "metadata": {
      "needs_background": "light"
     },
     "output_type": "display_data"
    }
   ],
   "source": [
    "\n",
    "sns.lmplot(x= numeric1, y=numeric2, data= df)\n"
   ]
  },
  {
   "cell_type": "markdown",
   "metadata": {},
   "source": [
    "Quantifying the relationship through correlation coefficient"
   ]
  },
  {
   "cell_type": "code",
   "execution_count": 218,
   "metadata": {},
   "outputs": [
    {
     "data": {
      "text/plain": [
       "(0.15866738088383175, 0.1545120506764831)"
      ]
     },
     "execution_count": 218,
     "metadata": {},
     "output_type": "execute_result"
    }
   ],
   "source": [
    "df_na_removed= df[[numeric1,numeric2]].dropna(axis=0)\n",
    "stats.pearsonr(df_na_removed[numeric1],df_na_removed[numeric2])\n"
   ]
  },
  {
   "cell_type": "markdown",
   "metadata": {},
   "source": [
    "Since, p is not less than .05, we can not reject the null hpothesis <br> \n",
    "Both the variables are not correlated \n",
    "\n",
    "Correlation coefficient is just .158"
   ]
  },
  {
   "cell_type": "markdown",
   "metadata": {},
   "source": [
    "#### Inference\n",
    "Time spent and amount is independent"
   ]
  }
 ],
 "metadata": {
  "kernelspec": {
   "display_name": "Python 3",
   "language": "python",
   "name": "python3"
  },
  "language_info": {
   "codemirror_mode": {
    "name": "ipython",
    "version": 3
   },
   "file_extension": ".py",
   "mimetype": "text/x-python",
   "name": "python",
   "nbconvert_exporter": "python",
   "pygments_lexer": "ipython3",
   "version": "3.7.7"
  }
 },
 "nbformat": 4,
 "nbformat_minor": 4
}
