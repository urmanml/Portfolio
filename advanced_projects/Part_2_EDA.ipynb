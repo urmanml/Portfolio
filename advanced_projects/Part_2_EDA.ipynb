{
 "cells": [
  {
   "cell_type": "markdown",
   "metadata": {},
   "source": [
    "***\n",
    "## Part 2: Exploratory Data Analysis\n",
    "***\n",
    "  - Exploring relationship between Categorical valiables and numeric target variable\n",
    "  - Exploring relationship between numeric valiables and numeric target variable\n",
    "  - Validating the relationship using statistical tests and visualizations "
   ]
  },
  {
   "cell_type": "code",
   "execution_count": 2,
   "metadata": {},
   "outputs": [],
   "source": [
    "import pandas as pd, numpy as np\n",
    "from IPython.core.interactiveshell import InteractiveShell\n",
    "InteractiveShell.ast_node_interactivity = \"all\"\n",
    "import joblib\n",
    "import matplotlib.pyplot as plt, seaborn as sns"
   ]
  },
  {
   "cell_type": "code",
   "execution_count": 3,
   "metadata": {},
   "outputs": [],
   "source": [
    "#loading data\n",
    "df= joblib.load(\"D:\\\\Python WD\\\\codebase\\\\model_objects\\\\dataset_feature_engineered\")"
   ]
  },
  {
   "cell_type": "code",
   "execution_count": 265,
   "metadata": {},
   "outputs": [
    {
     "name": "stdout",
     "output_type": "stream",
     "text": [
      "sample data\n"
     ]
    },
    {
     "data": {
      "text/html": [
       "<div>\n",
       "<style scoped>\n",
       "    .dataframe tbody tr th:only-of-type {\n",
       "        vertical-align: middle;\n",
       "    }\n",
       "\n",
       "    .dataframe tbody tr th {\n",
       "        vertical-align: top;\n",
       "    }\n",
       "\n",
       "    .dataframe thead th {\n",
       "        text-align: right;\n",
       "    }\n",
       "</style>\n",
       "<table border=\"1\" class=\"dataframe\">\n",
       "  <thead>\n",
       "    <tr style=\"text-align: right;\">\n",
       "      <th></th>\n",
       "      <th>patient_id</th>\n",
       "      <th>date_of_admission</th>\n",
       "      <th>date_of_discharge</th>\n",
       "      <th>medical_history_1</th>\n",
       "      <th>medical_history_2</th>\n",
       "      <th>medical_history_3</th>\n",
       "      <th>medical_history_4</th>\n",
       "      <th>medical_history_5</th>\n",
       "      <th>medical_history_6</th>\n",
       "      <th>medical_history_7</th>\n",
       "      <th>...</th>\n",
       "      <th>race</th>\n",
       "      <th>resident_status</th>\n",
       "      <th>date_of_birth</th>\n",
       "      <th>amount</th>\n",
       "      <th>age_at_admission</th>\n",
       "      <th>age_band</th>\n",
       "      <th>bmi</th>\n",
       "      <th>duration_of_stay</th>\n",
       "      <th>count_of_medical_history</th>\n",
       "      <th>bmi_band</th>\n",
       "    </tr>\n",
       "  </thead>\n",
       "  <tbody>\n",
       "    <tr>\n",
       "      <th>0</th>\n",
       "      <td>1d21f2be18683991eb93d182d6b2d220</td>\n",
       "      <td>2011-01-01</td>\n",
       "      <td>2011-01-11</td>\n",
       "      <td>0</td>\n",
       "      <td>1</td>\n",
       "      <td>0</td>\n",
       "      <td>0</td>\n",
       "      <td>0</td>\n",
       "      <td>0</td>\n",
       "      <td>0</td>\n",
       "      <td>...</td>\n",
       "      <td>Indian</td>\n",
       "      <td>Singaporean</td>\n",
       "      <td>1976-12-19</td>\n",
       "      <td>15405.42</td>\n",
       "      <td>34.0</td>\n",
       "      <td>middle_aged</td>\n",
       "      <td>27.51</td>\n",
       "      <td>10</td>\n",
       "      <td>1</td>\n",
       "      <td>overweight</td>\n",
       "    </tr>\n",
       "    <tr>\n",
       "      <th>1</th>\n",
       "      <td>62bdca0b95d97e99e1c712048fb9fd09</td>\n",
       "      <td>2011-01-01</td>\n",
       "      <td>2011-01-11</td>\n",
       "      <td>0</td>\n",
       "      <td>0</td>\n",
       "      <td>0</td>\n",
       "      <td>0</td>\n",
       "      <td>0</td>\n",
       "      <td>0</td>\n",
       "      <td>0</td>\n",
       "      <td>...</td>\n",
       "      <td>Malay</td>\n",
       "      <td>Singaporean</td>\n",
       "      <td>1978-07-20</td>\n",
       "      <td>23303.00</td>\n",
       "      <td>32.0</td>\n",
       "      <td>middle_aged</td>\n",
       "      <td>30.62</td>\n",
       "      <td>10</td>\n",
       "      <td>0</td>\n",
       "      <td>obese</td>\n",
       "    </tr>\n",
       "    <tr>\n",
       "      <th>2</th>\n",
       "      <td>c85cf97bc6307ded0dd4fef8bad2fa09</td>\n",
       "      <td>2011-01-02</td>\n",
       "      <td>2011-01-13</td>\n",
       "      <td>0</td>\n",
       "      <td>0</td>\n",
       "      <td>0</td>\n",
       "      <td>0</td>\n",
       "      <td>0</td>\n",
       "      <td>0</td>\n",
       "      <td>0</td>\n",
       "      <td>...</td>\n",
       "      <td>Indian</td>\n",
       "      <td>Singaporean</td>\n",
       "      <td>1967-08-14</td>\n",
       "      <td>16813.12</td>\n",
       "      <td>43.0</td>\n",
       "      <td>middle_aged</td>\n",
       "      <td>31.58</td>\n",
       "      <td>11</td>\n",
       "      <td>0</td>\n",
       "      <td>obese</td>\n",
       "    </tr>\n",
       "    <tr>\n",
       "      <th>3</th>\n",
       "      <td>e0397dd72caf4552c5babebd3d61736c</td>\n",
       "      <td>2011-01-02</td>\n",
       "      <td>2011-01-14</td>\n",
       "      <td>0</td>\n",
       "      <td>1</td>\n",
       "      <td>0</td>\n",
       "      <td>0</td>\n",
       "      <td>0</td>\n",
       "      <td>1</td>\n",
       "      <td>1</td>\n",
       "      <td>...</td>\n",
       "      <td>Chinese</td>\n",
       "      <td>PR</td>\n",
       "      <td>1967-12-06</td>\n",
       "      <td>27994.88</td>\n",
       "      <td>43.0</td>\n",
       "      <td>middle_aged</td>\n",
       "      <td>27.87</td>\n",
       "      <td>12</td>\n",
       "      <td>3</td>\n",
       "      <td>overweight</td>\n",
       "    </tr>\n",
       "    <tr>\n",
       "      <th>4</th>\n",
       "      <td>94ade3cd5f66f4584902554dff170a29</td>\n",
       "      <td>2011-01-08</td>\n",
       "      <td>2011-01-16</td>\n",
       "      <td>0</td>\n",
       "      <td>0</td>\n",
       "      <td>0</td>\n",
       "      <td>0</td>\n",
       "      <td>0</td>\n",
       "      <td>1</td>\n",
       "      <td>1</td>\n",
       "      <td>...</td>\n",
       "      <td>Others</td>\n",
       "      <td>PR</td>\n",
       "      <td>1982-07-18</td>\n",
       "      <td>10707.95</td>\n",
       "      <td>28.0</td>\n",
       "      <td>young_aged</td>\n",
       "      <td>21.72</td>\n",
       "      <td>8</td>\n",
       "      <td>2</td>\n",
       "      <td>normal</td>\n",
       "    </tr>\n",
       "  </tbody>\n",
       "</table>\n",
       "<p>5 rows × 37 columns</p>\n",
       "</div>"
      ],
      "text/plain": [
       "                         patient_id date_of_admission date_of_discharge  \\\n",
       "0  1d21f2be18683991eb93d182d6b2d220        2011-01-01        2011-01-11   \n",
       "1  62bdca0b95d97e99e1c712048fb9fd09        2011-01-01        2011-01-11   \n",
       "2  c85cf97bc6307ded0dd4fef8bad2fa09        2011-01-02        2011-01-13   \n",
       "3  e0397dd72caf4552c5babebd3d61736c        2011-01-02        2011-01-14   \n",
       "4  94ade3cd5f66f4584902554dff170a29        2011-01-08        2011-01-16   \n",
       "\n",
       "   medical_history_1  medical_history_2  medical_history_3  medical_history_4  \\\n",
       "0                  0                  1                  0                  0   \n",
       "1                  0                  0                  0                  0   \n",
       "2                  0                  0                  0                  0   \n",
       "3                  0                  1                  0                  0   \n",
       "4                  0                  0                  0                  0   \n",
       "\n",
       "   medical_history_5  medical_history_6  medical_history_7  ...     race  \\\n",
       "0                  0                  0                  0  ...   Indian   \n",
       "1                  0                  0                  0  ...    Malay   \n",
       "2                  0                  0                  0  ...   Indian   \n",
       "3                  0                  1                  1  ...  Chinese   \n",
       "4                  0                  1                  1  ...   Others   \n",
       "\n",
       "   resident_status  date_of_birth    amount  age_at_admission     age_band  \\\n",
       "0      Singaporean     1976-12-19  15405.42              34.0  middle_aged   \n",
       "1      Singaporean     1978-07-20  23303.00              32.0  middle_aged   \n",
       "2      Singaporean     1967-08-14  16813.12              43.0  middle_aged   \n",
       "3               PR     1967-12-06  27994.88              43.0  middle_aged   \n",
       "4               PR     1982-07-18  10707.95              28.0   young_aged   \n",
       "\n",
       "     bmi  duration_of_stay  count_of_medical_history    bmi_band  \n",
       "0  27.51                10                         1  overweight  \n",
       "1  30.62                10                         0       obese  \n",
       "2  31.58                11                         0       obese  \n",
       "3  27.87                12                         3  overweight  \n",
       "4  21.72                 8                         2      normal  \n",
       "\n",
       "[5 rows x 37 columns]"
      ]
     },
     "execution_count": 265,
     "metadata": {},
     "output_type": "execute_result"
    }
   ],
   "source": [
    "print('sample data')\n",
    "df.head(5)"
   ]
  },
  {
   "cell_type": "code",
   "execution_count": 270,
   "metadata": {},
   "outputs": [],
   "source": [
    "#outlier adjusting the data for better visualization of box plots wherever required\n",
    "df_outlier_adj= df\n",
    "numeric= 'amount'\n",
    "df_outlier_adj.loc[df[numeric]> df[numeric].quantile(0.95),numeric]=df[numeric].quantile(0.95)"
   ]
  },
  {
   "cell_type": "code",
   "execution_count": 271,
   "metadata": {},
   "outputs": [],
   "source": [
    "#data preparation function for appying statistical analysis\n",
    "def data_transform(df, numeric, categorical):\n",
    "    df[categorical]= df[categorical].astype('category')\n",
    "    category_list= df[categorical].cat.categories.tolist()\n",
    "    data_list=[]\n",
    "    \n",
    "    for c in category_list:\n",
    "        data_list.append(df[df[categorical]==c][numeric])\n",
    "    \n",
    "    return data_list"
   ]
  },
  {
   "cell_type": "markdown",
   "metadata": {},
   "source": [
    "## 1) Analysis of 'amount' with 'gender'"
   ]
  },
  {
   "cell_type": "code",
   "execution_count": 272,
   "metadata": {},
   "outputs": [],
   "source": [
    "\n",
    "numeric= 'amount'\n",
    "categoric= 'gender'\n",
    "\n",
    "data_list= data_transform(df, numeric= numeric,\n",
    "categorical= categoric)\n",
    "    \n",
    "    "
   ]
  },
  {
   "cell_type": "markdown",
   "metadata": {},
   "source": [
    "#### Applying statistical test \n",
    "We apply The **Kruskal-Wallis H-test**<br>\n",
    "The Kruskal-Wallis H-test tests the null hypothesis that the *population\n",
    "median of all of the groups are equal*.  It is a non-parametric version of\n",
    "ANOVA"
   ]
  },
  {
   "cell_type": "code",
   "execution_count": 273,
   "metadata": {},
   "outputs": [
    {
     "name": "stdout",
     "output_type": "stream",
     "text": [
      "number of categories= 2\n"
     ]
    },
    {
     "data": {
      "text/plain": [
       "KruskalResult(statistic=13.763832733925032, pvalue=0.00020728873734852818)"
      ]
     },
     "execution_count": 273,
     "metadata": {},
     "output_type": "execute_result"
    }
   ],
   "source": [
    "from scipy import stats\n",
    "print(\"number of categories= \"+str(len(data_list)))\n",
    "stats.kruskal(data_list[0],data_list[1])"
   ]
  },
  {
   "cell_type": "markdown",
   "metadata": {},
   "source": [
    "**Since, p is less than .05, we can reject the null hpothesis<br>  We can say that \"amount\" does  depend upon gender** <br> \n",
    "Let us study the relationship of median value of \"amount\" for each category  "
   ]
  },
  {
   "cell_type": "markdown",
   "metadata": {},
   "source": [
    "#### Median value of amount per category"
   ]
  },
  {
   "cell_type": "code",
   "execution_count": 285,
   "metadata": {},
   "outputs": [
    {
     "name": "stdout",
     "output_type": "stream",
     "text": [
      "Median amount in each category\n"
     ]
    },
    {
     "data": {
      "text/html": [
       "<div>\n",
       "<style scoped>\n",
       "    .dataframe tbody tr th:only-of-type {\n",
       "        vertical-align: middle;\n",
       "    }\n",
       "\n",
       "    .dataframe tbody tr th {\n",
       "        vertical-align: top;\n",
       "    }\n",
       "\n",
       "    .dataframe thead th {\n",
       "        text-align: right;\n",
       "    }\n",
       "</style>\n",
       "<table border=\"1\" class=\"dataframe\">\n",
       "  <thead>\n",
       "    <tr style=\"text-align: right;\">\n",
       "      <th></th>\n",
       "      <th>race</th>\n",
       "      <th>amount</th>\n",
       "    </tr>\n",
       "  </thead>\n",
       "  <tbody>\n",
       "    <tr>\n",
       "      <th>0</th>\n",
       "      <td>Malay</td>\n",
       "      <td>27549.440</td>\n",
       "    </tr>\n",
       "    <tr>\n",
       "      <th>1</th>\n",
       "      <td>Indian</td>\n",
       "      <td>22742.295</td>\n",
       "    </tr>\n",
       "    <tr>\n",
       "      <th>2</th>\n",
       "      <td>Others</td>\n",
       "      <td>19777.220</td>\n",
       "    </tr>\n",
       "    <tr>\n",
       "      <th>3</th>\n",
       "      <td>Chinese</td>\n",
       "      <td>17978.185</td>\n",
       "    </tr>\n",
       "  </tbody>\n",
       "</table>\n",
       "</div>"
      ],
      "text/plain": [
       "      race     amount\n",
       "0    Malay  27549.440\n",
       "1   Indian  22742.295\n",
       "2   Others  19777.220\n",
       "3  Chinese  17978.185"
      ]
     },
     "execution_count": 285,
     "metadata": {},
     "output_type": "execute_result"
    },
    {
     "name": "stdout",
     "output_type": "stream",
     "text": [
      "Mean amount and count in each category\n"
     ]
    },
    {
     "data": {
      "text/html": [
       "<div>\n",
       "<style scoped>\n",
       "    .dataframe tbody tr th:only-of-type {\n",
       "        vertical-align: middle;\n",
       "    }\n",
       "\n",
       "    .dataframe tbody tr th {\n",
       "        vertical-align: top;\n",
       "    }\n",
       "\n",
       "    .dataframe thead th {\n",
       "        text-align: right;\n",
       "    }\n",
       "</style>\n",
       "<table border=\"1\" class=\"dataframe\">\n",
       "  <thead>\n",
       "    <tr style=\"text-align: right;\">\n",
       "      <th></th>\n",
       "      <th>race</th>\n",
       "      <th>mean_amount</th>\n",
       "      <th>count</th>\n",
       "    </tr>\n",
       "  </thead>\n",
       "  <tbody>\n",
       "    <tr>\n",
       "      <th>0</th>\n",
       "      <td>Chinese</td>\n",
       "      <td>18950.273627</td>\n",
       "      <td>2166</td>\n",
       "    </tr>\n",
       "    <tr>\n",
       "      <th>1</th>\n",
       "      <td>Indian</td>\n",
       "      <td>23329.923284</td>\n",
       "      <td>344</td>\n",
       "    </tr>\n",
       "    <tr>\n",
       "      <th>2</th>\n",
       "      <td>Malay</td>\n",
       "      <td>27897.635332</td>\n",
       "      <td>707</td>\n",
       "    </tr>\n",
       "    <tr>\n",
       "      <th>3</th>\n",
       "      <td>Others</td>\n",
       "      <td>20800.376583</td>\n",
       "      <td>183</td>\n",
       "    </tr>\n",
       "  </tbody>\n",
       "</table>\n",
       "</div>"
      ],
      "text/plain": [
       "      race   mean_amount  count\n",
       "0  Chinese  18950.273627   2166\n",
       "1   Indian  23329.923284    344\n",
       "2    Malay  27897.635332    707\n",
       "3   Others  20800.376583    183"
      ]
     },
     "execution_count": 285,
     "metadata": {},
     "output_type": "execute_result"
    }
   ],
   "source": [
    "print(\"Median amount in each category\")\n",
    "median_amount=df.groupby(categoric).agg({numeric:'median'}).sort_values(numeric,ascending=False).reset_index()\n",
    "median_amount\n",
    "print(\"Mean amount and count in each category\")\n",
    "mean_amount=df.groupby(categoric).agg({numeric:['mean','count']}).reset_index()\n",
    "mean_amount.columns=[categoric, 'mean_'+numeric,'count']\n",
    "mean_amount"
   ]
  },
  {
   "cell_type": "code",
   "execution_count": 276,
   "metadata": {},
   "outputs": [
    {
     "data": {
      "text/plain": [
       "<matplotlib.axes._subplots.AxesSubplot at 0x1679ad1e888>"
      ]
     },
     "execution_count": 276,
     "metadata": {},
     "output_type": "execute_result"
    },
    {
     "data": {
      "text/plain": [
       "Text(0.5, 1.0, 'Distribution of amount with gender')"
      ]
     },
     "execution_count": 276,
     "metadata": {},
     "output_type": "execute_result"
    },
    {
     "data": {
      "image/png": "[encoded data removed]",
      "text/plain": [
       "<Figure size 432x288 with 1 Axes>"
      ]
     },
     "metadata": {
      "needs_background": "light"
     },
     "output_type": "display_data"
    }
   ],
   "source": [
    "sns.boxplot(y=categoric, x=numeric, data= df)\n",
    "text= \"Distribution of \"+numeric+\" with \"+categoric\n",
    "plt.title(text)\n"
   ]
  },
  {
   "cell_type": "code",
   "execution_count": 279,
   "metadata": {},
   "outputs": [
    {
     "data": {
      "text/plain": [
       "<matplotlib.axes._subplots.AxesSubplot at 0x1679b416288>"
      ]
     },
     "execution_count": 279,
     "metadata": {},
     "output_type": "execute_result"
    },
    {
     "data": {
      "text/plain": [
       "Text(0.5, 1.0, 'Count of patients for each category of gender')"
      ]
     },
     "execution_count": 279,
     "metadata": {},
     "output_type": "execute_result"
    },
    {
     "data": {
      "image/png": "[encoded data removed]",
      "text/plain": [
       "<Figure size 432x288 with 1 Axes>"
      ]
     },
     "metadata": {
      "needs_background": "light"
     },
     "output_type": "display_data"
    }
   ],
   "source": [
    "sns.barplot(x= categoric,y= 'count',data= mean_amount)\n",
    "plt.title('Count of patients for each category of '+categoric)"
   ]
  },
  {
   "cell_type": "code",
   "execution_count": 280,
   "metadata": {},
   "outputs": [
    {
     "data": {
      "text/plain": [
       "<matplotlib.axes._subplots.AxesSubplot at 0x1679b5e8548>"
      ]
     },
     "execution_count": 280,
     "metadata": {},
     "output_type": "execute_result"
    },
    {
     "data": {
      "text/plain": [
       "<matplotlib.axes._subplots.AxesSubplot at 0x1679b5e8548>"
      ]
     },
     "execution_count": 280,
     "metadata": {},
     "output_type": "execute_result"
    },
    {
     "data": {
      "text/plain": [
       "<matplotlib.legend.Legend at 0x1679b5e8108>"
      ]
     },
     "execution_count": 280,
     "metadata": {},
     "output_type": "execute_result"
    },
    {
     "data": {
      "text/plain": [
       "Text(0.5, 1.0, 'distribution of amount for each gender')"
      ]
     },
     "execution_count": 280,
     "metadata": {},
     "output_type": "execute_result"
    },
    {
     "data": {
      "image/png": "[encoded data removed]",
      "text/plain": [
       "<Figure size 432x288 with 1 Axes>"
      ]
     },
     "metadata": {
      "needs_background": "light"
     },
     "output_type": "display_data"
    }
   ],
   "source": [
    "sns.distplot(df[df.gender=='Male']['amount'],hist=False, rug=True)\n",
    "sns.distplot(df[df.gender=='Female']['amount'], hist=False, rug=True)\n",
    "plt.legend(df[categoric].cat.categories.to_list())\n",
    "plt.title('distribution of '+ numeric+ ' for each '+categoric)\n"
   ]
  },
  {
   "cell_type": "markdown",
   "metadata": {},
   "source": [
    "#### Inference\n",
    "- **Median amount has statistically significant difference for different gender category. Males spend 1500 more as a general tendency**\n",
    "- **Distribution of Male and Female patients is same in the sample but all Males spend slightly higher amount in total**"
   ]
  },
  {
   "cell_type": "markdown",
   "metadata": {},
   "source": [
    "## 2) Analysis of 'amount' with 'race'"
   ]
  },
  {
   "cell_type": "code",
   "execution_count": 287,
   "metadata": {},
   "outputs": [],
   "source": [
    "numeric= 'amount'\n",
    "categoric= 'race'\n",
    "\n",
    "data_list= data_transform(df, numeric= numeric,\n",
    "categorical= categoric)\n",
    "    "
   ]
  },
  {
   "cell_type": "markdown",
   "metadata": {},
   "source": [
    "#### Applying statistical test "
   ]
  },
  {
   "cell_type": "code",
   "execution_count": 288,
   "metadata": {},
   "outputs": [
    {
     "name": "stdout",
     "output_type": "stream",
     "text": [
      "number of categories= 4\n"
     ]
    },
    {
     "data": {
      "text/plain": [
       "KruskalResult(statistic=554.7185817316944, pvalue=6.593981043180389e-120)"
      ]
     },
     "execution_count": 288,
     "metadata": {},
     "output_type": "execute_result"
    }
   ],
   "source": [
    "from scipy import stats\n",
    "print(\"number of categories= \"+str(len(data_list)))\n",
    "stats.kruskal(data_list[0],data_list[1],data_list[2],data_list[3])"
   ]
  },
  {
   "cell_type": "markdown",
   "metadata": {},
   "source": [
    "#### Interpretation of statistical test\n",
    "**Since, p is less than .05, we can reject the null hpothesis<br>\n",
    "Therefore, population median of all groups are not equal**\n",
    "  <br>\n",
    "We can say that \"amount\" does depends upon the race    <br>\n",
    "\n",
    "Let us study the relationship of median value of \"amount\" for each category"
   ]
  },
  {
   "cell_type": "markdown",
   "metadata": {},
   "source": [
    "#### Median value of amount per category"
   ]
  },
  {
   "cell_type": "code",
   "execution_count": 289,
   "metadata": {},
   "outputs": [
    {
     "name": "stdout",
     "output_type": "stream",
     "text": [
      "Median amount\n"
     ]
    },
    {
     "data": {
      "text/html": [
       "<div>\n",
       "<style scoped>\n",
       "    .dataframe tbody tr th:only-of-type {\n",
       "        vertical-align: middle;\n",
       "    }\n",
       "\n",
       "    .dataframe tbody tr th {\n",
       "        vertical-align: top;\n",
       "    }\n",
       "\n",
       "    .dataframe thead th {\n",
       "        text-align: right;\n",
       "    }\n",
       "</style>\n",
       "<table border=\"1\" class=\"dataframe\">\n",
       "  <thead>\n",
       "    <tr style=\"text-align: right;\">\n",
       "      <th></th>\n",
       "      <th>race</th>\n",
       "      <th>amount</th>\n",
       "    </tr>\n",
       "  </thead>\n",
       "  <tbody>\n",
       "    <tr>\n",
       "      <th>0</th>\n",
       "      <td>Malay</td>\n",
       "      <td>27549.440</td>\n",
       "    </tr>\n",
       "    <tr>\n",
       "      <th>1</th>\n",
       "      <td>Indian</td>\n",
       "      <td>22742.295</td>\n",
       "    </tr>\n",
       "    <tr>\n",
       "      <th>2</th>\n",
       "      <td>Others</td>\n",
       "      <td>19777.220</td>\n",
       "    </tr>\n",
       "    <tr>\n",
       "      <th>3</th>\n",
       "      <td>Chinese</td>\n",
       "      <td>17978.185</td>\n",
       "    </tr>\n",
       "  </tbody>\n",
       "</table>\n",
       "</div>"
      ],
      "text/plain": [
       "      race     amount\n",
       "0    Malay  27549.440\n",
       "1   Indian  22742.295\n",
       "2   Others  19777.220\n",
       "3  Chinese  17978.185"
      ]
     },
     "execution_count": 289,
     "metadata": {},
     "output_type": "execute_result"
    },
    {
     "name": "stdout",
     "output_type": "stream",
     "text": [
      "Mean amount and count in each category\n"
     ]
    },
    {
     "data": {
      "text/html": [
       "<div>\n",
       "<style scoped>\n",
       "    .dataframe tbody tr th:only-of-type {\n",
       "        vertical-align: middle;\n",
       "    }\n",
       "\n",
       "    .dataframe tbody tr th {\n",
       "        vertical-align: top;\n",
       "    }\n",
       "\n",
       "    .dataframe thead th {\n",
       "        text-align: right;\n",
       "    }\n",
       "</style>\n",
       "<table border=\"1\" class=\"dataframe\">\n",
       "  <thead>\n",
       "    <tr style=\"text-align: right;\">\n",
       "      <th></th>\n",
       "      <th>race</th>\n",
       "      <th>mean_amount</th>\n",
       "      <th>count</th>\n",
       "    </tr>\n",
       "  </thead>\n",
       "  <tbody>\n",
       "    <tr>\n",
       "      <th>0</th>\n",
       "      <td>Chinese</td>\n",
       "      <td>18950.273627</td>\n",
       "      <td>2166</td>\n",
       "    </tr>\n",
       "    <tr>\n",
       "      <th>1</th>\n",
       "      <td>Indian</td>\n",
       "      <td>23329.923284</td>\n",
       "      <td>344</td>\n",
       "    </tr>\n",
       "    <tr>\n",
       "      <th>2</th>\n",
       "      <td>Malay</td>\n",
       "      <td>27897.635332</td>\n",
       "      <td>707</td>\n",
       "    </tr>\n",
       "    <tr>\n",
       "      <th>3</th>\n",
       "      <td>Others</td>\n",
       "      <td>20800.376583</td>\n",
       "      <td>183</td>\n",
       "    </tr>\n",
       "  </tbody>\n",
       "</table>\n",
       "</div>"
      ],
      "text/plain": [
       "      race   mean_amount  count\n",
       "0  Chinese  18950.273627   2166\n",
       "1   Indian  23329.923284    344\n",
       "2    Malay  27897.635332    707\n",
       "3   Others  20800.376583    183"
      ]
     },
     "execution_count": 289,
     "metadata": {},
     "output_type": "execute_result"
    }
   ],
   "source": [
    "print(\"Median amount\")\n",
    "median_amount=df.groupby(categoric).agg({numeric:'median'}).sort_values(numeric,ascending=False).reset_index()\n",
    "median_amount\n",
    "print(\"Mean amount and count in each category\")\n",
    "mean_amount=df.groupby(categoric).agg({numeric:['mean','count']}).reset_index()\n",
    "mean_amount.columns=[categoric, 'mean_'+numeric,'count']\n",
    "mean_amount"
   ]
  },
  {
   "cell_type": "code",
   "execution_count": 290,
   "metadata": {},
   "outputs": [
    {
     "data": {
      "text/plain": [
       "<matplotlib.axes._subplots.AxesSubplot at 0x1679b866c08>"
      ]
     },
     "execution_count": 290,
     "metadata": {},
     "output_type": "execute_result"
    },
    {
     "data": {
      "text/plain": [
       "Text(0.5, 1.0, 'Distribution of amount with race')"
      ]
     },
     "execution_count": 290,
     "metadata": {},
     "output_type": "execute_result"
    },
    {
     "data": {
      "image/png": "[encoded data removed]",
      "text/plain": [
       "<Figure size 432x288 with 1 Axes>"
      ]
     },
     "metadata": {
      "needs_background": "light"
     },
     "output_type": "display_data"
    }
   ],
   "source": [
    "sns.boxplot(y=categoric, x=numeric, data= df_outlier_adj)\n",
    "text= \"Distribution of \"+numeric+\" with \"+categoric\n",
    "plt.title(text)"
   ]
  },
  {
   "cell_type": "code",
   "execution_count": 292,
   "metadata": {},
   "outputs": [
    {
     "data": {
      "text/plain": [
       "<matplotlib.axes._subplots.AxesSubplot at 0x1679d026488>"
      ]
     },
     "execution_count": 292,
     "metadata": {},
     "output_type": "execute_result"
    },
    {
     "data": {
      "text/plain": [
       "Text(0.5, 1.0, 'Count of patients for each category of race')"
      ]
     },
     "execution_count": 292,
     "metadata": {},
     "output_type": "execute_result"
    },
    {
     "data": {
      "image/png": "[encoded data removed]",
      "text/plain": [
       "<Figure size 432x288 with 1 Axes>"
      ]
     },
     "metadata": {
      "needs_background": "light"
     },
     "output_type": "display_data"
    }
   ],
   "source": [
    "sns.barplot(x= categoric,y= 'count',data= mean_amount)\n",
    "plt.title('Count of patients for each category of '+categoric)"
   ]
  },
  {
   "cell_type": "code",
   "execution_count": 296,
   "metadata": {},
   "outputs": [
    {
     "data": {
      "text/plain": [
       "<matplotlib.axes._subplots.AxesSubplot at 0x1679d0a4948>"
      ]
     },
     "execution_count": 296,
     "metadata": {},
     "output_type": "execute_result"
    },
    {
     "data": {
      "text/plain": [
       "<matplotlib.axes._subplots.AxesSubplot at 0x1679d0a4948>"
      ]
     },
     "execution_count": 296,
     "metadata": {},
     "output_type": "execute_result"
    },
    {
     "data": {
      "text/plain": [
       "<matplotlib.axes._subplots.AxesSubplot at 0x1679d0a4948>"
      ]
     },
     "execution_count": 296,
     "metadata": {},
     "output_type": "execute_result"
    },
    {
     "data": {
      "text/plain": [
       "<matplotlib.axes._subplots.AxesSubplot at 0x1679d0a4948>"
      ]
     },
     "execution_count": 296,
     "metadata": {},
     "output_type": "execute_result"
    },
    {
     "data": {
      "text/plain": [
       "<matplotlib.legend.Legend at 0x1679d1fa5c8>"
      ]
     },
     "execution_count": 296,
     "metadata": {},
     "output_type": "execute_result"
    },
    {
     "data": {
      "text/plain": [
       "Text(0.5, 1.0, 'distribution of amount for each race')"
      ]
     },
     "execution_count": 296,
     "metadata": {},
     "output_type": "execute_result"
    },
    {
     "data": {
      "image/png": "[encoded data removed]",
      "text/plain": [
       "<Figure size 432x288 with 1 Axes>"
      ]
     },
     "metadata": {
      "needs_background": "light"
     },
     "output_type": "display_data"
    }
   ],
   "source": [
    "# Distribution plot \n",
    "sns.distplot(df[df[categoric]=='Chinese'][numeric],hist=False, rug=True)\n",
    "sns.distplot(df[df[categoric]=='Indian'][numeric], hist=False, rug=True)\n",
    "sns.distplot(df[df[categoric]=='Malay'][numeric], hist=False, rug=True)\n",
    "sns.distplot(df[df[categoric]=='Others'][numeric], hist=False, rug=True)\n",
    "\n",
    "plt.legend(df[categoric].cat.categories.to_list())\n",
    "plt.title('distribution of '+ numeric+ ' for each '+categoric)\n"
   ]
  },
  {
   "cell_type": "markdown",
   "metadata": {},
   "source": [
    "#### Inference\n",
    "- **Median time spent is significantly different for different categories of Race.** \n",
    "- **If sample is assumed to be representative of the population, More chinese were admitted than combined total of all other races**\n",
    "- **Being a Malay, one has significantly higher median cost of treatment. Malay patients show a *multi-modal distribution*. It means within Malay race, there are two groups: one taking normal cost treatment and other taking very high cost treatment**\n",
    "\n",
    "***Race is a big determinant of Cost of treatment. Malay population show interesting multimodal characteristic in the amount***\n"
   ]
  },
  {
   "cell_type": "markdown",
   "metadata": {},
   "source": [
    "## 3) Analysis of 'amount' with 'resident_status'"
   ]
  },
  {
   "cell_type": "code",
   "execution_count": 299,
   "metadata": {},
   "outputs": [],
   "source": [
    "numeric= 'amount'\n",
    "categoric= 'resident_status'\n",
    "\n",
    "data_list= data_transform(df, numeric= numeric,\n",
    "categorical= categoric)\n",
    "    "
   ]
  },
  {
   "cell_type": "markdown",
   "metadata": {},
   "source": [
    "#### Applying statistical test "
   ]
  },
  {
   "cell_type": "code",
   "execution_count": 300,
   "metadata": {},
   "outputs": [
    {
     "name": "stdout",
     "output_type": "stream",
     "text": [
      "number of categories= 3\n"
     ]
    },
    {
     "data": {
      "text/plain": [
       "KruskalResult(statistic=342.3441236705175, pvalue=4.580554860159675e-75)"
      ]
     },
     "execution_count": 300,
     "metadata": {},
     "output_type": "execute_result"
    }
   ],
   "source": [
    "from scipy import stats\n",
    "print(\"number of categories= \"+str(len(data_list)))\n",
    "stats.kruskal(data_list[0],data_list[1],data_list[2])"
   ]
  },
  {
   "cell_type": "markdown",
   "metadata": {},
   "source": [
    "**Since, p is less than .05, we can reject the null hpothesis<br>\n",
    "We can say that \"amount\" depends upon the category variable** <br>   \n",
    "Let us study the relationship of median value of \"amount\" for each category "
   ]
  },
  {
   "cell_type": "markdown",
   "metadata": {},
   "source": [
    "#### Median value of amount per category"
   ]
  },
  {
   "cell_type": "code",
   "execution_count": 301,
   "metadata": {},
   "outputs": [
    {
     "name": "stdout",
     "output_type": "stream",
     "text": [
      "median amount\n"
     ]
    },
    {
     "data": {
      "text/html": [
       "<div>\n",
       "<style scoped>\n",
       "    .dataframe tbody tr th:only-of-type {\n",
       "        vertical-align: middle;\n",
       "    }\n",
       "\n",
       "    .dataframe tbody tr th {\n",
       "        vertical-align: top;\n",
       "    }\n",
       "\n",
       "    .dataframe thead th {\n",
       "        text-align: right;\n",
       "    }\n",
       "</style>\n",
       "<table border=\"1\" class=\"dataframe\">\n",
       "  <thead>\n",
       "    <tr style=\"text-align: right;\">\n",
       "      <th></th>\n",
       "      <th>resident_status</th>\n",
       "      <th>amount</th>\n",
       "    </tr>\n",
       "  </thead>\n",
       "  <tbody>\n",
       "    <tr>\n",
       "      <th>0</th>\n",
       "      <td>Foreigner</td>\n",
       "      <td>37662.64</td>\n",
       "    </tr>\n",
       "    <tr>\n",
       "      <th>1</th>\n",
       "      <td>PR</td>\n",
       "      <td>23331.73</td>\n",
       "    </tr>\n",
       "    <tr>\n",
       "      <th>2</th>\n",
       "      <td>Singaporean</td>\n",
       "      <td>19201.53</td>\n",
       "    </tr>\n",
       "  </tbody>\n",
       "</table>\n",
       "</div>"
      ],
      "text/plain": [
       "  resident_status    amount\n",
       "0       Foreigner  37662.64\n",
       "1              PR  23331.73\n",
       "2     Singaporean  19201.53"
      ]
     },
     "execution_count": 301,
     "metadata": {},
     "output_type": "execute_result"
    },
    {
     "name": "stdout",
     "output_type": "stream",
     "text": [
      "mean amount and count in each category\n"
     ]
    },
    {
     "data": {
      "text/html": [
       "<div>\n",
       "<style scoped>\n",
       "    .dataframe tbody tr th:only-of-type {\n",
       "        vertical-align: middle;\n",
       "    }\n",
       "\n",
       "    .dataframe tbody tr th {\n",
       "        vertical-align: top;\n",
       "    }\n",
       "\n",
       "    .dataframe thead th {\n",
       "        text-align: right;\n",
       "    }\n",
       "</style>\n",
       "<table border=\"1\" class=\"dataframe\">\n",
       "  <thead>\n",
       "    <tr style=\"text-align: right;\">\n",
       "      <th></th>\n",
       "      <th>resident_status</th>\n",
       "      <th>mean_amount</th>\n",
       "      <th>count</th>\n",
       "    </tr>\n",
       "  </thead>\n",
       "  <tbody>\n",
       "    <tr>\n",
       "      <th>0</th>\n",
       "      <td>Foreigner</td>\n",
       "      <td>34049.046489</td>\n",
       "      <td>161</td>\n",
       "    </tr>\n",
       "    <tr>\n",
       "      <th>1</th>\n",
       "      <td>PR</td>\n",
       "      <td>23952.864629</td>\n",
       "      <td>515</td>\n",
       "    </tr>\n",
       "    <tr>\n",
       "      <th>2</th>\n",
       "      <td>Singaporean</td>\n",
       "      <td>20111.696627</td>\n",
       "      <td>2724</td>\n",
       "    </tr>\n",
       "  </tbody>\n",
       "</table>\n",
       "</div>"
      ],
      "text/plain": [
       "  resident_status   mean_amount  count\n",
       "0       Foreigner  34049.046489    161\n",
       "1              PR  23952.864629    515\n",
       "2     Singaporean  20111.696627   2724"
      ]
     },
     "execution_count": 301,
     "metadata": {},
     "output_type": "execute_result"
    }
   ],
   "source": [
    "print(\"median amount\")\n",
    "median_amount=df.groupby(categoric).agg({numeric:'median'}).sort_values(numeric,ascending=False).reset_index()\n",
    "median_amount\n",
    "print(\"mean amount and count in each category\")\n",
    "mean_amount=df.groupby(categoric).agg({numeric:['mean','count']}).reset_index()\n",
    "mean_amount.columns=[categoric, 'mean_'+numeric,'count']\n",
    "mean_amount"
   ]
  },
  {
   "cell_type": "code",
   "execution_count": 302,
   "metadata": {},
   "outputs": [
    {
     "data": {
      "text/plain": [
       "<matplotlib.axes._subplots.AxesSubplot at 0x1679d2fc848>"
      ]
     },
     "execution_count": 302,
     "metadata": {},
     "output_type": "execute_result"
    },
    {
     "data": {
      "text/plain": [
       "Text(0.5, 1.0, 'Distribution of amount with resident_status')"
      ]
     },
     "execution_count": 302,
     "metadata": {},
     "output_type": "execute_result"
    },
    {
     "data": {
      "image/png": "[encoded data removed]",
      "text/plain": [
       "<Figure size 432x288 with 1 Axes>"
      ]
     },
     "metadata": {
      "needs_background": "light"
     },
     "output_type": "display_data"
    }
   ],
   "source": [
    "\n",
    "sns.boxplot(y=categoric, x=numeric, data= df)\n",
    "text= \"Distribution of \"+numeric+\" with \"+categoric\n",
    "plt.title(text)\n"
   ]
  },
  {
   "cell_type": "code",
   "execution_count": 303,
   "metadata": {},
   "outputs": [
    {
     "data": {
      "text/plain": [
       "<matplotlib.axes._subplots.AxesSubplot at 0x1679d37abc8>"
      ]
     },
     "execution_count": 303,
     "metadata": {},
     "output_type": "execute_result"
    },
    {
     "data": {
      "text/plain": [
       "Text(0.5, 1.0, 'Count of patients for each category of resident_status')"
      ]
     },
     "execution_count": 303,
     "metadata": {},
     "output_type": "execute_result"
    },
    {
     "data": {
      "image/png": "[encoded data removed]",
      "text/plain": [
       "<Figure size 432x288 with 1 Axes>"
      ]
     },
     "metadata": {
      "needs_background": "light"
     },
     "output_type": "display_data"
    }
   ],
   "source": [
    "sns.barplot(x= categoric,y= 'count',data= mean_amount)\n",
    "plt.title('Count of patients for each category of '+categoric)"
   ]
  },
  {
   "cell_type": "code",
   "execution_count": 305,
   "metadata": {},
   "outputs": [
    {
     "data": {
      "text/plain": [
       "<matplotlib.axes._subplots.AxesSubplot at 0x1679d4bbc48>"
      ]
     },
     "execution_count": 305,
     "metadata": {},
     "output_type": "execute_result"
    },
    {
     "data": {
      "text/plain": [
       "<matplotlib.axes._subplots.AxesSubplot at 0x1679d4bbc48>"
      ]
     },
     "execution_count": 305,
     "metadata": {},
     "output_type": "execute_result"
    },
    {
     "data": {
      "text/plain": [
       "<matplotlib.axes._subplots.AxesSubplot at 0x1679d4bbc48>"
      ]
     },
     "execution_count": 305,
     "metadata": {},
     "output_type": "execute_result"
    },
    {
     "data": {
      "text/plain": [
       "<matplotlib.legend.Legend at 0x1679d4c6248>"
      ]
     },
     "execution_count": 305,
     "metadata": {},
     "output_type": "execute_result"
    },
    {
     "data": {
      "text/plain": [
       "Text(0.5, 1.0, 'distribution of amount for each resident_status')"
      ]
     },
     "execution_count": 305,
     "metadata": {},
     "output_type": "execute_result"
    },
    {
     "data": {
      "image/png": "[encoded data removed]",
      "text/plain": [
       "<Figure size 432x288 with 1 Axes>"
      ]
     },
     "metadata": {
      "needs_background": "light"
     },
     "output_type": "display_data"
    }
   ],
   "source": [
    "# Distribution plot \n",
    "sns.distplot(df[df[categoric]=='Foreigner'][numeric],hist=False, rug=True)\n",
    "sns.distplot(df[df[categoric]=='PR'][numeric], hist=False, rug=True)\n",
    "sns.distplot(df[df[categoric]=='Singaporean'][numeric], hist=False, rug=True)\n",
    "\n",
    "plt.legend(df[categoric].cat.categories.to_list())\n",
    "plt.title('distribution of '+ numeric+ ' for each '+categoric)\n"
   ]
  },
  {
   "cell_type": "markdown",
   "metadata": {},
   "source": [
    "#### Inference\n",
    "- **There is statistical evidence found that Median time amount is different for different nationality status**\n",
    "- **Foreigners have to spend significantly higher for the treatment as is visible in the distribution**\n",
    "- **Most patients in the sample have Singaporean resident status**\n"
   ]
  },
  {
   "cell_type": "markdown",
   "metadata": {},
   "source": [
    "## 4) Analysis of 'amount' with 'age band'"
   ]
  },
  {
   "cell_type": "code",
   "execution_count": 307,
   "metadata": {},
   "outputs": [],
   "source": [
    "numeric= 'amount'  \n",
    "categoric= 'age_band'  \n",
    "\n",
    "data_list= data_transform(df, numeric= numeric,\n",
    "categorical= categoric)\n",
    "    "
   ]
  },
  {
   "cell_type": "markdown",
   "metadata": {},
   "source": [
    "#### Applying statistical test "
   ]
  },
  {
   "cell_type": "code",
   "execution_count": 308,
   "metadata": {},
   "outputs": [
    {
     "name": "stdout",
     "output_type": "stream",
     "text": [
      "number of categories= 3\n"
     ]
    },
    {
     "data": {
      "text/plain": [
       "KruskalResult(statistic=342.21734023628164, pvalue=4.880325197186907e-75)"
      ]
     },
     "execution_count": 308,
     "metadata": {},
     "output_type": "execute_result"
    }
   ],
   "source": [
    "from scipy import stats\n",
    "print(\"number of categories= \"+str(len(data_list)))\n",
    "stats.kruskal(data_list[0],data_list[1],data_list[2])"
   ]
  },
  {
   "cell_type": "markdown",
   "metadata": {},
   "source": [
    "**Since, p is less than .05, we can reject the null hpothesis <br> \n",
    "We can say that \"amount\" depends upon the age band**  <br><br>\n",
    "Let us study the relationship of median value of \"amount\" for each age band"
   ]
  },
  {
   "cell_type": "markdown",
   "metadata": {},
   "source": [
    "#### Median value of amount per category"
   ]
  },
  {
   "cell_type": "code",
   "execution_count": 309,
   "metadata": {},
   "outputs": [
    {
     "name": "stdout",
     "output_type": "stream",
     "text": [
      "Median amount\n"
     ]
    },
    {
     "data": {
      "text/html": [
       "<div>\n",
       "<style scoped>\n",
       "    .dataframe tbody tr th:only-of-type {\n",
       "        vertical-align: middle;\n",
       "    }\n",
       "\n",
       "    .dataframe tbody tr th {\n",
       "        vertical-align: top;\n",
       "    }\n",
       "\n",
       "    .dataframe thead th {\n",
       "        text-align: right;\n",
       "    }\n",
       "</style>\n",
       "<table border=\"1\" class=\"dataframe\">\n",
       "  <thead>\n",
       "    <tr style=\"text-align: right;\">\n",
       "      <th></th>\n",
       "      <th>age_band</th>\n",
       "      <th>amount</th>\n",
       "    </tr>\n",
       "  </thead>\n",
       "  <tbody>\n",
       "    <tr>\n",
       "      <th>0</th>\n",
       "      <td>old_aged</td>\n",
       "      <td>23345.65</td>\n",
       "    </tr>\n",
       "    <tr>\n",
       "      <th>1</th>\n",
       "      <td>middle_aged</td>\n",
       "      <td>17790.08</td>\n",
       "    </tr>\n",
       "    <tr>\n",
       "      <th>2</th>\n",
       "      <td>young_aged</td>\n",
       "      <td>15102.35</td>\n",
       "    </tr>\n",
       "  </tbody>\n",
       "</table>\n",
       "</div>"
      ],
      "text/plain": [
       "      age_band    amount\n",
       "0     old_aged  23345.65\n",
       "1  middle_aged  17790.08\n",
       "2   young_aged  15102.35"
      ]
     },
     "execution_count": 309,
     "metadata": {},
     "output_type": "execute_result"
    },
    {
     "name": "stdout",
     "output_type": "stream",
     "text": [
      "Mean amount and count in each category\n"
     ]
    },
    {
     "data": {
      "text/html": [
       "<div>\n",
       "<style scoped>\n",
       "    .dataframe tbody tr th:only-of-type {\n",
       "        vertical-align: middle;\n",
       "    }\n",
       "\n",
       "    .dataframe tbody tr th {\n",
       "        vertical-align: top;\n",
       "    }\n",
       "\n",
       "    .dataframe thead th {\n",
       "        text-align: right;\n",
       "    }\n",
       "</style>\n",
       "<table border=\"1\" class=\"dataframe\">\n",
       "  <thead>\n",
       "    <tr style=\"text-align: right;\">\n",
       "      <th></th>\n",
       "      <th>age_band</th>\n",
       "      <th>mean_amount</th>\n",
       "      <th>count</th>\n",
       "    </tr>\n",
       "  </thead>\n",
       "  <tbody>\n",
       "    <tr>\n",
       "      <th>0</th>\n",
       "      <td>middle_aged</td>\n",
       "      <td>18945.606434</td>\n",
       "      <td>1573</td>\n",
       "    </tr>\n",
       "    <tr>\n",
       "      <th>1</th>\n",
       "      <td>old_aged</td>\n",
       "      <td>23931.550610</td>\n",
       "      <td>1721</td>\n",
       "    </tr>\n",
       "    <tr>\n",
       "      <th>2</th>\n",
       "      <td>young_aged</td>\n",
       "      <td>15228.734528</td>\n",
       "      <td>106</td>\n",
       "    </tr>\n",
       "  </tbody>\n",
       "</table>\n",
       "</div>"
      ],
      "text/plain": [
       "      age_band   mean_amount  count\n",
       "0  middle_aged  18945.606434   1573\n",
       "1     old_aged  23931.550610   1721\n",
       "2   young_aged  15228.734528    106"
      ]
     },
     "execution_count": 309,
     "metadata": {},
     "output_type": "execute_result"
    }
   ],
   "source": [
    "print(\"Median amount\")\n",
    "median_amount=df.groupby(categoric).agg({numeric:'median'}).sort_values(numeric,ascending=False).reset_index()\n",
    "median_amount\n",
    "print(\"Mean amount and count in each category\")\n",
    "mean_amount=df.groupby(categoric).agg({numeric:['mean','count']}).reset_index()\n",
    "mean_amount.columns=[categoric, 'mean_'+numeric,'count']\n",
    "mean_amount"
   ]
  },
  {
   "cell_type": "code",
   "execution_count": 310,
   "metadata": {},
   "outputs": [
    {
     "data": {
      "text/plain": [
       "<matplotlib.axes._subplots.AxesSubplot at 0x1679d741d88>"
      ]
     },
     "execution_count": 310,
     "metadata": {},
     "output_type": "execute_result"
    },
    {
     "data": {
      "text/plain": [
       "Text(0.5, 1.0, 'Distribution of amount with age_band')"
      ]
     },
     "execution_count": 310,
     "metadata": {},
     "output_type": "execute_result"
    },
    {
     "data": {
      "image/png": "[encoded data removed]",
      "text/plain": [
       "<Figure size 432x288 with 1 Axes>"
      ]
     },
     "metadata": {
      "needs_background": "light"
     },
     "output_type": "display_data"
    }
   ],
   "source": [
    "order=['young_aged','middle_aged','old_aged']\n",
    "sns.boxplot(y=categoric, x=numeric, data= df, order=order)\n",
    "text= \"Distribution of \"+numeric+\" with \"+categoric\n",
    "plt.title(text)"
   ]
  },
  {
   "cell_type": "code",
   "execution_count": 246,
   "metadata": {},
   "outputs": [
    {
     "data": {
      "text/plain": [
       "<matplotlib.axes._subplots.AxesSubplot at 0x1679a0d0e08>"
      ]
     },
     "execution_count": 246,
     "metadata": {},
     "output_type": "execute_result"
    },
    {
     "data": {
      "text/plain": [
       "Text(0.5, 1.0, 'Count of patients for each category of age_band')"
      ]
     },
     "execution_count": 246,
     "metadata": {},
     "output_type": "execute_result"
    },
    {
     "data": {
      "image/png": "[encoded data removed]",
      "text/plain": [
       "<Figure size 432x288 with 1 Axes>"
      ]
     },
     "metadata": {
      "needs_background": "light"
     },
     "output_type": "display_data"
    }
   ],
   "source": [
    "sns.barplot(x= categoric,y= 'count',data= mean_amount, order= order)\n",
    "plt.title('Count of patients for each category of '+categoric)"
   ]
  },
  {
   "cell_type": "code",
   "execution_count": 251,
   "metadata": {},
   "outputs": [
    {
     "data": {
      "text/plain": [
       "<matplotlib.axes._subplots.AxesSubplot at 0x1679b109d08>"
      ]
     },
     "execution_count": 251,
     "metadata": {},
     "output_type": "execute_result"
    },
    {
     "data": {
      "text/plain": [
       "<matplotlib.axes._subplots.AxesSubplot at 0x1679b109d08>"
      ]
     },
     "execution_count": 251,
     "metadata": {},
     "output_type": "execute_result"
    },
    {
     "data": {
      "text/plain": [
       "<matplotlib.axes._subplots.AxesSubplot at 0x1679b109d08>"
      ]
     },
     "execution_count": 251,
     "metadata": {},
     "output_type": "execute_result"
    },
    {
     "data": {
      "text/plain": [
       "<matplotlib.legend.Legend at 0x1679b110648>"
      ]
     },
     "execution_count": 251,
     "metadata": {},
     "output_type": "execute_result"
    },
    {
     "data": {
      "text/plain": [
       "Text(0.5, 1.0, 'distribution of amount for each age_band')"
      ]
     },
     "execution_count": 251,
     "metadata": {},
     "output_type": "execute_result"
    },
    {
     "data": {
      "image/png": "[encoded data removed]",
      "text/plain": [
       "<Figure size 432x288 with 1 Axes>"
      ]
     },
     "metadata": {
      "needs_background": "light"
     },
     "output_type": "display_data"
    }
   ],
   "source": [
    "sns.distplot(df[df.age_band=='old_aged'][numeric],hist=False, rug=True)\n",
    "sns.distplot(df[df.age_band=='middle_aged'][numeric], hist=False, rug=True)\n",
    "sns.distplot(df[df.age_band=='young_aged'][numeric], hist=False, rug=True)\n",
    "plt.legend(df[categoric].cat.categories.to_list())\n",
    "plt.title('distribution of '+ numeric+ ' for each '+categoric)\n"
   ]
  },
  {
   "cell_type": "markdown",
   "metadata": {},
   "source": [
    "#### Inference\n",
    "- **Median time spent is significantly different for different categories**\n",
    "- **Most patients are from old age group and have the highest median cost of treatment**\n",
    "- **young age band(up to 30 years) are few and spend less**\n",
    "- **medium age band(30 to 50 years) have a multimodal distribution. There are a few that have taken very high cost treatment of around 40000**\n"
   ]
  },
  {
   "cell_type": "markdown",
   "metadata": {},
   "source": [
    "## 5) Analysis of 'amount' with 'bmi_band'"
   ]
  },
  {
   "cell_type": "code",
   "execution_count": 311,
   "metadata": {},
   "outputs": [],
   "source": [
    "numeric= 'amount'\n",
    "categoric= 'bmi_band'\n",
    "\n",
    "data_list= data_transform(df, numeric= numeric,\n",
    "categorical= categoric)\n",
    "    "
   ]
  },
  {
   "cell_type": "markdown",
   "metadata": {},
   "source": [
    "#### Applying statistical test "
   ]
  },
  {
   "cell_type": "code",
   "execution_count": 312,
   "metadata": {},
   "outputs": [
    {
     "name": "stdout",
     "output_type": "stream",
     "text": [
      "number of categories= 4\n"
     ]
    },
    {
     "data": {
      "text/plain": [
       "KruskalResult(statistic=59.23154220387103, pvalue=8.578384497396096e-13)"
      ]
     },
     "execution_count": 312,
     "metadata": {},
     "output_type": "execute_result"
    }
   ],
   "source": [
    "from scipy import stats\n",
    "#del str\n",
    "print(\"number of categories= \"+str(len(data_list)))\n",
    "stats.kruskal(data_list[0],data_list[1], data_list[2],data_list[3])\n"
   ]
  },
  {
   "cell_type": "markdown",
   "metadata": {},
   "source": [
    "**Since, p is less than .05, we can reject the null hpothesis  <br>\n",
    "We can say that \"amount\" does depend upon bmi_band**<br><br>\n",
    "Let us visualize the median value of \"amount\" for each category "
   ]
  },
  {
   "cell_type": "markdown",
   "metadata": {},
   "source": [
    "#### Median value of amount per category"
   ]
  },
  {
   "cell_type": "code",
   "execution_count": 315,
   "metadata": {},
   "outputs": [
    {
     "name": "stdout",
     "output_type": "stream",
     "text": [
      "Median amount for each category\n"
     ]
    },
    {
     "data": {
      "text/html": [
       "<div>\n",
       "<style scoped>\n",
       "    .dataframe tbody tr th:only-of-type {\n",
       "        vertical-align: middle;\n",
       "    }\n",
       "\n",
       "    .dataframe tbody tr th {\n",
       "        vertical-align: top;\n",
       "    }\n",
       "\n",
       "    .dataframe thead th {\n",
       "        text-align: right;\n",
       "    }\n",
       "</style>\n",
       "<table border=\"1\" class=\"dataframe\">\n",
       "  <thead>\n",
       "    <tr style=\"text-align: right;\">\n",
       "      <th></th>\n",
       "      <th>bmi_band</th>\n",
       "      <th>amount</th>\n",
       "    </tr>\n",
       "  </thead>\n",
       "  <tbody>\n",
       "    <tr>\n",
       "      <th>0</th>\n",
       "      <td>obese</td>\n",
       "      <td>21861.230</td>\n",
       "    </tr>\n",
       "    <tr>\n",
       "      <th>1</th>\n",
       "      <td>overweight</td>\n",
       "      <td>19735.800</td>\n",
       "    </tr>\n",
       "    <tr>\n",
       "      <th>2</th>\n",
       "      <td>normal</td>\n",
       "      <td>18201.105</td>\n",
       "    </tr>\n",
       "    <tr>\n",
       "      <th>3</th>\n",
       "      <td>underweight</td>\n",
       "      <td>8856.220</td>\n",
       "    </tr>\n",
       "  </tbody>\n",
       "</table>\n",
       "</div>"
      ],
      "text/plain": [
       "      bmi_band     amount\n",
       "0        obese  21861.230\n",
       "1   overweight  19735.800\n",
       "2       normal  18201.105\n",
       "3  underweight   8856.220"
      ]
     },
     "execution_count": 315,
     "metadata": {},
     "output_type": "execute_result"
    },
    {
     "name": "stdout",
     "output_type": "stream",
     "text": [
      "Count and mean amount for each category\n"
     ]
    },
    {
     "data": {
      "text/html": [
       "<div>\n",
       "<style scoped>\n",
       "    .dataframe tbody tr th:only-of-type {\n",
       "        vertical-align: middle;\n",
       "    }\n",
       "\n",
       "    .dataframe tbody tr th {\n",
       "        vertical-align: top;\n",
       "    }\n",
       "\n",
       "    .dataframe thead th {\n",
       "        text-align: right;\n",
       "    }\n",
       "</style>\n",
       "<table border=\"1\" class=\"dataframe\">\n",
       "  <thead>\n",
       "    <tr style=\"text-align: right;\">\n",
       "      <th></th>\n",
       "      <th>bmi_band</th>\n",
       "      <th>mean_amount</th>\n",
       "      <th>count</th>\n",
       "    </tr>\n",
       "  </thead>\n",
       "  <tbody>\n",
       "    <tr>\n",
       "      <th>0</th>\n",
       "      <td>normal</td>\n",
       "      <td>20013.575781</td>\n",
       "      <td>576</td>\n",
       "    </tr>\n",
       "    <tr>\n",
       "      <th>1</th>\n",
       "      <td>obese</td>\n",
       "      <td>22602.953008</td>\n",
       "      <td>1361</td>\n",
       "    </tr>\n",
       "    <tr>\n",
       "      <th>2</th>\n",
       "      <td>overweight</td>\n",
       "      <td>20751.332110</td>\n",
       "      <td>1458</td>\n",
       "    </tr>\n",
       "    <tr>\n",
       "      <th>3</th>\n",
       "      <td>underweight</td>\n",
       "      <td>11200.494000</td>\n",
       "      <td>5</td>\n",
       "    </tr>\n",
       "  </tbody>\n",
       "</table>\n",
       "</div>"
      ],
      "text/plain": [
       "      bmi_band   mean_amount  count\n",
       "0       normal  20013.575781    576\n",
       "1        obese  22602.953008   1361\n",
       "2   overweight  20751.332110   1458\n",
       "3  underweight  11200.494000      5"
      ]
     },
     "execution_count": 315,
     "metadata": {},
     "output_type": "execute_result"
    }
   ],
   "source": [
    "print(\"Median amount for each category\")\n",
    "median_amount=df.groupby(categoric).agg({numeric:'median'}).sort_values(numeric,ascending=False).reset_index()\n",
    "median_amount\n",
    "print(\"Count and mean amount for each category\")\n",
    "mean_amount=df.groupby(categoric).agg({numeric:['mean','count']}).reset_index()\n",
    "mean_amount.columns=[categoric, 'mean_'+numeric,'count']\n",
    "mean_amount"
   ]
  },
  {
   "cell_type": "code",
   "execution_count": 319,
   "metadata": {},
   "outputs": [
    {
     "data": {
      "text/plain": [
       "<matplotlib.axes._subplots.AxesSubplot at 0x1679d8dbac8>"
      ]
     },
     "execution_count": 319,
     "metadata": {},
     "output_type": "execute_result"
    },
    {
     "data": {
      "text/plain": [
       "Text(0.5, 1.0, 'Distribution of amount with bmi_band')"
      ]
     },
     "execution_count": 319,
     "metadata": {},
     "output_type": "execute_result"
    },
    {
     "data": {
      "image/png": "[encoded data removed]",
      "text/plain": [
       "<Figure size 432x288 with 1 Axes>"
      ]
     },
     "metadata": {
      "needs_background": "light"
     },
     "output_type": "display_data"
    }
   ],
   "source": [
    "order=['underweight','normal','overweight','obese']\n",
    "sns.boxplot(y=categoric, x=numeric, data= df_outlier_adj, order= order)\n",
    "text= \"Distribution of \"+numeric+\" with \"+categoric\n",
    "plt.title(text)"
   ]
  },
  {
   "cell_type": "code",
   "execution_count": 320,
   "metadata": {},
   "outputs": [
    {
     "data": {
      "text/plain": [
       "<matplotlib.axes._subplots.AxesSubplot at 0x1679d960148>"
      ]
     },
     "execution_count": 320,
     "metadata": {},
     "output_type": "execute_result"
    },
    {
     "data": {
      "text/plain": [
       "Text(0.5, 1.0, 'Count of patients for each category of bmi_band')"
      ]
     },
     "execution_count": 320,
     "metadata": {},
     "output_type": "execute_result"
    },
    {
     "data": {
      "image/png": "[encoded data removed]",
      "text/plain": [
       "<Figure size 432x288 with 1 Axes>"
      ]
     },
     "metadata": {
      "needs_background": "light"
     },
     "output_type": "display_data"
    }
   ],
   "source": [
    "sns.barplot(x= categoric,y= 'count',data= mean_amount, order= order)\n",
    "plt.title('Count of patients for each category of '+categoric)"
   ]
  },
  {
   "cell_type": "markdown",
   "metadata": {},
   "source": [
    "#### Inference\n",
    "- **Statistical evidence found of Median amount depending on BMI_index of the patient**\n",
    "- **An obese patient has to spend slightly higher than other patients**\n",
    "- **Hardly few patients were found underweight. More than 80% of patients were either over-weight or obese. Assuming the sample represents overall population of patients, bmi_index is a strong predictor of hospital admission**\n",
    "#### *We can say obesity is strongly linked to admitting in hospital. Meaning if someone is overweight, he has significantly higher chances of hospitalization than if he is normal-weight*\n"
   ]
  },
  {
   "cell_type": "markdown",
   "metadata": {},
   "source": [
    "## 7) Analysis of 'amount' with 'duration_of_stay'"
   ]
  },
  {
   "cell_type": "code",
   "execution_count": 328,
   "metadata": {},
   "outputs": [],
   "source": [
    "numeric1= 'amount'\n",
    "numeric2= 'duration_of_stay'\n"
   ]
  },
  {
   "cell_type": "markdown",
   "metadata": {},
   "source": [
    "#### Visually exploring the relationship between both variables\n"
   ]
  },
  {
   "cell_type": "code",
   "execution_count": 331,
   "metadata": {},
   "outputs": [
    {
     "data": {
      "text/plain": [
       "<seaborn.axisgrid.FacetGrid at 0x1679eb8aac8>"
      ]
     },
     "execution_count": 331,
     "metadata": {},
     "output_type": "execute_result"
    },
    {
     "data": {
      "text/plain": [
       "Text(0.5, 1, 'Plot of amount with duration_of_stay')"
      ]
     },
     "execution_count": 331,
     "metadata": {},
     "output_type": "execute_result"
    },
    {
     "data": {
      "image/png": "[encoded data removed]",
      "text/plain": [
       "<Figure size 360x360 with 1 Axes>"
      ]
     },
     "metadata": {
      "needs_background": "light"
     },
     "output_type": "display_data"
    }
   ],
   "source": [
    "sns.lmplot(x= numeric2, y=numeric1, data= df , line_kws={'color': 'red'})\n",
    "plt.title(\"Plot of \"+numeric1+\" with \"+numeric2)"
   ]
  },
  {
   "cell_type": "markdown",
   "metadata": {},
   "source": [
    "Quantifying the relationship through correlation coefficient"
   ]
  },
  {
   "cell_type": "markdown",
   "metadata": {},
   "source": [
    "#### Applying statistical test: Pearson correlation coefficient\n",
    "\n",
    "The Pearson correlation coefficient measures the linear relationship\n",
    "between two datasets"
   ]
  },
  {
   "cell_type": "code",
   "execution_count": 327,
   "metadata": {},
   "outputs": [
    {
     "data": {
      "text/plain": [
       "(0.005608916653346545, 0.7437166376886049)"
      ]
     },
     "execution_count": 327,
     "metadata": {},
     "output_type": "execute_result"
    }
   ],
   "source": [
    "stats.pearsonr(df[numeric1],df[numeric2])"
   ]
  },
  {
   "cell_type": "markdown",
   "metadata": {},
   "source": [
    "Since, p is not less than .05, we can not reject the null hpothesis  \n",
    "\n",
    "Both the variables are not significantly correlated"
   ]
  },
  {
   "cell_type": "markdown",
   "metadata": {},
   "source": [
    "#### Inference\n",
    "**Duration of stay in hospital is not correlated with Amount spent**"
   ]
  },
  {
   "cell_type": "markdown",
   "metadata": {},
   "source": [
    "## 8) Analysis of 'amount' with 'count_of_medical_history'"
   ]
  },
  {
   "cell_type": "code",
   "execution_count": 333,
   "metadata": {},
   "outputs": [],
   "source": [
    "numeric1= 'amount'\n",
    "numeric2= 'count_of_medical_history'\n",
    "#here count of medical history is a feature defined to indicate the number of unique medical histories the patient had had at the time of admission"
   ]
  },
  {
   "cell_type": "markdown",
   "metadata": {},
   "source": [
    "#### Visually exploring the relationship between both variables\n"
   ]
  },
  {
   "cell_type": "code",
   "execution_count": 334,
   "metadata": {},
   "outputs": [
    {
     "data": {
      "text/plain": [
       "<seaborn.axisgrid.FacetGrid at 0x1679ec27148>"
      ]
     },
     "execution_count": 334,
     "metadata": {},
     "output_type": "execute_result"
    },
    {
     "data": {
      "image/png": "[encoded data removed]",
      "text/plain": [
       "<Figure size 360x360 with 1 Axes>"
      ]
     },
     "metadata": {
      "needs_background": "light"
     },
     "output_type": "display_data"
    }
   ],
   "source": [
    "\n",
    "sns.lmplot(x= numeric1, y=numeric2, data= df , line_kws={'color': 'red'})\n"
   ]
  },
  {
   "cell_type": "markdown",
   "metadata": {},
   "source": [
    "Quantifying the relationship through correlation coefficient"
   ]
  },
  {
   "cell_type": "markdown",
   "metadata": {},
   "source": [
    "#### Applying statistical test: Pearson correlation coefficient\n",
    "\n",
    "The Pearson correlation coefficient measures the linear relationship\n",
    "between two datasets"
   ]
  },
  {
   "cell_type": "code",
   "execution_count": 335,
   "metadata": {},
   "outputs": [
    {
     "data": {
      "text/plain": [
       "(0.2016130113079763, 1.6201666141863258e-32)"
      ]
     },
     "execution_count": 335,
     "metadata": {},
     "output_type": "execute_result"
    }
   ],
   "source": [
    "df_na_removed= df[[numeric1,numeric2]].dropna(axis=0)\n",
    "stats.pearsonr(df_na_removed[numeric1],df_na_removed[numeric2])\n"
   ]
  },
  {
   "cell_type": "markdown",
   "metadata": {},
   "source": [
    "Since, p is less than .05, we can reject the null hpothesis <br> \n",
    "Both the variables are correlated with a corrlation coefficient of .2\n"
   ]
  },
  {
   "cell_type": "markdown",
   "metadata": {},
   "source": [
    "#### Inference\n",
    "Amount and count of medical history are correlated. A patient having more medical history is likely to spend more"
   ]
  },
  {
   "cell_type": "markdown",
   "metadata": {},
   "source": [
    "## 9) Analysis of 'amount' with 'age_at_admission'"
   ]
  },
  {
   "cell_type": "code",
   "execution_count": 337,
   "metadata": {},
   "outputs": [],
   "source": [
    "numeric1= 'amount'\n",
    "numeric2= 'age_at_admission'"
   ]
  },
  {
   "cell_type": "markdown",
   "metadata": {},
   "source": [
    "#### Visually exploring the relationship between both variables\n"
   ]
  },
  {
   "cell_type": "code",
   "execution_count": 338,
   "metadata": {},
   "outputs": [
    {
     "data": {
      "text/plain": [
       "<seaborn.axisgrid.FacetGrid at 0x1679ed05408>"
      ]
     },
     "execution_count": 338,
     "metadata": {},
     "output_type": "execute_result"
    },
    {
     "data": {
      "image/png": "[encoded data removed]",
      "text/plain": [
       "<Figure size 360x360 with 1 Axes>"
      ]
     },
     "metadata": {
      "needs_background": "light"
     },
     "output_type": "display_data"
    }
   ],
   "source": [
    "\n",
    "sns.lmplot(x= numeric1, y=numeric2, data= df , line_kws={'color': 'red'})\n"
   ]
  },
  {
   "cell_type": "markdown",
   "metadata": {},
   "source": [
    "Plot shows a positive trent. Let us Quantifying the relationship through correlation coefficient"
   ]
  },
  {
   "cell_type": "markdown",
   "metadata": {},
   "source": [
    "#### Applying statistical test: Pearson correlation coefficient\n",
    "\n",
    "The Pearson correlation coefficient measures the linear relationship\n",
    "between two datasets"
   ]
  },
  {
   "cell_type": "code",
   "execution_count": 339,
   "metadata": {},
   "outputs": [
    {
     "data": {
      "text/plain": [
       "(0.33979245127374436, 1.1967745303783109e-92)"
      ]
     },
     "execution_count": 339,
     "metadata": {},
     "output_type": "execute_result"
    }
   ],
   "source": [
    "df_na_removed= df[[numeric1,numeric2]].dropna(axis=0)\n",
    "stats.pearsonr(df_na_removed[numeric1],df_na_removed[numeric2])\n"
   ]
  },
  {
   "cell_type": "markdown",
   "metadata": {},
   "source": [
    "Since, p is less than .05, we can not reject the null hpothesis <br> \n",
    "Both the variables are correlated \n",
    "\n",
    "Correlation coefficient is just .33"
   ]
  },
  {
   "cell_type": "markdown",
   "metadata": {},
   "source": [
    "#### Inference\n",
    "Patient having higher age at the time of admission is likely to spend more on treatment"
   ]
  },
  {
   "cell_type": "markdown",
   "metadata": {},
   "source": [
    "## 10) Analysis of 'amount' with 'bmi'"
   ]
  },
  {
   "cell_type": "code",
   "execution_count": 342,
   "metadata": {},
   "outputs": [],
   "source": [
    "numeric1= 'bmi'\n",
    "numeric2= 'amount'"
   ]
  },
  {
   "cell_type": "markdown",
   "metadata": {},
   "source": [
    "#### Visually exploring the relationship between both variables\n"
   ]
  },
  {
   "cell_type": "code",
   "execution_count": 344,
   "metadata": {},
   "outputs": [
    {
     "data": {
      "text/plain": [
       "<seaborn.axisgrid.FacetGrid at 0x1679ee54508>"
      ]
     },
     "execution_count": 344,
     "metadata": {},
     "output_type": "execute_result"
    },
    {
     "data": {
      "text/plain": [
       "<matplotlib.axes._subplots.AxesSubplot at 0x1679edff288>"
      ]
     },
     "execution_count": 344,
     "metadata": {},
     "output_type": "execute_result"
    },
    {
     "data": {
      "image/png": "[encoded data removed]",
      "text/plain": [
       "<Figure size 360x360 with 1 Axes>"
      ]
     },
     "metadata": {
      "needs_background": "light"
     },
     "output_type": "display_data"
    }
   ],
   "source": [
    "\n",
    "sns.lmplot(x= numeric1, y=numeric2, data= df , line_kws={'color': 'red'})\n",
    "sns.regplot(x= numeric1, y=numeric2, data= df)\n"
   ]
  },
  {
   "cell_type": "markdown",
   "metadata": {},
   "source": [
    "Quantifying the relationship through correlation coefficient"
   ]
  },
  {
   "cell_type": "markdown",
   "metadata": {},
   "source": [
    "#### Applying statistical test: Pearson correlation coefficient\n",
    "\n",
    "The Pearson correlation coefficient measures the linear relationship\n",
    "between two datasets"
   ]
  },
  {
   "cell_type": "code",
   "execution_count": 345,
   "metadata": {},
   "outputs": [
    {
     "data": {
      "text/plain": [
       "(0.1472431255489256, 6.15708053548615e-18)"
      ]
     },
     "execution_count": 345,
     "metadata": {},
     "output_type": "execute_result"
    }
   ],
   "source": [
    "df_na_removed= df[[numeric1,numeric2]].dropna(axis=0)\n",
    "stats.pearsonr(df_na_removed[numeric1],df_na_removed[numeric2])\n"
   ]
  },
  {
   "cell_type": "markdown",
   "metadata": {},
   "source": [
    "Since, p is less than .05, we can reject the null hpothesis <br> \n",
    "Both the variables are correlated \n",
    "\n",
    "Correlation coefficient is just .147"
   ]
  },
  {
   "cell_type": "markdown",
   "metadata": {},
   "source": [
    "#### Inference\n",
    "A patient having higher bmi is likely to spend more amount"
   ]
  },
  {
   "cell_type": "markdown",
   "metadata": {},
   "source": [
    "## 11) Analysis of age_band and bmi band with amount"
   ]
  },
  {
   "cell_type": "code",
   "execution_count": 363,
   "metadata": {},
   "outputs": [
    {
     "data": {
      "text/plain": [
       "Text(0.5, 1, 'Heatmap of bmi and age band with average amount spent')"
      ]
     },
     "execution_count": 363,
     "metadata": {},
     "output_type": "execute_result"
    },
    {
     "data": {
      "image/png": "[encoded data removed]",
      "text/plain": [
       "<Figure size 432x288 with 2 Axes>"
      ]
     },
     "metadata": {
      "needs_background": "light"
     },
     "output_type": "display_data"
    }
   ],
   "source": [
    "def my_heatmap(dataset, X, Y, Z, aggfunc= np.mean):\n",
    "    a= dataset.pivot_table(index= Y, columns= X, aggfunc= aggfunc,values=  Z)\n",
    "    sns.heatmap(a, annot=True, cmap=\"YlGnBu\" )\n",
    "my_heatmap(dataset= df, X= 'bmi_band', Y= 'age_band', Z= 'amount')\n",
    "plt.title('Heatmap of bmi and age band with average amount spent')\n"
   ]
  },
  {
   "cell_type": "markdown",
   "metadata": {},
   "source": [
    "#### Inference\n",
    "**Old age- obese is in the category of maximum spending**"
   ]
  },
  {
   "cell_type": "markdown",
   "metadata": {},
   "source": [
    "## 12) Analysis of race and resident_status with amount"
   ]
  },
  {
   "cell_type": "code",
   "execution_count": 365,
   "metadata": {},
   "outputs": [
    {
     "data": {
      "text/plain": [
       "Text(0.5, 1, 'Heatmap of race and resident_status with average amount spent')"
      ]
     },
     "execution_count": 365,
     "metadata": {},
     "output_type": "execute_result"
    },
    {
     "data": {
      "image/png": "[encoded data removed]",
      "text/plain": [
       "<Figure size 432x288 with 2 Axes>"
      ]
     },
     "metadata": {
      "needs_background": "light"
     },
     "output_type": "display_data"
    }
   ],
   "source": [
    "my_heatmap(dataset= df, X= 'race', Y= 'resident_status', Z= 'amount')\n",
    "plt.title('Heatmap of race and resident_status with average amount spent')\n"
   ]
  },
  {
   "cell_type": "markdown",
   "metadata": {},
   "source": [
    "#### Inference\n",
    "**Malay- Foreigner and other-Foreigner group is in the category of maximum spending**"
   ]
  },
  {
   "cell_type": "markdown",
   "metadata": {},
   "source": [
    "## 13) Correlation analysis between variables"
   ]
  },
  {
   "cell_type": "code",
   "execution_count": 405,
   "metadata": {},
   "outputs": [
    {
     "data": {
      "text/plain": [
       "<matplotlib.axes._subplots.AxesSubplot at 0x167d3733448>"
      ]
     },
     "execution_count": 405,
     "metadata": {},
     "output_type": "execute_result"
    },
    {
     "data": {
      "text/html": [
       "<div>\n",
       "<style scoped>\n",
       "    .dataframe tbody tr th:only-of-type {\n",
       "        vertical-align: middle;\n",
       "    }\n",
       "\n",
       "    .dataframe tbody tr th {\n",
       "        vertical-align: top;\n",
       "    }\n",
       "\n",
       "    .dataframe thead th {\n",
       "        text-align: right;\n",
       "    }\n",
       "</style>\n",
       "<table border=\"1\" class=\"dataframe\">\n",
       "  <thead>\n",
       "    <tr style=\"text-align: right;\">\n",
       "      <th></th>\n",
       "      <th>medical_history_1</th>\n",
       "      <th>medical_history_2</th>\n",
       "      <th>medical_history_3</th>\n",
       "      <th>medical_history_4</th>\n",
       "      <th>medical_history_5</th>\n",
       "      <th>medical_history_6</th>\n",
       "      <th>medical_history_7</th>\n",
       "      <th>preop_medication_1</th>\n",
       "      <th>preop_medication_2</th>\n",
       "      <th>preop_medication_3</th>\n",
       "      <th>...</th>\n",
       "      <th>lab_result_1</th>\n",
       "      <th>lab_result_2</th>\n",
       "      <th>lab_result_3</th>\n",
       "      <th>weight</th>\n",
       "      <th>height</th>\n",
       "      <th>amount</th>\n",
       "      <th>age_at_admission</th>\n",
       "      <th>bmi</th>\n",
       "      <th>duration_of_stay</th>\n",
       "      <th>count_of_medical_history</th>\n",
       "    </tr>\n",
       "  </thead>\n",
       "  <tbody>\n",
       "    <tr>\n",
       "      <th>medical_history_1</th>\n",
       "      <td>1.000000</td>\n",
       "      <td>NaN</td>\n",
       "      <td>NaN</td>\n",
       "      <td>NaN</td>\n",
       "      <td>NaN</td>\n",
       "      <td>NaN</td>\n",
       "      <td>NaN</td>\n",
       "      <td>NaN</td>\n",
       "      <td>NaN</td>\n",
       "      <td>NaN</td>\n",
       "      <td>...</td>\n",
       "      <td>NaN</td>\n",
       "      <td>NaN</td>\n",
       "      <td>NaN</td>\n",
       "      <td>NaN</td>\n",
       "      <td>NaN</td>\n",
       "      <td>NaN</td>\n",
       "      <td>NaN</td>\n",
       "      <td>NaN</td>\n",
       "      <td>NaN</td>\n",
       "      <td>0.379083</td>\n",
       "    </tr>\n",
       "    <tr>\n",
       "      <th>medical_history_2</th>\n",
       "      <td>NaN</td>\n",
       "      <td>1.000000</td>\n",
       "      <td>NaN</td>\n",
       "      <td>NaN</td>\n",
       "      <td>NaN</td>\n",
       "      <td>NaN</td>\n",
       "      <td>NaN</td>\n",
       "      <td>NaN</td>\n",
       "      <td>NaN</td>\n",
       "      <td>NaN</td>\n",
       "      <td>...</td>\n",
       "      <td>NaN</td>\n",
       "      <td>NaN</td>\n",
       "      <td>NaN</td>\n",
       "      <td>NaN</td>\n",
       "      <td>NaN</td>\n",
       "      <td>NaN</td>\n",
       "      <td>NaN</td>\n",
       "      <td>NaN</td>\n",
       "      <td>NaN</td>\n",
       "      <td>0.478404</td>\n",
       "    </tr>\n",
       "    <tr>\n",
       "      <th>medical_history_3</th>\n",
       "      <td>NaN</td>\n",
       "      <td>NaN</td>\n",
       "      <td>1.000000</td>\n",
       "      <td>NaN</td>\n",
       "      <td>NaN</td>\n",
       "      <td>NaN</td>\n",
       "      <td>NaN</td>\n",
       "      <td>NaN</td>\n",
       "      <td>NaN</td>\n",
       "      <td>NaN</td>\n",
       "      <td>...</td>\n",
       "      <td>NaN</td>\n",
       "      <td>NaN</td>\n",
       "      <td>NaN</td>\n",
       "      <td>NaN</td>\n",
       "      <td>NaN</td>\n",
       "      <td>NaN</td>\n",
       "      <td>NaN</td>\n",
       "      <td>NaN</td>\n",
       "      <td>NaN</td>\n",
       "      <td>0.355241</td>\n",
       "    </tr>\n",
       "    <tr>\n",
       "      <th>medical_history_4</th>\n",
       "      <td>NaN</td>\n",
       "      <td>NaN</td>\n",
       "      <td>NaN</td>\n",
       "      <td>1.0</td>\n",
       "      <td>NaN</td>\n",
       "      <td>NaN</td>\n",
       "      <td>NaN</td>\n",
       "      <td>NaN</td>\n",
       "      <td>NaN</td>\n",
       "      <td>NaN</td>\n",
       "      <td>...</td>\n",
       "      <td>NaN</td>\n",
       "      <td>NaN</td>\n",
       "      <td>NaN</td>\n",
       "      <td>NaN</td>\n",
       "      <td>NaN</td>\n",
       "      <td>NaN</td>\n",
       "      <td>NaN</td>\n",
       "      <td>NaN</td>\n",
       "      <td>NaN</td>\n",
       "      <td>NaN</td>\n",
       "    </tr>\n",
       "    <tr>\n",
       "      <th>medical_history_5</th>\n",
       "      <td>NaN</td>\n",
       "      <td>NaN</td>\n",
       "      <td>NaN</td>\n",
       "      <td>NaN</td>\n",
       "      <td>1.0</td>\n",
       "      <td>NaN</td>\n",
       "      <td>NaN</td>\n",
       "      <td>NaN</td>\n",
       "      <td>NaN</td>\n",
       "      <td>NaN</td>\n",
       "      <td>...</td>\n",
       "      <td>NaN</td>\n",
       "      <td>NaN</td>\n",
       "      <td>NaN</td>\n",
       "      <td>NaN</td>\n",
       "      <td>NaN</td>\n",
       "      <td>NaN</td>\n",
       "      <td>NaN</td>\n",
       "      <td>NaN</td>\n",
       "      <td>NaN</td>\n",
       "      <td>NaN</td>\n",
       "    </tr>\n",
       "    <tr>\n",
       "      <th>medical_history_6</th>\n",
       "      <td>NaN</td>\n",
       "      <td>NaN</td>\n",
       "      <td>NaN</td>\n",
       "      <td>NaN</td>\n",
       "      <td>NaN</td>\n",
       "      <td>1.000000</td>\n",
       "      <td>NaN</td>\n",
       "      <td>NaN</td>\n",
       "      <td>NaN</td>\n",
       "      <td>NaN</td>\n",
       "      <td>...</td>\n",
       "      <td>NaN</td>\n",
       "      <td>NaN</td>\n",
       "      <td>NaN</td>\n",
       "      <td>NaN</td>\n",
       "      <td>NaN</td>\n",
       "      <td>NaN</td>\n",
       "      <td>NaN</td>\n",
       "      <td>NaN</td>\n",
       "      <td>NaN</td>\n",
       "      <td>0.440426</td>\n",
       "    </tr>\n",
       "    <tr>\n",
       "      <th>medical_history_7</th>\n",
       "      <td>NaN</td>\n",
       "      <td>NaN</td>\n",
       "      <td>NaN</td>\n",
       "      <td>NaN</td>\n",
       "      <td>NaN</td>\n",
       "      <td>NaN</td>\n",
       "      <td>1.000000</td>\n",
       "      <td>NaN</td>\n",
       "      <td>NaN</td>\n",
       "      <td>NaN</td>\n",
       "      <td>...</td>\n",
       "      <td>NaN</td>\n",
       "      <td>NaN</td>\n",
       "      <td>NaN</td>\n",
       "      <td>NaN</td>\n",
       "      <td>NaN</td>\n",
       "      <td>NaN</td>\n",
       "      <td>NaN</td>\n",
       "      <td>NaN</td>\n",
       "      <td>NaN</td>\n",
       "      <td>0.440048</td>\n",
       "    </tr>\n",
       "    <tr>\n",
       "      <th>preop_medication_1</th>\n",
       "      <td>NaN</td>\n",
       "      <td>NaN</td>\n",
       "      <td>NaN</td>\n",
       "      <td>NaN</td>\n",
       "      <td>NaN</td>\n",
       "      <td>NaN</td>\n",
       "      <td>NaN</td>\n",
       "      <td>1.0</td>\n",
       "      <td>NaN</td>\n",
       "      <td>NaN</td>\n",
       "      <td>...</td>\n",
       "      <td>NaN</td>\n",
       "      <td>NaN</td>\n",
       "      <td>NaN</td>\n",
       "      <td>NaN</td>\n",
       "      <td>NaN</td>\n",
       "      <td>NaN</td>\n",
       "      <td>NaN</td>\n",
       "      <td>NaN</td>\n",
       "      <td>NaN</td>\n",
       "      <td>NaN</td>\n",
       "    </tr>\n",
       "    <tr>\n",
       "      <th>preop_medication_2</th>\n",
       "      <td>NaN</td>\n",
       "      <td>NaN</td>\n",
       "      <td>NaN</td>\n",
       "      <td>NaN</td>\n",
       "      <td>NaN</td>\n",
       "      <td>NaN</td>\n",
       "      <td>NaN</td>\n",
       "      <td>NaN</td>\n",
       "      <td>1.0</td>\n",
       "      <td>NaN</td>\n",
       "      <td>...</td>\n",
       "      <td>NaN</td>\n",
       "      <td>NaN</td>\n",
       "      <td>NaN</td>\n",
       "      <td>NaN</td>\n",
       "      <td>NaN</td>\n",
       "      <td>NaN</td>\n",
       "      <td>NaN</td>\n",
       "      <td>NaN</td>\n",
       "      <td>NaN</td>\n",
       "      <td>NaN</td>\n",
       "    </tr>\n",
       "    <tr>\n",
       "      <th>preop_medication_3</th>\n",
       "      <td>NaN</td>\n",
       "      <td>NaN</td>\n",
       "      <td>NaN</td>\n",
       "      <td>NaN</td>\n",
       "      <td>NaN</td>\n",
       "      <td>NaN</td>\n",
       "      <td>NaN</td>\n",
       "      <td>NaN</td>\n",
       "      <td>NaN</td>\n",
       "      <td>1.0</td>\n",
       "      <td>...</td>\n",
       "      <td>NaN</td>\n",
       "      <td>NaN</td>\n",
       "      <td>NaN</td>\n",
       "      <td>NaN</td>\n",
       "      <td>NaN</td>\n",
       "      <td>NaN</td>\n",
       "      <td>NaN</td>\n",
       "      <td>NaN</td>\n",
       "      <td>NaN</td>\n",
       "      <td>NaN</td>\n",
       "    </tr>\n",
       "    <tr>\n",
       "      <th>preop_medication_4</th>\n",
       "      <td>NaN</td>\n",
       "      <td>NaN</td>\n",
       "      <td>NaN</td>\n",
       "      <td>NaN</td>\n",
       "      <td>NaN</td>\n",
       "      <td>NaN</td>\n",
       "      <td>NaN</td>\n",
       "      <td>NaN</td>\n",
       "      <td>NaN</td>\n",
       "      <td>NaN</td>\n",
       "      <td>...</td>\n",
       "      <td>NaN</td>\n",
       "      <td>NaN</td>\n",
       "      <td>NaN</td>\n",
       "      <td>NaN</td>\n",
       "      <td>NaN</td>\n",
       "      <td>NaN</td>\n",
       "      <td>NaN</td>\n",
       "      <td>NaN</td>\n",
       "      <td>NaN</td>\n",
       "      <td>NaN</td>\n",
       "    </tr>\n",
       "    <tr>\n",
       "      <th>preop_medication_5</th>\n",
       "      <td>NaN</td>\n",
       "      <td>NaN</td>\n",
       "      <td>NaN</td>\n",
       "      <td>NaN</td>\n",
       "      <td>NaN</td>\n",
       "      <td>NaN</td>\n",
       "      <td>NaN</td>\n",
       "      <td>NaN</td>\n",
       "      <td>NaN</td>\n",
       "      <td>NaN</td>\n",
       "      <td>...</td>\n",
       "      <td>NaN</td>\n",
       "      <td>NaN</td>\n",
       "      <td>NaN</td>\n",
       "      <td>NaN</td>\n",
       "      <td>NaN</td>\n",
       "      <td>NaN</td>\n",
       "      <td>NaN</td>\n",
       "      <td>NaN</td>\n",
       "      <td>NaN</td>\n",
       "      <td>NaN</td>\n",
       "    </tr>\n",
       "    <tr>\n",
       "      <th>preop_medication_6</th>\n",
       "      <td>NaN</td>\n",
       "      <td>NaN</td>\n",
       "      <td>NaN</td>\n",
       "      <td>NaN</td>\n",
       "      <td>NaN</td>\n",
       "      <td>NaN</td>\n",
       "      <td>NaN</td>\n",
       "      <td>NaN</td>\n",
       "      <td>NaN</td>\n",
       "      <td>NaN</td>\n",
       "      <td>...</td>\n",
       "      <td>NaN</td>\n",
       "      <td>NaN</td>\n",
       "      <td>NaN</td>\n",
       "      <td>NaN</td>\n",
       "      <td>NaN</td>\n",
       "      <td>NaN</td>\n",
       "      <td>NaN</td>\n",
       "      <td>NaN</td>\n",
       "      <td>NaN</td>\n",
       "      <td>NaN</td>\n",
       "    </tr>\n",
       "    <tr>\n",
       "      <th>symptom_1</th>\n",
       "      <td>NaN</td>\n",
       "      <td>NaN</td>\n",
       "      <td>NaN</td>\n",
       "      <td>NaN</td>\n",
       "      <td>NaN</td>\n",
       "      <td>NaN</td>\n",
       "      <td>NaN</td>\n",
       "      <td>NaN</td>\n",
       "      <td>NaN</td>\n",
       "      <td>NaN</td>\n",
       "      <td>...</td>\n",
       "      <td>NaN</td>\n",
       "      <td>NaN</td>\n",
       "      <td>NaN</td>\n",
       "      <td>NaN</td>\n",
       "      <td>NaN</td>\n",
       "      <td>NaN</td>\n",
       "      <td>NaN</td>\n",
       "      <td>NaN</td>\n",
       "      <td>NaN</td>\n",
       "      <td>NaN</td>\n",
       "    </tr>\n",
       "    <tr>\n",
       "      <th>symptom_2</th>\n",
       "      <td>NaN</td>\n",
       "      <td>NaN</td>\n",
       "      <td>NaN</td>\n",
       "      <td>NaN</td>\n",
       "      <td>NaN</td>\n",
       "      <td>NaN</td>\n",
       "      <td>NaN</td>\n",
       "      <td>NaN</td>\n",
       "      <td>NaN</td>\n",
       "      <td>NaN</td>\n",
       "      <td>...</td>\n",
       "      <td>NaN</td>\n",
       "      <td>NaN</td>\n",
       "      <td>NaN</td>\n",
       "      <td>NaN</td>\n",
       "      <td>NaN</td>\n",
       "      <td>NaN</td>\n",
       "      <td>NaN</td>\n",
       "      <td>NaN</td>\n",
       "      <td>NaN</td>\n",
       "      <td>NaN</td>\n",
       "    </tr>\n",
       "    <tr>\n",
       "      <th>symptom_3</th>\n",
       "      <td>NaN</td>\n",
       "      <td>NaN</td>\n",
       "      <td>NaN</td>\n",
       "      <td>NaN</td>\n",
       "      <td>NaN</td>\n",
       "      <td>NaN</td>\n",
       "      <td>NaN</td>\n",
       "      <td>NaN</td>\n",
       "      <td>NaN</td>\n",
       "      <td>NaN</td>\n",
       "      <td>...</td>\n",
       "      <td>NaN</td>\n",
       "      <td>NaN</td>\n",
       "      <td>NaN</td>\n",
       "      <td>NaN</td>\n",
       "      <td>NaN</td>\n",
       "      <td>NaN</td>\n",
       "      <td>NaN</td>\n",
       "      <td>NaN</td>\n",
       "      <td>NaN</td>\n",
       "      <td>NaN</td>\n",
       "    </tr>\n",
       "    <tr>\n",
       "      <th>symptom_4</th>\n",
       "      <td>NaN</td>\n",
       "      <td>NaN</td>\n",
       "      <td>NaN</td>\n",
       "      <td>NaN</td>\n",
       "      <td>NaN</td>\n",
       "      <td>NaN</td>\n",
       "      <td>NaN</td>\n",
       "      <td>NaN</td>\n",
       "      <td>NaN</td>\n",
       "      <td>NaN</td>\n",
       "      <td>...</td>\n",
       "      <td>NaN</td>\n",
       "      <td>NaN</td>\n",
       "      <td>NaN</td>\n",
       "      <td>NaN</td>\n",
       "      <td>NaN</td>\n",
       "      <td>NaN</td>\n",
       "      <td>NaN</td>\n",
       "      <td>NaN</td>\n",
       "      <td>NaN</td>\n",
       "      <td>NaN</td>\n",
       "    </tr>\n",
       "    <tr>\n",
       "      <th>symptom_5</th>\n",
       "      <td>NaN</td>\n",
       "      <td>NaN</td>\n",
       "      <td>NaN</td>\n",
       "      <td>NaN</td>\n",
       "      <td>NaN</td>\n",
       "      <td>NaN</td>\n",
       "      <td>NaN</td>\n",
       "      <td>NaN</td>\n",
       "      <td>NaN</td>\n",
       "      <td>NaN</td>\n",
       "      <td>...</td>\n",
       "      <td>NaN</td>\n",
       "      <td>NaN</td>\n",
       "      <td>NaN</td>\n",
       "      <td>NaN</td>\n",
       "      <td>NaN</td>\n",
       "      <td>0.568540</td>\n",
       "      <td>NaN</td>\n",
       "      <td>NaN</td>\n",
       "      <td>NaN</td>\n",
       "      <td>NaN</td>\n",
       "    </tr>\n",
       "    <tr>\n",
       "      <th>lab_result_1</th>\n",
       "      <td>NaN</td>\n",
       "      <td>NaN</td>\n",
       "      <td>NaN</td>\n",
       "      <td>NaN</td>\n",
       "      <td>NaN</td>\n",
       "      <td>NaN</td>\n",
       "      <td>NaN</td>\n",
       "      <td>NaN</td>\n",
       "      <td>NaN</td>\n",
       "      <td>NaN</td>\n",
       "      <td>...</td>\n",
       "      <td>1.0</td>\n",
       "      <td>NaN</td>\n",
       "      <td>NaN</td>\n",
       "      <td>NaN</td>\n",
       "      <td>NaN</td>\n",
       "      <td>NaN</td>\n",
       "      <td>NaN</td>\n",
       "      <td>NaN</td>\n",
       "      <td>NaN</td>\n",
       "      <td>NaN</td>\n",
       "    </tr>\n",
       "    <tr>\n",
       "      <th>lab_result_2</th>\n",
       "      <td>NaN</td>\n",
       "      <td>NaN</td>\n",
       "      <td>NaN</td>\n",
       "      <td>NaN</td>\n",
       "      <td>NaN</td>\n",
       "      <td>NaN</td>\n",
       "      <td>NaN</td>\n",
       "      <td>NaN</td>\n",
       "      <td>NaN</td>\n",
       "      <td>NaN</td>\n",
       "      <td>...</td>\n",
       "      <td>NaN</td>\n",
       "      <td>1.0</td>\n",
       "      <td>NaN</td>\n",
       "      <td>NaN</td>\n",
       "      <td>NaN</td>\n",
       "      <td>NaN</td>\n",
       "      <td>NaN</td>\n",
       "      <td>NaN</td>\n",
       "      <td>NaN</td>\n",
       "      <td>NaN</td>\n",
       "    </tr>\n",
       "    <tr>\n",
       "      <th>lab_result_3</th>\n",
       "      <td>NaN</td>\n",
       "      <td>NaN</td>\n",
       "      <td>NaN</td>\n",
       "      <td>NaN</td>\n",
       "      <td>NaN</td>\n",
       "      <td>NaN</td>\n",
       "      <td>NaN</td>\n",
       "      <td>NaN</td>\n",
       "      <td>NaN</td>\n",
       "      <td>NaN</td>\n",
       "      <td>...</td>\n",
       "      <td>NaN</td>\n",
       "      <td>NaN</td>\n",
       "      <td>1.0</td>\n",
       "      <td>NaN</td>\n",
       "      <td>NaN</td>\n",
       "      <td>NaN</td>\n",
       "      <td>NaN</td>\n",
       "      <td>NaN</td>\n",
       "      <td>NaN</td>\n",
       "      <td>NaN</td>\n",
       "    </tr>\n",
       "    <tr>\n",
       "      <th>weight</th>\n",
       "      <td>NaN</td>\n",
       "      <td>NaN</td>\n",
       "      <td>NaN</td>\n",
       "      <td>NaN</td>\n",
       "      <td>NaN</td>\n",
       "      <td>NaN</td>\n",
       "      <td>NaN</td>\n",
       "      <td>NaN</td>\n",
       "      <td>NaN</td>\n",
       "      <td>NaN</td>\n",
       "      <td>...</td>\n",
       "      <td>NaN</td>\n",
       "      <td>NaN</td>\n",
       "      <td>NaN</td>\n",
       "      <td>1.000000</td>\n",
       "      <td>NaN</td>\n",
       "      <td>NaN</td>\n",
       "      <td>NaN</td>\n",
       "      <td>0.816525</td>\n",
       "      <td>NaN</td>\n",
       "      <td>NaN</td>\n",
       "    </tr>\n",
       "    <tr>\n",
       "      <th>height</th>\n",
       "      <td>NaN</td>\n",
       "      <td>NaN</td>\n",
       "      <td>NaN</td>\n",
       "      <td>NaN</td>\n",
       "      <td>NaN</td>\n",
       "      <td>NaN</td>\n",
       "      <td>NaN</td>\n",
       "      <td>NaN</td>\n",
       "      <td>NaN</td>\n",
       "      <td>NaN</td>\n",
       "      <td>...</td>\n",
       "      <td>NaN</td>\n",
       "      <td>NaN</td>\n",
       "      <td>NaN</td>\n",
       "      <td>NaN</td>\n",
       "      <td>1.0</td>\n",
       "      <td>NaN</td>\n",
       "      <td>NaN</td>\n",
       "      <td>NaN</td>\n",
       "      <td>NaN</td>\n",
       "      <td>NaN</td>\n",
       "    </tr>\n",
       "    <tr>\n",
       "      <th>amount</th>\n",
       "      <td>NaN</td>\n",
       "      <td>NaN</td>\n",
       "      <td>NaN</td>\n",
       "      <td>NaN</td>\n",
       "      <td>NaN</td>\n",
       "      <td>NaN</td>\n",
       "      <td>NaN</td>\n",
       "      <td>NaN</td>\n",
       "      <td>NaN</td>\n",
       "      <td>NaN</td>\n",
       "      <td>...</td>\n",
       "      <td>NaN</td>\n",
       "      <td>NaN</td>\n",
       "      <td>NaN</td>\n",
       "      <td>NaN</td>\n",
       "      <td>NaN</td>\n",
       "      <td>1.000000</td>\n",
       "      <td>0.339792</td>\n",
       "      <td>NaN</td>\n",
       "      <td>NaN</td>\n",
       "      <td>NaN</td>\n",
       "    </tr>\n",
       "    <tr>\n",
       "      <th>age_at_admission</th>\n",
       "      <td>NaN</td>\n",
       "      <td>NaN</td>\n",
       "      <td>NaN</td>\n",
       "      <td>NaN</td>\n",
       "      <td>NaN</td>\n",
       "      <td>NaN</td>\n",
       "      <td>NaN</td>\n",
       "      <td>NaN</td>\n",
       "      <td>NaN</td>\n",
       "      <td>NaN</td>\n",
       "      <td>...</td>\n",
       "      <td>NaN</td>\n",
       "      <td>NaN</td>\n",
       "      <td>NaN</td>\n",
       "      <td>NaN</td>\n",
       "      <td>NaN</td>\n",
       "      <td>0.339792</td>\n",
       "      <td>1.000000</td>\n",
       "      <td>NaN</td>\n",
       "      <td>NaN</td>\n",
       "      <td>NaN</td>\n",
       "    </tr>\n",
       "    <tr>\n",
       "      <th>bmi</th>\n",
       "      <td>NaN</td>\n",
       "      <td>NaN</td>\n",
       "      <td>NaN</td>\n",
       "      <td>NaN</td>\n",
       "      <td>NaN</td>\n",
       "      <td>NaN</td>\n",
       "      <td>NaN</td>\n",
       "      <td>NaN</td>\n",
       "      <td>NaN</td>\n",
       "      <td>NaN</td>\n",
       "      <td>...</td>\n",
       "      <td>NaN</td>\n",
       "      <td>NaN</td>\n",
       "      <td>NaN</td>\n",
       "      <td>0.816525</td>\n",
       "      <td>NaN</td>\n",
       "      <td>NaN</td>\n",
       "      <td>NaN</td>\n",
       "      <td>1.000000</td>\n",
       "      <td>NaN</td>\n",
       "      <td>NaN</td>\n",
       "    </tr>\n",
       "    <tr>\n",
       "      <th>duration_of_stay</th>\n",
       "      <td>NaN</td>\n",
       "      <td>NaN</td>\n",
       "      <td>NaN</td>\n",
       "      <td>NaN</td>\n",
       "      <td>NaN</td>\n",
       "      <td>NaN</td>\n",
       "      <td>NaN</td>\n",
       "      <td>NaN</td>\n",
       "      <td>NaN</td>\n",
       "      <td>NaN</td>\n",
       "      <td>...</td>\n",
       "      <td>NaN</td>\n",
       "      <td>NaN</td>\n",
       "      <td>NaN</td>\n",
       "      <td>NaN</td>\n",
       "      <td>NaN</td>\n",
       "      <td>NaN</td>\n",
       "      <td>NaN</td>\n",
       "      <td>NaN</td>\n",
       "      <td>1.0</td>\n",
       "      <td>NaN</td>\n",
       "    </tr>\n",
       "    <tr>\n",
       "      <th>count_of_medical_history</th>\n",
       "      <td>0.379083</td>\n",
       "      <td>0.478404</td>\n",
       "      <td>0.355241</td>\n",
       "      <td>NaN</td>\n",
       "      <td>NaN</td>\n",
       "      <td>0.440426</td>\n",
       "      <td>0.440048</td>\n",
       "      <td>NaN</td>\n",
       "      <td>NaN</td>\n",
       "      <td>NaN</td>\n",
       "      <td>...</td>\n",
       "      <td>NaN</td>\n",
       "      <td>NaN</td>\n",
       "      <td>NaN</td>\n",
       "      <td>NaN</td>\n",
       "      <td>NaN</td>\n",
       "      <td>NaN</td>\n",
       "      <td>NaN</td>\n",
       "      <td>NaN</td>\n",
       "      <td>NaN</td>\n",
       "      <td>1.000000</td>\n",
       "    </tr>\n",
       "  </tbody>\n",
       "</table>\n",
       "<p>28 rows × 28 columns</p>\n",
       "</div>"
      ],
      "text/plain": [
       "                          medical_history_1  medical_history_2  \\\n",
       "medical_history_1                  1.000000                NaN   \n",
       "medical_history_2                       NaN           1.000000   \n",
       "medical_history_3                       NaN                NaN   \n",
       "medical_history_4                       NaN                NaN   \n",
       "medical_history_5                       NaN                NaN   \n",
       "medical_history_6                       NaN                NaN   \n",
       "medical_history_7                       NaN                NaN   \n",
       "preop_medication_1                      NaN                NaN   \n",
       "preop_medication_2                      NaN                NaN   \n",
       "preop_medication_3                      NaN                NaN   \n",
       "preop_medication_4                      NaN                NaN   \n",
       "preop_medication_5                      NaN                NaN   \n",
       "preop_medication_6                      NaN                NaN   \n",
       "symptom_1                               NaN                NaN   \n",
       "symptom_2                               NaN                NaN   \n",
       "symptom_3                               NaN                NaN   \n",
       "symptom_4                               NaN                NaN   \n",
       "symptom_5                               NaN                NaN   \n",
       "lab_result_1                            NaN                NaN   \n",
       "lab_result_2                            NaN                NaN   \n",
       "lab_result_3                            NaN                NaN   \n",
       "weight                                  NaN                NaN   \n",
       "height                                  NaN                NaN   \n",
       "amount                                  NaN                NaN   \n",
       "age_at_admission                        NaN                NaN   \n",
       "bmi                                     NaN                NaN   \n",
       "duration_of_stay                        NaN                NaN   \n",
       "count_of_medical_history           0.379083           0.478404   \n",
       "\n",
       "                          medical_history_3  medical_history_4  \\\n",
       "medical_history_1                       NaN                NaN   \n",
       "medical_history_2                       NaN                NaN   \n",
       "medical_history_3                  1.000000                NaN   \n",
       "medical_history_4                       NaN                1.0   \n",
       "medical_history_5                       NaN                NaN   \n",
       "medical_history_6                       NaN                NaN   \n",
       "medical_history_7                       NaN                NaN   \n",
       "preop_medication_1                      NaN                NaN   \n",
       "preop_medication_2                      NaN                NaN   \n",
       "preop_medication_3                      NaN                NaN   \n",
       "preop_medication_4                      NaN                NaN   \n",
       "preop_medication_5                      NaN                NaN   \n",
       "preop_medication_6                      NaN                NaN   \n",
       "symptom_1                               NaN                NaN   \n",
       "symptom_2                               NaN                NaN   \n",
       "symptom_3                               NaN                NaN   \n",
       "symptom_4                               NaN                NaN   \n",
       "symptom_5                               NaN                NaN   \n",
       "lab_result_1                            NaN                NaN   \n",
       "lab_result_2                            NaN                NaN   \n",
       "lab_result_3                            NaN                NaN   \n",
       "weight                                  NaN                NaN   \n",
       "height                                  NaN                NaN   \n",
       "amount                                  NaN                NaN   \n",
       "age_at_admission                        NaN                NaN   \n",
       "bmi                                     NaN                NaN   \n",
       "duration_of_stay                        NaN                NaN   \n",
       "count_of_medical_history           0.355241                NaN   \n",
       "\n",
       "                          medical_history_5  medical_history_6  \\\n",
       "medical_history_1                       NaN                NaN   \n",
       "medical_history_2                       NaN                NaN   \n",
       "medical_history_3                       NaN                NaN   \n",
       "medical_history_4                       NaN                NaN   \n",
       "medical_history_5                       1.0                NaN   \n",
       "medical_history_6                       NaN           1.000000   \n",
       "medical_history_7                       NaN                NaN   \n",
       "preop_medication_1                      NaN                NaN   \n",
       "preop_medication_2                      NaN                NaN   \n",
       "preop_medication_3                      NaN                NaN   \n",
       "preop_medication_4                      NaN                NaN   \n",
       "preop_medication_5                      NaN                NaN   \n",
       "preop_medication_6                      NaN                NaN   \n",
       "symptom_1                               NaN                NaN   \n",
       "symptom_2                               NaN                NaN   \n",
       "symptom_3                               NaN                NaN   \n",
       "symptom_4                               NaN                NaN   \n",
       "symptom_5                               NaN                NaN   \n",
       "lab_result_1                            NaN                NaN   \n",
       "lab_result_2                            NaN                NaN   \n",
       "lab_result_3                            NaN                NaN   \n",
       "weight                                  NaN                NaN   \n",
       "height                                  NaN                NaN   \n",
       "amount                                  NaN                NaN   \n",
       "age_at_admission                        NaN                NaN   \n",
       "bmi                                     NaN                NaN   \n",
       "duration_of_stay                        NaN                NaN   \n",
       "count_of_medical_history                NaN           0.440426   \n",
       "\n",
       "                          medical_history_7  preop_medication_1  \\\n",
       "medical_history_1                       NaN                 NaN   \n",
       "medical_history_2                       NaN                 NaN   \n",
       "medical_history_3                       NaN                 NaN   \n",
       "medical_history_4                       NaN                 NaN   \n",
       "medical_history_5                       NaN                 NaN   \n",
       "medical_history_6                       NaN                 NaN   \n",
       "medical_history_7                  1.000000                 NaN   \n",
       "preop_medication_1                      NaN                 1.0   \n",
       "preop_medication_2                      NaN                 NaN   \n",
       "preop_medication_3                      NaN                 NaN   \n",
       "preop_medication_4                      NaN                 NaN   \n",
       "preop_medication_5                      NaN                 NaN   \n",
       "preop_medication_6                      NaN                 NaN   \n",
       "symptom_1                               NaN                 NaN   \n",
       "symptom_2                               NaN                 NaN   \n",
       "symptom_3                               NaN                 NaN   \n",
       "symptom_4                               NaN                 NaN   \n",
       "symptom_5                               NaN                 NaN   \n",
       "lab_result_1                            NaN                 NaN   \n",
       "lab_result_2                            NaN                 NaN   \n",
       "lab_result_3                            NaN                 NaN   \n",
       "weight                                  NaN                 NaN   \n",
       "height                                  NaN                 NaN   \n",
       "amount                                  NaN                 NaN   \n",
       "age_at_admission                        NaN                 NaN   \n",
       "bmi                                     NaN                 NaN   \n",
       "duration_of_stay                        NaN                 NaN   \n",
       "count_of_medical_history           0.440048                 NaN   \n",
       "\n",
       "                          preop_medication_2  preop_medication_3  ...  \\\n",
       "medical_history_1                        NaN                 NaN  ...   \n",
       "medical_history_2                        NaN                 NaN  ...   \n",
       "medical_history_3                        NaN                 NaN  ...   \n",
       "medical_history_4                        NaN                 NaN  ...   \n",
       "medical_history_5                        NaN                 NaN  ...   \n",
       "medical_history_6                        NaN                 NaN  ...   \n",
       "medical_history_7                        NaN                 NaN  ...   \n",
       "preop_medication_1                       NaN                 NaN  ...   \n",
       "preop_medication_2                       1.0                 NaN  ...   \n",
       "preop_medication_3                       NaN                 1.0  ...   \n",
       "preop_medication_4                       NaN                 NaN  ...   \n",
       "preop_medication_5                       NaN                 NaN  ...   \n",
       "preop_medication_6                       NaN                 NaN  ...   \n",
       "symptom_1                                NaN                 NaN  ...   \n",
       "symptom_2                                NaN                 NaN  ...   \n",
       "symptom_3                                NaN                 NaN  ...   \n",
       "symptom_4                                NaN                 NaN  ...   \n",
       "symptom_5                                NaN                 NaN  ...   \n",
       "lab_result_1                             NaN                 NaN  ...   \n",
       "lab_result_2                             NaN                 NaN  ...   \n",
       "lab_result_3                             NaN                 NaN  ...   \n",
       "weight                                   NaN                 NaN  ...   \n",
       "height                                   NaN                 NaN  ...   \n",
       "amount                                   NaN                 NaN  ...   \n",
       "age_at_admission                         NaN                 NaN  ...   \n",
       "bmi                                      NaN                 NaN  ...   \n",
       "duration_of_stay                         NaN                 NaN  ...   \n",
       "count_of_medical_history                 NaN                 NaN  ...   \n",
       "\n",
       "                          lab_result_1  lab_result_2  lab_result_3    weight  \\\n",
       "medical_history_1                  NaN           NaN           NaN       NaN   \n",
       "medical_history_2                  NaN           NaN           NaN       NaN   \n",
       "medical_history_3                  NaN           NaN           NaN       NaN   \n",
       "medical_history_4                  NaN           NaN           NaN       NaN   \n",
       "medical_history_5                  NaN           NaN           NaN       NaN   \n",
       "medical_history_6                  NaN           NaN           NaN       NaN   \n",
       "medical_history_7                  NaN           NaN           NaN       NaN   \n",
       "preop_medication_1                 NaN           NaN           NaN       NaN   \n",
       "preop_medication_2                 NaN           NaN           NaN       NaN   \n",
       "preop_medication_3                 NaN           NaN           NaN       NaN   \n",
       "preop_medication_4                 NaN           NaN           NaN       NaN   \n",
       "preop_medication_5                 NaN           NaN           NaN       NaN   \n",
       "preop_medication_6                 NaN           NaN           NaN       NaN   \n",
       "symptom_1                          NaN           NaN           NaN       NaN   \n",
       "symptom_2                          NaN           NaN           NaN       NaN   \n",
       "symptom_3                          NaN           NaN           NaN       NaN   \n",
       "symptom_4                          NaN           NaN           NaN       NaN   \n",
       "symptom_5                          NaN           NaN           NaN       NaN   \n",
       "lab_result_1                       1.0           NaN           NaN       NaN   \n",
       "lab_result_2                       NaN           1.0           NaN       NaN   \n",
       "lab_result_3                       NaN           NaN           1.0       NaN   \n",
       "weight                             NaN           NaN           NaN  1.000000   \n",
       "height                             NaN           NaN           NaN       NaN   \n",
       "amount                             NaN           NaN           NaN       NaN   \n",
       "age_at_admission                   NaN           NaN           NaN       NaN   \n",
       "bmi                                NaN           NaN           NaN  0.816525   \n",
       "duration_of_stay                   NaN           NaN           NaN       NaN   \n",
       "count_of_medical_history           NaN           NaN           NaN       NaN   \n",
       "\n",
       "                          height    amount  age_at_admission       bmi  \\\n",
       "medical_history_1            NaN       NaN               NaN       NaN   \n",
       "medical_history_2            NaN       NaN               NaN       NaN   \n",
       "medical_history_3            NaN       NaN               NaN       NaN   \n",
       "medical_history_4            NaN       NaN               NaN       NaN   \n",
       "medical_history_5            NaN       NaN               NaN       NaN   \n",
       "medical_history_6            NaN       NaN               NaN       NaN   \n",
       "medical_history_7            NaN       NaN               NaN       NaN   \n",
       "preop_medication_1           NaN       NaN               NaN       NaN   \n",
       "preop_medication_2           NaN       NaN               NaN       NaN   \n",
       "preop_medication_3           NaN       NaN               NaN       NaN   \n",
       "preop_medication_4           NaN       NaN               NaN       NaN   \n",
       "preop_medication_5           NaN       NaN               NaN       NaN   \n",
       "preop_medication_6           NaN       NaN               NaN       NaN   \n",
       "symptom_1                    NaN       NaN               NaN       NaN   \n",
       "symptom_2                    NaN       NaN               NaN       NaN   \n",
       "symptom_3                    NaN       NaN               NaN       NaN   \n",
       "symptom_4                    NaN       NaN               NaN       NaN   \n",
       "symptom_5                    NaN  0.568540               NaN       NaN   \n",
       "lab_result_1                 NaN       NaN               NaN       NaN   \n",
       "lab_result_2                 NaN       NaN               NaN       NaN   \n",
       "lab_result_3                 NaN       NaN               NaN       NaN   \n",
       "weight                       NaN       NaN               NaN  0.816525   \n",
       "height                       1.0       NaN               NaN       NaN   \n",
       "amount                       NaN  1.000000          0.339792       NaN   \n",
       "age_at_admission             NaN  0.339792          1.000000       NaN   \n",
       "bmi                          NaN       NaN               NaN  1.000000   \n",
       "duration_of_stay             NaN       NaN               NaN       NaN   \n",
       "count_of_medical_history     NaN       NaN               NaN       NaN   \n",
       "\n",
       "                          duration_of_stay  count_of_medical_history  \n",
       "medical_history_1                      NaN                  0.379083  \n",
       "medical_history_2                      NaN                  0.478404  \n",
       "medical_history_3                      NaN                  0.355241  \n",
       "medical_history_4                      NaN                       NaN  \n",
       "medical_history_5                      NaN                       NaN  \n",
       "medical_history_6                      NaN                  0.440426  \n",
       "medical_history_7                      NaN                  0.440048  \n",
       "preop_medication_1                     NaN                       NaN  \n",
       "preop_medication_2                     NaN                       NaN  \n",
       "preop_medication_3                     NaN                       NaN  \n",
       "preop_medication_4                     NaN                       NaN  \n",
       "preop_medication_5                     NaN                       NaN  \n",
       "preop_medication_6                     NaN                       NaN  \n",
       "symptom_1                              NaN                       NaN  \n",
       "symptom_2                              NaN                       NaN  \n",
       "symptom_3                              NaN                       NaN  \n",
       "symptom_4                              NaN                       NaN  \n",
       "symptom_5                              NaN                       NaN  \n",
       "lab_result_1                           NaN                       NaN  \n",
       "lab_result_2                           NaN                       NaN  \n",
       "lab_result_3                           NaN                       NaN  \n",
       "weight                                 NaN                       NaN  \n",
       "height                                 NaN                       NaN  \n",
       "amount                                 NaN                       NaN  \n",
       "age_at_admission                       NaN                       NaN  \n",
       "bmi                                    NaN                       NaN  \n",
       "duration_of_stay                       1.0                       NaN  \n",
       "count_of_medical_history               NaN                  1.000000  \n",
       "\n",
       "[28 rows x 28 columns]"
      ]
     },
     "execution_count": 405,
     "metadata": {},
     "output_type": "execute_result"
    },
    {
     "data": {
      "text/plain": [
       "Text(0.5, 1, 'correlation heatmap for correlations above .3')"
      ]
     },
     "execution_count": 405,
     "metadata": {},
     "output_type": "execute_result"
    },
    {
     "data": {
      "image/png": "[encoded data removed]",
      "text/plain": [
       "<Figure size 432x288 with 2 Axes>"
      ]
     },
     "metadata": {
      "needs_background": "light"
     },
     "output_type": "display_data"
    }
   ],
   "source": [
    "corr = df.corr()\n",
    "\n",
    "temp= corr[corr>.3]\n",
    "#filtering correlations with correlation above .3\n",
    "sns.heatmap(temp, cbar=\"YlGnBu\")\n",
    "plt.title('correlation heatmap for correlations above .3')"
   ]
  },
  {
   "cell_type": "markdown",
   "metadata": {},
   "source": [
    "#### Inference\n",
    "- **medium Correlation found between Medical history 1,2,3 and duration of stay**\n",
    "- **low correlation found between amount and age at admission**\n",
    "- **medium correlation found between weight and bmi**\n",
    "- **medium correlation found between symptom 5 and amount**\n",
    "\n"
   ]
  }
 ],
 "metadata": {
  "kernelspec": {
   "display_name": "Python 3",
   "language": "python",
   "name": "python3"
  },
  "language_info": {
   "codemirror_mode": {
    "name": "ipython",
    "version": 3
   },
   "file_extension": ".py",
   "mimetype": "text/x-python",
   "name": "python",
   "nbconvert_exporter": "python",
   "pygments_lexer": "ipython3",
   "version": "3.7.7"
  }
 },
 "nbformat": 4,
 "nbformat_minor": 4
}
