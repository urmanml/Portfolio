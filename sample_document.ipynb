{
 "cells": [
  {
   "cell_type": "code",
   "execution_count": 1,
   "metadata": {},
   "outputs": [
    {
     "data": {
      "text/html": [
       "<div>\n",
       "<style scoped>\n",
       "    .dataframe tbody tr th:only-of-type {\n",
       "        vertical-align: middle;\n",
       "    }\n",
       "\n",
       "    .dataframe tbody tr th {\n",
       "        vertical-align: top;\n",
       "    }\n",
       "\n",
       "    .dataframe thead th {\n",
       "        text-align: right;\n",
       "    }\n",
       "</style>\n",
       "<table border=\"1\" class=\"dataframe\">\n",
       "  <thead>\n",
       "    <tr style=\"text-align: right;\">\n",
       "      <th></th>\n",
       "      <th>Number</th>\n",
       "      <th>Name</th>\n",
       "      <th>Type</th>\n",
       "      <th>Explanation</th>\n",
       "      <th>Distinct values according to data dictionary</th>\n",
       "      <th>Distinct values in data set</th>\n",
       "      <th>Remark</th>\n",
       "    </tr>\n",
       "  </thead>\n",
       "  <tbody>\n",
       "    <tr>\n",
       "      <th>0</th>\n",
       "      <td>1</td>\n",
       "      <td>NUMLENI</td>\n",
       "      <td>continuous</td>\n",
       "      <td>Number of the loan (ID field)</td>\n",
       "      <td>NaN</td>\n",
       "      <td>NaN</td>\n",
       "      <td>NaN</td>\n",
       "    </tr>\n",
       "    <tr>\n",
       "      <th>1</th>\n",
       "      <td>2</td>\n",
       "      <td>BLENIA1</td>\n",
       "      <td>continuous</td>\n",
       "      <td>Loan amount</td>\n",
       "      <td>NaN</td>\n",
       "      <td>NaN</td>\n",
       "      <td>NaN</td>\n",
       "    </tr>\n",
       "    <tr>\n",
       "      <th>2</th>\n",
       "      <td>3</td>\n",
       "      <td>BFACTA1</td>\n",
       "      <td>continuous</td>\n",
       "      <td>Invoiced amount</td>\n",
       "      <td>NaN</td>\n",
       "      <td>NaN</td>\n",
       "      <td>NaN</td>\n",
       "    </tr>\n",
       "    <tr>\n",
       "      <th>3</th>\n",
       "      <td>4</td>\n",
       "      <td>PLASTA1</td>\n",
       "      <td>continuous</td>\n",
       "      <td>lastenpercentage</td>\n",
       "      <td>NaN</td>\n",
       "      <td>NaN</td>\n",
       "      <td>NaN</td>\n",
       "    </tr>\n",
       "    <tr>\n",
       "      <th>4</th>\n",
       "      <td>5</td>\n",
       "      <td>PDUURA2</td>\n",
       "      <td>continuous</td>\n",
       "      <td>Duration in months</td>\n",
       "      <td>NaN</td>\n",
       "      <td>NaN</td>\n",
       "      <td>NaN</td>\n",
       "    </tr>\n",
       "  </tbody>\n",
       "</table>\n",
       "</div>"
      ],
      "text/plain": [
       "   Number     Name        Type                    Explanation  \\\n",
       "0       1  NUMLENI  continuous  Number of the loan (ID field)   \n",
       "1       2  BLENIA1  continuous                    Loan amount   \n",
       "2       3  BFACTA1  continuous                Invoiced amount   \n",
       "3       4  PLASTA1  continuous               lastenpercentage   \n",
       "4       5  PDUURA2  continuous             Duration in months   \n",
       "\n",
       "   Distinct values according to data dictionary  Distinct values in data set  \\\n",
       "0                                           NaN                          NaN   \n",
       "1                                           NaN                          NaN   \n",
       "2                                           NaN                          NaN   \n",
       "3                                           NaN                          NaN   \n",
       "4                                           NaN                          NaN   \n",
       "\n",
       "   Remark  \n",
       "0     NaN  \n",
       "1     NaN  \n",
       "2     NaN  \n",
       "3     NaN  \n",
       "4     NaN  "
      ]
     },
     "execution_count": 1,
     "metadata": {},
     "output_type": "execute_result"
    }
   ],
   "source": [
    "import sys,os, pandas as pd\n",
    "os.chdir('D:\\Python WD\\profit_maximizing_classifier')\n",
    "dictionary= pd.read_excel(\"data/auto-encoder data/dictionary.xlsx\", sheet_name='dictionary')\n",
    "dictionary.head(5)\n",
    "\n",
    "#markdown"
   ]
  },
  {
   "cell_type": "code",
   "execution_count": 5,
   "metadata": {},
   "outputs": [
    {
     "data": {
      "text/plain": [
       "[<matplotlib.lines.Line2D at 0x287e929d288>]"
      ]
     },
     "execution_count": 5,
     "metadata": {},
     "output_type": "execute_result"
    },
    {
     "data": {
      "image/png": "[encoded data removed]",
      "text/plain": [
       "<Figure size 432x288 with 1 Axes>"
      ]
     },
     "metadata": {
      "needs_background": "light"
     },
     "output_type": "display_data"
    }
   ],
   "source": [
    "#plotting the chart\n",
    "import matplotlib.pyplot as plt\n",
    "plt.plot([1,2,3],[2,2,2])"
   ]
  },
  {
   "cell_type": "code",
   "execution_count": null,
   "metadata": {},
   "outputs": [],
   "source": []
  }
 ],
 "metadata": {
  "kernelspec": {
   "display_name": "Python 3",
   "language": "python",
   "name": "python3"
  },
  "language_info": {
   "codemirror_mode": {
    "name": "ipython",
    "version": 3
   },
   "file_extension": ".py",
   "mimetype": "text/x-python",
   "name": "python",
   "nbconvert_exporter": "python",
   "pygments_lexer": "ipython3",
   "version": "3.7.6"
  }
 },
 "nbformat": 4,
 "nbformat_minor": 4
}
