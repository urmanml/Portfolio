{
 "cells": [
  {
   "cell_type": "markdown",
   "metadata": {},
   "source": [
    "# Loans Dataset\n",
    "### Library imports and setting up the environment"
   ]
  },
  {
   "cell_type": "code",
   "execution_count": 145,
   "metadata": {},
   "outputs": [],
   "source": [
    "\n",
    "import os, sys, pandas as pd, numpy as np\n",
    "import matplotlib.pyplot as plt\n",
    "seed=1234\n",
    "sys.path.append(os.path.abspath('D:\\Python WD\\codebase'))\n",
    "from my_utilities import functions\n",
    "from my_utilities import eda_utilities\n",
    "import importlib\n",
    "importlib.reload(functions)\n",
    "os.getcwd()\n",
    "os.chdir(\"D:\\Python WD\\profit_maximizing_classifier\")\n",
    "import warnings\n",
    "warnings.filterwarnings('ignore')\n",
    "warnings.simplefilter('ignore')\n",
    "from local_functions import tune_estimators"
   ]
  },
  {
   "cell_type": "markdown",
   "metadata": {},
   "source": [
    "### Data load\n",
    "- data reading\n",
    "- data type conversion to required format\n",
    "- rename target variables to represent 1 as positive class(bad loan) and 0 as negative class"
   ]
  },
  {
   "cell_type": "code",
   "execution_count": 146,
   "metadata": {},
   "outputs": [
    {
     "name": "stdout",
     "output_type": "stream",
     "text": [
      "Displaying sample rows of dataset\n"
     ]
    },
    {
     "data": {
      "text/html": [
       "<div>\n",
       "<style scoped>\n",
       "    .dataframe tbody tr th:only-of-type {\n",
       "        vertical-align: middle;\n",
       "    }\n",
       "\n",
       "    .dataframe tbody tr th {\n",
       "        vertical-align: top;\n",
       "    }\n",
       "\n",
       "    .dataframe thead th {\n",
       "        text-align: right;\n",
       "    }\n",
       "</style>\n",
       "<table border=\"1\" class=\"dataframe\">\n",
       "  <thead>\n",
       "    <tr style=\"text-align: right;\">\n",
       "      <th></th>\n",
       "      <th>NUMLENI</th>\n",
       "      <th>BLENIA1</th>\n",
       "      <th>BFACTA1</th>\n",
       "      <th>PLASTA1</th>\n",
       "      <th>PDUURA2</th>\n",
       "      <th>CDOELA2</th>\n",
       "      <th>CGEBRA1</th>\n",
       "      <th>BMENSA1</th>\n",
       "      <th>BSPARA11</th>\n",
       "      <th>BUITGA21</th>\n",
       "      <th>...</th>\n",
       "      <th>DCLIEA11</th>\n",
       "      <th>DLLENA11</th>\n",
       "      <th>ACONTCV1</th>\n",
       "      <th>ACONTTM1</th>\n",
       "      <th>ACONTHY1</th>\n",
       "      <th>APERSA11</th>\n",
       "      <th>CECOTA11</th>\n",
       "      <th>CVOLTA11</th>\n",
       "      <th>CAANSA11</th>\n",
       "      <th>CLASS</th>\n",
       "    </tr>\n",
       "  </thead>\n",
       "  <tbody>\n",
       "    <tr>\n",
       "      <th>0</th>\n",
       "      <td>68815941.0</td>\n",
       "      <td>600001.0</td>\n",
       "      <td>0.0</td>\n",
       "      <td>0.25</td>\n",
       "      <td>60.0</td>\n",
       "      <td>7.0</td>\n",
       "      <td>1</td>\n",
       "      <td>11500.0</td>\n",
       "      <td>0.0</td>\n",
       "      <td>5534.0</td>\n",
       "      <td>...</td>\n",
       "      <td>0.0</td>\n",
       "      <td>0.0</td>\n",
       "      <td>1.0</td>\n",
       "      <td>0.0</td>\n",
       "      <td>0.0</td>\n",
       "      <td>0.0</td>\n",
       "      <td>10</td>\n",
       "      <td>1</td>\n",
       "      <td>1</td>\n",
       "      <td>1</td>\n",
       "    </tr>\n",
       "    <tr>\n",
       "      <th>1</th>\n",
       "      <td>70491617.0</td>\n",
       "      <td>300001.0</td>\n",
       "      <td>450000.0</td>\n",
       "      <td>0.38</td>\n",
       "      <td>48.0</td>\n",
       "      <td>3.0</td>\n",
       "      <td>1</td>\n",
       "      <td>7390.0</td>\n",
       "      <td>0.0</td>\n",
       "      <td>0.0</td>\n",
       "      <td>...</td>\n",
       "      <td>0.0</td>\n",
       "      <td>0.0</td>\n",
       "      <td>0.0</td>\n",
       "      <td>0.0</td>\n",
       "      <td>0.0</td>\n",
       "      <td>3.0</td>\n",
       "      <td>10</td>\n",
       "      <td>1</td>\n",
       "      <td>1</td>\n",
       "      <td>0</td>\n",
       "    </tr>\n",
       "    <tr>\n",
       "      <th>2</th>\n",
       "      <td>68474926.0</td>\n",
       "      <td>400001.0</td>\n",
       "      <td>478400.0</td>\n",
       "      <td>0.23</td>\n",
       "      <td>48.0</td>\n",
       "      <td>1.0</td>\n",
       "      <td>2</td>\n",
       "      <td>9253.0</td>\n",
       "      <td>0.0</td>\n",
       "      <td>0.0</td>\n",
       "      <td>...</td>\n",
       "      <td>7.0</td>\n",
       "      <td>4.0</td>\n",
       "      <td>1.0</td>\n",
       "      <td>0.0</td>\n",
       "      <td>1.0</td>\n",
       "      <td>1.0</td>\n",
       "      <td>50</td>\n",
       "      <td>1</td>\n",
       "      <td>1</td>\n",
       "      <td>0</td>\n",
       "    </tr>\n",
       "    <tr>\n",
       "      <th>3</th>\n",
       "      <td>69845858.0</td>\n",
       "      <td>937000.0</td>\n",
       "      <td>937750.0</td>\n",
       "      <td>0.25</td>\n",
       "      <td>48.0</td>\n",
       "      <td>1.0</td>\n",
       "      <td>1</td>\n",
       "      <td>21863.0</td>\n",
       "      <td>0.0</td>\n",
       "      <td>0.0</td>\n",
       "      <td>...</td>\n",
       "      <td>6.0</td>\n",
       "      <td>0.0</td>\n",
       "      <td>0.0</td>\n",
       "      <td>1.0</td>\n",
       "      <td>0.0</td>\n",
       "      <td>0.0</td>\n",
       "      <td>10</td>\n",
       "      <td>1</td>\n",
       "      <td>1</td>\n",
       "      <td>0</td>\n",
       "    </tr>\n",
       "    <tr>\n",
       "      <th>4</th>\n",
       "      <td>68451280.0</td>\n",
       "      <td>101000.0</td>\n",
       "      <td>0.0</td>\n",
       "      <td>0.65</td>\n",
       "      <td>30.0</td>\n",
       "      <td>5.0</td>\n",
       "      <td>1</td>\n",
       "      <td>4023.0</td>\n",
       "      <td>0.0</td>\n",
       "      <td>0.0</td>\n",
       "      <td>...</td>\n",
       "      <td>0.0</td>\n",
       "      <td>0.0</td>\n",
       "      <td>0.0</td>\n",
       "      <td>0.0</td>\n",
       "      <td>0.0</td>\n",
       "      <td>1.0</td>\n",
       "      <td>10</td>\n",
       "      <td>1</td>\n",
       "      <td>1</td>\n",
       "      <td>0</td>\n",
       "    </tr>\n",
       "  </tbody>\n",
       "</table>\n",
       "<p>5 rows × 29 columns</p>\n",
       "</div>"
      ],
      "text/plain": [
       "      NUMLENI   BLENIA1   BFACTA1  PLASTA1  PDUURA2 CDOELA2 CGEBRA1  BMENSA1  \\\n",
       "0  68815941.0  600001.0       0.0     0.25     60.0     7.0       1  11500.0   \n",
       "1  70491617.0  300001.0  450000.0     0.38     48.0     3.0       1   7390.0   \n",
       "2  68474926.0  400001.0  478400.0     0.23     48.0     1.0       2   9253.0   \n",
       "3  69845858.0  937000.0  937750.0     0.25     48.0     1.0       1  21863.0   \n",
       "4  68451280.0  101000.0       0.0     0.65     30.0     5.0       1   4023.0   \n",
       "\n",
       "   BSPARA11  BUITGA21  ...  DCLIEA11  DLLENA11  ACONTCV1  ACONTTM1 ACONTHY1  \\\n",
       "0       0.0    5534.0  ...       0.0       0.0       1.0       0.0      0.0   \n",
       "1       0.0       0.0  ...       0.0       0.0       0.0       0.0      0.0   \n",
       "2       0.0       0.0  ...       7.0       4.0       1.0       0.0      1.0   \n",
       "3       0.0       0.0  ...       6.0       0.0       0.0       1.0      0.0   \n",
       "4       0.0       0.0  ...       0.0       0.0       0.0       0.0      0.0   \n",
       "\n",
       "  APERSA11  CECOTA11 CVOLTA11 CAANSA11  CLASS  \n",
       "0      0.0        10        1        1      1  \n",
       "1      3.0        10        1        1      0  \n",
       "2      1.0        50        1        1      0  \n",
       "3      0.0        10        1        1      0  \n",
       "4      1.0        10        1        1      0  \n",
       "\n",
       "[5 rows x 29 columns]"
      ]
     },
     "execution_count": 146,
     "metadata": {},
     "output_type": "execute_result"
    }
   ],
   "source": [
    "###################################################################################\n",
    "\"\"\"data load\"\"\"\n",
    "dictionary= pd.read_excel(\"data/auto-encoder data/dictionary.xlsx\", sheet_name='dictionary')\n",
    "dataset= pd.read_csv(\"data/auto-encoder data/bene1cont.txt\", sep='\\t', header= None)\n",
    "dataset.columns= dictionary['Name'].to_list()\n",
    "dictionary.loc[dictionary['Type']=='continuous','Dtype']= 'float'\n",
    "dictionary.loc[dictionary['Type']=='nominal','Dtype']= 'category'\n",
    "dtype_dict= dict(dictionary[['Name','Dtype']].values)\n",
    "dataset= dataset.astype(dtype_dict)\n",
    "target= \"CLASS\"\n",
    "dataset[target]= dataset[target].cat.rename_categories({1:0, 2:1})\n",
    "print(\"Displaying sample rows of dataset\")\n",
    "dataset.head(5)\n"
   ]
  },
  {
   "cell_type": "markdown",
   "metadata": {},
   "source": [
    "### Extract list of category and numeric columns"
   ]
  },
  {
   "cell_type": "code",
   "execution_count": 147,
   "metadata": {},
   "outputs": [],
   "source": [
    "#####################################################################\n",
    "\n",
    "category_columns= dataset.select_dtypes(['category']).columns.to_list()\n",
    "numeric_columns= dataset.select_dtypes(['float64']).columns.to_list()\n",
    "target= \"CLASS\""
   ]
  },
  {
   "cell_type": "markdown",
   "metadata": {},
   "source": [
    "### Generating distribution of target variable"
   ]
  },
  {
   "cell_type": "code",
   "execution_count": 148,
   "metadata": {},
   "outputs": [
    {
     "name": "stdout",
     "output_type": "stream",
     "text": [
      "1: Bad Loan(Positive class) | 0: Good Loan\n",
      "Positive class is twice as much as negative class\n"
     ]
    }
   ],
   "source": [
    "print(\"1: Bad Loan(Positive class) | 0: Good Loan\")\n",
    "dataset[target].value_counts()\n",
    "print(\"Positive class is twice as much as negative class\")"
   ]
  },
  {
   "cell_type": "markdown",
   "metadata": {},
   "source": [
    "### Converting categorical variables to numeric <b>\n",
    "- Extracting list of columns to encode <b>\n",
    "- Using One hot encoding to perform the encoding <b>"
   ]
  },
  {
   "cell_type": "code",
   "execution_count": 149,
   "metadata": {},
   "outputs": [
    {
     "name": "stdout",
     "output_type": "stream",
     "text": [
      "Checking the datatypes of variables\n",
      "Category variables have been one hot encoded\n"
     ]
    },
    {
     "data": {
      "text/plain": [
       "NUMLENI      float64\n",
       "BLENIA1      float64\n",
       "BFACTA1      float64\n",
       "PLASTA1      float64\n",
       "PDUURA2      float64\n",
       "CDOELA2     category\n",
       "CGEBRA1     category\n",
       "BMENSA1      float64\n",
       "BSPARA11     float64\n",
       "BUITGA21     float64\n",
       "BINKOA11     float64\n",
       "DBEGIA21     float64\n",
       "DVERBA11     float64\n",
       "DGEBOA11     float64\n",
       "CPRIVA11    category\n",
       "CBURGA11    category\n",
       "DVERBA21     float64\n",
       "CTROSA11    category\n",
       "CEIGEA11    category\n",
       "DCLIEA11     float64\n",
       "DLLENA11     float64\n",
       "ACONTCV1     float64\n",
       "ACONTTM1     float64\n",
       "ACONTHY1     float64\n",
       "APERSA11     float64\n",
       "CECOTA11    category\n",
       "CVOLTA11    category\n",
       "CAANSA11    category\n",
       "CLASS       category\n",
       "dtype: object"
      ]
     },
     "execution_count": 149,
     "metadata": {},
     "output_type": "execute_result"
    }
   ],
   "source": [
    "\"\"\"category variable encoding\"\"\"\n",
    "columns= ['CDOELA2',\n",
    " 'CGEBRA1',\n",
    " 'CPRIVA11',\n",
    " 'CBURGA11',\n",
    " 'CTROSA11',\n",
    " 'CEIGEA11',\n",
    " 'CECOTA11',\n",
    " 'CVOLTA11',\n",
    " 'CAANSA11']\n",
    "dataset_ohe=pd.get_dummies(dataset, columns=columns)\n",
    "print(\"Checking the datatypes of variables\")\n",
    "print(\"Category variables have been one hot encoded\")\n",
    "dataset.dtypes\n"
   ]
  },
  {
   "cell_type": "markdown",
   "metadata": {},
   "source": [
    "### Split data\n",
    "- Train test data has been split in 70-30% proportion\n",
    "- Stratified sampling has been performed on the basis of target variable to maintain its ratio in train and test sets"
   ]
  },
  {
   "cell_type": "code",
   "execution_count": 150,
   "metadata": {},
   "outputs": [
    {
     "name": "stdout",
     "output_type": "stream",
     "text": [
      "Rows of train and test set\n"
     ]
    },
    {
     "data": {
      "text/plain": [
       "(2186, 937)"
      ]
     },
     "execution_count": 150,
     "metadata": {},
     "output_type": "execute_result"
    }
   ],
   "source": [
    "from source import local_functions\n",
    "X, test_X, Y, test_Y= local_functions.split_data_X_Y(dataset_ohe, target)\n",
    "print(\"Rows of train and test set\")\n",
    "X.shape[0], test_X.shape[0]\n"
   ]
  },
  {
   "cell_type": "markdown",
   "metadata": {},
   "source": [
    "### Define estimators <br>  \n",
    "1) All model estimators are defined in a list <br>\n",
    "2) The location of model in the list is as follows: <br>  \n",
    "\n",
    "- 'logistic':0 <br>\n",
    "- 'tree': 1 <br>\n",
    "- 'xgboost':2 <br>\n",
    "- 'proflogit':3 <br>\n",
    "- 'proftree':4 <br>\n",
    "- 'profxgboost':5 <br>"
   ]
  },
  {
   "cell_type": "code",
   "execution_count": 151,
   "metadata": {},
   "outputs": [
    {
     "name": "stdout",
     "output_type": "stream",
     "text": [
      "For profX models, a cost factor is used while defining the models. It is the relative cost of having a False Positive to that of a False Negative\n",
      "A cost factor of: 0.2 has been used for this model\n",
      "Models are defined into list called estimator_list. Consecutive elements of the list are different models\n"
     ]
    }
   ],
   "source": [
    "from source import local_functions\n",
    "importlib.reload(local_functions)\n",
    "print(\"For profX models, a cost factor is used while defining the models. It is the relative cost of having a False Positive to that of a False Negative\")\n",
    "cost_factor= .2\n",
    "print(\"A cost factor of: \"+str(cost_factor)+\" has been used for this model\")\n",
    "estimator_list= local_functions.define_estimators(cost_factor= .2)\n",
    "model_dict= {\n",
    "    'Logistic':0,'Tree': 1, 'XGBoost':2,\n",
    "    'ProfLogit':3,'ProfTree':4,'ProfXGBoost':5\n",
    "}\n",
    "print(\"Models are defined into list called estimator_list. Consecutive elements of the list are different models\")"
   ]
  },
  {
   "cell_type": "markdown",
   "metadata": {},
   "source": [
    "### Fit models\n",
    "- Fitting each model to the training set\n",
    "- Model fit logic is defined in the custom function *fit_estimators()*\n",
    "- This functions is consuming the list of models and trains all the models and returning the trained models "
   ]
  },
  {
   "cell_type": "code",
   "execution_count": 152,
   "metadata": {},
   "outputs": [],
   "source": [
    "\n",
    "estimator_list= local_functions.fit_estimators(X, Y, estimator_list)\n"
   ]
  },
  {
   "cell_type": "markdown",
   "metadata": {},
   "source": [
    "### Tune the models\n",
    "- Tuning each model with their respective model hyperparameters to obtain maximum accuracy of the classifier\n",
    "    - For example in a decision tree we are tuning for Max depth hyperparameter\n",
    "    - For XGBoost, we are tuning the number of estimators\n",
    "    - We are using random search as the search strategy for hyperparameter tuning     \n",
    "    \n",
    "- Model tuning logic is defined in the custom function *tune_estimators()*\n",
    "- This functions is doing the following\n",
    "    - Consuming the list of models\n",
    "    - Finding the best hyperparameter combinations using 5 fold cross validation\n",
    "    - Training all the models again using the best hyperparameters on the complete training dataset"
   ]
  },
  {
   "cell_type": "code",
   "execution_count": null,
   "metadata": {},
   "outputs": [],
   "source": [
    "estimator_list= local_functions.tune_estimators(X, Y, estimator_list, n_iter= 100)\n",
    "print(\"All estimators tuned\")\n",
    "\n"
   ]
  },
  {
   "cell_type": "code",
   "execution_count": null,
   "metadata": {},
   "outputs": [],
   "source": [
    "\"\"\"\n",
    "print(\"Printing best parameters for Logistic\")\n",
    "print(estimator_list[model_dict['Logistic']].get_params)\n",
    "print(\"\\nPrinting best parameters for Tree\")\n",
    "print(estimator_list[model_dict['Tree']].get_params)\n",
    "print(\"\\nPrinting best parameters for XGBoost\")\n",
    "print(estimator_list[model_dict['XGBoost']].get_params)\n",
    "print(\"\\nPrinting best parameters for ProfLogit\")\n",
    "print(estimator_list[model_dict['ProfLogit']].get_params)\n",
    "print(\"\\nPrinting best parameters for ProfTree\")\n",
    "print(estimator_list[model_dict['ProfTree']].get_params)\n",
    "print(\"\\nPrinting best parameters for ProfXGBoost\")\n",
    "print(estimator_list[model_dict['ProfXGBoost']].get_params)\n",
    "\"\"\""
   ]
  },
  {
   "cell_type": "markdown",
   "metadata": {},
   "source": [
    "### Extracting important features selected using Genetic Algorithm in ProfX algorithms\n",
    "- Prof_X algorithms( Tree, XGboost, Logit) are equipped with feature selection to mask out all the noise and focus only on the important features"
   ]
  },
  {
   "cell_type": "code",
   "execution_count": null,
   "metadata": {},
   "outputs": [],
   "source": [
    "selected_features=pd.Series(dtype='object')\n",
    "importlib.reload(local_functions)\n",
    "estimator_list[model_dict['ProfLogit']], selected_features['ProfLogit']= local_functions.GeneticAlgorithm(estimator_list[3], X, Y, n_generations= 50)\n",
    "estimator_list[model_dict['ProfTree']], selected_features['ProfTree']= local_functions.GeneticAlgorithm(estimator_list[4], X, Y, n_generations= 50)\n",
    "estimator_list[model_dict['ProfXGBoost']], selected_features['ProfXGBoost']= local_functions.GeneticAlgorithm(estimator_list[5], X, Y, n_generations= 50)\n"
   ]
  },
  {
   "cell_type": "markdown",
   "metadata": {},
   "source": [
    "### Printing selected features in ProfX algorithms\n",
    "- ProfLogit\n",
    "- ProfTree\n",
    "- ProfXGBoost"
   ]
  },
  {
   "cell_type": "code",
   "execution_count": 164,
   "metadata": {},
   "outputs": [
    {
     "name": "stdout",
     "output_type": "stream",
     "text": [
      "Selected Features for ProfLogit: \n",
      "['CDOELA2_1.0', 'CDOELA2_5.0']\n",
      "\n",
      "Selected Features for ProfTree\n",
      "['NUMLENI', 'BLENIA1', 'PLASTA1', 'PDUURA2', 'BSPARA11', 'BINKOA11', 'DGEBOA11', 'DCLIEA11', 'DLLENA11', 'APERSA11', 'CDOELA2_2.0', 'CDOELA2_4.0', 'CECOTA11_10', 'CECOTA11_30', 'CECOTA11_60', 'CVOLTA11_1', 'CVOLTA11_3']\n",
      "\n",
      "Selected Features for ProfXGBoost\n",
      "['NUMLENI', 'BLENIA1', 'BFACTA1', 'PLASTA1', 'BMENSA1', 'BSPARA11', 'BINKOA11', 'DBEGIA21', 'DVERBA11', 'DGEBOA11', 'DVERBA21', 'DLLENA11', 'CDOELA2_5.0', 'CEIGEA11_3', 'CEIGEA11_9', 'CECOTA11_30', 'CECOTA11_40', 'CECOTA11_60', 'CAANSA11_2']\n"
     ]
    }
   ],
   "source": [
    "print(\"Selected Features for ProfLogit: \")\n",
    "print(selected_features['ProfLogit'].tolist())\n",
    "print(\"\\nSelected Features for ProfTree\")\n",
    "print(selected_features['ProfTree'].tolist())\n",
    "print(\"\\nSelected Features for ProfXGBoost\")\n",
    "print(selected_features['ProfXGBoost'].tolist())"
   ]
  },
  {
   "cell_type": "markdown",
   "metadata": {},
   "source": [
    "### evaluate estimators\n",
    "- Evaluation is done using a custom function *evaluate_estimators()*\n",
    "- This function evaluates the data on the test set\n",
    "- It computes the following metrics:  \n",
    "    - Accuracy\n",
    "    - F1 score\n",
    "    - AUC\n",
    "    - Gini\n",
    "    - Total Profit \n",
    "        - Computes the total profit in the dataset\n",
    "        - Total profit= Profit from good loans given (number of False negatives)- Loss from bad loans given (number of False Negatives)- Loss from potentially good loans not given (number of False Positives)\n",
    "    - Loss index (custom metric)\n",
    "        - Standardizes the Loss(due to False negatives and False Positives) for any given dataset\n",
    "        - Maximum value of the loss index will be 1 when all bad loans are approved\n",
    "        - Minimum value of loss index will be 0 when no misclassification is there\n",
    "   "
   ]
  },
  {
   "cell_type": "code",
   "execution_count": null,
   "metadata": {},
   "outputs": [],
   "source": [
    "\"\"\"evaluate estimators\"\"\"\n",
    "metrics_list= local_functions.evaluate_estimators(test_X, test_Y, estimator_list)"
   ]
  },
  {
   "cell_type": "markdown",
   "metadata": {},
   "source": [
    "### Storing model objects\n",
    "storing trained models and metrics for reproducing later as required"
   ]
  },
  {
   "cell_type": "code",
   "execution_count": 154,
   "metadata": {},
   "outputs": [],
   "source": [
    "\"\"\"save the estimators into model objects\"\"\"\n",
    "import joblib\n",
    "\"\"\"\n",
    "joblib.dump(estimator_list, \"model_objects/estimator_list\")\n",
    "joblib.dump(metrics_list, \"model_objects/metrics_list\")\n",
    "joblib.dump(selected_features, \"model_objects/selected_features\")\n",
    "\"\"\"\n",
    "###################################################\n",
    "\n",
    "estimator_list= joblib.load(\"model_objects/estimator_list\")\n",
    "metrics_list= joblib.load(\"model_objects/metrics_list\")\n",
    "selected_features= joblib.load(\"model_objects/selected_features\")\n"
   ]
  },
  {
   "cell_type": "markdown",
   "metadata": {},
   "source": [
    "## Comparing performance of models\n",
    "Metrics selected:['accuracy_score','auc','recall_score','precision_score','loss_index', 'total_loss', 'total_profit']\n",
    "\n",
    "### 1)  Comparison of ProfXGBoost vs XGBoost\n"
   ]
  },
  {
   "cell_type": "markdown",
   "metadata": {},
   "source": [
    "#### a) Comparison of Total Profit between XGBoost and ProfXGBoost"
   ]
  },
  {
   "cell_type": "code",
   "execution_count": 155,
   "metadata": {},
   "outputs": [
    {
     "data": {
      "image/png": "[encoded data removed]",
      "text/plain": [
       "<Figure size 432x288 with 1 Axes>"
      ]
     },
     "metadata": {
      "needs_background": "light"
     },
     "output_type": "display_data"
    },
    {
     "data": {
      "image/png": "[encoded data removed]",
      "text/plain": [
       "<Figure size 432x288 with 1 Axes>"
      ]
     },
     "metadata": {
      "needs_background": "light"
     },
     "output_type": "display_data"
    }
   ],
   "source": [
    "metrics= ['accuracy_score','auc','gini','loss_index', 'total_loss', 'total_profit']\n",
    "a= metrics_list[model_dict['XGBoost']]['total_profit']\n",
    "b= metrics_list[model_dict['ProfXGBoost']]['total_profit']\n",
    "\n",
    "def plot_metric_comparison(metrics_list, x=['XGBoost','ProfXGBoost'],y='total_profit'):\n",
    "    import matplotlib.pyplot as plt, seaborn as sns\n",
    "    sns.barplot(x= x,y= [ metrics_list[model_dict[x[0]]][y], metrics_list[model_dict[x[1]]][y]])\n",
    "    plt.title('Comparison of '+y+' of '+x[0]+' and '+x[1] )\n",
    "    plt.show()\n",
    "plot_metric_comparison(metrics_list, x=['XGBoost','ProfXGBoost'],y='total_profit')\n",
    "plot_metric_comparison(metrics_list, x=['XGBoost','ProfXGBoost'],y='loss_index')\n"
   ]
  },
  {
   "cell_type": "markdown",
   "metadata": {},
   "source": [
    "#### 2) Reporting other metrics for XGBoost and ProfXGBoost"
   ]
  },
  {
   "cell_type": "code",
   "execution_count": 156,
   "metadata": {},
   "outputs": [
    {
     "name": "stdout",
     "output_type": "stream",
     "text": [
      "  Performance Metric   XGBoost ProfXGBoost\n",
      "0     accuracy_score  0.708645    0.699039\n",
      "1                auc   0.65319    0.580982\n",
      "2               gini  0.552256    0.490251\n",
      "3         loss_index  0.128958   0.0793312\n",
      "4         total_loss       725         446\n",
      "5       total_profit      1835        2474\n"
     ]
    }
   ],
   "source": [
    "metrics= ['accuracy_score','auc','gini','loss_index', 'total_loss', 'total_profit']\n",
    "def tabulate_metric_comparison(metrics_list, estimators=['XGBoost','ProfXGBoost'], metrics=['auc','accuracy_score']):\n",
    "    a= metrics_list[model_dict[estimators[0]]][metrics]\n",
    "    b= metrics_list[model_dict[estimators[1]]][metrics]\n",
    "    df=pd.DataFrame({estimators[0]: a,estimators[1]: b}).reset_index().rename(columns={'index':'Performance Metric'})\n",
    "    print(df)\n",
    "metric_table= tabulate_metric_comparison(metrics_list, estimators=['XGBoost','ProfXGBoost'],metrics= metrics)\n",
    "metric_table"
   ]
  },
  {
   "cell_type": "code",
   "execution_count": 157,
   "metadata": {},
   "outputs": [
    {
     "data": {
      "image/png": "[encoded data removed]",
      "text/plain": [
       "<Figure size 432x288 with 1 Axes>"
      ]
     },
     "metadata": {
      "needs_background": "light"
     },
     "output_type": "display_data"
    }
   ],
   "source": [
    "plot_metric_comparison(metrics_list, x=['XGBoost','ProfXGBoost'],y='accuracy_score')"
   ]
  },
  {
   "cell_type": "markdown",
   "metadata": {},
   "source": [
    "#### Inference: \n",
    "- In Total Profit, ProfXGBoost outperforms XGBoost a few times\n",
    "- In traditional classification metrics like accuracy, XGBoost still performs better than ProfXGBoost\n",
    "\n",
    "It remains upon the specific use case, which algorithm should be used.\n"
   ]
  },
  {
   "cell_type": "markdown",
   "metadata": {},
   "source": [
    "### 1)  Comparison of ProfLogit vs Logistic\n"
   ]
  },
  {
   "cell_type": "markdown",
   "metadata": {},
   "source": [
    "#### a) Comparison of Total Profit "
   ]
  },
  {
   "cell_type": "code",
   "execution_count": 158,
   "metadata": {},
   "outputs": [
    {
     "data": {
      "image/png": "[encoded data removed]",
      "text/plain": [
       "<Figure size 432x288 with 1 Axes>"
      ]
     },
     "metadata": {
      "needs_background": "light"
     },
     "output_type": "display_data"
    },
    {
     "data": {
      "image/png": "[encoded data removed]",
      "text/plain": [
       "<Figure size 432x288 with 1 Axes>"
      ]
     },
     "metadata": {
      "needs_background": "light"
     },
     "output_type": "display_data"
    }
   ],
   "source": [
    "metrics= ['accuracy_score','auc','gini','loss_index', 'total_loss', 'total_profit']\n",
    "a= metrics_list[model_dict['Logistic']]['total_profit']\n",
    "b= metrics_list[model_dict['ProfLogit']]['total_profit']\n",
    "\n",
    "def plot_metric_comparison(metrics_list, x=['Logistic','ProfLogit'],y='total_profit'):\n",
    "    import matplotlib.pyplot as plt, seaborn as sns\n",
    "    sns.barplot(x= x,y= [ metrics_list[model_dict[x[0]]][y], metrics_list[model_dict[x[1]]][y]])\n",
    "    plt.title('Comparison of '+y+' of '+x[0]+' and '+x[1] )\n",
    "    plt.show()\n",
    "plot_metric_comparison(metrics_list, x=['Logistic','ProfLogit'],y='total_profit')\n",
    "plot_metric_comparison(metrics_list, x=['Logistic','ProfLogit'],y='loss_index')\n"
   ]
  },
  {
   "cell_type": "markdown",
   "metadata": {},
   "source": [
    "#### 2) Reporting other metrics for XGBoost and ProfXGBoost"
   ]
  },
  {
   "cell_type": "code",
   "execution_count": 159,
   "metadata": {},
   "outputs": [
    {
     "name": "stdout",
     "output_type": "stream",
     "text": [
      "  Performance Metric   Logistic  ProfLogit\n",
      "0     accuracy_score   0.659552   0.667022\n",
      "1                auc   0.500821        0.5\n",
      "2               gini   0.341733   0.271928\n",
      "3         loss_index  0.0674137  0.0554963\n",
      "4         total_loss        379        312\n",
      "5       total_profit       2671       2813\n"
     ]
    }
   ],
   "source": [
    "metrics= ['accuracy_score','auc','gini','loss_index', 'total_loss', 'total_profit']\n",
    "def tabulate_metric_comparison(metrics_list, estimators=['Logistic','ProfLogit'], metrics=['auc','accuracy_score']):\n",
    "    a= metrics_list[model_dict[estimators[0]]][metrics]\n",
    "    b= metrics_list[model_dict[estimators[1]]][metrics]\n",
    "    df=pd.DataFrame({estimators[0]: a,estimators[1]: b}).reset_index().rename(columns={'index':'Performance Metric'})\n",
    "    print(df)\n",
    "metric_table= tabulate_metric_comparison(metrics_list, estimators=['Logistic','ProfLogit'],metrics= metrics)\n",
    "metric_table"
   ]
  },
  {
   "cell_type": "code",
   "execution_count": 160,
   "metadata": {},
   "outputs": [
    {
     "data": {
      "image/png": "[encoded data removed]",
      "text/plain": [
       "<Figure size 432x288 with 1 Axes>"
      ]
     },
     "metadata": {
      "needs_background": "light"
     },
     "output_type": "display_data"
    }
   ],
   "source": [
    "plot_metric_comparison(metrics_list, x=['Logistic','ProfLogit'],y='accuracy_score')"
   ]
  },
  {
   "cell_type": "markdown",
   "metadata": {},
   "source": [
    "#### Inference: \n",
    "- In Total Profit, ProfLogit outperforms Logistic by a bit. Not as strong effect as in XGBoost\n",
    "- In traditional classification metrics like accuracy, both are comparable\n"
   ]
  },
  {
   "cell_type": "markdown",
   "metadata": {},
   "source": [
    "### 3)  Comparison of ProfTree vs Tree\n"
   ]
  },
  {
   "cell_type": "markdown",
   "metadata": {},
   "source": [
    "#### a) Comparison of Total Profit "
   ]
  },
  {
   "cell_type": "code",
   "execution_count": 161,
   "metadata": {},
   "outputs": [
    {
     "data": {
      "image/png": "[encoded data removed]",
      "text/plain": [
       "<Figure size 432x288 with 1 Axes>"
      ]
     },
     "metadata": {
      "needs_background": "light"
     },
     "output_type": "display_data"
    },
    {
     "data": {
      "image/png": "[encoded data removed]",
      "text/plain": [
       "<Figure size 432x288 with 1 Axes>"
      ]
     },
     "metadata": {
      "needs_background": "light"
     },
     "output_type": "display_data"
    }
   ],
   "source": [
    "metrics= ['accuracy_score','auc','loss_index', 'total_loss', 'total_profit']\n",
    "a= metrics_list[model_dict['Tree']]['total_profit']\n",
    "b= metrics_list[model_dict['ProfTree']]['total_profit']\n",
    "\n",
    "def plot_metric_comparison(metrics_list, x=['Tree','ProfTree'],y='total_profit'):\n",
    "    import matplotlib.pyplot as plt, seaborn as sns\n",
    "    sns.barplot(x= x,y= [ metrics_list[model_dict[x[0]]][y], metrics_list[model_dict[x[1]]][y]])\n",
    "    plt.title('Comparison of '+y+' of '+x[0]+' and '+x[1] )\n",
    "    plt.show()\n",
    "plot_metric_comparison(metrics_list, x=['Tree','ProfTree'],y='total_profit')\n",
    "plot_metric_comparison(metrics_list, x=['Tree','ProfTree'],y='loss_index')\n"
   ]
  },
  {
   "cell_type": "markdown",
   "metadata": {},
   "source": [
    "#### 2) Reporting other metrics for XGBoost and ProfXGBoost"
   ]
  },
  {
   "cell_type": "code",
   "execution_count": 162,
   "metadata": {},
   "outputs": [
    {
     "name": "stdout",
     "output_type": "stream",
     "text": [
      "  Performance Metric      Tree  ProfTree\n",
      "0     accuracy_score  0.671291  0.686233\n",
      "1                auc  0.619572   0.58021\n",
      "2               gini  0.447631  0.338841\n",
      "3         loss_index  0.155105   0.09783\n",
      "4         total_loss       872       550\n",
      "5       total_profit      1548      2255\n"
     ]
    }
   ],
   "source": [
    "metrics= ['accuracy_score','auc','gini','loss_index', 'total_loss', 'total_profit']\n",
    "def tabulate_metric_comparison(metrics_list, estimators=['Tree','ProfTree'], metrics=['auc','accuracy_score']):\n",
    "    a= metrics_list[model_dict[estimators[0]]][metrics]\n",
    "    b= metrics_list[model_dict[estimators[1]]][metrics]\n",
    "    df=pd.DataFrame({estimators[0]: a,estimators[1]: b}).reset_index().rename(columns={'index':'Performance Metric'})\n",
    "    print(df)\n",
    "metric_table= tabulate_metric_comparison(metrics_list, estimators=['Tree','ProfTree'],metrics= metrics)\n",
    "metric_table"
   ]
  },
  {
   "cell_type": "code",
   "execution_count": 163,
   "metadata": {},
   "outputs": [
    {
     "data": {
      "image/png": "[encoded data removed]",
      "text/plain": [
       "<Figure size 432x288 with 1 Axes>"
      ]
     },
     "metadata": {
      "needs_background": "light"
     },
     "output_type": "display_data"
    }
   ],
   "source": [
    "plot_metric_comparison(metrics_list, x=['Tree','ProfTree'],y='accuracy_score')"
   ]
  },
  {
   "cell_type": "markdown",
   "metadata": {},
   "source": [
    "#### Inference: \n",
    "- In Total Profit, ProfTree outperforms Tree a few times\n",
    "- In traditional classification metrics like accuracy, they are comparable or tree performs slightly better\n",
    "\n"
   ]
  }
 ],
 "metadata": {
  "kernelspec": {
   "display_name": "Python 3",
   "language": "python",
   "name": "python3"
  },
  "language_info": {
   "codemirror_mode": {
    "name": "ipython",
    "version": 3
   },
   "file_extension": ".py",
   "mimetype": "text/x-python",
   "name": "python",
   "nbconvert_exporter": "python",
   "pygments_lexer": "ipython3",
   "version": "3.7.7"
  }
 },
 "nbformat": 4,
 "nbformat_minor": 4
}
