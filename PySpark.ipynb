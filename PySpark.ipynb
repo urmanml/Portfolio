{
  "nbformat": 4,
  "nbformat_minor": 0,
  "metadata": {
    "colab": {
      "name": "PySpark.ipynb",
      "provenance": [],
      "collapsed_sections": [],
      "toc_visible": true
    },
    "kernelspec": {
      "display_name": "Python 3",
      "language": "python",
      "name": "python3"
    },
    "language_info": {
      "codemirror_mode": {
        "name": "ipython",
        "version": 3
      },
      "file_extension": ".py",
      "mimetype": "text/x-python",
      "name": "python",
      "nbconvert_exporter": "python",
      "pygments_lexer": "ipython3",
      "version": "3.7.7"
    }
  },
  "cells": [
    {
      "cell_type": "markdown",
      "metadata": {
        "colab_type": "text",
        "id": "5PD5Pz3u-6vb"
      },
      "source": [
        "# SIT742: Modern Data Science \n",
        "**(2020 Assessment Task 02: Exploration FIFA2019 Data)**\n",
        "\n",
        "---\n",
        "- Materials in this module include resources collected from various open-source online repositories.\n",
        "- You are free to use, change and distribute this package.\n",
        "\n",
        "Prepared by **SIT742 Teaching Team**\n",
        "\n",
        "\n",
        "---\n",
        "\n",
        "<div class=\"alert alert-block alert-info\">\n",
        "Enter your information in the following cell. Please make sure you fill your Student ID and Name correctly.  \n",
        "</div>\n",
        "\n",
        "**Student Group Information:** Please fill your information below\n",
        "\n",
        "- Names with Student IDs:  \n",
        "- Group ID:  \n",
        "- Emails:   \n",
        "\n",
        "---"
      ]
    },
    {
      "cell_type": "markdown",
      "metadata": {
        "colab_type": "text",
        "id": "2ljGko6N-6vf"
      },
      "source": [
        "## Overview\n",
        "\n",
        "Recently, [Kaggle](https://www.kaggle.com) (a data science community and competition platform) released one data set '[FIFA19](https://www.kaggle.com/karangadiya/fifa19)‘, which consists of 18K+ FIFA 19 player with around 90 attributes extracted from FIFA database. In this assessment task, we make it available as the data set:\n",
        "- [2020T2Data.csv](https://github.com/tulip-lab/sit742/raw/master/Assessment/2020/data/2020T2Data.csv): The data set for this assignment task.\n",
        "\n",
        "In this task, you will need to **use Spark packages**\n",
        "\n",
        "- **Part 1**: Exploratory Data Analysis\n",
        "\n",
        "- **Part 2**: Clustering Analysis, and identify the position profiles of each cluster\n",
        "\n",
        "- **Part 3**: Classification Analysis, and evaluate the performance of different algorithms using cross validation;\n",
        "\n",
        "\n",
        "You will be required to complete the coding to answer the questions with a neat and clean format, and your commenting and adherence to code standards will be considered when marking. Further information on Python standards, please visit https://www.python.org/dev/peps/pep-0008/ \n",
        "\n",
        "\n",
        "**Note**: You are not necessary to stick to the partial code provided, and you can write your own complete code to implement the required tasks. But you should provide sufficient comments.\n",
        "\n"
      ]
    },
    {
      "cell_type": "markdown",
      "metadata": {
        "colab_type": "text",
        "id": "G1vjEdvs-6vh"
      },
      "source": [
        "## Part 1 - What we could know about FIFA 2019 Players? \n",
        "\n",
        "### 1.0. Libraries and data files\n",
        "<a id=\"Load data\"></a>\n",
        "***\n",
        "\n",
        "Import the necessary Spark environment, and load the data set [2020T2Data.csv](https://github.com/tulip-lab/sit742/raw/master/Assessment/2020/data/2020T2Data.csv).\n"
      ]
    },
    {
      "cell_type": "code",
      "metadata": {
        "colab_type": "code",
        "id": "auVRAscVRVrI",
        "outputId": "6c15535f-3b15-4cb1-b2f9-3dac910887dc",
        "colab": {
          "base_uri": "https://localhost:8080/",
          "height": 193
        }
      },
      "source": [
        "!pip install wget\n",
        "!apt-get install openjdk-8-jdk-headless -qq > /dev/null\n",
        "!wget -q https://archive.apache.org/dist/spark/spark-2.4.0/spark-2.4.0-bin-hadoop2.7.tgz\n",
        "!tar xf spark-2.4.0-bin-hadoop2.7.tgz\n",
        "!pip install -q findspark\n",
        "import os,wget\n",
        "os.environ[\"JAVA_HOME\"] = \"/usr/lib/jvm/java-8-openjdk-amd64\"\n",
        "os.environ[\"SPARK_HOME\"] = \"/content/spark-2.4.0-bin-hadoop2.7\"\n",
        "\n",
        "\n",
        "link_to_data = 'https://github.com/tulip-lab/sit742/raw/master/Assessment/2020/data/2020T2Data.csv'\n",
        "DataSet = wget.download(link_to_data)"
      ],
      "execution_count": 1,
      "outputs": [
        {
          "output_type": "stream",
          "text": [
            "Collecting wget\n",
            "  Downloading https://files.pythonhosted.org/packages/47/6a/62e288da7bcda82b935ff0c6cfe542970f04e29c756b0e147251b2fb251f/wget-3.2.zip\n",
            "Building wheels for collected packages: wget\n",
            "  Building wheel for wget (setup.py) ... \u001b[?25l\u001b[?25hdone\n",
            "  Created wheel for wget: filename=wget-3.2-cp36-none-any.whl size=9682 sha256=90488c01d0fc2a1bf2e4596f3a20c23a68d9bf31fbd4e08a740f1ec7684fbb85\n",
            "  Stored in directory: /root/.cache/pip/wheels/40/15/30/7d8f7cea2902b4db79e3fea550d7d7b85ecb27ef992b618f3f\n",
            "Successfully built wget\n",
            "Installing collected packages: wget\n",
            "Successfully installed wget-3.2\n"
          ],
          "name": "stdout"
        }
      ]
    },
    {
      "cell_type": "code",
      "metadata": {
        "colab_type": "code",
        "id": "3Gxm5nc6Rz-a",
        "colab": {}
      },
      "source": [
        "import findspark\n",
        "findspark.init()\n",
        "from pyspark.sql import SparkSession"
      ],
      "execution_count": 0,
      "outputs": []
    },
    {
      "cell_type": "markdown",
      "metadata": {
        "colab_type": "text",
        "id": "dSPbqoEGR30v"
      },
      "source": [
        "### 1.1 Data Exploration\n",
        "\n",
        "*Remind: You must only use **PySpark** to complete the following data processing and model building. Otherwise, you lose all marks.*\n",
        "\n",
        "<a id=\"loading\"></a>\n",
        "***\n",
        "\n",
        "<div class=\"alert alert-block alert-info\">\n",
        "\n",
        "**Code**: \n",
        "    import the csv file as a Spark dataframe and name it as df\n",
        "\n",
        "</div>\n",
        "\n"
      ]
    },
    {
      "cell_type": "code",
      "metadata": {
        "colab_type": "code",
        "id": "uuGY6lgWR7B3",
        "colab": {}
      },
      "source": [
        "# Import the '2020T2Data.csv' as a Spark dataframe and name it as df\n",
        "spark = SparkSession.builder.appName('SIT742T2').getOrCreate()\n",
        "\n",
        "# Your Code \n",
        "#from google.colab import files\n",
        "#uploaded = files.upload()\n",
        "file_path= '2020T2Data.csv'\n",
        "df= spark.read.csv(path= file_path, header=True)\n"
      ],
      "execution_count": 0,
      "outputs": []
    },
    {
      "cell_type": "markdown",
      "metadata": {
        "id": "qxBPmJ93i4nt",
        "colab_type": "text"
      },
      "source": [
        "**Checking schema and visualizing data**"
      ]
    },
    {
      "cell_type": "code",
      "metadata": {
        "colab_type": "code",
        "id": "mdWVric-aY-h",
        "outputId": "cad717de-89d8-42f8-9177-c6c73b10a133",
        "colab": {
          "base_uri": "https://localhost:8080/",
          "height": 1000
        }
      },
      "source": [
        "from pyspark.sql import functions as F\n",
        "\n",
        "df.columns\n",
        "print('print schema')\n",
        "df.printSchema()\n",
        "print('print sample data')\n",
        "df.show(2)\n",
        "\n",
        "\n"
      ],
      "execution_count": 4,
      "outputs": [
        {
          "output_type": "stream",
          "text": [
            "print schema\n",
            "root\n",
            " |-- ID: string (nullable = true)\n",
            " |-- Name: string (nullable = true)\n",
            " |-- Age: string (nullable = true)\n",
            " |-- Photo: string (nullable = true)\n",
            " |-- Nationality: string (nullable = true)\n",
            " |-- Flag: string (nullable = true)\n",
            " |-- Overall: string (nullable = true)\n",
            " |-- Potential: string (nullable = true)\n",
            " |-- Club: string (nullable = true)\n",
            " |-- Club Logo: string (nullable = true)\n",
            " |-- value(M): string (nullable = true)\n",
            " |-- wage(K): string (nullable = true)\n",
            " |-- Special: string (nullable = true)\n",
            " |-- Preferred Foot: string (nullable = true)\n",
            " |-- International Reputation: string (nullable = true)\n",
            " |-- Weak Foot: string (nullable = true)\n",
            " |-- Skill Moves: string (nullable = true)\n",
            " |-- Work Rate: string (nullable = true)\n",
            " |-- Body Type: string (nullable = true)\n",
            " |-- Real Face: string (nullable = true)\n",
            " |-- Position: string (nullable = true)\n",
            " |-- Jersey Number: string (nullable = true)\n",
            " |-- Joined: string (nullable = true)\n",
            " |-- Loaned From: string (nullable = true)\n",
            " |-- Contract Valid Until: string (nullable = true)\n",
            " |-- Height: string (nullable = true)\n",
            " |-- Height(CM): string (nullable = true)\n",
            " |-- Weight: string (nullable = true)\n",
            " |-- Weight(KG): string (nullable = true)\n",
            " |-- Crossing: string (nullable = true)\n",
            " |-- Finishing: string (nullable = true)\n",
            " |-- HeadingAccuracy: string (nullable = true)\n",
            " |-- ShortPassing: string (nullable = true)\n",
            " |-- Volleys: string (nullable = true)\n",
            " |-- Dribbling: string (nullable = true)\n",
            " |-- Curve: string (nullable = true)\n",
            " |-- FKAccuracy: string (nullable = true)\n",
            " |-- LongPassing: string (nullable = true)\n",
            " |-- BallControl: string (nullable = true)\n",
            " |-- Acceleration: string (nullable = true)\n",
            " |-- SprintSpeed: string (nullable = true)\n",
            " |-- Agility: string (nullable = true)\n",
            " |-- Reactions: string (nullable = true)\n",
            " |-- Balance: string (nullable = true)\n",
            " |-- ShotPower: string (nullable = true)\n",
            " |-- Jumping: string (nullable = true)\n",
            " |-- Stamina: string (nullable = true)\n",
            " |-- Strength: string (nullable = true)\n",
            " |-- LongShots: string (nullable = true)\n",
            " |-- Aggression: string (nullable = true)\n",
            " |-- Interceptions: string (nullable = true)\n",
            " |-- Positioning: string (nullable = true)\n",
            " |-- Vision: string (nullable = true)\n",
            " |-- Penalties: string (nullable = true)\n",
            " |-- Composure: string (nullable = true)\n",
            " |-- Marking: string (nullable = true)\n",
            " |-- StandingTackle: string (nullable = true)\n",
            " |-- SlidingTackle: string (nullable = true)\n",
            " |-- GKDiving: string (nullable = true)\n",
            " |-- GKHandling: string (nullable = true)\n",
            " |-- GKKicking: string (nullable = true)\n",
            " |-- GKPositioning: string (nullable = true)\n",
            " |-- GKReflexes: string (nullable = true)\n",
            " |-- Release Clause(M): string (nullable = true)\n",
            "\n",
            "print sample data\n",
            "+------+-----------------+---+--------------------+-----------+--------------------+-------+---------+------------+--------------------+--------+-------+-------+--------------+------------------------+---------+-----------+--------------+----------+---------+--------+-------------+------------+-----------+--------------------+------+----------+------+----------+--------+---------+---------------+------------+-------+---------+-----+----------+-----------+-----------+------------+-----------+-------+---------+-------+---------+-------+-------+--------+---------+----------+-------------+-----------+------+---------+---------+-------+--------------+-------------+--------+----------+---------+-------------+----------+-----------------+\n",
            "|    ID|             Name|Age|               Photo|Nationality|                Flag|Overall|Potential|        Club|           Club Logo|value(M)|wage(K)|Special|Preferred Foot|International Reputation|Weak Foot|Skill Moves|     Work Rate| Body Type|Real Face|Position|Jersey Number|      Joined|Loaned From|Contract Valid Until|Height|Height(CM)|Weight|Weight(KG)|Crossing|Finishing|HeadingAccuracy|ShortPassing|Volleys|Dribbling|Curve|FKAccuracy|LongPassing|BallControl|Acceleration|SprintSpeed|Agility|Reactions|Balance|ShotPower|Jumping|Stamina|Strength|LongShots|Aggression|Interceptions|Positioning|Vision|Penalties|Composure|Marking|StandingTackle|SlidingTackle|GKDiving|GKHandling|GKKicking|GKPositioning|GKReflexes|Release Clause(M)|\n",
            "+------+-----------------+---+--------------------+-----------+--------------------+-------+---------+------------+--------------------+--------+-------+-------+--------------+------------------------+---------+-----------+--------------+----------+---------+--------+-------------+------------+-----------+--------------------+------+----------+------+----------+--------+---------+---------------+------------+-------+---------+-----+----------+-----------+-----------+------------+-----------+-------+---------+-------+---------+-------+-------+--------+---------+----------+-------------+-----------+------+---------+---------+-------+--------------+-------------+--------+----------+---------+-------------+----------+-----------------+\n",
            "|158023|         L. Messi| 31|https://cdn.sofif...|  Argentina|https://cdn.sofif...|     94|       94|FC Barcelona|https://cdn.sofif...|   110.5|    565|   2202|          Left|                       5|        4|          4|Medium/ Medium|     Messi|      Yes|      RF|           10| Jul 1, 2004|       null|                2021|  5.70|   173.736|159.00| 72.121128|      84|       95|             70|          90|     86|       97|   93|        94|         87|         96|          91|         86|     91|       95|     95|       85|     68|     72|      59|       94|        48|           22|         94|    94|       75|       96|     33|            28|           26|       6|        11|       15|           14|         8|            226.5|\n",
            "| 20801|Cristiano Ronaldo| 33|https://cdn.sofif...|   Portugal|https://cdn.sofif...|     94|       94|    Juventus|https://cdn.sofif...|      77|    405|   2228|         Right|                       5|        4|          5|     High/ Low|C. Ronaldo|      Yes|      ST|            7|Jul 10, 2018|       null|                2022|  6.20|   188.976|183.00| 83.007336|      84|       94|             89|          81|     87|       88|   81|        76|         77|         94|          89|         91|     87|       96|     70|       95|     95|     88|      79|       93|        63|           29|         95|    82|       85|       95|     28|            31|           23|       7|        11|       15|           14|        11|            127.1|\n",
            "+------+-----------------+---+--------------------+-----------+--------------------+-------+---------+------------+--------------------+--------+-------+-------+--------------+------------------------+---------+-----------+--------------+----------+---------+--------+-------------+------------+-----------+--------------------+------+----------+------+----------+--------+---------+---------------+------------+-------+---------+-----+----------+-----------+-----------+------------+-----------+-------+---------+-------+---------+-------+-------+--------+---------+----------+-------------+-----------+------+---------+---------+-------+--------------+-------------+--------+----------+---------+-------------+----------+-----------------+\n",
            "only showing top 2 rows\n",
            "\n"
          ],
          "name": "stdout"
        }
      ]
    },
    {
      "cell_type": "markdown",
      "metadata": {
        "colab_type": "text",
        "id": "2sXsdZ2wbrAg"
      },
      "source": [
        "****\n",
        "\n",
        "\n",
        "<div class=\"alert alert-block alert-info\">\n",
        "\n",
        "**Code**: \n",
        "    Check statistics (min, mean and max) for features on Age, Overall. Then find out the Avg Overall on Position, Avg Overall on Nationality (Sort by avg Overall on Nationality)\n",
        "\n",
        "<div class=\"alert alert-block alert-warning\">\n",
        "    \n",
        "**Report**: \n",
        "    **1.1.A** Please answer questions with proper section title  '1.1.A':     \n",
        "    <ol>\n",
        "        <li> Which are the (min, mean and max) for Age </li>\n",
        "        <li> Which are the (min, mean and max) for Overall </li>\n",
        "        <li> Which position the talented player (based on Avg Overall) are playing? </li>\n",
        "        <li> Which are the top 3 countres that most likely have the genies player (based on sort of Avg Overall) and </li>\n",
        "    </ol>\n",
        "</div>\n",
        "</div>"
      ]
    },
    {
      "cell_type": "markdown",
      "metadata": {
        "id": "seLQELG3fb8d",
        "colab_type": "text"
      },
      "source": [
        "#### Section 1.1.A: Summary Statistics"
      ]
    },
    {
      "cell_type": "markdown",
      "metadata": {
        "id": "57g9s7rijKX3",
        "colab_type": "text"
      },
      "source": [
        "**Summary statistics on age**"
      ]
    },
    {
      "cell_type": "code",
      "metadata": {
        "id": "kHFOXCr-SizQ",
        "colab_type": "code",
        "outputId": "1ced4d18-7e78-4f1a-c644-c0c1a2597154",
        "colab": {
          "base_uri": "https://localhost:8080/",
          "height": 121
        }
      },
      "source": [
        "#Your code for statistics on Age\n",
        "import pyspark.sql.functions as fn\n",
        "\n",
        "df.agg(fn.mean('Age').alias('Mean age'),fn.min('Age').alias('Min age'),fn.max('Age').alias('Max age') ).show()\n",
        "\n",
        "\n",
        "\n",
        "#df.select('Age').agg('Age': F.mean).show()"
      ],
      "execution_count": 5,
      "outputs": [
        {
          "output_type": "stream",
          "text": [
            "+------------------+-------+-------+\n",
            "|          Mean age|Min age|Max age|\n",
            "+------------------+-------+-------+\n",
            "|25.122205745043114|     16|     45|\n",
            "+------------------+-------+-------+\n",
            "\n"
          ],
          "name": "stdout"
        }
      ]
    },
    {
      "cell_type": "markdown",
      "metadata": {
        "id": "bb40mU9NeFq7",
        "colab_type": "text"
      },
      "source": [
        "**Inference:**\n",
        "- The Mean, max and min of age can be summarised as above"
      ]
    },
    {
      "cell_type": "markdown",
      "metadata": {
        "id": "wRVUi72GjWWS",
        "colab_type": "text"
      },
      "source": [
        "**Summary statistics on overall:**"
      ]
    },
    {
      "cell_type": "code",
      "metadata": {
        "colab_type": "code",
        "id": "-KMLB3sAfkpK",
        "outputId": "45a4ac45-c2e9-4f6f-c5bc-ecd0b96220a2",
        "colab": {
          "base_uri": "https://localhost:8080/",
          "height": 121
        }
      },
      "source": [
        "#Your Code for statistics on Overall\n",
        "\n",
        "df.agg(fn.mean('Overall').alias('Mean Overall'),fn.min('Overall').alias('Min Overall'),fn.max('Overall').alias('Max Overall') ).show()\n"
      ],
      "execution_count": 6,
      "outputs": [
        {
          "output_type": "stream",
          "text": [
            "+-----------------+-----------+-----------+\n",
            "|     Mean Overall|Min Overall|Max Overall|\n",
            "+-----------------+-----------+-----------+\n",
            "|66.23869940132916|         46|         94|\n",
            "+-----------------+-----------+-----------+\n",
            "\n"
          ],
          "name": "stdout"
        }
      ]
    },
    {
      "cell_type": "markdown",
      "metadata": {
        "colab_type": "text",
        "id": "zFTR0lsweaTG"
      },
      "source": [
        "**Inference**:\n",
        "- The Mean, max and min of Overall can be summarised as above"
      ]
    },
    {
      "cell_type": "markdown",
      "metadata": {
        "id": "QMDls0Rteh8D",
        "colab_type": "text"
      },
      "source": [
        "**Finding Position for highest average overall**"
      ]
    },
    {
      "cell_type": "code",
      "metadata": {
        "colab_type": "code",
        "id": "S4SMaNc4gX3E",
        "outputId": "2ec257a4-b209-483d-a3d7-b882a711f957",
        "colab": {
          "base_uri": "https://localhost:8080/",
          "height": 121
        }
      },
      "source": [
        "#Your Code for which position \n",
        "#df[['Overall']].cast(\"double\")\n",
        "#df.groupBy('Position').mean('Overall').sort(\"count\", ascending=False).show()\n",
        "df.createTempView('table')\n",
        "query= \"\"\"\n",
        "with position_rank as\n",
        "(\n",
        "select Position, avg(Overall) as Ov\n",
        " from table\n",
        " group by Position\n",
        " order by Ov desc\n",
        " )\n",
        " select Position\n",
        " from position_rank\n",
        " limit 1\n",
        " \"\"\"\n",
        "df5= spark.sql(query).show()\n",
        "\n"
      ],
      "execution_count": 7,
      "outputs": [
        {
          "output_type": "stream",
          "text": [
            "+--------+\n",
            "|Position|\n",
            "+--------+\n",
            "|      LF|\n",
            "+--------+\n",
            "\n"
          ],
          "name": "stdout"
        }
      ]
    },
    {
      "cell_type": "markdown",
      "metadata": {
        "id": "sH7BGhy2etLL",
        "colab_type": "text"
      },
      "source": [
        "**Inference**:\n",
        "- LF has highest average overall"
      ]
    },
    {
      "cell_type": "markdown",
      "metadata": {
        "id": "Bs8UjQQGgW3M",
        "colab_type": "text"
      },
      "source": [
        "**Top 3 countries most likely having good players**"
      ]
    },
    {
      "cell_type": "code",
      "metadata": {
        "colab_type": "code",
        "id": "B6PYyigEjZwI",
        "outputId": "09e88b96-6f37-4a46-ad80-5547c15e49b2",
        "colab": {
          "base_uri": "https://localhost:8080/",
          "height": 156
        }
      },
      "source": [
        "#Your Code to output top 3 countries most likely having good players\n",
        "query= \"\"\"\n",
        "with country_rank as\n",
        "(\n",
        "select Nationality, avg(Overall) as Ov\n",
        " from table\n",
        " group by Nationality\n",
        " order by Ov desc\n",
        " )\n",
        " select Nationality\n",
        " from country_rank\n",
        " limit 3\n",
        " \"\"\"\n",
        "\n",
        "\n",
        "\n",
        "df5= spark.sql(query).show()\n"
      ],
      "execution_count": 8,
      "outputs": [
        {
          "output_type": "stream",
          "text": [
            "+--------------------+\n",
            "|         Nationality|\n",
            "+--------------------+\n",
            "|United Arab Emirates|\n",
            "|Central African Rep.|\n",
            "|              Israel|\n",
            "+--------------------+\n",
            "\n"
          ],
          "name": "stdout"
        }
      ]
    },
    {
      "cell_type": "markdown",
      "metadata": {
        "id": "bCGwZxSdga_H",
        "colab_type": "text"
      },
      "source": [
        "**Inference:**\n",
        "Top 3 countries are: UAE, Central African Rep. and Israel"
      ]
    },
    {
      "cell_type": "markdown",
      "metadata": {
        "colab_type": "text",
        "id": "kT8OESOsmQfv"
      },
      "source": [
        "****\n",
        "\n",
        "<div class=\"alert alert-block alert-info\">\n",
        "\n",
        "**Code**: \n",
        "    You are required to find out the Avg Potentials on Country by Positions, and show the top 10 by ordering your results on Country with alphabet? (Hint: you may need to use pivot)\n",
        "\n",
        "<div class=\"alert alert-block alert-warning\">\n",
        "    \n",
        "**Report**: \n",
        "    **1.1.B** Please answer questions with proper section title  '1.1.B':     \n",
        "    <ol>\n",
        "        <li> Show the results on Avg Potentials on Country by Position with ordering the results on country by alphabet</li>\n",
        "        <li> Which position the young talented player (by Avg Potential) are playing in Australia? </li>\n",
        "    </ol>\n",
        "    \n",
        "</div>\n",
        "</div>"
      ]
    },
    {
      "cell_type": "markdown",
      "metadata": {
        "id": "4RIRuRZWgTvK",
        "colab_type": "text"
      },
      "source": [
        "#### Section 1.1.B: Average potentials on country by position"
      ]
    },
    {
      "cell_type": "code",
      "metadata": {
        "colab_type": "code",
        "id": "R1RsTYgImPFD",
        "outputId": "9158312f-d4fc-474c-e760-afc72a274296",
        "colab": {
          "base_uri": "https://localhost:8080/",
          "height": 436
        }
      },
      "source": [
        "#Your code to identify top 10 countries by alphabet\n",
        "\n",
        "\n",
        "import pyspark.sql.functions as fn\n",
        "\n",
        "df.groupby('Nationality').pivot('Position').agg(fn.mean('Potential').alias('AP')).sort('Nationality').show(10)\n",
        "\n",
        " \n",
        "\n",
        "\n",
        "#Your Code to identify which position has the most talend young players in Australia\n",
        "\n",
        "df.filter(df.Nationality == \"Australia\").groupby('Position').agg(fn.mean('Potential').alias('AP')).sort('AP', ascending= False).select('Position').show(1)\n"
      ],
      "execution_count": 9,
      "outputs": [
        {
          "output_type": "stream",
          "text": [
            "+-----------------+----+-----------------+-----------------+-----------------+----+-----------------+-----------------+----+-----------------+-----------------+-----------------+-----------------+----+-----------------+-----------------+-----------------+-----+----+-----------------+-----------------+-----------------+-----------------+----+-----------------+-----------------+-----------------+----+-----------------+\n",
            "|      Nationality|null|              CAM|               CB|              CDM|  CF|               CM|               GK| LAM|               LB|              LCB|              LCM|              LDM|  LF|               LM|               LS|               LW|  LWB| RAM|               RB|              RCB|              RCM|              RDM|  RF|               RM|               RS|               RW| RWB|               ST|\n",
            "+-----------------+----+-----------------+-----------------+-----------------+----+-----------------+-----------------+----+-----------------+-----------------+-----------------+-----------------+----+-----------------+-----------------+-----------------+-----+----+-----------------+-----------------+-----------------+-----------------+----+-----------------+-----------------+-----------------+----+-----------------+\n",
            "|      Afghanistan|null|             66.0|             null|             null|null|             71.0|             null|null|             64.0|             null|             null|             null|null|             70.0|             null|             null| null|null|             null|             null|             null|             null|null|             null|             null|             null|null|             null|\n",
            "|          Albania|70.0|            70.75|74.33333333333333|             69.5|null|            71.75|             77.5|null|             66.0|             null|             71.0|72.66666666666667|null|73.66666666666667|             null|             64.0| null|null|             75.0|             68.0|             75.0|             null|null|             64.0|             71.0|             72.5|null|            72.25|\n",
            "|          Algeria|null|            74.25|             69.5|            70.25|null|77.66666666666667|             67.6|null|            73.75|             69.0|             76.0|             73.0|null|74.66666666666667|             null|73.66666666666667| null|null|             63.0|             74.5|             76.0|71.33333333333333|null|            74.75|             null|             76.6|82.0|            73.75|\n",
            "|          Andorra|null|             null|             64.0|             null|null|             null|             null|null|             null|             null|             null|             null|null|             null|             null|             null| null|null|             null|             null|             null|             null|null|             null|             null|             null|null|             null|\n",
            "|           Angola|null|             null|             79.0|             null|null|             null|             null|null|             75.0|             72.0|             null|             null|null|             72.0|             null|             70.5| null|null|             null|             65.0|             null|             null|null|             68.0|             66.0|             null|null|75.66666666666667|\n",
            "|Antigua & Barbuda|null|             null|             null|             null|null|             null|             null|null|             null|             null|             null|             null|null|             65.0|             null|             null| null|null|             71.5|             null|             null|             null|null|             null|             null|             null|null|             63.0|\n",
            "|        Argentina|70.0|74.78260869565217|72.85858585858585|72.76363636363637|79.0|73.08695652173913|71.76288659793815|null|72.22033898305085|73.91428571428571|            74.52|           73.375|82.0|         74.40625|75.23076923076923|75.18518518518519|75.75|null|            71.98|73.05405405405405|72.94444444444444|             73.5|87.0| 73.2741935483871|             73.8|73.20689655172414|72.0|           72.928|\n",
            "|          Armenia|null|             null|             null|             null|null|             null|             null|null|             null|             null|             null|             null|null|             69.5|             73.0|             null| null|null|             72.0|             null|             null|             null|null|             83.0|             null|             70.5|null|             70.0|\n",
            "|        Australia|null|            71.25| 69.0952380952381|          66.8125|null|67.71428571428571|             67.0|null|68.28571428571429|             67.6|             70.0|             70.5|null|69.54545454545455|             64.0|66.44444444444444| 71.0|null|66.21428571428571|             69.5|             72.5|             77.0|null|70.53846153846153|             66.5|             68.6|66.0|            67.44|\n",
            "|          Austria|64.0|73.16666666666667|         70.28125|69.63157894736842|68.0|68.70588235294117| 68.1590909090909|null|69.47058823529412|71.58333333333333|72.44444444444444|             75.5|null|69.29411764705883|             82.0|72.33333333333333| 69.0|null| 69.0909090909091| 70.0909090909091|             69.6|72.85714285714286|66.0|70.30434782608695|70.66666666666667|             71.0|66.0|68.62962962962963|\n",
            "+-----------------+----+-----------------+-----------------+-----------------+----+-----------------+-----------------+----+-----------------+-----------------+-----------------+-----------------+----+-----------------+-----------------+-----------------+-----+----+-----------------+-----------------+-----------------+-----------------+----+-----------------+-----------------+-----------------+----+-----------------+\n",
            "only showing top 10 rows\n",
            "\n",
            "+--------+\n",
            "|Position|\n",
            "+--------+\n",
            "|     RDM|\n",
            "+--------+\n",
            "only showing top 1 row\n",
            "\n"
          ],
          "name": "stdout"
        }
      ]
    },
    {
      "cell_type": "markdown",
      "metadata": {
        "id": "8klhrw6Gg2zH",
        "colab_type": "text"
      },
      "source": [
        "**Inference**:\n",
        "- Top 10 countries by alphabed according to average potential in each position has been summaries as above\n",
        "- In Australia, the player with most avg potential play in RDM position"
      ]
    },
    {
      "cell_type": "markdown",
      "metadata": {
        "colab_type": "text",
        "id": "lGWtR6Ast7o8"
      },
      "source": [
        "Interesting, is there a age that the player is fully relased his potential? If there is, could you find out?\n",
        "\n",
        "****\n",
        "\n",
        "<div class=\"alert alert-block alert-info\">\n",
        "\n",
        "**Code**: \n",
        "    You are required to plot the finding visually by having Age as the x-axis and avg potential on age with avg overall on age at y-axis. (Hint: you may need to select and aggreate on data first and then turn it into pandas for plotting)\n",
        "\n",
        "<div class=\"alert alert-block alert-warning\">\n",
        "    \n",
        "**Report**: \n",
        "    **1.1.C** Please include the following plot into your report with proper section title  '1.1.C':     \n",
        "    <ol>\n",
        "        <li> Plot the finding visually by having Age as the x-axis and avg potential on age with avg overall on age at y-axis. </li>\n",
        "        <li> What you can find for the age at which the player is fully released his potential?\n",
        "    </ol>\n",
        "    \n",
        "</div>\n",
        "</div>"
      ]
    },
    {
      "cell_type": "markdown",
      "metadata": {
        "id": "RFx3MI2K8l01",
        "colab_type": "text"
      },
      "source": [
        "#### Section 1.1.3: Age for reaching full potential"
      ]
    },
    {
      "cell_type": "code",
      "metadata": {
        "colab_type": "code",
        "id": "mRvkk376u-dE",
        "outputId": "d77ad23e-b5f2-46f3-c06a-acda2891092a",
        "colab": {
          "base_uri": "https://localhost:8080/",
          "height": 802
        }
      },
      "source": [
        "import matplotlib.pyplot as plt\n",
        "import seaborn as sns\n",
        "import numpy as np\n",
        "import pandas as pd\n",
        "\n",
        "# Your Code for plot\n",
        "df.select('Age', 'Overall').groupby('Age').agg(fn.mean('Overall').alias('AO')).sort('Age').show()\n",
        "pdf= df.select('Age', 'Overall').groupby('Age').agg(fn.mean('Overall').alias('AO')).sort('Age').toPandas()\n",
        "\n",
        "#pdf is a pandas dataframe\n",
        "\n",
        "sns.scatterplot(data= pdf, x= \"Age\", y= \"AO\")\n",
        "\n",
        "\n",
        "\n",
        "\n",
        "\n"
      ],
      "execution_count": 10,
      "outputs": [
        {
          "output_type": "stream",
          "text": [
            "/usr/local/lib/python3.6/dist-packages/statsmodels/tools/_testing.py:19: FutureWarning: pandas.util.testing is deprecated. Use the functions in the public API at pandas.testing instead.\n",
            "  import pandas.util.testing as tm\n"
          ],
          "name": "stderr"
        },
        {
          "output_type": "stream",
          "text": [
            "+---+------------------+\n",
            "|Age|                AO|\n",
            "+---+------------------+\n",
            "| 16| 54.45238095238095|\n",
            "| 17| 56.40484429065744|\n",
            "| 18| 57.74180327868852|\n",
            "| 19|     59.5830078125|\n",
            "| 20|61.858870967741936|\n",
            "| 21| 63.48067463106114|\n",
            "| 22| 64.99402985074627|\n",
            "| 23| 66.24474474474475|\n",
            "| 24| 67.30633284241532|\n",
            "| 25| 67.97346474601972|\n",
            "| 26| 68.51478010093727|\n",
            "| 27| 68.94922547332186|\n",
            "| 28| 69.21344232515895|\n",
            "| 29|  69.2460896767466|\n",
            "| 30| 69.69574700109051|\n",
            "| 31| 69.85007072135785|\n",
            "| 32| 69.52961672473867|\n",
            "| 33| 69.55882352941177|\n",
            "| 34| 69.53960396039604|\n",
            "| 35| 68.13265306122449|\n",
            "+---+------------------+\n",
            "only showing top 20 rows\n",
            "\n"
          ],
          "name": "stdout"
        },
        {
          "output_type": "execute_result",
          "data": {
            "text/plain": [
              "<matplotlib.axes._subplots.AxesSubplot at 0x7f9efd9a9a90>"
            ]
          },
          "metadata": {
            "tags": []
          },
          "execution_count": 10
        },
        {
          "output_type": "display_data",
          "data": {
            "image/png": "[encoded data removed]",
            "text/plain": [
              "<Figure size 432x288 with 1 Axes>"
            ]
          },
          "metadata": {
            "tags": [],
            "needs_background": "light"
          }
        }
      ]
    },
    {
      "cell_type": "markdown",
      "metadata": {
        "id": "7-PhleeDD66u",
        "colab_type": "text"
      },
      "source": [
        "**Inference**:\n",
        "- The player reaches saturation in potential at around age of 28.\n",
        "Based upon data, the highest average potential(69.85) is reached at the age of 31.\n",
        "\n",
        "- At age of 45, there is datapoint showing higher potential but that is an outlier"
      ]
    },
    {
      "cell_type": "markdown",
      "metadata": {
        "colab_type": "text",
        "id": "gMqIOge42NI7"
      },
      "source": [
        "## Part 2 - Unsupervised Learning: Kmeans\n",
        "\n",
        "<a id=\"kmeans\"></a>\n",
        "***\n",
        "\n",
        "In this part, you are required to build a Kmeans clustering for explore the player segmentation. \n",
        "\n",
        "\n",
        "### 2.1 Data Preparation\n",
        "\n",
        "*Remind: You must only use **pyspark** to complete the following data processing and model building. Otherwise, you lose all marks.*"
      ]
    },
    {
      "cell_type": "markdown",
      "metadata": {
        "colab_type": "text",
        "id": "eHi1rU4p-6wK"
      },
      "source": [
        "\n",
        "****\n",
        "\n",
        "<div class=\"alert alert-block alert-info\">\n",
        "\n",
        "**Code**: \n",
        "    You will need to remove the Goal Keepers (Position = 'GK') and only use the skillset attributes (Height(CM),\n",
        "Weight(KG),\n",
        "Crossing,\n",
        "Finishing,\n",
        "HeadingAccuracy,\n",
        "ShortPassing,\n",
        "Volleys,\n",
        "Dribbling,\n",
        "Curve,\n",
        "FKAccuracy,\n",
        "LongPassing,\n",
        "BallControl,\n",
        "Acceleration,\n",
        "SprintSpeed,\n",
        "Agility,\n",
        "Reactions,\n",
        "Balance,\n",
        "ShotPower,\n",
        "Jumping,\n",
        "Stamina,\n",
        "Strength,\n",
        "LongShots,\n",
        "Aggression,\n",
        "Interceptions,\n",
        "Positioning,\n",
        "Vision,\n",
        "Penalties,\n",
        "Composure,\n",
        "Marking,\n",
        "StandingTackle,\n",
        "SlidingTackle) \n",
        "\n",
        "</div>\n",
        "\n"
      ]
    },
    {
      "cell_type": "markdown",
      "metadata": {
        "id": "YYJB9XfHkjvw",
        "colab_type": "text"
      },
      "source": [
        "**Removing Goalkeeper and keeping only skillset attributes**"
      ]
    },
    {
      "cell_type": "code",
      "metadata": {
        "colab_type": "code",
        "id": "X2LHjTMv3w_7",
        "outputId": "fc62ff2f-4578-4ad3-8f50-5c6b58eeeea7",
        "colab": {
          "base_uri": "https://localhost:8080/",
          "height": 228
        }
      },
      "source": [
        "# Your code to select relevent features and filtering by leaving out the GK\n",
        "df_cluster= df.select('Height(CM)','Weight(KG)','Crossing','Finishing','HeadingAccuracy','ShortPassing','Volleys','Dribbling','Curve','FKAccuracy','LongPassing','BallControl','Acceleration','SprintSpeed','Agility','Reactions','Balance','ShotPower','Jumping','Stamina','Strength','LongShots','Aggression','Interceptions','Positioning','Vision','Penalties','Composure','Marking','StandingTackle','SlidingTackle','Position','ID').filter(df.Position != 'GK')\n",
        "df_cluster.show(5)"
      ],
      "execution_count": 11,
      "outputs": [
        {
          "output_type": "stream",
          "text": [
            "+----------+----------+--------+---------+---------------+------------+-------+---------+-----+----------+-----------+-----------+------------+-----------+-------+---------+-------+---------+-------+-------+--------+---------+----------+-------------+-----------+------+---------+---------+-------+--------------+-------------+--------+------+\n",
            "|Height(CM)|Weight(KG)|Crossing|Finishing|HeadingAccuracy|ShortPassing|Volleys|Dribbling|Curve|FKAccuracy|LongPassing|BallControl|Acceleration|SprintSpeed|Agility|Reactions|Balance|ShotPower|Jumping|Stamina|Strength|LongShots|Aggression|Interceptions|Positioning|Vision|Penalties|Composure|Marking|StandingTackle|SlidingTackle|Position|    ID|\n",
            "+----------+----------+--------+---------+---------------+------------+-------+---------+-----+----------+-----------+-----------+------------+-----------+-------+---------+-------+---------+-------+-------+--------+---------+----------+-------------+-----------+------+---------+---------+-------+--------------+-------------+--------+------+\n",
            "|   173.736| 72.121128|      84|       95|             70|          90|     86|       97|   93|        94|         87|         96|          91|         86|     91|       95|     95|       85|     68|     72|      59|       94|        48|           22|         94|    94|       75|       96|     33|            28|           26|      RF|158023|\n",
            "|   188.976| 83.007336|      84|       94|             89|          81|     87|       88|   81|        76|         77|         94|          89|         91|     87|       96|     70|       95|     95|     88|      79|       93|        63|           29|         95|    82|       85|       95|     28|            31|           23|      ST| 20801|\n",
            "|   179.832|   68.0388|      79|       87|             62|          84|     84|       96|   88|        87|         78|         95|          94|         90|     96|       94|     84|       80|     61|     81|      49|       82|        56|           36|         89|    87|       81|       94|     27|            24|           33|      LW|190871|\n",
            "|  155.7528| 69.853168|      93|       82|             55|          92|     82|       86|   85|        83|         91|         91|          78|         76|     79|       91|     77|       91|     63|     90|      75|       91|        76|           61|         87|    94|       79|       88|     68|            58|           51|     RCM|192985|\n",
            "|   176.784| 73.935496|      81|       84|             61|          89|     80|       95|   83|        79|         83|         94|          94|         88|     95|       90|     94|       82|     56|     83|      66|       80|        54|           41|         87|    89|       86|       91|     34|            27|           22|      LF|183277|\n",
            "+----------+----------+--------+---------+---------------+------------+-------+---------+-----+----------+-----------+-----------+------------+-----------+-------+---------+-------+---------+-------+-------+--------+---------+----------+-------------+-----------+------+---------+---------+-------+--------------+-------------+--------+------+\n",
            "only showing top 5 rows\n",
            "\n"
          ],
          "name": "stdout"
        }
      ]
    },
    {
      "cell_type": "markdown",
      "metadata": {
        "colab_type": "text",
        "id": "kVLBzBId9iCk"
      },
      "source": [
        "To make the later stage easier, we define the position group by using the position feature.\n",
        "- DEF = [LB,LWB,RB,LCB,RCB,CB,RWB] ,\n",
        "- FWD = [RF,LF,LW,RS,RW,LS,CF,ST] ,\n",
        "- MID = [LCM,LM,RDM,CAM,RAM,RCM,CM,CDM,RM,LAM,LDM]\n",
        "\n",
        "****\n",
        "\n",
        "<div class=\"alert alert-block alert-info\">\n",
        "\n",
        "**Code**: \n",
        "    You are required to create a new column called Position_Group with only DEF/FWD/MID in the dataframe you created in previous question\n",
        "\n",
        "</div>\n",
        "\n",
        "</div>"
      ]
    },
    {
      "cell_type": "markdown",
      "metadata": {
        "id": "UNQouXKnkpwH",
        "colab_type": "text"
      },
      "source": [
        "**Creating Position group feature**"
      ]
    },
    {
      "cell_type": "code",
      "metadata": {
        "colab_type": "code",
        "id": "X4N6edcq5kE_",
        "outputId": "c8a7866d-0678-42df-a004-bcfa6425fb1e",
        "colab": {
          "base_uri": "https://localhost:8080/",
          "height": 193
        }
      },
      "source": [
        "from pyspark.sql.functions import when,col\n",
        "\n",
        "# Your code to complete\n",
        "DEF = ['LB','LWB','RB','LCB','RCB','CB','RWB'] \n",
        "FWD = ['RF','LF','LW','RS','RW','LS','CF','ST']\n",
        "MID = ['LCM','LM','RDM','CAM','RAM','RCM','CM','CDM','RM','LAM','LDM']\n",
        "\n",
        "# Your code here to create a new variable df_kmeans_new with a new column Position_Group, ..\n",
        "#df_kmeans_new= df.withColumn(\"Position_Group\", when(col(\"Position\").isin(DEF),\"DEF\").when(col(\"Position\").isin(MID),\"MID\").otherwise(when(col(\"Position\").isin(FWD),\"FWD\")))\n",
        "df_kmeans_new= df_cluster.withColumn(\"Position_Group\", when(col(\"Position\").isin(DEF),\"DEF\").when(col(\"Position\").isin(MID),\"MID\").otherwise(when(col(\"Position\").isin(FWD),\"FWD\")))\n",
        "\n",
        "df_kmeans_new.show(3)\n",
        "#df_kmeans_new.printSchema()\n",
        "#df.printSchema()\n"
      ],
      "execution_count": 12,
      "outputs": [
        {
          "output_type": "stream",
          "text": [
            "+----------+----------+--------+---------+---------------+------------+-------+---------+-----+----------+-----------+-----------+------------+-----------+-------+---------+-------+---------+-------+-------+--------+---------+----------+-------------+-----------+------+---------+---------+-------+--------------+-------------+--------+------+--------------+\n",
            "|Height(CM)|Weight(KG)|Crossing|Finishing|HeadingAccuracy|ShortPassing|Volleys|Dribbling|Curve|FKAccuracy|LongPassing|BallControl|Acceleration|SprintSpeed|Agility|Reactions|Balance|ShotPower|Jumping|Stamina|Strength|LongShots|Aggression|Interceptions|Positioning|Vision|Penalties|Composure|Marking|StandingTackle|SlidingTackle|Position|    ID|Position_Group|\n",
            "+----------+----------+--------+---------+---------------+------------+-------+---------+-----+----------+-----------+-----------+------------+-----------+-------+---------+-------+---------+-------+-------+--------+---------+----------+-------------+-----------+------+---------+---------+-------+--------------+-------------+--------+------+--------------+\n",
            "|   173.736| 72.121128|      84|       95|             70|          90|     86|       97|   93|        94|         87|         96|          91|         86|     91|       95|     95|       85|     68|     72|      59|       94|        48|           22|         94|    94|       75|       96|     33|            28|           26|      RF|158023|           FWD|\n",
            "|   188.976| 83.007336|      84|       94|             89|          81|     87|       88|   81|        76|         77|         94|          89|         91|     87|       96|     70|       95|     95|     88|      79|       93|        63|           29|         95|    82|       85|       95|     28|            31|           23|      ST| 20801|           FWD|\n",
            "|   179.832|   68.0388|      79|       87|             62|          84|     84|       96|   88|        87|         78|         95|          94|         90|     96|       94|     84|       80|     61|     81|      49|       82|        56|           36|         89|    87|       81|       94|     27|            24|           33|      LW|190871|           FWD|\n",
            "+----------+----------+--------+---------+---------------+------------+-------+---------+-----+----------+-----------+-----------+------------+-----------+-------+---------+-------+---------+-------+-------+--------+---------+----------+-------------+-----------+------+---------+---------+-------+--------------+-------------+--------+------+--------------+\n",
            "only showing top 3 rows\n",
            "\n"
          ],
          "name": "stdout"
        }
      ]
    },
    {
      "cell_type": "markdown",
      "metadata": {
        "colab_type": "text",
        "id": "R-NyFp7IBtGZ"
      },
      "source": [
        "Now, we remove the Position_Group and Position to create the feature for Kmeans\n",
        "\n",
        "\n"
      ]
    },
    {
      "cell_type": "markdown",
      "metadata": {
        "id": "iye92SLbk5ZL",
        "colab_type": "text"
      },
      "source": [
        "**Preparing final data for clustering by creating vector objects**"
      ]
    },
    {
      "cell_type": "code",
      "metadata": {
        "colab_type": "code",
        "id": "2x_o_w54B-mN",
        "outputId": "212d4b5e-e491-4f70-af4f-57616dbd686e",
        "colab": {
          "base_uri": "https://localhost:8080/",
          "height": 1000
        }
      },
      "source": [
        "from pyspark.ml.clustering import KMeans\n",
        "from pyspark.ml.feature import VectorAssembler\n",
        "df_kmeans_new.printSchema()\n",
        "FEATURES_COL = ['Height(CM)', 'Weight(KG)', \n",
        "                      'Crossing', 'Finishing', 'HeadingAccuracy', \n",
        "                      'ShortPassing', 'Volleys', 'Dribbling', 'Curve',\n",
        "                      'FKAccuracy', 'LongPassing', 'BallControl', \n",
        "                      'Acceleration', 'SprintSpeed', 'Agility', \n",
        "                      'Reactions', 'Balance', 'ShotPower', 'Jumping', \n",
        "                      'Stamina', 'Strength', 'LongShots', 'Aggression', \n",
        "                      'Interceptions', 'Positioning', 'Vision', 'Penalties', \n",
        "                      'Composure', 'Marking', 'StandingTackle', 'SlidingTackle']\n",
        "\n",
        "df_kmeans_new.show()\n",
        "filter= FEATURES_COL+['ID']\n",
        "for col in df_kmeans_new.columns:\n",
        "    if col in FEATURES_COL:\n",
        "        df_kmeans_new = df_kmeans_new.withColumn(col,df_kmeans_new[col].cast('float'))\n",
        "df_kmeans_new.show()\n",
        "df_kmeans_new.count()\n",
        "\n",
        "from pyspark.sql.functions import isnan, when, count, col\n",
        "df_kmeans= df_kmeans_new.select(FEATURES_COL+['ID'])\n",
        "df_kmeans = df_kmeans.na.drop()\n",
        "\n",
        "\n",
        "vecAssembler = VectorAssembler(inputCols=FEATURES_COL, outputCol=\"features\")\n",
        "df_kmeans = vecAssembler.transform(df_kmeans).select('ID','features')\n",
        "df_kmeans.show(3)\n"
      ],
      "execution_count": 13,
      "outputs": [
        {
          "output_type": "stream",
          "text": [
            "root\n",
            " |-- Height(CM): string (nullable = true)\n",
            " |-- Weight(KG): string (nullable = true)\n",
            " |-- Crossing: string (nullable = true)\n",
            " |-- Finishing: string (nullable = true)\n",
            " |-- HeadingAccuracy: string (nullable = true)\n",
            " |-- ShortPassing: string (nullable = true)\n",
            " |-- Volleys: string (nullable = true)\n",
            " |-- Dribbling: string (nullable = true)\n",
            " |-- Curve: string (nullable = true)\n",
            " |-- FKAccuracy: string (nullable = true)\n",
            " |-- LongPassing: string (nullable = true)\n",
            " |-- BallControl: string (nullable = true)\n",
            " |-- Acceleration: string (nullable = true)\n",
            " |-- SprintSpeed: string (nullable = true)\n",
            " |-- Agility: string (nullable = true)\n",
            " |-- Reactions: string (nullable = true)\n",
            " |-- Balance: string (nullable = true)\n",
            " |-- ShotPower: string (nullable = true)\n",
            " |-- Jumping: string (nullable = true)\n",
            " |-- Stamina: string (nullable = true)\n",
            " |-- Strength: string (nullable = true)\n",
            " |-- LongShots: string (nullable = true)\n",
            " |-- Aggression: string (nullable = true)\n",
            " |-- Interceptions: string (nullable = true)\n",
            " |-- Positioning: string (nullable = true)\n",
            " |-- Vision: string (nullable = true)\n",
            " |-- Penalties: string (nullable = true)\n",
            " |-- Composure: string (nullable = true)\n",
            " |-- Marking: string (nullable = true)\n",
            " |-- StandingTackle: string (nullable = true)\n",
            " |-- SlidingTackle: string (nullable = true)\n",
            " |-- Position: string (nullable = true)\n",
            " |-- ID: string (nullable = true)\n",
            " |-- Position_Group: string (nullable = true)\n",
            "\n",
            "+----------+----------+--------+---------+---------------+------------+-------+---------+-----+----------+-----------+-----------+------------+-----------+-------+---------+-------+---------+-------+-------+--------+---------+----------+-------------+-----------+------+---------+---------+-------+--------------+-------------+--------+------+--------------+\n",
            "|Height(CM)|Weight(KG)|Crossing|Finishing|HeadingAccuracy|ShortPassing|Volleys|Dribbling|Curve|FKAccuracy|LongPassing|BallControl|Acceleration|SprintSpeed|Agility|Reactions|Balance|ShotPower|Jumping|Stamina|Strength|LongShots|Aggression|Interceptions|Positioning|Vision|Penalties|Composure|Marking|StandingTackle|SlidingTackle|Position|    ID|Position_Group|\n",
            "+----------+----------+--------+---------+---------------+------------+-------+---------+-----+----------+-----------+-----------+------------+-----------+-------+---------+-------+---------+-------+-------+--------+---------+----------+-------------+-----------+------+---------+---------+-------+--------------+-------------+--------+------+--------------+\n",
            "|   173.736| 72.121128|      84|       95|             70|          90|     86|       97|   93|        94|         87|         96|          91|         86|     91|       95|     95|       85|     68|     72|      59|       94|        48|           22|         94|    94|       75|       96|     33|            28|           26|      RF|158023|           FWD|\n",
            "|   188.976| 83.007336|      84|       94|             89|          81|     87|       88|   81|        76|         77|         94|          89|         91|     87|       96|     70|       95|     95|     88|      79|       93|        63|           29|         95|    82|       85|       95|     28|            31|           23|      ST| 20801|           FWD|\n",
            "|   179.832|   68.0388|      79|       87|             62|          84|     84|       96|   88|        87|         78|         95|          94|         90|     96|       94|     84|       80|     61|     81|      49|       82|        56|           36|         89|    87|       81|       94|     27|            24|           33|      LW|190871|           FWD|\n",
            "|  155.7528| 69.853168|      93|       82|             55|          92|     82|       86|   85|        83|         91|         91|          78|         76|     79|       91|     77|       91|     63|     90|      75|       91|        76|           61|         87|    94|       79|       88|     68|            58|           51|     RCM|192985|           MID|\n",
            "|   176.784| 73.935496|      81|       84|             61|          89|     80|       95|   83|        79|         83|         94|          94|         88|     95|       90|     94|       82|     56|     83|      66|       80|        54|           41|         87|    89|       86|       91|     34|            27|           22|      LF|183277|           FWD|\n",
            "|   176.784| 66.224432|      86|       72|             55|          93|     76|       90|   85|        78|         88|         93|          80|         72|     93|       90|     94|       79|     68|     89|      58|       82|        62|           83|         79|    92|       82|       84|     60|            76|           73|     RCM|177003|           MID|\n",
            "|    182.88|  86.18248|      77|       93|             77|          82|     88|       87|   86|        84|         64|         90|          86|         75|     82|       92|     83|       86|     69|     90|      83|       85|        87|           41|         92|    84|       85|       85|     62|            45|           38|      RS|176580|           FWD|\n",
            "|    182.88| 82.100152|      66|       60|             91|          78|     66|       63|   74|        72|         77|         84|          76|         75|     78|       85|     66|       79|     93|     84|      83|       59|        88|           90|         60|    63|       75|       82|     87|            92|           91|     RCB|155862|           DEF|\n",
            "|    182.88| 79.832192|      62|       91|             85|          83|     89|       85|   77|        86|         65|         89|          77|         78|     78|       90|     78|       88|     84|     78|      84|       84|        80|           39|         91|    77|       88|       86|     34|            42|           19|      ST|188545|           FWD|\n",
            "|    182.88| 76.203456|      88|       76|             54|          92|     82|       81|   86|        84|         93|         90|          64|         62|     70|       89|     71|       87|     30|     75|      73|       92|        60|           82|         79|    86|       73|       85|     72|            79|           69|     LCM|182521|           MID|\n",
            "|   188.976| 78.017824|      55|       42|             92|          79|     47|       53|   49|        51|         70|         76|          68|         68|     58|       85|     54|       67|     91|     66|      88|       43|        89|           88|         48|    52|       50|       82|     90|            89|           89|      CB|182493|           DEF|\n",
            "|   176.784| 67.131616|      84|       76|             54|          93|     82|       89|   82|        77|         87|         94|          70|         64|     92|       90|     90|       72|     64|     78|      52|       75|        57|           50|         89|    92|       75|       93|     59|            53|           29|     LCM|168542|           MID|\n",
            "|   170.688| 72.121128|      68|       65|             54|          86|     56|       79|   49|        49|         81|         80|          82|         78|     82|       93|     92|       71|     77|     96|      76|       69|        90|           92|         71|    79|       54|       85|     90|            91|           85|     LDM|215914|           MID|\n",
            "|   155.448|  74.84268|      82|       84|             68|          87|     88|       92|   88|        88|         75|         92|          87|         83|     91|       86|     85|       82|     75|     80|      65|       88|        48|           32|         84|    87|       86|       84|     23|            20|           20|      LF|211110|           FWD|\n",
            "|   188.976| 88.904032|      75|       94|             85|          80|     84|       80|   78|        68|         82|         84|          68|         72|     71|       91|     71|       88|     78|     89|      84|       85|        76|           35|         93|    80|       90|       89|     56|            36|           38|      ST|202126|           FWD|\n",
            "|   179.832| 73.028312|      82|       90|             84|          83|     87|       88|   84|        78|         76|         90|          88|         85|     90|       90|     80|       80|     90|     83|      62|       82|        69|           35|         91|    83|       79|       87|     59|            47|           48|     CAM|194765|           MID|\n",
            "|   188.976| 76.203456|      62|       67|             68|          89|     44|       80|   66|        68|         82|         88|          50|         52|     66|       87|     52|       61|     66|     86|      77|       54|        85|           87|         77|    87|       60|       90|     90|            86|           80|     CDM|189511|           MID|\n",
            "|   185.928|  77.11064|      70|       89|             89|          78|     90|       80|   77|        76|         52|         82|          75|         76|     77|       91|     59|       87|     88|     92|      78|       79|        84|           48|         93|    77|       85|       82|     52|            45|           39|      LS|179813|           FWD|\n",
            "|   176.784| 69.853168|      70|       93|             77|          81|     85|       89|   82|        73|         64|         89|          88|         80|     86|       90|     91|       88|     81|     76|      73|       83|        65|           24|         92|    83|       83|       90|     30|            20|           12|      ST|153079|           FWD|\n",
            "|   188.976| 84.821704|      58|       33|             83|          59|     45|       58|   60|        31|         59|         57|          63|         75|     54|       82|     55|       78|     89|     65|      89|       49|        92|           88|         28|    50|       50|       84|     93|            93|           90|     LCB|138956|           DEF|\n",
            "+----------+----------+--------+---------+---------------+------------+-------+---------+-----+----------+-----------+-----------+------------+-----------+-------+---------+-------+---------+-------+-------+--------+---------+----------+-------------+-----------+------+---------+---------+-------+--------------+-------------+--------+------+--------------+\n",
            "only showing top 20 rows\n",
            "\n",
            "+----------+----------+--------+---------+---------------+------------+-------+---------+-----+----------+-----------+-----------+------------+-----------+-------+---------+-------+---------+-------+-------+--------+---------+----------+-------------+-----------+------+---------+---------+-------+--------------+-------------+--------+------+--------------+\n",
            "|Height(CM)|Weight(KG)|Crossing|Finishing|HeadingAccuracy|ShortPassing|Volleys|Dribbling|Curve|FKAccuracy|LongPassing|BallControl|Acceleration|SprintSpeed|Agility|Reactions|Balance|ShotPower|Jumping|Stamina|Strength|LongShots|Aggression|Interceptions|Positioning|Vision|Penalties|Composure|Marking|StandingTackle|SlidingTackle|Position|    ID|Position_Group|\n",
            "+----------+----------+--------+---------+---------------+------------+-------+---------+-----+----------+-----------+-----------+------------+-----------+-------+---------+-------+---------+-------+-------+--------+---------+----------+-------------+-----------+------+---------+---------+-------+--------------+-------------+--------+------+--------------+\n",
            "|   173.736| 72.121124|    84.0|     95.0|           70.0|        90.0|   86.0|     97.0| 93.0|      94.0|       87.0|       96.0|        91.0|       86.0|   91.0|     95.0|   95.0|     85.0|   68.0|   72.0|    59.0|     94.0|      48.0|         22.0|       94.0|  94.0|     75.0|     96.0|   33.0|          28.0|         26.0|      RF|158023|           FWD|\n",
            "|   188.976|  83.00734|    84.0|     94.0|           89.0|        81.0|   87.0|     88.0| 81.0|      76.0|       77.0|       94.0|        89.0|       91.0|   87.0|     96.0|   70.0|     95.0|   95.0|   88.0|    79.0|     93.0|      63.0|         29.0|       95.0|  82.0|     85.0|     95.0|   28.0|          31.0|         23.0|      ST| 20801|           FWD|\n",
            "|   179.832|   68.0388|    79.0|     87.0|           62.0|        84.0|   84.0|     96.0| 88.0|      87.0|       78.0|       95.0|        94.0|       90.0|   96.0|     94.0|   84.0|     80.0|   61.0|   81.0|    49.0|     82.0|      56.0|         36.0|       89.0|  87.0|     81.0|     94.0|   27.0|          24.0|         33.0|      LW|190871|           FWD|\n",
            "|  155.7528| 69.853165|    93.0|     82.0|           55.0|        92.0|   82.0|     86.0| 85.0|      83.0|       91.0|       91.0|        78.0|       76.0|   79.0|     91.0|   77.0|     91.0|   63.0|   90.0|    75.0|     91.0|      76.0|         61.0|       87.0|  94.0|     79.0|     88.0|   68.0|          58.0|         51.0|     RCM|192985|           MID|\n",
            "|   176.784|  73.93549|    81.0|     84.0|           61.0|        89.0|   80.0|     95.0| 83.0|      79.0|       83.0|       94.0|        94.0|       88.0|   95.0|     90.0|   94.0|     82.0|   56.0|   83.0|    66.0|     80.0|      54.0|         41.0|       87.0|  89.0|     86.0|     91.0|   34.0|          27.0|         22.0|      LF|183277|           FWD|\n",
            "|   176.784| 66.224434|    86.0|     72.0|           55.0|        93.0|   76.0|     90.0| 85.0|      78.0|       88.0|       93.0|        80.0|       72.0|   93.0|     90.0|   94.0|     79.0|   68.0|   89.0|    58.0|     82.0|      62.0|         83.0|       79.0|  92.0|     82.0|     84.0|   60.0|          76.0|         73.0|     RCM|177003|           MID|\n",
            "|    182.88|  86.18248|    77.0|     93.0|           77.0|        82.0|   88.0|     87.0| 86.0|      84.0|       64.0|       90.0|        86.0|       75.0|   82.0|     92.0|   83.0|     86.0|   69.0|   90.0|    83.0|     85.0|      87.0|         41.0|       92.0|  84.0|     85.0|     85.0|   62.0|          45.0|         38.0|      RS|176580|           FWD|\n",
            "|    182.88|  82.10015|    66.0|     60.0|           91.0|        78.0|   66.0|     63.0| 74.0|      72.0|       77.0|       84.0|        76.0|       75.0|   78.0|     85.0|   66.0|     79.0|   93.0|   84.0|    83.0|     59.0|      88.0|         90.0|       60.0|  63.0|     75.0|     82.0|   87.0|          92.0|         91.0|     RCB|155862|           DEF|\n",
            "|    182.88|  79.83219|    62.0|     91.0|           85.0|        83.0|   89.0|     85.0| 77.0|      86.0|       65.0|       89.0|        77.0|       78.0|   78.0|     90.0|   78.0|     88.0|   84.0|   78.0|    84.0|     84.0|      80.0|         39.0|       91.0|  77.0|     88.0|     86.0|   34.0|          42.0|         19.0|      ST|188545|           FWD|\n",
            "|    182.88|  76.20345|    88.0|     76.0|           54.0|        92.0|   82.0|     81.0| 86.0|      84.0|       93.0|       90.0|        64.0|       62.0|   70.0|     89.0|   71.0|     87.0|   30.0|   75.0|    73.0|     92.0|      60.0|         82.0|       79.0|  86.0|     73.0|     85.0|   72.0|          79.0|         69.0|     LCM|182521|           MID|\n",
            "|   188.976|  78.01782|    55.0|     42.0|           92.0|        79.0|   47.0|     53.0| 49.0|      51.0|       70.0|       76.0|        68.0|       68.0|   58.0|     85.0|   54.0|     67.0|   91.0|   66.0|    88.0|     43.0|      89.0|         88.0|       48.0|  52.0|     50.0|     82.0|   90.0|          89.0|         89.0|      CB|182493|           DEF|\n",
            "|   176.784| 67.131615|    84.0|     76.0|           54.0|        93.0|   82.0|     89.0| 82.0|      77.0|       87.0|       94.0|        70.0|       64.0|   92.0|     90.0|   90.0|     72.0|   64.0|   78.0|    52.0|     75.0|      57.0|         50.0|       89.0|  92.0|     75.0|     93.0|   59.0|          53.0|         29.0|     LCM|168542|           MID|\n",
            "|   170.688| 72.121124|    68.0|     65.0|           54.0|        86.0|   56.0|     79.0| 49.0|      49.0|       81.0|       80.0|        82.0|       78.0|   82.0|     93.0|   92.0|     71.0|   77.0|   96.0|    76.0|     69.0|      90.0|         92.0|       71.0|  79.0|     54.0|     85.0|   90.0|          91.0|         85.0|     LDM|215914|           MID|\n",
            "|   155.448|  74.84268|    82.0|     84.0|           68.0|        87.0|   88.0|     92.0| 88.0|      88.0|       75.0|       92.0|        87.0|       83.0|   91.0|     86.0|   85.0|     82.0|   75.0|   80.0|    65.0|     88.0|      48.0|         32.0|       84.0|  87.0|     86.0|     84.0|   23.0|          20.0|         20.0|      LF|211110|           FWD|\n",
            "|   188.976|  88.90403|    75.0|     94.0|           85.0|        80.0|   84.0|     80.0| 78.0|      68.0|       82.0|       84.0|        68.0|       72.0|   71.0|     91.0|   71.0|     88.0|   78.0|   89.0|    84.0|     85.0|      76.0|         35.0|       93.0|  80.0|     90.0|     89.0|   56.0|          36.0|         38.0|      ST|202126|           FWD|\n",
            "|   179.832|  73.02831|    82.0|     90.0|           84.0|        83.0|   87.0|     88.0| 84.0|      78.0|       76.0|       90.0|        88.0|       85.0|   90.0|     90.0|   80.0|     80.0|   90.0|   83.0|    62.0|     82.0|      69.0|         35.0|       91.0|  83.0|     79.0|     87.0|   59.0|          47.0|         48.0|     CAM|194765|           MID|\n",
            "|   188.976|  76.20345|    62.0|     67.0|           68.0|        89.0|   44.0|     80.0| 66.0|      68.0|       82.0|       88.0|        50.0|       52.0|   66.0|     87.0|   52.0|     61.0|   66.0|   86.0|    77.0|     54.0|      85.0|         87.0|       77.0|  87.0|     60.0|     90.0|   90.0|          86.0|         80.0|     CDM|189511|           MID|\n",
            "|   185.928|  77.11064|    70.0|     89.0|           89.0|        78.0|   90.0|     80.0| 77.0|      76.0|       52.0|       82.0|        75.0|       76.0|   77.0|     91.0|   59.0|     87.0|   88.0|   92.0|    78.0|     79.0|      84.0|         48.0|       93.0|  77.0|     85.0|     82.0|   52.0|          45.0|         39.0|      LS|179813|           FWD|\n",
            "|   176.784| 69.853165|    70.0|     93.0|           77.0|        81.0|   85.0|     89.0| 82.0|      73.0|       64.0|       89.0|        88.0|       80.0|   86.0|     90.0|   91.0|     88.0|   81.0|   76.0|    73.0|     83.0|      65.0|         24.0|       92.0|  83.0|     83.0|     90.0|   30.0|          20.0|         12.0|      ST|153079|           FWD|\n",
            "|   188.976|   84.8217|    58.0|     33.0|           83.0|        59.0|   45.0|     58.0| 60.0|      31.0|       59.0|       57.0|        63.0|       75.0|   54.0|     82.0|   55.0|     78.0|   89.0|   65.0|    89.0|     49.0|      92.0|         88.0|       28.0|  50.0|     50.0|     84.0|   93.0|          93.0|         90.0|     LCB|138956|           DEF|\n",
            "+----------+----------+--------+---------+---------------+------------+-------+---------+-----+----------+-----------+-----------+------------+-----------+-------+---------+-------+---------+-------+-------+--------+---------+----------+-------------+-----------+------+---------+---------+-------+--------------+-------------+--------+------+--------------+\n",
            "only showing top 20 rows\n",
            "\n",
            "+------+--------------------+\n",
            "|    ID|            features|\n",
            "+------+--------------------+\n",
            "|158023|[173.735992431640...|\n",
            "| 20801|[188.975997924804...|\n",
            "|190871|[179.832000732421...|\n",
            "+------+--------------------+\n",
            "only showing top 3 rows\n",
            "\n"
          ],
          "name": "stdout"
        }
      ]
    },
    {
      "cell_type": "markdown",
      "metadata": {
        "colab_type": "text",
        "id": "UniVGeYIDa_k"
      },
      "source": [
        "Now in order to evaluate your Kmeans Model, please plot the elbow plot\n",
        "\n",
        "\n",
        "<div class=\"alert alert-block alert-info\">\n",
        "\n",
        "**Code**: \n",
        "    You are required to plot the elbow plot, with a varying K from 2 to 20.\n",
        "\n",
        "<div class=\"alert alert-block alert-warning\">\n",
        "    \n",
        "**Report**: \n",
        "    **2.1** In your report with proper section title  '2.1', Please include the elbow plot. \n",
        "\n",
        "</div>\n",
        "</div>\n",
        "\n"
      ]
    },
    {
      "cell_type": "markdown",
      "metadata": {
        "id": "2wsFfEieqDAo",
        "colab_type": "text"
      },
      "source": [
        "### Section 2.1: Elbow plot for finding optimal number of k"
      ]
    },
    {
      "cell_type": "code",
      "metadata": {
        "colab_type": "code",
        "id": "UDia7JYyDLhg",
        "colab": {},
        "cellView": "both"
      },
      "source": [
        "#@title\n",
        "cost = np.zeros(20)\n",
        "# Your code\n",
        "for k in range(2,20):\n",
        "  kmeans = KMeans().setK(k).setSeed(1).setFeaturesCol(\"features\")\n",
        "  model = kmeans.fit(df_kmeans.sample(False,0.1, seed=42))\n",
        "  cost[k] = model.computeCost(df_kmeans)\n",
        "\n",
        "\n",
        "\n",
        "\n",
        "\n"
      ],
      "execution_count": 0,
      "outputs": []
    },
    {
      "cell_type": "code",
      "metadata": {
        "colab_type": "code",
        "id": "Mr-bSnj5EA1l",
        "outputId": "2b3693a4-adcb-4c17-db73-94fc383660a2",
        "colab": {
          "base_uri": "https://localhost:8080/",
          "height": 417
        }
      },
      "source": [
        "fig, ax = plt.subplots(1,1, figsize =(8,6))\n",
        "ax.plot(range(2,20),cost[2:20])\n",
        "ax.set_xlabel('k')\n",
        "ax.set_ylabel('cost')\n",
        "\n",
        "# Your Code\n"
      ],
      "execution_count": 15,
      "outputs": [
        {
          "output_type": "execute_result",
          "data": {
            "text/plain": [
              "Text(0, 0.5, 'cost')"
            ]
          },
          "metadata": {
            "tags": []
          },
          "execution_count": 15
        },
        {
          "output_type": "display_data",
          "data": {
            "image/png": "[encoded data removed]",
            "text/plain": [
              "<Figure size 576x432 with 1 Axes>"
            ]
          },
          "metadata": {
            "tags": [],
            "needs_background": "light"
          }
        }
      ]
    },
    {
      "cell_type": "markdown",
      "metadata": {
        "colab_type": "text",
        "id": "XupecQFHE5Za"
      },
      "source": [
        "\n",
        "### 2.2 Executing K-Means for selected k\n",
        "\n",
        "Could you tell out the optimized K value? \n",
        "\n",
        "\n",
        "\n",
        "\n",
        "****\n",
        "\n",
        "<div class=\"alert alert-block alert-info\">\n",
        "\n",
        "**Code**: \n",
        "    You are required to choose a K value as 8 and then summarize each cluster with the count on Position_Group.\n",
        "\n",
        "<div class=\"alert alert-block alert-warning\">\n",
        "    \n",
        "**Report**: \n",
        "    **2.2** In your report with proper section title  '2.2', Please summarize the following:     \n",
        "    <ol>\n",
        "        <li> What you could find from those clusters (by cluster central point)? </li>\n",
        "        <li> Is there any Position_Group belonging to particular Cluster?</li>\n",
        "    </ol>\n",
        "\n",
        "</div>\n",
        "</div>\n",
        "\n",
        "\n"
      ]
    },
    {
      "cell_type": "markdown",
      "metadata": {
        "id": "HtMw2BKwSZPC",
        "colab_type": "text"
      },
      "source": [
        "### **2.2: K-Means Clustering** \n",
        "#### **Cluster analysis**"
      ]
    },
    {
      "cell_type": "code",
      "metadata": {
        "colab_type": "code",
        "id": "LxSOxcowE6vB",
        "outputId": "b6e1919a-e06f-4507-da6d-8c1e60df2305",
        "colab": {
          "base_uri": "https://localhost:8080/",
          "height": 314
        }
      },
      "source": [
        "k = 8\n",
        "# Your code\n",
        "kmeans = KMeans().setK(k).setSeed(1).setFeaturesCol(\"features\")\n",
        "model = kmeans.fit(df_kmeans)\n",
        "centers = model.clusterCenters()\n",
        "\n",
        "array= np.vstack(centers)\n",
        "import pandas as pd\n",
        "type(array)\n",
        "cluster_centres= pd.DataFrame(array, columns= FEATURES_COL)\n",
        "cluster_centres['cluster']= ['1','2','3','4','5','6','7','8']\n",
        "cluster_centres\n"
      ],
      "execution_count": 16,
      "outputs": [
        {
          "output_type": "execute_result",
          "data": {
            "text/html": [
              "<div>\n",
              "<style scoped>\n",
              "    .dataframe tbody tr th:only-of-type {\n",
              "        vertical-align: middle;\n",
              "    }\n",
              "\n",
              "    .dataframe tbody tr th {\n",
              "        vertical-align: top;\n",
              "    }\n",
              "\n",
              "    .dataframe thead th {\n",
              "        text-align: right;\n",
              "    }\n",
              "</style>\n",
              "<table border=\"1\" class=\"dataframe\">\n",
              "  <thead>\n",
              "    <tr style=\"text-align: right;\">\n",
              "      <th></th>\n",
              "      <th>Height(CM)</th>\n",
              "      <th>Weight(KG)</th>\n",
              "      <th>Crossing</th>\n",
              "      <th>Finishing</th>\n",
              "      <th>HeadingAccuracy</th>\n",
              "      <th>ShortPassing</th>\n",
              "      <th>Volleys</th>\n",
              "      <th>Dribbling</th>\n",
              "      <th>Curve</th>\n",
              "      <th>FKAccuracy</th>\n",
              "      <th>LongPassing</th>\n",
              "      <th>BallControl</th>\n",
              "      <th>Acceleration</th>\n",
              "      <th>SprintSpeed</th>\n",
              "      <th>Agility</th>\n",
              "      <th>Reactions</th>\n",
              "      <th>Balance</th>\n",
              "      <th>ShotPower</th>\n",
              "      <th>Jumping</th>\n",
              "      <th>Stamina</th>\n",
              "      <th>Strength</th>\n",
              "      <th>LongShots</th>\n",
              "      <th>Aggression</th>\n",
              "      <th>Interceptions</th>\n",
              "      <th>Positioning</th>\n",
              "      <th>Vision</th>\n",
              "      <th>Penalties</th>\n",
              "      <th>Composure</th>\n",
              "      <th>Marking</th>\n",
              "      <th>StandingTackle</th>\n",
              "      <th>SlidingTackle</th>\n",
              "      <th>cluster</th>\n",
              "    </tr>\n",
              "  </thead>\n",
              "  <tbody>\n",
              "    <tr>\n",
              "      <th>0</th>\n",
              "      <td>177.331747</td>\n",
              "      <td>76.317944</td>\n",
              "      <td>58.416399</td>\n",
              "      <td>44.020614</td>\n",
              "      <td>62.791113</td>\n",
              "      <td>67.322034</td>\n",
              "      <td>42.538708</td>\n",
              "      <td>61.026111</td>\n",
              "      <td>52.179111</td>\n",
              "      <td>46.792945</td>\n",
              "      <td>63.551077</td>\n",
              "      <td>65.575813</td>\n",
              "      <td>65.252405</td>\n",
              "      <td>66.065964</td>\n",
              "      <td>64.627577</td>\n",
              "      <td>66.205680</td>\n",
              "      <td>64.105818</td>\n",
              "      <td>62.282639</td>\n",
              "      <td>70.520385</td>\n",
              "      <td>73.826386</td>\n",
              "      <td>72.673843</td>\n",
              "      <td>52.596885</td>\n",
              "      <td>71.434265</td>\n",
              "      <td>67.650481</td>\n",
              "      <td>53.270728</td>\n",
              "      <td>57.474576</td>\n",
              "      <td>48.979386</td>\n",
              "      <td>64.576271</td>\n",
              "      <td>66.671553</td>\n",
              "      <td>68.964727</td>\n",
              "      <td>66.889143</td>\n",
              "      <td>1</td>\n",
              "    </tr>\n",
              "    <tr>\n",
              "      <th>1</th>\n",
              "      <td>187.680263</td>\n",
              "      <td>81.706809</td>\n",
              "      <td>39.868438</td>\n",
              "      <td>30.212524</td>\n",
              "      <td>68.726755</td>\n",
              "      <td>59.716003</td>\n",
              "      <td>31.193548</td>\n",
              "      <td>44.543327</td>\n",
              "      <td>34.724858</td>\n",
              "      <td>33.426312</td>\n",
              "      <td>54.991145</td>\n",
              "      <td>55.461101</td>\n",
              "      <td>53.194813</td>\n",
              "      <td>55.605946</td>\n",
              "      <td>50.158760</td>\n",
              "      <td>62.979760</td>\n",
              "      <td>50.611638</td>\n",
              "      <td>51.142315</td>\n",
              "      <td>68.349779</td>\n",
              "      <td>64.290955</td>\n",
              "      <td>79.529412</td>\n",
              "      <td>34.243517</td>\n",
              "      <td>70.567995</td>\n",
              "      <td>67.063884</td>\n",
              "      <td>33.600253</td>\n",
              "      <td>41.735610</td>\n",
              "      <td>41.055661</td>\n",
              "      <td>61.129032</td>\n",
              "      <td>67.294118</td>\n",
              "      <td>69.611638</td>\n",
              "      <td>66.765338</td>\n",
              "      <td>2</td>\n",
              "    </tr>\n",
              "    <tr>\n",
              "      <th>2</th>\n",
              "      <td>172.466176</td>\n",
              "      <td>73.215085</td>\n",
              "      <td>65.189446</td>\n",
              "      <td>68.700692</td>\n",
              "      <td>57.795415</td>\n",
              "      <td>69.000433</td>\n",
              "      <td>64.560554</td>\n",
              "      <td>73.229239</td>\n",
              "      <td>67.018599</td>\n",
              "      <td>61.339965</td>\n",
              "      <td>60.862457</td>\n",
              "      <td>72.865484</td>\n",
              "      <td>76.230969</td>\n",
              "      <td>75.484429</td>\n",
              "      <td>76.858564</td>\n",
              "      <td>68.820934</td>\n",
              "      <td>73.341696</td>\n",
              "      <td>71.578720</td>\n",
              "      <td>66.421713</td>\n",
              "      <td>69.089533</td>\n",
              "      <td>63.619377</td>\n",
              "      <td>67.487889</td>\n",
              "      <td>56.358564</td>\n",
              "      <td>35.852509</td>\n",
              "      <td>70.454585</td>\n",
              "      <td>67.553633</td>\n",
              "      <td>65.270329</td>\n",
              "      <td>68.708045</td>\n",
              "      <td>36.981401</td>\n",
              "      <td>34.274654</td>\n",
              "      <td>30.684256</td>\n",
              "      <td>3</td>\n",
              "    </tr>\n",
              "    <tr>\n",
              "      <th>3</th>\n",
              "      <td>179.480395</td>\n",
              "      <td>76.008290</td>\n",
              "      <td>36.060831</td>\n",
              "      <td>24.841246</td>\n",
              "      <td>55.700297</td>\n",
              "      <td>47.258160</td>\n",
              "      <td>27.141691</td>\n",
              "      <td>39.071217</td>\n",
              "      <td>29.752967</td>\n",
              "      <td>28.676558</td>\n",
              "      <td>39.298961</td>\n",
              "      <td>45.006677</td>\n",
              "      <td>60.318991</td>\n",
              "      <td>60.531899</td>\n",
              "      <td>53.302671</td>\n",
              "      <td>53.134273</td>\n",
              "      <td>59.041543</td>\n",
              "      <td>38.190653</td>\n",
              "      <td>67.600890</td>\n",
              "      <td>60.880564</td>\n",
              "      <td>67.212166</td>\n",
              "      <td>25.610534</td>\n",
              "      <td>57.082344</td>\n",
              "      <td>56.229228</td>\n",
              "      <td>31.920623</td>\n",
              "      <td>34.706973</td>\n",
              "      <td>36.516320</td>\n",
              "      <td>47.675074</td>\n",
              "      <td>57.191395</td>\n",
              "      <td>60.847181</td>\n",
              "      <td>58.898368</td>\n",
              "      <td>4</td>\n",
              "    </tr>\n",
              "    <tr>\n",
              "      <th>4</th>\n",
              "      <td>171.831220</td>\n",
              "      <td>73.636652</td>\n",
              "      <td>67.455707</td>\n",
              "      <td>58.569015</td>\n",
              "      <td>58.093943</td>\n",
              "      <td>72.504326</td>\n",
              "      <td>57.661310</td>\n",
              "      <td>70.060981</td>\n",
              "      <td>66.779975</td>\n",
              "      <td>62.422332</td>\n",
              "      <td>69.034611</td>\n",
              "      <td>72.122373</td>\n",
              "      <td>69.906881</td>\n",
              "      <td>69.056448</td>\n",
              "      <td>71.967450</td>\n",
              "      <td>69.543469</td>\n",
              "      <td>71.484137</td>\n",
              "      <td>70.778327</td>\n",
              "      <td>67.386485</td>\n",
              "      <td>75.372064</td>\n",
              "      <td>67.246395</td>\n",
              "      <td>66.293778</td>\n",
              "      <td>68.817058</td>\n",
              "      <td>66.052740</td>\n",
              "      <td>65.211372</td>\n",
              "      <td>68.499382</td>\n",
              "      <td>59.716934</td>\n",
              "      <td>69.017717</td>\n",
              "      <td>63.461475</td>\n",
              "      <td>66.484137</td>\n",
              "      <td>63.407911</td>\n",
              "      <td>5</td>\n",
              "    </tr>\n",
              "    <tr>\n",
              "      <th>5</th>\n",
              "      <td>170.910165</td>\n",
              "      <td>69.059326</td>\n",
              "      <td>55.292346</td>\n",
              "      <td>55.095802</td>\n",
              "      <td>43.159012</td>\n",
              "      <td>60.047407</td>\n",
              "      <td>48.400494</td>\n",
              "      <td>64.168889</td>\n",
              "      <td>52.723951</td>\n",
              "      <td>46.470617</td>\n",
              "      <td>53.466667</td>\n",
              "      <td>62.815802</td>\n",
              "      <td>74.158025</td>\n",
              "      <td>73.067654</td>\n",
              "      <td>72.882963</td>\n",
              "      <td>54.819753</td>\n",
              "      <td>74.182222</td>\n",
              "      <td>58.154074</td>\n",
              "      <td>57.084938</td>\n",
              "      <td>59.055309</td>\n",
              "      <td>50.880000</td>\n",
              "      <td>51.040988</td>\n",
              "      <td>42.448889</td>\n",
              "      <td>30.003951</td>\n",
              "      <td>56.255802</td>\n",
              "      <td>56.670123</td>\n",
              "      <td>52.631111</td>\n",
              "      <td>55.064691</td>\n",
              "      <td>35.403457</td>\n",
              "      <td>33.610864</td>\n",
              "      <td>32.670617</td>\n",
              "      <td>6</td>\n",
              "    </tr>\n",
              "    <tr>\n",
              "      <th>6</th>\n",
              "      <td>179.044057</td>\n",
              "      <td>77.273769</td>\n",
              "      <td>41.525366</td>\n",
              "      <td>64.628523</td>\n",
              "      <td>62.523675</td>\n",
              "      <td>54.670800</td>\n",
              "      <td>54.124014</td>\n",
              "      <td>60.157272</td>\n",
              "      <td>45.931793</td>\n",
              "      <td>38.348929</td>\n",
              "      <td>40.625141</td>\n",
              "      <td>61.228861</td>\n",
              "      <td>67.103720</td>\n",
              "      <td>68.447576</td>\n",
              "      <td>63.393461</td>\n",
              "      <td>58.988162</td>\n",
              "      <td>61.213641</td>\n",
              "      <td>63.873732</td>\n",
              "      <td>66.865840</td>\n",
              "      <td>62.502818</td>\n",
              "      <td>69.780158</td>\n",
              "      <td>56.900789</td>\n",
              "      <td>48.685457</td>\n",
              "      <td>22.344419</td>\n",
              "      <td>62.615558</td>\n",
              "      <td>51.563134</td>\n",
              "      <td>61.207441</td>\n",
              "      <td>56.670800</td>\n",
              "      <td>27.092446</td>\n",
              "      <td>21.864149</td>\n",
              "      <td>19.754791</td>\n",
              "      <td>7</td>\n",
              "    </tr>\n",
              "    <tr>\n",
              "      <th>7</th>\n",
              "      <td>170.423643</td>\n",
              "      <td>71.651205</td>\n",
              "      <td>54.409790</td>\n",
              "      <td>39.528722</td>\n",
              "      <td>51.076052</td>\n",
              "      <td>60.990291</td>\n",
              "      <td>37.064320</td>\n",
              "      <td>58.461974</td>\n",
              "      <td>45.364078</td>\n",
              "      <td>40.249595</td>\n",
              "      <td>55.511731</td>\n",
              "      <td>59.909790</td>\n",
              "      <td>69.559871</td>\n",
              "      <td>69.156553</td>\n",
              "      <td>67.275485</td>\n",
              "      <td>58.088592</td>\n",
              "      <td>69.606796</td>\n",
              "      <td>50.264563</td>\n",
              "      <td>64.686084</td>\n",
              "      <td>67.796521</td>\n",
              "      <td>60.887540</td>\n",
              "      <td>42.326861</td>\n",
              "      <td>59.254450</td>\n",
              "      <td>56.585761</td>\n",
              "      <td>50.674353</td>\n",
              "      <td>51.526294</td>\n",
              "      <td>43.852346</td>\n",
              "      <td>53.676780</td>\n",
              "      <td>56.214806</td>\n",
              "      <td>59.438916</td>\n",
              "      <td>57.930825</td>\n",
              "      <td>8</td>\n",
              "    </tr>\n",
              "  </tbody>\n",
              "</table>\n",
              "</div>"
            ],
            "text/plain": [
              "   Height(CM)  Weight(KG)   Crossing  ...  StandingTackle  SlidingTackle  cluster\n",
              "0  177.331747   76.317944  58.416399  ...       68.964727      66.889143        1\n",
              "1  187.680263   81.706809  39.868438  ...       69.611638      66.765338        2\n",
              "2  172.466176   73.215085  65.189446  ...       34.274654      30.684256        3\n",
              "3  179.480395   76.008290  36.060831  ...       60.847181      58.898368        4\n",
              "4  171.831220   73.636652  67.455707  ...       66.484137      63.407911        5\n",
              "5  170.910165   69.059326  55.292346  ...       33.610864      32.670617        6\n",
              "6  179.044057   77.273769  41.525366  ...       21.864149      19.754791        7\n",
              "7  170.423643   71.651205  54.409790  ...       59.438916      57.930825        8\n",
              "\n",
              "[8 rows x 32 columns]"
            ]
          },
          "metadata": {
            "tags": []
          },
          "execution_count": 16
        }
      ]
    },
    {
      "cell_type": "markdown",
      "metadata": {
        "id": "LiPEpnmmRgBn",
        "colab_type": "text"
      },
      "source": [
        "**Visualization of cluster centres**"
      ]
    },
    {
      "cell_type": "code",
      "metadata": {
        "id": "xxP1aNMWMLEA",
        "colab_type": "code",
        "colab": {
          "base_uri": "https://localhost:8080/",
          "height": 559
        },
        "outputId": "4394562c-07a5-45cb-eb49-75856d84b25c"
      },
      "source": [
        "\n",
        "#Create figure\n",
        "\n",
        "# Create scatterplot. alpha controls the opacity and s controls the size.\n",
        "fig= plt.figure()\n",
        "sns.scatterplot(data=cluster_centres, x= cluster_centres.SlidingTackle, y= cluster_centres.StandingTackle, s=250, hue= \"cluster\",   palette=[\"C0\", \"C1\",\"C2\", 'C3','C4','C5','C6','C7'])\n",
        "fig= plt.figure()\n",
        "\n",
        "sns.scatterplot(data=cluster_centres, x= cluster_centres.Stamina, y= cluster_centres.Strength, s=250, hue= \"cluster\",   palette=[\"C0\", \"C1\",\"C2\", 'C3','C4','C5','C6','C7'])\n",
        "\n"
      ],
      "execution_count": 17,
      "outputs": [
        {
          "output_type": "execute_result",
          "data": {
            "text/plain": [
              "<matplotlib.axes._subplots.AxesSubplot at 0x7f9efa8e12b0>"
            ]
          },
          "metadata": {
            "tags": []
          },
          "execution_count": 17
        },
        {
          "output_type": "display_data",
          "data": {
            "image/png": "[encoded data removed]",
            "text/plain": [
              "<Figure size 432x288 with 1 Axes>"
            ]
          },
          "metadata": {
            "tags": [],
            "needs_background": "light"
          }
        },
        {
          "output_type": "display_data",
          "data": {
            "image/png": "[encoded data removed]",
            "text/plain": [
              "<Figure size 432x288 with 1 Axes>"
            ]
          },
          "metadata": {
            "tags": [],
            "needs_background": "light"
          }
        }
      ]
    },
    {
      "cell_type": "markdown",
      "metadata": {
        "id": "rergconGUWHh",
        "colab_type": "text"
      },
      "source": [
        "**Inference:**\n",
        "- Cluster 4 is always low in all the skills\n",
        "- Standing tackle and sliding tackle are linearly correlated and are effective in distinguishing the clusters"
      ]
    },
    {
      "cell_type": "markdown",
      "metadata": {
        "id": "DZ2MWbD0TYfk",
        "colab_type": "text"
      },
      "source": [
        "**Cluster Prediction**"
      ]
    },
    {
      "cell_type": "code",
      "metadata": {
        "colab_type": "code",
        "id": "AkWZ5-6oFlpp",
        "outputId": "c4006dad-1faf-4d34-fb46-2f785402acd2",
        "colab": {
          "base_uri": "https://localhost:8080/",
          "height": 209
        }
      },
      "source": [
        "from pyspark.sql import SQLContext\n",
        "\n",
        "# Your code\n",
        "#prediction of clusters\n",
        "transformed = model.transform(df_kmeans).select('id', 'prediction')\n",
        "rows = transformed.collect()\n",
        "print(rows[:3])\n",
        "np.vstack(rows)\n",
        "\n",
        "# Create data frame\n",
        "df_pred = spark.createDataFrame(rows)\n",
        "#df_pred.show()\n",
        "\n",
        "#join with original data\n",
        "df_pred = df_pred.join(df_kmeans_new, 'id')\n",
        "#df_pred.show()\n",
        "\n",
        "#convert the result to pandas\n",
        "pddf_pred = df_pred.toPandas().set_index('id')\n",
        "pddf_pred.head(3)\n"
      ],
      "execution_count": 18,
      "outputs": [
        {
          "output_type": "stream",
          "text": [
            "[Row(id='158023', prediction=2), Row(id='20801', prediction=2), Row(id='190871', prediction=2)]\n"
          ],
          "name": "stdout"
        },
        {
          "output_type": "execute_result",
          "data": {
            "text/html": [
              "<div>\n",
              "<style scoped>\n",
              "    .dataframe tbody tr th:only-of-type {\n",
              "        vertical-align: middle;\n",
              "    }\n",
              "\n",
              "    .dataframe tbody tr th {\n",
              "        vertical-align: top;\n",
              "    }\n",
              "\n",
              "    .dataframe thead th {\n",
              "        text-align: right;\n",
              "    }\n",
              "</style>\n",
              "<table border=\"1\" class=\"dataframe\">\n",
              "  <thead>\n",
              "    <tr style=\"text-align: right;\">\n",
              "      <th></th>\n",
              "      <th>prediction</th>\n",
              "      <th>Height(CM)</th>\n",
              "      <th>Weight(KG)</th>\n",
              "      <th>Crossing</th>\n",
              "      <th>Finishing</th>\n",
              "      <th>HeadingAccuracy</th>\n",
              "      <th>ShortPassing</th>\n",
              "      <th>Volleys</th>\n",
              "      <th>Dribbling</th>\n",
              "      <th>Curve</th>\n",
              "      <th>FKAccuracy</th>\n",
              "      <th>LongPassing</th>\n",
              "      <th>BallControl</th>\n",
              "      <th>Acceleration</th>\n",
              "      <th>SprintSpeed</th>\n",
              "      <th>Agility</th>\n",
              "      <th>Reactions</th>\n",
              "      <th>Balance</th>\n",
              "      <th>ShotPower</th>\n",
              "      <th>Jumping</th>\n",
              "      <th>Stamina</th>\n",
              "      <th>Strength</th>\n",
              "      <th>LongShots</th>\n",
              "      <th>Aggression</th>\n",
              "      <th>Interceptions</th>\n",
              "      <th>Positioning</th>\n",
              "      <th>Vision</th>\n",
              "      <th>Penalties</th>\n",
              "      <th>Composure</th>\n",
              "      <th>Marking</th>\n",
              "      <th>StandingTackle</th>\n",
              "      <th>SlidingTackle</th>\n",
              "      <th>Position</th>\n",
              "      <th>Position_Group</th>\n",
              "    </tr>\n",
              "    <tr>\n",
              "      <th>id</th>\n",
              "      <th></th>\n",
              "      <th></th>\n",
              "      <th></th>\n",
              "      <th></th>\n",
              "      <th></th>\n",
              "      <th></th>\n",
              "      <th></th>\n",
              "      <th></th>\n",
              "      <th></th>\n",
              "      <th></th>\n",
              "      <th></th>\n",
              "      <th></th>\n",
              "      <th></th>\n",
              "      <th></th>\n",
              "      <th></th>\n",
              "      <th></th>\n",
              "      <th></th>\n",
              "      <th></th>\n",
              "      <th></th>\n",
              "      <th></th>\n",
              "      <th></th>\n",
              "      <th></th>\n",
              "      <th></th>\n",
              "      <th></th>\n",
              "      <th></th>\n",
              "      <th></th>\n",
              "      <th></th>\n",
              "      <th></th>\n",
              "      <th></th>\n",
              "      <th></th>\n",
              "      <th></th>\n",
              "      <th></th>\n",
              "      <th></th>\n",
              "      <th></th>\n",
              "    </tr>\n",
              "  </thead>\n",
              "  <tbody>\n",
              "    <tr>\n",
              "      <th>158023</th>\n",
              "      <td>2</td>\n",
              "      <td>173.735992</td>\n",
              "      <td>72.121124</td>\n",
              "      <td>84.0</td>\n",
              "      <td>95.0</td>\n",
              "      <td>70.0</td>\n",
              "      <td>90.0</td>\n",
              "      <td>86.0</td>\n",
              "      <td>97.0</td>\n",
              "      <td>93.0</td>\n",
              "      <td>94.0</td>\n",
              "      <td>87.0</td>\n",
              "      <td>96.0</td>\n",
              "      <td>91.0</td>\n",
              "      <td>86.0</td>\n",
              "      <td>91.0</td>\n",
              "      <td>95.0</td>\n",
              "      <td>95.0</td>\n",
              "      <td>85.0</td>\n",
              "      <td>68.0</td>\n",
              "      <td>72.0</td>\n",
              "      <td>59.0</td>\n",
              "      <td>94.0</td>\n",
              "      <td>48.0</td>\n",
              "      <td>22.0</td>\n",
              "      <td>94.0</td>\n",
              "      <td>94.0</td>\n",
              "      <td>75.0</td>\n",
              "      <td>96.0</td>\n",
              "      <td>33.0</td>\n",
              "      <td>28.0</td>\n",
              "      <td>26.0</td>\n",
              "      <td>RF</td>\n",
              "      <td>FWD</td>\n",
              "    </tr>\n",
              "    <tr>\n",
              "      <th>20801</th>\n",
              "      <td>2</td>\n",
              "      <td>188.975998</td>\n",
              "      <td>83.007339</td>\n",
              "      <td>84.0</td>\n",
              "      <td>94.0</td>\n",
              "      <td>89.0</td>\n",
              "      <td>81.0</td>\n",
              "      <td>87.0</td>\n",
              "      <td>88.0</td>\n",
              "      <td>81.0</td>\n",
              "      <td>76.0</td>\n",
              "      <td>77.0</td>\n",
              "      <td>94.0</td>\n",
              "      <td>89.0</td>\n",
              "      <td>91.0</td>\n",
              "      <td>87.0</td>\n",
              "      <td>96.0</td>\n",
              "      <td>70.0</td>\n",
              "      <td>95.0</td>\n",
              "      <td>95.0</td>\n",
              "      <td>88.0</td>\n",
              "      <td>79.0</td>\n",
              "      <td>93.0</td>\n",
              "      <td>63.0</td>\n",
              "      <td>29.0</td>\n",
              "      <td>95.0</td>\n",
              "      <td>82.0</td>\n",
              "      <td>85.0</td>\n",
              "      <td>95.0</td>\n",
              "      <td>28.0</td>\n",
              "      <td>31.0</td>\n",
              "      <td>23.0</td>\n",
              "      <td>ST</td>\n",
              "      <td>FWD</td>\n",
              "    </tr>\n",
              "    <tr>\n",
              "      <th>190871</th>\n",
              "      <td>2</td>\n",
              "      <td>179.832001</td>\n",
              "      <td>68.038803</td>\n",
              "      <td>79.0</td>\n",
              "      <td>87.0</td>\n",
              "      <td>62.0</td>\n",
              "      <td>84.0</td>\n",
              "      <td>84.0</td>\n",
              "      <td>96.0</td>\n",
              "      <td>88.0</td>\n",
              "      <td>87.0</td>\n",
              "      <td>78.0</td>\n",
              "      <td>95.0</td>\n",
              "      <td>94.0</td>\n",
              "      <td>90.0</td>\n",
              "      <td>96.0</td>\n",
              "      <td>94.0</td>\n",
              "      <td>84.0</td>\n",
              "      <td>80.0</td>\n",
              "      <td>61.0</td>\n",
              "      <td>81.0</td>\n",
              "      <td>49.0</td>\n",
              "      <td>82.0</td>\n",
              "      <td>56.0</td>\n",
              "      <td>36.0</td>\n",
              "      <td>89.0</td>\n",
              "      <td>87.0</td>\n",
              "      <td>81.0</td>\n",
              "      <td>94.0</td>\n",
              "      <td>27.0</td>\n",
              "      <td>24.0</td>\n",
              "      <td>33.0</td>\n",
              "      <td>LW</td>\n",
              "      <td>FWD</td>\n",
              "    </tr>\n",
              "  </tbody>\n",
              "</table>\n",
              "</div>"
            ],
            "text/plain": [
              "        prediction  Height(CM)  ...  Position  Position_Group\n",
              "id                              ...                          \n",
              "158023           2  173.735992  ...        RF             FWD\n",
              "20801            2  188.975998  ...        ST             FWD\n",
              "190871           2  179.832001  ...        LW             FWD\n",
              "\n",
              "[3 rows x 34 columns]"
            ]
          },
          "metadata": {
            "tags": []
          },
          "execution_count": 18
        }
      ]
    },
    {
      "cell_type": "markdown",
      "metadata": {
        "id": "iGIl6rQFTpgl",
        "colab_type": "text"
      },
      "source": [
        "#### **Cluster Distribution analysis with respect to position groups**"
      ]
    },
    {
      "cell_type": "markdown",
      "metadata": {
        "id": "dHv7F6CHVKnM",
        "colab_type": "text"
      },
      "source": [
        "**Distribution of Position Group within each cluster**"
      ]
    },
    {
      "cell_type": "code",
      "metadata": {
        "id": "jyNIHYPraKXM",
        "colab_type": "code",
        "colab": {
          "base_uri": "https://localhost:8080/",
          "height": 355
        },
        "outputId": "8e9d7c33-7af1-4437-cd61-4cf9a454c426"
      },
      "source": [
        "pddf_pred= pddf_pred.rename(columns={'prediction': 'cluster'})\n",
        "pddf_pred['cluster']=pddf_pred['cluster']+1\n",
        "pd.crosstab(pddf_pred.cluster, pddf_pred.Position_Group,normalize='index', margins=True)"
      ],
      "execution_count": 19,
      "outputs": [
        {
          "output_type": "execute_result",
          "data": {
            "text/html": [
              "<div>\n",
              "<style scoped>\n",
              "    .dataframe tbody tr th:only-of-type {\n",
              "        vertical-align: middle;\n",
              "    }\n",
              "\n",
              "    .dataframe tbody tr th {\n",
              "        vertical-align: top;\n",
              "    }\n",
              "\n",
              "    .dataframe thead th {\n",
              "        text-align: right;\n",
              "    }\n",
              "</style>\n",
              "<table border=\"1\" class=\"dataframe\">\n",
              "  <thead>\n",
              "    <tr style=\"text-align: right;\">\n",
              "      <th>Position_Group</th>\n",
              "      <th>DEF</th>\n",
              "      <th>FWD</th>\n",
              "      <th>MID</th>\n",
              "    </tr>\n",
              "    <tr>\n",
              "      <th>cluster</th>\n",
              "      <th></th>\n",
              "      <th></th>\n",
              "      <th></th>\n",
              "    </tr>\n",
              "  </thead>\n",
              "  <tbody>\n",
              "    <tr>\n",
              "      <th>1</th>\n",
              "      <td>0.557065</td>\n",
              "      <td>0.004982</td>\n",
              "      <td>0.437953</td>\n",
              "    </tr>\n",
              "    <tr>\n",
              "      <th>2</th>\n",
              "      <td>0.924731</td>\n",
              "      <td>0.001265</td>\n",
              "      <td>0.074004</td>\n",
              "    </tr>\n",
              "    <tr>\n",
              "      <th>3</th>\n",
              "      <td>0.001731</td>\n",
              "      <td>0.481177</td>\n",
              "      <td>0.517092</td>\n",
              "    </tr>\n",
              "    <tr>\n",
              "      <th>4</th>\n",
              "      <td>0.941964</td>\n",
              "      <td>0.000744</td>\n",
              "      <td>0.057292</td>\n",
              "    </tr>\n",
              "    <tr>\n",
              "      <th>5</th>\n",
              "      <td>0.250628</td>\n",
              "      <td>0.029707</td>\n",
              "      <td>0.719665</td>\n",
              "    </tr>\n",
              "    <tr>\n",
              "      <th>6</th>\n",
              "      <td>0.003943</td>\n",
              "      <td>0.263677</td>\n",
              "      <td>0.732380</td>\n",
              "    </tr>\n",
              "    <tr>\n",
              "      <th>7</th>\n",
              "      <td>0.000000</td>\n",
              "      <td>0.924285</td>\n",
              "      <td>0.075715</td>\n",
              "    </tr>\n",
              "    <tr>\n",
              "      <th>8</th>\n",
              "      <td>0.523829</td>\n",
              "      <td>0.015347</td>\n",
              "      <td>0.460824</td>\n",
              "    </tr>\n",
              "    <tr>\n",
              "      <th>All</th>\n",
              "      <td>0.363851</td>\n",
              "      <td>0.212008</td>\n",
              "      <td>0.424141</td>\n",
              "    </tr>\n",
              "  </tbody>\n",
              "</table>\n",
              "</div>"
            ],
            "text/plain": [
              "Position_Group       DEF       FWD       MID\n",
              "cluster                                     \n",
              "1               0.557065  0.004982  0.437953\n",
              "2               0.924731  0.001265  0.074004\n",
              "3               0.001731  0.481177  0.517092\n",
              "4               0.941964  0.000744  0.057292\n",
              "5               0.250628  0.029707  0.719665\n",
              "6               0.003943  0.263677  0.732380\n",
              "7               0.000000  0.924285  0.075715\n",
              "8               0.523829  0.015347  0.460824\n",
              "All             0.363851  0.212008  0.424141"
            ]
          },
          "metadata": {
            "tags": []
          },
          "execution_count": 19
        }
      ]
    },
    {
      "cell_type": "markdown",
      "metadata": {
        "id": "-iT1qUZub1Jt",
        "colab_type": "text"
      },
      "source": [
        "**Inference:**\n",
        "- Cluster 5 and 7 are dominated by DEF\n",
        "- Cluster 8 is dominated by FWD\n",
        "- Cluster 1 and 6 is dominated by MID"
      ]
    },
    {
      "cell_type": "markdown",
      "metadata": {
        "id": "_923va64U5fZ",
        "colab_type": "text"
      },
      "source": [
        "**Distribution normalizing over all cluster and position group**"
      ]
    },
    {
      "cell_type": "code",
      "metadata": {
        "id": "n0DgDJthcXjU",
        "colab_type": "code",
        "colab": {
          "base_uri": "https://localhost:8080/",
          "height": 355
        },
        "outputId": "a263a614-ec4c-4c33-d48d-97b63901b7f0"
      },
      "source": [
        "pd.crosstab(pddf_pred.cluster, pddf_pred.Position_Group,normalize='all', margins=True)"
      ],
      "execution_count": 20,
      "outputs": [
        {
          "output_type": "execute_result",
          "data": {
            "text/html": [
              "<div>\n",
              "<style scoped>\n",
              "    .dataframe tbody tr th:only-of-type {\n",
              "        vertical-align: middle;\n",
              "    }\n",
              "\n",
              "    .dataframe tbody tr th {\n",
              "        vertical-align: top;\n",
              "    }\n",
              "\n",
              "    .dataframe thead th {\n",
              "        text-align: right;\n",
              "    }\n",
              "</style>\n",
              "<table border=\"1\" class=\"dataframe\">\n",
              "  <thead>\n",
              "    <tr style=\"text-align: right;\">\n",
              "      <th>Position_Group</th>\n",
              "      <th>DEF</th>\n",
              "      <th>FWD</th>\n",
              "      <th>MID</th>\n",
              "      <th>All</th>\n",
              "    </tr>\n",
              "    <tr>\n",
              "      <th>cluster</th>\n",
              "      <th></th>\n",
              "      <th></th>\n",
              "      <th></th>\n",
              "      <th></th>\n",
              "    </tr>\n",
              "  </thead>\n",
              "  <tbody>\n",
              "    <tr>\n",
              "      <th>1</th>\n",
              "      <td>0.076293</td>\n",
              "      <td>0.000682</td>\n",
              "      <td>0.059980</td>\n",
              "      <td>0.136956</td>\n",
              "    </tr>\n",
              "    <tr>\n",
              "      <th>2</th>\n",
              "      <td>0.090684</td>\n",
              "      <td>0.000124</td>\n",
              "      <td>0.007257</td>\n",
              "      <td>0.098065</td>\n",
              "    </tr>\n",
              "    <tr>\n",
              "      <th>3</th>\n",
              "      <td>0.000248</td>\n",
              "      <td>0.068974</td>\n",
              "      <td>0.074122</td>\n",
              "      <td>0.143344</td>\n",
              "    </tr>\n",
              "    <tr>\n",
              "      <th>4</th>\n",
              "      <td>0.078526</td>\n",
              "      <td>0.000062</td>\n",
              "      <td>0.004776</td>\n",
              "      <td>0.083364</td>\n",
              "    </tr>\n",
              "    <tr>\n",
              "      <th>5</th>\n",
              "      <td>0.037154</td>\n",
              "      <td>0.004404</td>\n",
              "      <td>0.106687</td>\n",
              "      <td>0.148245</td>\n",
              "    </tr>\n",
              "    <tr>\n",
              "      <th>6</th>\n",
              "      <td>0.000496</td>\n",
              "      <td>0.033184</td>\n",
              "      <td>0.092172</td>\n",
              "      <td>0.125853</td>\n",
              "    </tr>\n",
              "    <tr>\n",
              "      <th>7</th>\n",
              "      <td>0.000000</td>\n",
              "      <td>0.102221</td>\n",
              "      <td>0.008374</td>\n",
              "      <td>0.110594</td>\n",
              "    </tr>\n",
              "    <tr>\n",
              "      <th>8</th>\n",
              "      <td>0.080449</td>\n",
              "      <td>0.002357</td>\n",
              "      <td>0.070773</td>\n",
              "      <td>0.153579</td>\n",
              "    </tr>\n",
              "    <tr>\n",
              "      <th>All</th>\n",
              "      <td>0.363851</td>\n",
              "      <td>0.212008</td>\n",
              "      <td>0.424141</td>\n",
              "      <td>1.000000</td>\n",
              "    </tr>\n",
              "  </tbody>\n",
              "</table>\n",
              "</div>"
            ],
            "text/plain": [
              "Position_Group       DEF       FWD       MID       All\n",
              "cluster                                               \n",
              "1               0.076293  0.000682  0.059980  0.136956\n",
              "2               0.090684  0.000124  0.007257  0.098065\n",
              "3               0.000248  0.068974  0.074122  0.143344\n",
              "4               0.078526  0.000062  0.004776  0.083364\n",
              "5               0.037154  0.004404  0.106687  0.148245\n",
              "6               0.000496  0.033184  0.092172  0.125853\n",
              "7               0.000000  0.102221  0.008374  0.110594\n",
              "8               0.080449  0.002357  0.070773  0.153579\n",
              "All             0.363851  0.212008  0.424141  1.000000"
            ]
          },
          "metadata": {
            "tags": []
          },
          "execution_count": 20
        }
      ]
    },
    {
      "cell_type": "markdown",
      "metadata": {
        "id": "fVG3XwAJckA0",
        "colab_type": "text"
      },
      "source": [
        "**More Inference**\n",
        "- All clusters are almost failly distributed containing 10 to 20% of all players\n",
        "- Most players play in the MID position group followed by DEF and FWD"
      ]
    },
    {
      "cell_type": "markdown",
      "metadata": {
        "colab_type": "text",
        "id": "IiHEevY6IOJz"
      },
      "source": [
        "## Part 3 - Supervised Learning: Classification on Position_Group\n",
        "\n",
        "<a id=\"classification\"></a>\n",
        "***\n",
        "\n",
        "In last part, you use the player's skillset values to segment the players into 8 clusters. Now we want to see whether we could accuratly predict the position_group of the player.\n",
        "\n",
        "*Remind: You must only use **PySpark** to complete the following data processing and model building. Otherwise, you lose all marks.*\n",
        "\n",
        "\n",
        "### 3.1 Data Preparation\n",
        "\n",
        "We remove the feature of position and use all other skillset features and the cluster prediction as the input for the model. Your target for classification is \"Position_Group\"."
      ]
    },
    {
      "cell_type": "markdown",
      "metadata": {
        "id": "bBMOuDw-VwbA",
        "colab_type": "text"
      },
      "source": [
        "**Vector assembly of data**"
      ]
    },
    {
      "cell_type": "code",
      "metadata": {
        "colab_type": "code",
        "id": "PwtsyrUsI8e_",
        "colab": {
          "base_uri": "https://localhost:8080/",
          "height": 173
        },
        "outputId": "295ba5a3-379a-4ffb-d349-c0b61acb5cd3"
      },
      "source": [
        "FEATURES_COL_ = ['Height(CM)', 'Weight(KG)', \n",
        "                      'Crossing', 'Finishing', 'HeadingAccuracy', \n",
        "                      'ShortPassing', 'Volleys', 'Dribbling', 'Curve',\n",
        "                      'FKAccuracy', 'LongPassing', 'BallControl', \n",
        "                      'Acceleration', 'SprintSpeed', 'Agility', \n",
        "                      'Reactions', 'Balance', 'ShotPower', 'Jumping', \n",
        "                      'Stamina', 'Strength', 'LongShots', 'Aggression', \n",
        "                      'Interceptions', 'Positioning', 'Vision', 'Penalties', \n",
        "                      'Composure', 'Marking', 'StandingTackle', 'SlidingTackle','prediction']\n",
        "#changed Cluster-> prediction\n",
        "\n",
        "vecAssembler_ = VectorAssembler(inputCols=FEATURES_COL_, outputCol=\"features\")\n",
        "df_class_ = vecAssembler_.transform(df_pred).select('features','Position_Group')\n",
        "df_class_.show(3)\n"
      ],
      "execution_count": 21,
      "outputs": [
        {
          "output_type": "stream",
          "text": [
            "+--------------------+--------------+\n",
            "|            features|Position_Group|\n",
            "+--------------------+--------------+\n",
            "|[173.735992431640...|           FWD|\n",
            "|[188.975997924804...|           FWD|\n",
            "|[179.832000732421...|           FWD|\n",
            "+--------------------+--------------+\n",
            "only showing top 3 rows\n",
            "\n"
          ],
          "name": "stdout"
        }
      ]
    },
    {
      "cell_type": "markdown",
      "metadata": {
        "colab_type": "text",
        "id": "AklN81TvMKJS"
      },
      "source": [
        "In many data science modeling work, feature scaling is very important.\n",
        "In here, we use standard scaling on the fetaures."
      ]
    },
    {
      "cell_type": "markdown",
      "metadata": {
        "id": "cTNaU_mJW5Ko",
        "colab_type": "text"
      },
      "source": [
        "**Feature Scaling**"
      ]
    },
    {
      "cell_type": "code",
      "metadata": {
        "colab_type": "code",
        "id": "pjQRAHOQMK6V",
        "colab": {
          "base_uri": "https://localhost:8080/",
          "height": 173
        },
        "outputId": "1a00e16a-314d-4069-aa62-3e6f2422048b"
      },
      "source": [
        "from pyspark.ml.feature import StandardScaler\n",
        "\n",
        "standardscaler=StandardScaler().setInputCol(\"features\").setOutputCol(\"Scaled_features\")\n",
        "raw_data=standardscaler.fit(df_class_).transform(df_class_)\n",
        "raw_data.select(\"features\",\"Scaled_features\",'Position_Group').show(3)"
      ],
      "execution_count": 22,
      "outputs": [
        {
          "output_type": "stream",
          "text": [
            "+--------------------+--------------------+--------------+\n",
            "|            features|     Scaled_features|Position_Group|\n",
            "+--------------------+--------------------+--------------+\n",
            "|[173.735992431640...|[12.9261366722264...|           FWD|\n",
            "|[188.975997924804...|[14.0600087682323...|           FWD|\n",
            "|[179.832000732421...|[13.3796859647366...|           FWD|\n",
            "+--------------------+--------------------+--------------+\n",
            "only showing top 3 rows\n",
            "\n"
          ],
          "name": "stdout"
        }
      ]
    },
    {
      "cell_type": "markdown",
      "metadata": {
        "colab_type": "text",
        "id": "DD6wgq2sgiGk"
      },
      "source": [
        "In Spark, you could not use string as Target data type, Please encode the Position_Group column by using following encoding: \n",
        "\n",
        "FWD = 0\n",
        "DEF = 1\n",
        "MID = 2\n",
        "\n",
        "*Hint: Data type after encoding should be numeric.*"
      ]
    },
    {
      "cell_type": "markdown",
      "metadata": {
        "id": "Dqd2W6sUW_aV",
        "colab_type": "text"
      },
      "source": [
        "**Label encoding on target**"
      ]
    },
    {
      "cell_type": "code",
      "metadata": {
        "colab_type": "code",
        "id": "OosmFX9iOc0Z",
        "colab": {}
      },
      "source": [
        "raw_data_ = raw_data.withColumn('Target',when(col(\"Position_Group\") == \"DEF\", 1)\n",
        "      .when(col(\"Position_Group\")== \"FWD\", 0)\n",
        "      .otherwise(2))"
      ],
      "execution_count": 0,
      "outputs": []
    },
    {
      "cell_type": "markdown",
      "metadata": {
        "colab_type": "text",
        "id": "NDfZARUNMW2M"
      },
      "source": [
        "### 3.2 Training Test Evaluation\n",
        "\n",
        "We remove the feature of position and use all other skillset features and the cluster prediction as the input for the model. The target for classification is \"Position_Group\".\n",
        "\n",
        "Now, we split your data into train/Test, and evaluate one model's performance."
      ]
    },
    {
      "cell_type": "markdown",
      "metadata": {
        "id": "f5CZ8EtnXJdm",
        "colab_type": "text"
      },
      "source": [
        "**Train test split in 70-30**"
      ]
    },
    {
      "cell_type": "code",
      "metadata": {
        "colab_type": "code",
        "id": "MmbanmwBMUQB",
        "colab": {}
      },
      "source": [
        "train, test = raw_data_.randomSplit([0.7, 0.3], seed=12)"
      ],
      "execution_count": 0,
      "outputs": []
    },
    {
      "cell_type": "markdown",
      "metadata": {
        "id": "vR9hCBh7XUY1",
        "colab_type": "text"
      },
      "source": [
        "**Model definition, fitting and prediction**"
      ]
    },
    {
      "cell_type": "code",
      "metadata": {
        "colab_type": "code",
        "id": "apoKm9igMi12",
        "colab": {
          "base_uri": "https://localhost:8080/",
          "height": 208
        },
        "outputId": "d050c56c-92ef-477c-9a80-cb9665467372"
      },
      "source": [
        "from pyspark.ml.classification import LogisticRegression\n",
        "lr = LogisticRegression(labelCol=\"Target\", featuresCol=\"Scaled_features\",maxIter=10)\n",
        "model=lr.fit(train)\n",
        "\n",
        "predict_train=model.transform(train)\n",
        "predict_test=model.transform(test)\n",
        "predict_test.select(\"Target\",\"prediction\").show(5)\n"
      ],
      "execution_count": 25,
      "outputs": [
        {
          "output_type": "stream",
          "text": [
            "+------+----------+\n",
            "|Target|prediction|\n",
            "+------+----------+\n",
            "|     2|       2.0|\n",
            "|     2|       2.0|\n",
            "|     0|       0.0|\n",
            "|     0|       0.0|\n",
            "|     2|       2.0|\n",
            "+------+----------+\n",
            "only showing top 5 rows\n",
            "\n"
          ],
          "name": "stdout"
        }
      ]
    },
    {
      "cell_type": "markdown",
      "metadata": {
        "id": "AWt25bVoXceu",
        "colab_type": "text"
      },
      "source": [
        "**Inference:**\n",
        "\n",
        "\n",
        "*   Data has been prepared in the vectorised form\n",
        "*   Feature scaling has been performed\n",
        "*   Train test split has been performed in 70-30 ratio\n",
        "*   Logistic Regression model has been defined\n",
        "*   Model has been fitted on the train data\n",
        "*   The trained model has been used to predict using test data\n",
        "\n",
        "\n",
        "\n"
      ]
    },
    {
      "cell_type": "markdown",
      "metadata": {
        "colab_type": "text",
        "id": "wZk-Z7CcP6Ng"
      },
      "source": [
        "\n",
        "****\n",
        "\n",
        "\n",
        "<div class=\"alert alert-block alert-info\">\n",
        "\n",
        "**Code**: \n",
        "    You are required to evaluate the model by using confusion matrix. Please also print out your model's Precision, Recall and F1 score.\n",
        "\n",
        "<div class=\"alert alert-block alert-warning\">\n",
        "    \n",
        "**Report**: \n",
        "    **3.2** In your report with proper section title  '3.2', Please summarize the following:     \n",
        "    <ol>\n",
        "        <li> The confusion matrix </li>\n",
        "        <li> The Precision, Recall and F1 score</li>\n",
        "    </ol>\n",
        "</div>\n",
        "</div>\n",
        "\n",
        "\n"
      ]
    },
    {
      "cell_type": "markdown",
      "metadata": {
        "id": "9v9-UMQJ9JJx",
        "colab_type": "text"
      },
      "source": [
        "### **Section 3.2: Classification model performance evaluation**"
      ]
    },
    {
      "cell_type": "markdown",
      "metadata": {
        "id": "bbkQLdiAYTpY",
        "colab_type": "text"
      },
      "source": [
        "**Generation of Confusion matrix**"
      ]
    },
    {
      "cell_type": "code",
      "metadata": {
        "colab_type": "code",
        "id": "yPho8CbGQCCm",
        "colab": {
          "base_uri": "https://localhost:8080/",
          "height": 389
        },
        "outputId": "999d2d47-a4ee-4c30-ecc3-54b309fd88c2"
      },
      "source": [
        "predict_test, test\n",
        "temp_df= predict_test.select(\"Target\",\"prediction\").toPandas()\n",
        "temp_df= temp_df.replace({2:'MID',1:'DEF',0:'FWD'})\n",
        "from sklearn.metrics import confusion_matrix\n",
        "cm= confusion_matrix(temp_df.Target,temp_df.prediction, labels=['MID','DEF','FWD'] ) \n",
        "cm= pd.DataFrame(cm, index= ['MID','DEF','FWD'], columns=['MID','DEF','FWD'])\n",
        "sns.heatmap(cm)\n",
        "cm\n",
        "# Your Code\n"
      ],
      "execution_count": 26,
      "outputs": [
        {
          "output_type": "execute_result",
          "data": {
            "text/html": [
              "<div>\n",
              "<style scoped>\n",
              "    .dataframe tbody tr th:only-of-type {\n",
              "        vertical-align: middle;\n",
              "    }\n",
              "\n",
              "    .dataframe tbody tr th {\n",
              "        vertical-align: top;\n",
              "    }\n",
              "\n",
              "    .dataframe thead th {\n",
              "        text-align: right;\n",
              "    }\n",
              "</style>\n",
              "<table border=\"1\" class=\"dataframe\">\n",
              "  <thead>\n",
              "    <tr style=\"text-align: right;\">\n",
              "      <th></th>\n",
              "      <th>MID</th>\n",
              "      <th>DEF</th>\n",
              "      <th>FWD</th>\n",
              "    </tr>\n",
              "  </thead>\n",
              "  <tbody>\n",
              "    <tr>\n",
              "      <th>MID</th>\n",
              "      <td>1637</td>\n",
              "      <td>240</td>\n",
              "      <td>194</td>\n",
              "    </tr>\n",
              "    <tr>\n",
              "      <th>DEF</th>\n",
              "      <td>307</td>\n",
              "      <td>1466</td>\n",
              "      <td>2</td>\n",
              "    </tr>\n",
              "    <tr>\n",
              "      <th>FWD</th>\n",
              "      <td>210</td>\n",
              "      <td>7</td>\n",
              "      <td>821</td>\n",
              "    </tr>\n",
              "  </tbody>\n",
              "</table>\n",
              "</div>"
            ],
            "text/plain": [
              "      MID   DEF  FWD\n",
              "MID  1637   240  194\n",
              "DEF   307  1466    2\n",
              "FWD   210     7  821"
            ]
          },
          "metadata": {
            "tags": []
          },
          "execution_count": 26
        },
        {
          "output_type": "display_data",
          "data": {
            "image/png": "[encoded data removed]",
            "text/plain": [
              "<Figure size 432x288 with 2 Axes>"
            ]
          },
          "metadata": {
            "tags": [],
            "needs_background": "light"
          }
        }
      ]
    },
    {
      "cell_type": "markdown",
      "metadata": {
        "id": "mAep7HzrYc3y",
        "colab_type": "text"
      },
      "source": [
        "**Inference:**\n",
        "- The Confusion Matrix has been generated for the prediction of Position Group\n",
        "- Most of the predictions lie along the diagonal representing correct prediction\n",
        "- For DEF, some samples are misclassified as MID\n",
        "- For MID, some samples are misclassified as DEF and FWD\n",
        "- For FWD, some samples are misclassified as MID\n"
      ]
    },
    {
      "cell_type": "markdown",
      "metadata": {
        "id": "O4ps4UShZM3C",
        "colab_type": "text"
      },
      "source": [
        "**Model Precision, Recall and F1 score**"
      ]
    },
    {
      "cell_type": "code",
      "metadata": {
        "colab_type": "code",
        "id": "d95nOilARR8H",
        "colab": {
          "base_uri": "https://localhost:8080/",
          "height": 191
        },
        "outputId": "2137d467-8326-4102-a072-a93c257929a6"
      },
      "source": [
        "from sklearn.metrics import classification_report\n",
        "\n",
        "# Your Code\n",
        "report= classification_report(temp_df.Target,temp_df.prediction, labels=['MID','DEF','FWD'] )\n",
        "print(report)"
      ],
      "execution_count": 27,
      "outputs": [
        {
          "output_type": "stream",
          "text": [
            "              precision    recall  f1-score   support\n",
            "\n",
            "         MID       0.76      0.79      0.77      2071\n",
            "         DEF       0.86      0.83      0.84      1775\n",
            "         FWD       0.81      0.79      0.80      1038\n",
            "\n",
            "    accuracy                           0.80      4884\n",
            "   macro avg       0.81      0.80      0.80      4884\n",
            "weighted avg       0.80      0.80      0.80      4884\n",
            "\n"
          ],
          "name": "stdout"
        }
      ]
    },
    {
      "cell_type": "markdown",
      "metadata": {
        "id": "92RPwV0eZeyc",
        "colab_type": "text"
      },
      "source": [
        "**Inference:**\n",
        "- Precision for the positions are summarised in the above table\n",
        "- Recall for the positions are summarised in the above table\n",
        "- F1-Score for the positions are summarised in the above table\n"
      ]
    },
    {
      "cell_type": "markdown",
      "metadata": {
        "colab_type": "text",
        "id": "4Iy-g_68Q8OV"
      },
      "source": [
        "### 3.3 K-fold Cross-Validation\n",
        "\n",
        "We surely missed something during the modeling work -- Hyperparameter tuning! We can use K-fold cross validation to find out the best hyperparameter set.\n",
        "\n",
        "****\n",
        "\n",
        "\n",
        "<div class=\"alert alert-block alert-info\">\n",
        "\n",
        "**Code**: \n",
        "    Please implement K-fold cross validation for three (any three) classification models.\n",
        "\n",
        "<div class=\"alert alert-block alert-warning\">\n",
        "    \n",
        "**Report**: \n",
        "    **3.3** In your report with proper section title  '3.3', Please summarize the following:     \n",
        "    <ol>\n",
        "        <li> Your code design and running results </li>\n",
        "        <li> Your findings on hyperparameters based on this cross-validation results</li>\n",
        "        <li> Any difficuties you had </li>\n",
        "        <li> Any other possible tasks we could do on this dataset </li>\n",
        "    </ol>\n",
        "<b>Remind: fail to list the reference will lead a penalty and possibly plagiarism</b>    \n",
        "</div>\n",
        "</div>\n",
        "\n"
      ]
    },
    {
      "cell_type": "markdown",
      "metadata": {
        "id": "b7l3KrqjmZZz",
        "colab_type": "text"
      },
      "source": [
        "**Loading Libraries**"
      ]
    },
    {
      "cell_type": "code",
      "metadata": {
        "colab_type": "code",
        "id": "0yCvsy1-jO7x",
        "colab": {}
      },
      "source": [
        "from pyspark.ml import Pipeline\n",
        "from pyspark.ml.classification import RandomForestClassifier\n",
        "from pyspark.ml.classification import LogisticRegression\n",
        "from pyspark.ml.classification import DecisionTreeClassifier\n",
        "from pyspark.ml.evaluation import MulticlassClassificationEvaluator\n",
        "from pyspark.ml.tuning import ParamGridBuilder, CrossValidator\n",
        "# Your code \n",
        "# reference: https://spark.apache.org/docs/2.2.0/ml-tuning.html"
      ],
      "execution_count": 0,
      "outputs": []
    },
    {
      "cell_type": "markdown",
      "metadata": {
        "id": "XOs573Z3aHSl",
        "colab_type": "text"
      },
      "source": [
        "**Hyperparameter tuning for different models**"
      ]
    },
    {
      "cell_type": "code",
      "metadata": {
        "id": "33rilwFgw66A",
        "colab_type": "code",
        "colab": {
          "base_uri": "https://localhost:8080/",
          "height": 627
        },
        "outputId": "ad987649-b810-48d2-927c-eef5e94b40c9"
      },
      "source": [
        "# Your code\n",
        "\n",
        "\n",
        "#######-----------------------------------------------------------------------------------\n",
        "#### Decision Tree\n",
        "print('----------------------------\\n\\n1 Decision Tree')\n",
        "\n",
        "estimator = DecisionTreeClassifier(labelCol=\"Target\", featuresCol=\"Scaled_features\")\n",
        "# Search through decision tree's maxDepth parameter for best model\n",
        "paramGrid = ParamGridBuilder().addGrid(estimator.maxDepth, [2,3,4,5,6,7]).build()\n",
        "\n",
        "def tuning_function(estimator, paramGrid):\n",
        "  \"\"\"\n",
        "  Define evaluator\n",
        "  Define CV by passing estimator, paramgrid, evaluator\n",
        "  fit/ tune \n",
        "  extract best model\n",
        "  evaluate on test data\n",
        "  \"\"\"\n",
        "  # Set F-1 score as evaluation metric for best model selection\n",
        "  evaluator = MulticlassClassificationEvaluator(labelCol='Target',\n",
        "                                              predictionCol='prediction', metricName='f1')    \n",
        "\n",
        "  # Set up 3-fold cross validation\n",
        "  crossval = CrossValidator(estimator=estimator,\n",
        "                          estimatorParamMaps= paramGrid,\n",
        "                          evaluator= evaluator,\n",
        "                          numFolds= 3)\n",
        "\n",
        "  # tune/ fit model\n",
        "  CV_model = crossval.fit(train)\n",
        "\n",
        "  # Fetch best model\n",
        "  best_estimator = CV_model.bestModel\n",
        "  \n",
        "  transformed_data = best_estimator.transform(test)\n",
        "  performance_metric= evaluator.evaluate(transformed_data)\n",
        "\n",
        "  print(\"--------------\\nestimator name: \"+str(best_estimator))\n",
        "  print(\"--------------\\nestimator tuned hyperparameters\")\n",
        "  print(best_estimator.getParam)\n",
        "  print(\"--------------\\nestimator performance\")\n",
        "  print(evaluator.getMetricName()+' : '+str(performance_metric))\n",
        "  return best_estimator\n",
        "\n",
        "tuning_function(estimator, paramGrid)\n",
        "\n",
        "#######-----------------------------------------------------------------------------------\n",
        "print('----------------------------\\n\\n2 LogisticRegression')\n",
        "\n",
        "\n",
        "estimator = LogisticRegression(labelCol=\"Target\", featuresCol=\"Scaled_features\")\n",
        "paramGrid = ParamGridBuilder().addGrid(estimator.regParam, [0.01, 0.1]).addGrid(estimator.elasticNetParam, [1.0, 0.5]).build()\n",
        "tuning_function(estimator, paramGrid)\n",
        "\n",
        "\n",
        "#######-----------------------------------------------------------------------------------\n",
        "print('----------------------------\\n\\n3 Random Forest')\n",
        "\n",
        "estimator = RandomForestClassifier(labelCol=\"Target\", featuresCol=\"Scaled_features\")\n",
        "\n",
        "paramGrid = ParamGridBuilder() \\\n",
        "    .addGrid(estimator.numTrees, [int(x) for x in np.linspace(start = 10, stop = 50, num = 3)]) \\\n",
        "    .addGrid(estimator.maxDepth, [int(x) for x in np.linspace(start = 5, stop = 25, num = 3)]) \\\n",
        "    .build()\n",
        "\n",
        "tuning_function(estimator, paramGrid)\n",
        "\n",
        "print(\"printed\")\n"
      ],
      "execution_count": 29,
      "outputs": [
        {
          "output_type": "stream",
          "text": [
            "----------------------------\n",
            "\n",
            "1 Decision Tree\n",
            "--------------\n",
            "estimator name: DecisionTreeClassificationModel (uid=DecisionTreeClassifier_9f1698657051) of depth 7 with 193 nodes\n",
            "--------------\n",
            "estimator tuned hyperparameters\n",
            "<bound method Params.getParam of DecisionTreeClassificationModel (uid=DecisionTreeClassifier_9f1698657051) of depth 7 with 193 nodes>\n",
            "--------------\n",
            "estimator performance\n",
            "f1 : 0.8277837036324049\n",
            "----------------------------\n",
            "\n",
            "2 LogisticRegression\n",
            "--------------\n",
            "estimator name: LogisticRegressionModel: uid = LogisticRegression_3fdb3bfdec7a, numClasses = 3, numFeatures = 32\n",
            "--------------\n",
            "estimator tuned hyperparameters\n",
            "<bound method Params.getParam of LogisticRegressionModel: uid = LogisticRegression_3fdb3bfdec7a, numClasses = 3, numFeatures = 32>\n",
            "--------------\n",
            "estimator performance\n",
            "f1 : 0.8456280616443363\n",
            "----------------------------\n",
            "\n",
            "3 Random Forest\n",
            "--------------\n",
            "estimator name: RandomForestClassificationModel (uid=RandomForestClassifier_90dc8381a07e) with 50 trees\n",
            "--------------\n",
            "estimator tuned hyperparameters\n",
            "<bound method Params.getParam of RandomForestClassificationModel (uid=RandomForestClassifier_90dc8381a07e) with 50 trees>\n",
            "--------------\n",
            "estimator performance\n",
            "f1 : 0.8599123725711608\n",
            "printed\n"
          ],
          "name": "stdout"
        }
      ]
    },
    {
      "cell_type": "markdown",
      "metadata": {
        "id": "u47tkmgbaUIb",
        "colab_type": "text"
      },
      "source": [
        "**Inference:**\n",
        "- Decision Tree, Logitric Regression and Random forest has been utilized for performance comparison after tuning\n",
        "- F1- score has been used as the primary evaluation metric\n",
        "- Parameter grid has been defined for each model and all the tuning logic has been designed in a custom function named 'tuning_function()'. This function consumed the estimator and corresponding parameter grid object and executes the process of tuning and evaluation using 3 fold cv.\n",
        "- The final hyperparameters tuned for three models can be summarised as below:\n",
        " -  Decision Tree: Tree Depth\n",
        " -  Logistic Regression: Regularization Parameter, elastic Net Parameter\n",
        " -  Random Forest: Number of Trees, max depth\n",
        "- The final performance of three models can be summarised as below:\n",
        " -  Decision Tree: .8470\n",
        " -  Logistic Regression: .8624\n",
        " -  Random Forest: .8833"
      ]
    },
    {
      "cell_type": "markdown",
      "metadata": {
        "id": "hLNoliwtUB5o",
        "colab_type": "text"
      },
      "source": [
        "## PART 4: Further analysis\n"
      ]
    },
    {
      "cell_type": "markdown",
      "metadata": {
        "id": "jmkRkIzAZlai",
        "colab_type": "text"
      },
      "source": [
        "### 4.1 Finding the rising star\n",
        "We filtered out players less than 20 years of age and compared them on Overall and Potential. \n"
      ]
    },
    {
      "cell_type": "code",
      "metadata": {
        "id": "NXkn924NX3-V",
        "colab_type": "code",
        "colab": {
          "base_uri": "https://localhost:8080/",
          "height": 156
        },
        "outputId": "c209954c-a600-4e75-df96-af80f14ddb01"
      },
      "source": [
        "query=\"\"\"\n",
        "select ID, Name, Age, Overall, Potential\n",
        "from Table\n",
        "where Age <= 20\n",
        "order by Potential desc\n",
        "limit 3\n",
        "\"\"\"\n",
        "spark.sql(query).show()\n"
      ],
      "execution_count": 37,
      "outputs": [
        {
          "output_type": "stream",
          "text": [
            "+------+-----------------+---+-------+---------+\n",
            "|    ID|             Name|Age|Overall|Potential|\n",
            "+------+-----------------+---+-------+---------+\n",
            "|231747|       K. Mbapp��| 19|     88|       95|\n",
            "|230621|    G. Donnarumma| 19|     82|       93|\n",
            "|238794|Vin��cius J��nior| 17|     77|       92|\n",
            "+------+-----------------+---+-------+---------+\n",
            "\n"
          ],
          "name": "stdout"
        }
      ]
    },
    {
      "cell_type": "markdown",
      "metadata": {
        "id": "JccRF117Zr4j",
        "colab_type": "text"
      },
      "source": [
        "**Inference**\n",
        "K. Mbapp is the rising star. Age is just 19 years and has high overall and potential.\n"
      ]
    },
    {
      "cell_type": "markdown",
      "metadata": {
        "colab_type": "text",
        "id": "NbC2611KbOHZ"
      },
      "source": [
        "### 4.2 Players having best stamina and Strength\n",
        "We filtered out players raing top among both strength and stamina \n"
      ]
    },
    {
      "cell_type": "code",
      "metadata": {
        "colab_type": "code",
        "outputId": "28a3c7d0-a70b-4abf-d7ee-bbf655d82ed4",
        "id": "fUQ4qM-qbH9p",
        "colab": {
          "base_uri": "https://localhost:8080/",
          "height": 156
        }
      },
      "source": [
        "query=\"\"\"\n",
        "select ID, Name, Strength, Stamina, (strength+stamina)/2 as Balance_score\n",
        "from Table\n",
        "order by Balance_score desc\n",
        "limit 3\n",
        "\"\"\"\n",
        "spark.sql(query).show()\n"
      ],
      "execution_count": 44,
      "outputs": [
        {
          "output_type": "stream",
          "text": [
            "+------+----------+--------+-------+-------------+\n",
            "|    ID|      Name|Strength|Stamina|Balance_score|\n",
            "+------+----------+--------+-------+-------------+\n",
            "|230938|F. Kessi��|      87|     96|         91.5|\n",
            "|219470| C. N'Doye|      93|     90|         91.5|\n",
            "|199284|D. Hediger|      92|     90|         91.0|\n",
            "+------+----------+--------+-------+-------------+\n",
            "\n"
          ],
          "name": "stdout"
        }
      ]
    },
    {
      "cell_type": "markdown",
      "metadata": {
        "colab_type": "text",
        "id": "4URmQ2okbH91"
      },
      "source": [
        "**Inference**\n",
        "F. Kessi, C. N'Doye and D. Hediger have both strength and stamina\n"
      ]
    },
    {
      "cell_type": "markdown",
      "metadata": {
        "id": "4n6CcM2CJ0kf",
        "colab_type": "text"
      },
      "source": [
        "### References:\n",
        "https://www.bmc.com/blogs/python-spark-machine-learning-classification/\n",
        "https://spark.apache.org/docs/2.3.1/sql-programming-guide.html\n",
        "https://spark.apache.org/docs/2.2.0/ml-tuning.html\n",
        "https://rsandstroem.github.io/sparkkmeans.html\n",
        "https://s3.amazonaws.com/assets.datacamp.com/blog_assets/PySpark_SQL_Cheat_Sheet_Python.pdf"
      ]
    }
  ]
}