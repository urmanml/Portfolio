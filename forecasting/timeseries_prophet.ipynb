{
 "cells": [
  {
   "cell_type": "markdown",
   "metadata": {},
   "source": [
    "# Prophet "
   ]
  },
  {
   "cell_type": "code",
   "execution_count": 1,
   "metadata": {},
   "outputs": [],
   "source": [
    "import pandas as pd, numpy as np"
   ]
  },
  {
   "cell_type": "markdown",
   "metadata": {},
   "source": [
    "#### Read and Visualize data"
   ]
  },
  {
   "cell_type": "code",
   "execution_count": 2,
   "metadata": {},
   "outputs": [],
   "source": [
    "df= pd.read_csv(\"E:/Python WD/time_series/data/Work Data - Sheet1.csv\")"
   ]
  },
  {
   "cell_type": "code",
   "execution_count": 3,
   "metadata": {},
   "outputs": [
    {
     "data": {
      "text/html": [
       "<div>\n",
       "<style scoped>\n",
       "    .dataframe tbody tr th:only-of-type {\n",
       "        vertical-align: middle;\n",
       "    }\n",
       "\n",
       "    .dataframe tbody tr th {\n",
       "        vertical-align: top;\n",
       "    }\n",
       "\n",
       "    .dataframe thead th {\n",
       "        text-align: right;\n",
       "    }\n",
       "</style>\n",
       "<table border=\"1\" class=\"dataframe\">\n",
       "  <thead>\n",
       "    <tr style=\"text-align: right;\">\n",
       "      <th></th>\n",
       "      <th>obs</th>\n",
       "      <th>EEA</th>\n",
       "      <th>UYCD</th>\n",
       "      <th>FNNF</th>\n",
       "      <th>FYPTY</th>\n",
       "      <th>JGDPMTPR</th>\n",
       "      <th>UFCORPTS</th>\n",
       "      <th>UFSNPEPS</th>\n",
       "      <th>YPPROPADJNF</th>\n",
       "      <th>ZB</th>\n",
       "      <th>FTCORTCS</th>\n",
       "    </tr>\n",
       "  </thead>\n",
       "  <tbody>\n",
       "    <tr>\n",
       "      <th>0</th>\n",
       "      <td>1990Q1</td>\n",
       "      <td>109.425333</td>\n",
       "      <td>515.394</td>\n",
       "      <td>5357.649418</td>\n",
       "      <td>73548.376</td>\n",
       "      <td>0.635775</td>\n",
       "      <td>21.4200</td>\n",
       "      <td>5.54000</td>\n",
       "      <td>311.134</td>\n",
       "      <td>385.623</td>\n",
       "      <td>178.90975</td>\n",
       "    </tr>\n",
       "    <tr>\n",
       "      <th>1</th>\n",
       "      <td>1990Q2</td>\n",
       "      <td>109.794667</td>\n",
       "      <td>498.407</td>\n",
       "      <td>5378.345388</td>\n",
       "      <td>75056.756</td>\n",
       "      <td>0.639104</td>\n",
       "      <td>22.1110</td>\n",
       "      <td>6.07000</td>\n",
       "      <td>318.417</td>\n",
       "      <td>404.009</td>\n",
       "      <td>335.53861</td>\n",
       "    </tr>\n",
       "    <tr>\n",
       "      <th>2</th>\n",
       "      <td>1990Q3</td>\n",
       "      <td>109.653667</td>\n",
       "      <td>493.570</td>\n",
       "      <td>5372.361529</td>\n",
       "      <td>76192.352</td>\n",
       "      <td>0.640903</td>\n",
       "      <td>22.9780</td>\n",
       "      <td>5.33000</td>\n",
       "      <td>327.154</td>\n",
       "      <td>413.339</td>\n",
       "      <td>97.43381</td>\n",
       "    </tr>\n",
       "    <tr>\n",
       "      <th>3</th>\n",
       "      <td>1990Q4</td>\n",
       "      <td>109.249000</td>\n",
       "      <td>480.947</td>\n",
       "      <td>5346.658270</td>\n",
       "      <td>76231.608</td>\n",
       "      <td>0.640087</td>\n",
       "      <td>23.4360</td>\n",
       "      <td>4.40000</td>\n",
       "      <td>327.283</td>\n",
       "      <td>413.234</td>\n",
       "      <td>180.60036</td>\n",
       "    </tr>\n",
       "    <tr>\n",
       "      <th>4</th>\n",
       "      <td>1991Q1</td>\n",
       "      <td>108.789000</td>\n",
       "      <td>471.691</td>\n",
       "      <td>5292.627808</td>\n",
       "      <td>75830.324</td>\n",
       "      <td>0.646631</td>\n",
       "      <td>23.7840</td>\n",
       "      <td>5.14000</td>\n",
       "      <td>321.286</td>\n",
       "      <td>423.450</td>\n",
       "      <td>140.44205</td>\n",
       "    </tr>\n",
       "    <tr>\n",
       "      <th>...</th>\n",
       "      <td>...</td>\n",
       "      <td>...</td>\n",
       "      <td>...</td>\n",
       "      <td>...</td>\n",
       "      <td>...</td>\n",
       "      <td>...</td>\n",
       "      <td>...</td>\n",
       "      <td>...</td>\n",
       "      <td>...</td>\n",
       "      <td>...</td>\n",
       "      <td>...</td>\n",
       "    </tr>\n",
       "    <tr>\n",
       "      <th>155</th>\n",
       "      <td>2028Q4</td>\n",
       "      <td>159.094300</td>\n",
       "      <td>2054.417</td>\n",
       "      <td>10107.340000</td>\n",
       "      <td>464095.400</td>\n",
       "      <td>1.292783</td>\n",
       "      <td>112.8616</td>\n",
       "      <td>44.65242</td>\n",
       "      <td>1844.229</td>\n",
       "      <td>3475.629</td>\n",
       "      <td>NaN</td>\n",
       "    </tr>\n",
       "    <tr>\n",
       "      <th>156</th>\n",
       "      <td>2029Q1</td>\n",
       "      <td>159.297100</td>\n",
       "      <td>2071.090</td>\n",
       "      <td>10139.980000</td>\n",
       "      <td>469126.600</td>\n",
       "      <td>1.297833</td>\n",
       "      <td>113.8027</td>\n",
       "      <td>51.43070</td>\n",
       "      <td>1856.459</td>\n",
       "      <td>3503.065</td>\n",
       "      <td>NaN</td>\n",
       "    </tr>\n",
       "    <tr>\n",
       "      <th>157</th>\n",
       "      <td>2029Q2</td>\n",
       "      <td>159.497000</td>\n",
       "      <td>2088.507</td>\n",
       "      <td>10172.360000</td>\n",
       "      <td>474237.900</td>\n",
       "      <td>1.302820</td>\n",
       "      <td>114.8291</td>\n",
       "      <td>49.83245</td>\n",
       "      <td>1871.764</td>\n",
       "      <td>3534.452</td>\n",
       "      <td>NaN</td>\n",
       "    </tr>\n",
       "    <tr>\n",
       "      <th>158</th>\n",
       "      <td>2029Q3</td>\n",
       "      <td>159.688200</td>\n",
       "      <td>2106.479</td>\n",
       "      <td>10203.990000</td>\n",
       "      <td>479138.900</td>\n",
       "      <td>1.307743</td>\n",
       "      <td>115.9413</td>\n",
       "      <td>49.12721</td>\n",
       "      <td>1887.274</td>\n",
       "      <td>3566.919</td>\n",
       "      <td>NaN</td>\n",
       "    </tr>\n",
       "    <tr>\n",
       "      <th>159</th>\n",
       "      <td>2029Q4</td>\n",
       "      <td>159.888500</td>\n",
       "      <td>2125.499</td>\n",
       "      <td>10236.030000</td>\n",
       "      <td>484164.300</td>\n",
       "      <td>1.312512</td>\n",
       "      <td>117.1740</td>\n",
       "      <td>46.43491</td>\n",
       "      <td>1905.933</td>\n",
       "      <td>3603.980</td>\n",
       "      <td>NaN</td>\n",
       "    </tr>\n",
       "  </tbody>\n",
       "</table>\n",
       "<p>160 rows × 11 columns</p>\n",
       "</div>"
      ],
      "text/plain": [
       "        obs         EEA      UYCD          FNNF       FYPTY  JGDPMTPR  \\\n",
       "0    1990Q1  109.425333   515.394   5357.649418   73548.376  0.635775   \n",
       "1    1990Q2  109.794667   498.407   5378.345388   75056.756  0.639104   \n",
       "2    1990Q3  109.653667   493.570   5372.361529   76192.352  0.640903   \n",
       "3    1990Q4  109.249000   480.947   5346.658270   76231.608  0.640087   \n",
       "4    1991Q1  108.789000   471.691   5292.627808   75830.324  0.646631   \n",
       "..      ...         ...       ...           ...         ...       ...   \n",
       "155  2028Q4  159.094300  2054.417  10107.340000  464095.400  1.292783   \n",
       "156  2029Q1  159.297100  2071.090  10139.980000  469126.600  1.297833   \n",
       "157  2029Q2  159.497000  2088.507  10172.360000  474237.900  1.302820   \n",
       "158  2029Q3  159.688200  2106.479  10203.990000  479138.900  1.307743   \n",
       "159  2029Q4  159.888500  2125.499  10236.030000  484164.300  1.312512   \n",
       "\n",
       "     UFCORPTS  UFSNPEPS  YPPROPADJNF        ZB   FTCORTCS  \n",
       "0     21.4200   5.54000      311.134   385.623  178.90975  \n",
       "1     22.1110   6.07000      318.417   404.009  335.53861  \n",
       "2     22.9780   5.33000      327.154   413.339   97.43381  \n",
       "3     23.4360   4.40000      327.283   413.234  180.60036  \n",
       "4     23.7840   5.14000      321.286   423.450  140.44205  \n",
       "..        ...       ...          ...       ...        ...  \n",
       "155  112.8616  44.65242     1844.229  3475.629        NaN  \n",
       "156  113.8027  51.43070     1856.459  3503.065        NaN  \n",
       "157  114.8291  49.83245     1871.764  3534.452        NaN  \n",
       "158  115.9413  49.12721     1887.274  3566.919        NaN  \n",
       "159  117.1740  46.43491     1905.933  3603.980        NaN  \n",
       "\n",
       "[160 rows x 11 columns]"
      ]
     },
     "execution_count": 3,
     "metadata": {},
     "output_type": "execute_result"
    }
   ],
   "source": [
    "df"
   ]
  },
  {
   "cell_type": "markdown",
   "metadata": {},
   "source": [
    "#### Preparing data for time series analysis"
   ]
  },
  {
   "cell_type": "code",
   "execution_count": 4,
   "metadata": {},
   "outputs": [],
   "source": [
    "#define columns\n",
    "df.columns\n",
    "time_series_index= 'obs'\n",
    "forecast_variable= 'FTCORTCS'\n",
    "additional_variables= ['EEA', 'UYCD', 'FNNF', 'FYPTY', 'JGDPMTPR', 'UFCORPTS',\n",
    "       'UFSNPEPS', 'YPPROPADJNF', 'ZB']\n",
    "\n",
    "frequency= 'QS'\n",
    "train_test_split= .2\n",
    "forecast_points= 12"
   ]
  },
  {
   "cell_type": "code",
   "execution_count": 6,
   "metadata": {},
   "outputs": [],
   "source": [
    "#converting time series index datatype to datetime"
   ]
  },
  {
   "cell_type": "code",
   "execution_count": 7,
   "metadata": {},
   "outputs": [],
   "source": [
    "df['obs']= pd.to_datetime(df['obs'])\n",
    "df= df.set_index(time_series_index)"
   ]
  },
  {
   "cell_type": "code",
   "execution_count": 9,
   "metadata": {},
   "outputs": [],
   "source": [
    "#aggregate data if aggregation is required"
   ]
  },
  {
   "cell_type": "code",
   "execution_count": 10,
   "metadata": {},
   "outputs": [],
   "source": [
    "#df= df.groupby(time_series_index).agg({forecast_variable:'sum'}).reset_index()"
   ]
  },
  {
   "cell_type": "markdown",
   "metadata": {},
   "source": [
    "#### Resample data to quarterly level"
   ]
  },
  {
   "cell_type": "code",
   "execution_count": 22,
   "metadata": {},
   "outputs": [],
   "source": [
    "df= df.resample('Q').sum()\n"
   ]
  },
  {
   "cell_type": "code",
   "execution_count": 23,
   "metadata": {},
   "outputs": [
    {
     "data": {
      "text/html": [
       "<div>\n",
       "<style scoped>\n",
       "    .dataframe tbody tr th:only-of-type {\n",
       "        vertical-align: middle;\n",
       "    }\n",
       "\n",
       "    .dataframe tbody tr th {\n",
       "        vertical-align: top;\n",
       "    }\n",
       "\n",
       "    .dataframe thead th {\n",
       "        text-align: right;\n",
       "    }\n",
       "</style>\n",
       "<table border=\"1\" class=\"dataframe\">\n",
       "  <thead>\n",
       "    <tr style=\"text-align: right;\">\n",
       "      <th></th>\n",
       "      <th>EEA</th>\n",
       "      <th>UYCD</th>\n",
       "      <th>FNNF</th>\n",
       "      <th>FYPTY</th>\n",
       "      <th>JGDPMTPR</th>\n",
       "      <th>UFCORPTS</th>\n",
       "      <th>UFSNPEPS</th>\n",
       "      <th>YPPROPADJNF</th>\n",
       "      <th>ZB</th>\n",
       "      <th>FTCORTCS</th>\n",
       "    </tr>\n",
       "    <tr>\n",
       "      <th>obs</th>\n",
       "      <th></th>\n",
       "      <th></th>\n",
       "      <th></th>\n",
       "      <th></th>\n",
       "      <th></th>\n",
       "      <th></th>\n",
       "      <th></th>\n",
       "      <th></th>\n",
       "      <th></th>\n",
       "      <th></th>\n",
       "    </tr>\n",
       "  </thead>\n",
       "  <tbody>\n",
       "    <tr>\n",
       "      <th>1990-03-31</th>\n",
       "      <td>109.425333</td>\n",
       "      <td>515.394</td>\n",
       "      <td>5357.649418</td>\n",
       "      <td>73548.376</td>\n",
       "      <td>0.635775</td>\n",
       "      <td>21.4200</td>\n",
       "      <td>5.54000</td>\n",
       "      <td>311.134</td>\n",
       "      <td>385.623</td>\n",
       "      <td>178.90975</td>\n",
       "    </tr>\n",
       "    <tr>\n",
       "      <th>1990-06-30</th>\n",
       "      <td>109.794667</td>\n",
       "      <td>498.407</td>\n",
       "      <td>5378.345388</td>\n",
       "      <td>75056.756</td>\n",
       "      <td>0.639104</td>\n",
       "      <td>22.1110</td>\n",
       "      <td>6.07000</td>\n",
       "      <td>318.417</td>\n",
       "      <td>404.009</td>\n",
       "      <td>335.53861</td>\n",
       "    </tr>\n",
       "    <tr>\n",
       "      <th>1990-09-30</th>\n",
       "      <td>109.653667</td>\n",
       "      <td>493.570</td>\n",
       "      <td>5372.361529</td>\n",
       "      <td>76192.352</td>\n",
       "      <td>0.640903</td>\n",
       "      <td>22.9780</td>\n",
       "      <td>5.33000</td>\n",
       "      <td>327.154</td>\n",
       "      <td>413.339</td>\n",
       "      <td>97.43381</td>\n",
       "    </tr>\n",
       "    <tr>\n",
       "      <th>1990-12-31</th>\n",
       "      <td>109.249000</td>\n",
       "      <td>480.947</td>\n",
       "      <td>5346.658270</td>\n",
       "      <td>76231.608</td>\n",
       "      <td>0.640087</td>\n",
       "      <td>23.4360</td>\n",
       "      <td>4.40000</td>\n",
       "      <td>327.283</td>\n",
       "      <td>413.234</td>\n",
       "      <td>180.60036</td>\n",
       "    </tr>\n",
       "    <tr>\n",
       "      <th>1991-03-31</th>\n",
       "      <td>108.789000</td>\n",
       "      <td>471.691</td>\n",
       "      <td>5292.627808</td>\n",
       "      <td>75830.324</td>\n",
       "      <td>0.646631</td>\n",
       "      <td>23.7840</td>\n",
       "      <td>5.14000</td>\n",
       "      <td>321.286</td>\n",
       "      <td>423.450</td>\n",
       "      <td>140.44205</td>\n",
       "    </tr>\n",
       "    <tr>\n",
       "      <th>...</th>\n",
       "      <td>...</td>\n",
       "      <td>...</td>\n",
       "      <td>...</td>\n",
       "      <td>...</td>\n",
       "      <td>...</td>\n",
       "      <td>...</td>\n",
       "      <td>...</td>\n",
       "      <td>...</td>\n",
       "      <td>...</td>\n",
       "      <td>...</td>\n",
       "    </tr>\n",
       "    <tr>\n",
       "      <th>2028-12-31</th>\n",
       "      <td>159.094300</td>\n",
       "      <td>2054.417</td>\n",
       "      <td>10107.340000</td>\n",
       "      <td>464095.400</td>\n",
       "      <td>1.292783</td>\n",
       "      <td>112.8616</td>\n",
       "      <td>44.65242</td>\n",
       "      <td>1844.229</td>\n",
       "      <td>3475.629</td>\n",
       "      <td>0.00000</td>\n",
       "    </tr>\n",
       "    <tr>\n",
       "      <th>2029-03-31</th>\n",
       "      <td>159.297100</td>\n",
       "      <td>2071.090</td>\n",
       "      <td>10139.980000</td>\n",
       "      <td>469126.600</td>\n",
       "      <td>1.297833</td>\n",
       "      <td>113.8027</td>\n",
       "      <td>51.43070</td>\n",
       "      <td>1856.459</td>\n",
       "      <td>3503.065</td>\n",
       "      <td>0.00000</td>\n",
       "    </tr>\n",
       "    <tr>\n",
       "      <th>2029-06-30</th>\n",
       "      <td>159.497000</td>\n",
       "      <td>2088.507</td>\n",
       "      <td>10172.360000</td>\n",
       "      <td>474237.900</td>\n",
       "      <td>1.302820</td>\n",
       "      <td>114.8291</td>\n",
       "      <td>49.83245</td>\n",
       "      <td>1871.764</td>\n",
       "      <td>3534.452</td>\n",
       "      <td>0.00000</td>\n",
       "    </tr>\n",
       "    <tr>\n",
       "      <th>2029-09-30</th>\n",
       "      <td>159.688200</td>\n",
       "      <td>2106.479</td>\n",
       "      <td>10203.990000</td>\n",
       "      <td>479138.900</td>\n",
       "      <td>1.307743</td>\n",
       "      <td>115.9413</td>\n",
       "      <td>49.12721</td>\n",
       "      <td>1887.274</td>\n",
       "      <td>3566.919</td>\n",
       "      <td>0.00000</td>\n",
       "    </tr>\n",
       "    <tr>\n",
       "      <th>2029-12-31</th>\n",
       "      <td>159.888500</td>\n",
       "      <td>2125.499</td>\n",
       "      <td>10236.030000</td>\n",
       "      <td>484164.300</td>\n",
       "      <td>1.312512</td>\n",
       "      <td>117.1740</td>\n",
       "      <td>46.43491</td>\n",
       "      <td>1905.933</td>\n",
       "      <td>3603.980</td>\n",
       "      <td>0.00000</td>\n",
       "    </tr>\n",
       "  </tbody>\n",
       "</table>\n",
       "<p>160 rows × 10 columns</p>\n",
       "</div>"
      ],
      "text/plain": [
       "                   EEA      UYCD          FNNF       FYPTY  JGDPMTPR  \\\n",
       "obs                                                                    \n",
       "1990-03-31  109.425333   515.394   5357.649418   73548.376  0.635775   \n",
       "1990-06-30  109.794667   498.407   5378.345388   75056.756  0.639104   \n",
       "1990-09-30  109.653667   493.570   5372.361529   76192.352  0.640903   \n",
       "1990-12-31  109.249000   480.947   5346.658270   76231.608  0.640087   \n",
       "1991-03-31  108.789000   471.691   5292.627808   75830.324  0.646631   \n",
       "...                ...       ...           ...         ...       ...   \n",
       "2028-12-31  159.094300  2054.417  10107.340000  464095.400  1.292783   \n",
       "2029-03-31  159.297100  2071.090  10139.980000  469126.600  1.297833   \n",
       "2029-06-30  159.497000  2088.507  10172.360000  474237.900  1.302820   \n",
       "2029-09-30  159.688200  2106.479  10203.990000  479138.900  1.307743   \n",
       "2029-12-31  159.888500  2125.499  10236.030000  484164.300  1.312512   \n",
       "\n",
       "            UFCORPTS  UFSNPEPS  YPPROPADJNF        ZB   FTCORTCS  \n",
       "obs                                                               \n",
       "1990-03-31   21.4200   5.54000      311.134   385.623  178.90975  \n",
       "1990-06-30   22.1110   6.07000      318.417   404.009  335.53861  \n",
       "1990-09-30   22.9780   5.33000      327.154   413.339   97.43381  \n",
       "1990-12-31   23.4360   4.40000      327.283   413.234  180.60036  \n",
       "1991-03-31   23.7840   5.14000      321.286   423.450  140.44205  \n",
       "...              ...       ...          ...       ...        ...  \n",
       "2028-12-31  112.8616  44.65242     1844.229  3475.629    0.00000  \n",
       "2029-03-31  113.8027  51.43070     1856.459  3503.065    0.00000  \n",
       "2029-06-30  114.8291  49.83245     1871.764  3534.452    0.00000  \n",
       "2029-09-30  115.9413  49.12721     1887.274  3566.919    0.00000  \n",
       "2029-12-31  117.1740  46.43491     1905.933  3603.980    0.00000  \n",
       "\n",
       "[160 rows x 10 columns]"
      ]
     },
     "execution_count": 23,
     "metadata": {},
     "output_type": "execute_result"
    }
   ],
   "source": [
    "#filter data from 2009 onwards\n",
    "#df= df['2009-01-01':'2019-09-30']\n",
    "df"
   ]
  },
  {
   "cell_type": "markdown",
   "metadata": {},
   "source": [
    "#### Visualize the data"
   ]
  },
  {
   "cell_type": "code",
   "execution_count": 24,
   "metadata": {},
   "outputs": [
    {
     "data": {
      "text/plain": [
       "<matplotlib.axes._subplots.AxesSubplot at 0x199bd3e5208>"
      ]
     },
     "execution_count": 24,
     "metadata": {},
     "output_type": "execute_result"
    },
    {
     "data": {
      "image/png": "[encoded data removed]",
      "text/plain": [
       "<Figure size 432x288 with 1 Axes>"
      ]
     },
     "metadata": {
      "needs_background": "light"
     },
     "output_type": "display_data"
    }
   ],
   "source": [
    "df[df.index<'2019-09-30'][forecast_variable].plot()"
   ]
  },
  {
   "cell_type": "markdown",
   "metadata": {},
   "source": [
    "Smoothen the time series"
   ]
  },
  {
   "cell_type": "code",
   "execution_count": 25,
   "metadata": {},
   "outputs": [
    {
     "data": {
      "text/plain": [
       "<matplotlib.axes._subplots.AxesSubplot at 0x199bd483fd0>"
      ]
     },
     "execution_count": 25,
     "metadata": {},
     "output_type": "execute_result"
    },
    {
     "data": {
      "image/png": "[encoded data removed]",
      "text/plain": [
       "<Figure size 432x288 with 1 Axes>"
      ]
     },
     "metadata": {
      "needs_background": "light"
     },
     "output_type": "display_data"
    }
   ],
   "source": [
    "df[df.index<'2019-09-30'][forecast_variable].rolling(4).mean().plot()"
   ]
  },
  {
   "cell_type": "markdown",
   "metadata": {},
   "source": [
    "Smoothen it further with one year rolling average"
   ]
  },
  {
   "cell_type": "code",
   "execution_count": 26,
   "metadata": {},
   "outputs": [
    {
     "data": {
      "text/plain": [
       "<matplotlib.axes._subplots.AxesSubplot at 0x199bd500b70>"
      ]
     },
     "execution_count": 26,
     "metadata": {},
     "output_type": "execute_result"
    },
    {
     "data": {
      "image/png": "[encoded data removed]",
      "text/plain": [
       "<Figure size 432x288 with 1 Axes>"
      ]
     },
     "metadata": {
      "needs_background": "light"
     },
     "output_type": "display_data"
    }
   ],
   "source": [
    "df[df.index<'2019-09-30'][forecast_variable].rolling(12).mean().plot()"
   ]
  },
  {
   "cell_type": "markdown",
   "metadata": {},
   "source": [
    "#### Inference\n",
    "An upward trend exists year on year"
   ]
  },
  {
   "cell_type": "markdown",
   "metadata": {},
   "source": [
    "#### Inference:\n",
    "Data is normally distributed"
   ]
  },
  {
   "cell_type": "code",
   "execution_count": 44,
   "metadata": {},
   "outputs": [
    {
     "data": {
      "text/html": [
       "<div>\n",
       "<style scoped>\n",
       "    .dataframe tbody tr th:only-of-type {\n",
       "        vertical-align: middle;\n",
       "    }\n",
       "\n",
       "    .dataframe tbody tr th {\n",
       "        vertical-align: top;\n",
       "    }\n",
       "\n",
       "    .dataframe thead th {\n",
       "        text-align: right;\n",
       "    }\n",
       "</style>\n",
       "<table border=\"1\" class=\"dataframe\">\n",
       "  <thead>\n",
       "    <tr style=\"text-align: right;\">\n",
       "      <th></th>\n",
       "      <th>ds</th>\n",
       "      <th>EEA</th>\n",
       "      <th>UYCD</th>\n",
       "      <th>FNNF</th>\n",
       "      <th>FYPTY</th>\n",
       "      <th>JGDPMTPR</th>\n",
       "      <th>UFCORPTS</th>\n",
       "      <th>UFSNPEPS</th>\n",
       "      <th>YPPROPADJNF</th>\n",
       "      <th>ZB</th>\n",
       "      <th>y</th>\n",
       "    </tr>\n",
       "  </thead>\n",
       "  <tbody>\n",
       "    <tr>\n",
       "      <th>0</th>\n",
       "      <td>1990-01-01</td>\n",
       "      <td>109.425333</td>\n",
       "      <td>515.394</td>\n",
       "      <td>5357.649418</td>\n",
       "      <td>73548.376</td>\n",
       "      <td>0.635775</td>\n",
       "      <td>21.420</td>\n",
       "      <td>5.54</td>\n",
       "      <td>311.134</td>\n",
       "      <td>385.623</td>\n",
       "      <td>178.909750</td>\n",
       "    </tr>\n",
       "    <tr>\n",
       "      <th>1</th>\n",
       "      <td>1990-04-01</td>\n",
       "      <td>109.794667</td>\n",
       "      <td>498.407</td>\n",
       "      <td>5378.345388</td>\n",
       "      <td>75056.756</td>\n",
       "      <td>0.639104</td>\n",
       "      <td>22.111</td>\n",
       "      <td>6.07</td>\n",
       "      <td>318.417</td>\n",
       "      <td>404.009</td>\n",
       "      <td>335.538610</td>\n",
       "    </tr>\n",
       "    <tr>\n",
       "      <th>2</th>\n",
       "      <td>1990-07-01</td>\n",
       "      <td>109.653667</td>\n",
       "      <td>493.570</td>\n",
       "      <td>5372.361529</td>\n",
       "      <td>76192.352</td>\n",
       "      <td>0.640903</td>\n",
       "      <td>22.978</td>\n",
       "      <td>5.33</td>\n",
       "      <td>327.154</td>\n",
       "      <td>413.339</td>\n",
       "      <td>97.433810</td>\n",
       "    </tr>\n",
       "    <tr>\n",
       "      <th>3</th>\n",
       "      <td>1990-10-01</td>\n",
       "      <td>109.249000</td>\n",
       "      <td>480.947</td>\n",
       "      <td>5346.658270</td>\n",
       "      <td>76231.608</td>\n",
       "      <td>0.640087</td>\n",
       "      <td>23.436</td>\n",
       "      <td>4.40</td>\n",
       "      <td>327.283</td>\n",
       "      <td>413.234</td>\n",
       "      <td>180.600360</td>\n",
       "    </tr>\n",
       "    <tr>\n",
       "      <th>4</th>\n",
       "      <td>1991-01-01</td>\n",
       "      <td>108.789000</td>\n",
       "      <td>471.691</td>\n",
       "      <td>5292.627808</td>\n",
       "      <td>75830.324</td>\n",
       "      <td>0.646631</td>\n",
       "      <td>23.784</td>\n",
       "      <td>5.14</td>\n",
       "      <td>321.286</td>\n",
       "      <td>423.450</td>\n",
       "      <td>140.442050</td>\n",
       "    </tr>\n",
       "    <tr>\n",
       "      <th>...</th>\n",
       "      <td>...</td>\n",
       "      <td>...</td>\n",
       "      <td>...</td>\n",
       "      <td>...</td>\n",
       "      <td>...</td>\n",
       "      <td>...</td>\n",
       "      <td>...</td>\n",
       "      <td>...</td>\n",
       "      <td>...</td>\n",
       "      <td>...</td>\n",
       "      <td>...</td>\n",
       "    </tr>\n",
       "    <tr>\n",
       "      <th>106</th>\n",
       "      <td>2016-07-01</td>\n",
       "      <td>144.705000</td>\n",
       "      <td>1364.932</td>\n",
       "      <td>8428.026205</td>\n",
       "      <td>250023.932</td>\n",
       "      <td>1.072532</td>\n",
       "      <td>53.352</td>\n",
       "      <td>25.39</td>\n",
       "      <td>1393.004</td>\n",
       "      <td>2119.315</td>\n",
       "      <td>510.095859</td>\n",
       "    </tr>\n",
       "    <tr>\n",
       "      <th>107</th>\n",
       "      <td>2016-10-01</td>\n",
       "      <td>145.243000</td>\n",
       "      <td>1372.366</td>\n",
       "      <td>8475.419536</td>\n",
       "      <td>254644.816</td>\n",
       "      <td>1.080079</td>\n",
       "      <td>54.516</td>\n",
       "      <td>24.16</td>\n",
       "      <td>1408.870</td>\n",
       "      <td>2156.275</td>\n",
       "      <td>514.791052</td>\n",
       "    </tr>\n",
       "    <tr>\n",
       "      <th>108</th>\n",
       "      <td>2017-01-01</td>\n",
       "      <td>145.831333</td>\n",
       "      <td>1385.129</td>\n",
       "      <td>8528.375000</td>\n",
       "      <td>264573.300</td>\n",
       "      <td>1.087938</td>\n",
       "      <td>54.604</td>\n",
       "      <td>27.46</td>\n",
       "      <td>1450.270</td>\n",
       "      <td>2187.915</td>\n",
       "      <td>349.355516</td>\n",
       "    </tr>\n",
       "    <tr>\n",
       "      <th>109</th>\n",
       "      <td>2017-04-01</td>\n",
       "      <td>146.337667</td>\n",
       "      <td>1398.699</td>\n",
       "      <td>8566.950000</td>\n",
       "      <td>270307.100</td>\n",
       "      <td>1.096833</td>\n",
       "      <td>53.277</td>\n",
       "      <td>27.01</td>\n",
       "      <td>1470.141</td>\n",
       "      <td>2168.901</td>\n",
       "      <td>992.113059</td>\n",
       "    </tr>\n",
       "    <tr>\n",
       "      <th>110</th>\n",
       "      <td>2017-07-01</td>\n",
       "      <td>146.867667</td>\n",
       "      <td>1415.904</td>\n",
       "      <td>8541.997000</td>\n",
       "      <td>273991.100</td>\n",
       "      <td>1.103063</td>\n",
       "      <td>54.298</td>\n",
       "      <td>28.45</td>\n",
       "      <td>1488.963</td>\n",
       "      <td>2204.614</td>\n",
       "      <td>415.115399</td>\n",
       "    </tr>\n",
       "  </tbody>\n",
       "</table>\n",
       "<p>111 rows × 11 columns</p>\n",
       "</div>"
      ],
      "text/plain": [
       "            ds         EEA      UYCD         FNNF       FYPTY  JGDPMTPR  \\\n",
       "0   1990-01-01  109.425333   515.394  5357.649418   73548.376  0.635775   \n",
       "1   1990-04-01  109.794667   498.407  5378.345388   75056.756  0.639104   \n",
       "2   1990-07-01  109.653667   493.570  5372.361529   76192.352  0.640903   \n",
       "3   1990-10-01  109.249000   480.947  5346.658270   76231.608  0.640087   \n",
       "4   1991-01-01  108.789000   471.691  5292.627808   75830.324  0.646631   \n",
       "..         ...         ...       ...          ...         ...       ...   \n",
       "106 2016-07-01  144.705000  1364.932  8428.026205  250023.932  1.072532   \n",
       "107 2016-10-01  145.243000  1372.366  8475.419536  254644.816  1.080079   \n",
       "108 2017-01-01  145.831333  1385.129  8528.375000  264573.300  1.087938   \n",
       "109 2017-04-01  146.337667  1398.699  8566.950000  270307.100  1.096833   \n",
       "110 2017-07-01  146.867667  1415.904  8541.997000  273991.100  1.103063   \n",
       "\n",
       "     UFCORPTS  UFSNPEPS  YPPROPADJNF        ZB           y  \n",
       "0      21.420      5.54      311.134   385.623  178.909750  \n",
       "1      22.111      6.07      318.417   404.009  335.538610  \n",
       "2      22.978      5.33      327.154   413.339   97.433810  \n",
       "3      23.436      4.40      327.283   413.234  180.600360  \n",
       "4      23.784      5.14      321.286   423.450  140.442050  \n",
       "..        ...       ...          ...       ...         ...  \n",
       "106    53.352     25.39     1393.004  2119.315  510.095859  \n",
       "107    54.516     24.16     1408.870  2156.275  514.791052  \n",
       "108    54.604     27.46     1450.270  2187.915  349.355516  \n",
       "109    53.277     27.01     1470.141  2168.901  992.113059  \n",
       "110    54.298     28.45     1488.963  2204.614  415.115399  \n",
       "\n",
       "[111 rows x 11 columns]"
      ]
     },
     "execution_count": 44,
     "metadata": {},
     "output_type": "execute_result"
    }
   ],
   "source": [
    "df= df.reset_index()\n",
    "df= df.rename(columns={time_series_index:'ds',forecast_variable:'y'})\n",
    "test_df= df[df.ds<='2019-09-30'][-8:]\n",
    "train_df= df[df.ds<='2019-09-30'][:-8]\n",
    "train_df"
   ]
  },
  {
   "cell_type": "code",
   "execution_count": 45,
   "metadata": {},
   "outputs": [],
   "source": [
    "#install fbprophet library by uncommenting this\n",
    "#!conda install libpython m2w64-toolchain -c msys2\n",
    "#!pip install pystan\n",
    "#!pip install fbprophet\n",
    "\n",
    "from fbprophet import Prophet\n",
    "model=Prophet(yearly_seasonality=True,weekly_seasonality=True)"
   ]
  },
  {
   "cell_type": "markdown",
   "metadata": {},
   "source": [
    "#### Adding multiple regressors"
   ]
  },
  {
   "cell_type": "code",
   "execution_count": 46,
   "metadata": {},
   "outputs": [],
   "source": [
    "for regressor in additional_variables:\n",
    "    model.add_regressor(regressor)"
   ]
  },
  {
   "cell_type": "markdown",
   "metadata": {},
   "source": [
    "#### Fit the model"
   ]
  },
  {
   "cell_type": "code",
   "execution_count": 47,
   "metadata": {},
   "outputs": [
    {
     "name": "stderr",
     "output_type": "stream",
     "text": [
      "INFO:numexpr.utils:NumExpr defaulting to 4 threads.\n",
      "INFO:fbprophet:Disabling daily seasonality. Run prophet with daily_seasonality=True to override this.\n"
     ]
    }
   ],
   "source": [
    "model.fit(train_df)\n",
    "#forecast = model.make_future_dataframe(periods= forecast_points, include_history=True, freq= frequency)\n",
    "#forecast = model.predict(df[df.ds>'2019-09-30'].drop(columns=['y']))\n",
    "forecast = model.predict(test_df.drop(columns=['y']))"
   ]
  },
  {
   "cell_type": "code",
   "execution_count": 54,
   "metadata": {},
   "outputs": [],
   "source": [
    "actual_predicted_df= df[df.ds<='2019-09-30'][['ds','y']]\n",
    "actual_predicted_df= pd.merge(actual_predicted_df,forecast[['ds','yhat']], on= 'ds', how='outer')\n",
    "actual_predicted_df= actual_predicted_df.rename(columns= {'y':'actual','yhat':'predicted'})\n",
    "actual_predicted_df_wide= actual_predicted_df.melt(id_vars=['ds'], value_vars=['actual','predicted'], var_name='actual/predicted', value_name='value' )\n"
   ]
  },
  {
   "cell_type": "markdown",
   "metadata": {},
   "source": [
    "#### Plotting actual vs predicted`"
   ]
  },
  {
   "cell_type": "code",
   "execution_count": 55,
   "metadata": {},
   "outputs": [
    {
     "data": {
      "text/plain": [
       "<AxesSubplot:xlabel='ds', ylabel='value'>"
      ]
     },
     "execution_count": 55,
     "metadata": {},
     "output_type": "execute_result"
    },
    {
     "data": {
      "image/png": "[encoded data removed]",
      "text/plain": [
       "<Figure size 432x288 with 1 Axes>"
      ]
     },
     "metadata": {
      "needs_background": "light"
     },
     "output_type": "display_data"
    }
   ],
   "source": [
    "import seaborn as sns\n",
    "sns.lineplot(x='ds', y= 'value',hue= 'actual/predicted', data= actual_predicted_df_wide)"
   ]
  },
  {
   "cell_type": "code",
   "execution_count": 56,
   "metadata": {},
   "outputs": [
    {
     "data": {
      "text/plain": [
       "<AxesSubplot:xlabel='ds', ylabel='value'>"
      ]
     },
     "execution_count": 56,
     "metadata": {},
     "output_type": "execute_result"
    },
    {
     "data": {
      "image/png": "[encoded data removed]",
      "text/plain": [
       "<Figure size 432x288 with 1 Axes>"
      ]
     },
     "metadata": {
      "needs_background": "light"
     },
     "output_type": "display_data"
    }
   ],
   "source": [
    "sns.lineplot(x='ds', y= 'value',hue= 'actual/predicted', data= actual_predicted_df_wide[actual_predicted_df_wide.ds>='2017Q4'])"
   ]
  },
  {
   "cell_type": "code",
   "execution_count": 57,
   "metadata": {},
   "outputs": [
    {
     "data": {
      "image/png": "[encoded data removed]",
      "text/plain": [
       "<Figure size 648x864 with 4 Axes>"
      ]
     },
     "metadata": {},
     "output_type": "display_data"
    }
   ],
   "source": [
    "# Python\n",
    "fig2 = model.plot_components(forecast)"
   ]
  },
  {
   "cell_type": "code",
   "execution_count": 35,
   "metadata": {},
   "outputs": [
    {
     "data": {
      "text/html": [
       "<div>\n",
       "<style scoped>\n",
       "    .dataframe tbody tr th:only-of-type {\n",
       "        vertical-align: middle;\n",
       "    }\n",
       "\n",
       "    .dataframe tbody tr th {\n",
       "        vertical-align: top;\n",
       "    }\n",
       "\n",
       "    .dataframe thead th {\n",
       "        text-align: right;\n",
       "    }\n",
       "</style>\n",
       "<table border=\"1\" class=\"dataframe\">\n",
       "  <thead>\n",
       "    <tr style=\"text-align: right;\">\n",
       "      <th></th>\n",
       "      <th>ds</th>\n",
       "      <th>yhat</th>\n",
       "      <th>yhat_lower</th>\n",
       "      <th>yhat_upper</th>\n",
       "    </tr>\n",
       "  </thead>\n",
       "  <tbody>\n",
       "    <tr>\n",
       "      <th>36</th>\n",
       "      <td>2028-12-31</td>\n",
       "      <td>812.025416</td>\n",
       "      <td>752.233099</td>\n",
       "      <td>872.537749</td>\n",
       "    </tr>\n",
       "    <tr>\n",
       "      <th>37</th>\n",
       "      <td>2029-03-31</td>\n",
       "      <td>736.074824</td>\n",
       "      <td>671.163637</td>\n",
       "      <td>793.889887</td>\n",
       "    </tr>\n",
       "    <tr>\n",
       "      <th>38</th>\n",
       "      <td>2029-06-30</td>\n",
       "      <td>1041.444013</td>\n",
       "      <td>982.726527</td>\n",
       "      <td>1104.602937</td>\n",
       "    </tr>\n",
       "    <tr>\n",
       "      <th>39</th>\n",
       "      <td>2029-09-30</td>\n",
       "      <td>754.544886</td>\n",
       "      <td>694.955677</td>\n",
       "      <td>811.361143</td>\n",
       "    </tr>\n",
       "    <tr>\n",
       "      <th>40</th>\n",
       "      <td>2029-12-31</td>\n",
       "      <td>839.184900</td>\n",
       "      <td>777.772087</td>\n",
       "      <td>899.194764</td>\n",
       "    </tr>\n",
       "  </tbody>\n",
       "</table>\n",
       "</div>"
      ],
      "text/plain": [
       "           ds         yhat  yhat_lower   yhat_upper\n",
       "36 2028-12-31   812.025416  752.233099   872.537749\n",
       "37 2029-03-31   736.074824  671.163637   793.889887\n",
       "38 2029-06-30  1041.444013  982.726527  1104.602937\n",
       "39 2029-09-30   754.544886  694.955677   811.361143\n",
       "40 2029-12-31   839.184900  777.772087   899.194764"
      ]
     },
     "execution_count": 35,
     "metadata": {},
     "output_type": "execute_result"
    }
   ],
   "source": []
  },
  {
   "cell_type": "code",
   "execution_count": 36,
   "metadata": {},
   "outputs": [],
   "source": [
    "#### Computing performance"
   ]
  },
  {
   "cell_type": "code",
   "execution_count": 37,
   "metadata": {},
   "outputs": [
    {
     "name": "stdout",
     "output_type": "stream",
     "text": [
      "mean absolute error\n",
      "276.4915770777535\n",
      "mean squared error\n"
     ]
    },
    {
     "data": {
      "text/plain": [
       "366.1723306417995"
      ]
     },
     "execution_count": 37,
     "metadata": {},
     "output_type": "execute_result"
    }
   ],
   "source": [
    "from sklearn.metrics import mean_absolute_error, mean_squared_error\n",
    "from numpy import math\n",
    "print('mean absolute error')\n",
    "ans= mean_absolute_error(actual_predicted_df[-8:].actual, actual_predicted_df[-8:].predicted)\n",
    "print(ans)\n",
    "print('mean squared error')\n",
    "math.sqrt(mean_squared_error(actual_predicted_df[-8:].actual, actual_predicted_df[-8:].predicted))"
   ]
  },
  {
   "cell_type": "markdown",
   "metadata": {},
   "source": [
    "#### Computing performance"
   ]
  },
  {
   "cell_type": "code",
   "execution_count": 47,
   "metadata": {},
   "outputs": [
    {
     "data": {
      "text/html": [
       "<div>\n",
       "<style scoped>\n",
       "    .dataframe tbody tr th:only-of-type {\n",
       "        vertical-align: middle;\n",
       "    }\n",
       "\n",
       "    .dataframe tbody tr th {\n",
       "        vertical-align: top;\n",
       "    }\n",
       "\n",
       "    .dataframe thead th {\n",
       "        text-align: right;\n",
       "    }\n",
       "</style>\n",
       "<table border=\"1\" class=\"dataframe\">\n",
       "  <thead>\n",
       "    <tr style=\"text-align: right;\">\n",
       "      <th></th>\n",
       "      <th>ARIMA</th>\n",
       "      <th>holt winters</th>\n",
       "      <th>VARMAX</th>\n",
       "      <th>Prophet</th>\n",
       "    </tr>\n",
       "  </thead>\n",
       "  <tbody>\n",
       "    <tr>\n",
       "      <th>mean squared error</th>\n",
       "      <td>259.930480</td>\n",
       "      <td>264.855497</td>\n",
       "      <td>422.910120</td>\n",
       "      <td>366.172331</td>\n",
       "    </tr>\n",
       "    <tr>\n",
       "      <th>mean absolute error</th>\n",
       "      <td>205.418661</td>\n",
       "      <td>202.861790</td>\n",
       "      <td>317.798054</td>\n",
       "      <td>276.491577</td>\n",
       "    </tr>\n",
       "  </tbody>\n",
       "</table>\n",
       "</div>"
      ],
      "text/plain": [
       "                          ARIMA  holt winters      VARMAX     Prophet\n",
       "mean squared error   259.930480    264.855497  422.910120  366.172331\n",
       "mean absolute error  205.418661    202.861790  317.798054  276.491577"
      ]
     },
     "execution_count": 47,
     "metadata": {},
     "output_type": "execute_result"
    }
   ],
   "source": [
    "from sklearn.metrics import mean_absolute_error, mean_squared_error\n",
    "from numpy import math\n",
    "metrics= pd.read_csv('E:/Python WD/time_series/data/metrics.csv', index_col='Unnamed: 0')\n",
    "metrics.loc['mean absolute error', 'Prophet']= mean_absolute_error(actual_predicted_df[-8:].actual, actual_predicted_df[-8:].predicted)\n",
    "metrics.loc['mean squared error', 'Prophet']= math.sqrt(mean_squared_error(actual_predicted_df[-8:].actual, actual_predicted_df[-8:].predicted))\n",
    "metrics.to_csv('E:/Python WD/time_series/data/metrics.csv')\n",
    "metrics"
   ]
  },
  {
   "cell_type": "markdown",
   "metadata": {},
   "source": [
    "#### Predicting next 10 years data"
   ]
  },
  {
   "cell_type": "code",
   "execution_count": 69,
   "metadata": {},
   "outputs": [
    {
     "ename": "NameError",
     "evalue": "name 'VARMAX' is not defined",
     "output_type": "error",
     "traceback": [
      "\u001b[1;31m---------------------------------------------------------------------------\u001b[0m",
      "\u001b[1;31mNameError\u001b[0m                                 Traceback (most recent call last)",
      "\u001b[1;32m<ipython-input-69-9d71f603830a>\u001b[0m in \u001b[0;36m<module>\u001b[1;34m\u001b[0m\n\u001b[1;32m----> 1\u001b[1;33m \u001b[0mmodel\u001b[0m \u001b[1;33m=\u001b[0m \u001b[0mVARMAX\u001b[0m\u001b[1;33m(\u001b[0m\u001b[0mtrain_df\u001b[0m\u001b[1;33m.\u001b[0m\u001b[0masfreq\u001b[0m\u001b[1;33m(\u001b[0m\u001b[1;34m'QS'\u001b[0m\u001b[1;33m)\u001b[0m \u001b[1;33m)\u001b[0m\u001b[1;33m\u001b[0m\u001b[1;33m\u001b[0m\u001b[0m\n\u001b[0m\u001b[0;32m      2\u001b[0m \u001b[0mfitted\u001b[0m \u001b[1;33m=\u001b[0m \u001b[0mmodel\u001b[0m\u001b[1;33m.\u001b[0m\u001b[0mfit\u001b[0m\u001b[1;33m(\u001b[0m\u001b[1;33m)\u001b[0m\u001b[1;33m\u001b[0m\u001b[1;33m\u001b[0m\u001b[0m\n\u001b[0;32m      3\u001b[0m \u001b[0mprediction_length\u001b[0m\u001b[1;33m=\u001b[0m \u001b[1;36m40\u001b[0m\u001b[1;33m\u001b[0m\u001b[1;33m\u001b[0m\u001b[0m\n\u001b[0;32m      4\u001b[0m \u001b[0mforecasts\u001b[0m \u001b[1;33m=\u001b[0m \u001b[0mpd\u001b[0m\u001b[1;33m.\u001b[0m\u001b[0mDataFrame\u001b[0m\u001b[1;33m(\u001b[0m\u001b[0mfitted\u001b[0m\u001b[1;33m.\u001b[0m\u001b[0mforecast\u001b[0m\u001b[1;33m(\u001b[0m\u001b[0msteps\u001b[0m\u001b[1;33m=\u001b[0m \u001b[0mprediction_length\u001b[0m\u001b[1;33m)\u001b[0m\u001b[1;33m[\u001b[0m\u001b[1;33m[\u001b[0m\u001b[0mforecast_variable\u001b[0m\u001b[1;33m]\u001b[0m\u001b[1;33m]\u001b[0m\u001b[1;33m)\u001b[0m\u001b[1;33m\u001b[0m\u001b[1;33m\u001b[0m\u001b[0m\n\u001b[0;32m      5\u001b[0m \u001b[1;33m\u001b[0m\u001b[0m\n",
      "\u001b[1;31mNameError\u001b[0m: name 'VARMAX' is not defined"
     ]
    }
   ],
   "source": [
    "\n",
    "forecast = model.predict(df[df.ds>'2019-09-30'])\n",
    "forecasts= pd.DataFrame(forecast['yhat'][0:40])\n",
    "\n",
    "\n",
    "\n",
    "forecast[['ds', 'yhat', 'yhat_lower', 'yhat_upper']].tail()\n",
    "\n",
    "\n",
    "\n",
    "#storing into a csv file\n",
    "predictions= pd.read_csv('E:/Python WD/time_series/data/predictions.csv', index_col= 'Unnamed: 0')\n",
    "predictions.loc[:, 'Prophet']= forecasts.values\n",
    "predictions\n",
    "predictions.to_csv('E:/Python WD/time_series/data/predictions.csv')\n",
    "\n"
   ]
  },
  {
   "cell_type": "code",
   "execution_count": null,
   "metadata": {},
   "outputs": [],
   "source": []
  }
 ],
 "metadata": {
  "kernelspec": {
   "display_name": "Python 3",
   "language": "python",
   "name": "python3"
  },
  "language_info": {
   "codemirror_mode": {
    "name": "ipython",
    "version": 3
   },
   "file_extension": ".py",
   "mimetype": "text/x-python",
   "name": "python",
   "nbconvert_exporter": "python",
   "pygments_lexer": "ipython3",
   "version": "3.6.10"
  },
  "toc": {
   "base_numbering": 1,
   "nav_menu": {},
   "number_sections": true,
   "sideBar": true,
   "skip_h1_title": false,
   "title_cell": "Table of Contents",
   "title_sidebar": "Contents",
   "toc_cell": false,
   "toc_position": {},
   "toc_section_display": true,
   "toc_window_display": false
  },
  "varInspector": {
   "cols": {
    "lenName": 16,
    "lenType": 16,
    "lenVar": 40
   },
   "kernels_config": {
    "python": {
     "delete_cmd_postfix": "",
     "delete_cmd_prefix": "del ",
     "library": "var_list.py",
     "varRefreshCmd": "print(var_dic_list())"
    },
    "r": {
     "delete_cmd_postfix": ") ",
     "delete_cmd_prefix": "rm(",
     "library": "var_list.r",
     "varRefreshCmd": "cat(var_dic_list()) "
    }
   },
   "types_to_exclude": [
    "module",
    "function",
    "builtin_function_or_method",
    "instance",
    "_Feature"
   ],
   "window_display": false
  }
 },
 "nbformat": 4,
 "nbformat_minor": 4
}
